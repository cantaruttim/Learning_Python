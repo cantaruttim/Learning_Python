{
  "nbformat": 4,
  "nbformat_minor": 0,
  "metadata": {
    "colab": {
      "provenance": [],
      "authorship_tag": "ABX9TyM5U6pniLMVXt4KtzztA9GX",
      "include_colab_link": true
    },
    "kernelspec": {
      "name": "python3",
      "display_name": "Python 3"
    },
    "language_info": {
      "name": "python"
    }
  },
  "cells": [
    {
      "cell_type": "markdown",
      "metadata": {
        "id": "view-in-github",
        "colab_type": "text"
      },
      "source": [
        "<a href=\"https://colab.research.google.com/github/cantaruttim/Learning_Python/blob/main/TDatas.ipynb\" target=\"_parent\"><img src=\"https://colab.research.google.com/assets/colab-badge.svg\" alt=\"Open In Colab\"/></a>"
      ]
    },
    {
      "cell_type": "code",
      "source": [
        "def split_date(dataset):\n",
        "\n",
        "  \"\"\"\n",
        "  Função responsável por separar data e hora e posteriormenete criando duas colunas\n",
        "  ['Date'] e ['Hour'] que vai receber respectivamente o valor de índice 0 e 1\n",
        "\n",
        "  Exemplo:\n",
        "                                    0            1\n",
        "  26/07/2022 07:09:05   >>>   '26/07/2022', '07:09:05'\n",
        "  dataset['Date'] = 26/07/2022\n",
        "  dataset['Hour'] = 07:09:05\n",
        "\n",
        "  \"\"\"\n",
        "\n",
        "  ## Identify the data DD/MM/YYYY\n",
        "  def get_date(date):\n",
        "    return date.split(' ')[0]\n",
        "\n",
        "  ## Identify the Hour hh:mm:ss\n",
        "  def get_hour(date):\n",
        "    return date.split(' ')[1]\n",
        "\n",
        "  # Extraindo a data e a hora da coluna order_date\n",
        "\n",
        "  dataset['Date'] = dataset['FECHA_APLICACION'].apply(lambda x:  f\"{get_date(x)}\")\n",
        "  dataset['Hour'] = dataset['FECHA_APLICACION'].apply(lambda x: f\"{get_hour(x)}\")\n",
        "\n",
        "  return dataset\n",
        "\n",
        "# split_date(pd.read_csv(\"datas3.csv\"))"
      ],
      "metadata": {
        "id": "0e1a3BFb4t30"
      },
      "execution_count": 40,
      "outputs": []
    },
    {
      "cell_type": "code",
      "source": [
        "help(split_date)"
      ],
      "metadata": {
        "colab": {
          "base_uri": "https://localhost:8080/"
        },
        "id": "iXyvhQhAWqVm",
        "outputId": "2e12b063-6854-46f4-b211-4dec66f459e4"
      },
      "execution_count": 41,
      "outputs": [
        {
          "output_type": "stream",
          "name": "stdout",
          "text": [
            "Help on function split_date in module __main__:\n",
            "\n",
            "split_date(dataset)\n",
            "    Função responsável por separar data e hora e posteriormenete criando duas colunas\n",
            "    ['Date'] e ['Hour'] que vai receber respectivamente o valor de índice 0 e 1 \n",
            "    \n",
            "    Exemplo: \n",
            "                                      0            1\n",
            "    26/07/2022 07:09:05   >>>   '26/07/2022', '07:09:05'  \n",
            "    dataset['Date'] = 26/07/2022\n",
            "    dataset['Hour'] = 07:09:05\n",
            "\n"
          ]
        }
      ]
    },
    {
      "cell_type": "code",
      "source": [
        "def concatena_data(dataset):\n",
        "\n",
        "  dataset['Completa'] = dataset['FECHA_DISPENSACION'] + \" \" + dataset['Hora Inteira']\n",
        "  dataset.to_csv(\"dataset.csv\")\n",
        "  return dataset\n",
        "\n",
        "# concatena_data(pd.read_csv(\"datas.csv\", sep=\"\\t\"))"
      ],
      "metadata": {
        "colab": {
          "base_uri": "https://localhost:8080/",
          "height": 423
        },
        "id": "XOPrfG6n71R3",
        "outputId": "4aa4a9b9-ff27-484f-cd87-bd97951634dc"
      },
      "execution_count": 35,
      "outputs": [
        {
          "output_type": "execute_result",
          "data": {
            "text/plain": [
              "       FECHA_DISPENSACION Hora Inteira               Completa\n",
              "0              07/07/2022   10:29:00.0  07/07/2022 10:29:00.0\n",
              "1              06/07/2022   02:48:00.0  06/07/2022 02:48:00.0\n",
              "2              03/07/2022   19:40:00.0  03/07/2022 19:40:00.0\n",
              "3              03/07/2022   13:29:00.0  03/07/2022 13:29:00.0\n",
              "4              03/07/2022   01:17:00.0  03/07/2022 01:17:00.0\n",
              "...                   ...          ...                    ...\n",
              "276974         06/06/2022   00:50:00.0  06/06/2022 00:50:00.0\n",
              "276975         06/06/2022   12:50:00.0  06/06/2022 12:50:00.0\n",
              "276976         11/06/2022   06:50:00.0  11/06/2022 06:50:00.0\n",
              "276977         11/06/2022   18:50:00.0  11/06/2022 18:50:00.0\n",
              "276978         16/06/2022   06:50:00.0  16/06/2022 06:50:00.0\n",
              "\n",
              "[276979 rows x 3 columns]"
            ],
            "text/html": [
              "\n",
              "  <div id=\"df-41a2f049-5f8f-4709-bf0b-14370c61131c\">\n",
              "    <div class=\"colab-df-container\">\n",
              "      <div>\n",
              "<style scoped>\n",
              "    .dataframe tbody tr th:only-of-type {\n",
              "        vertical-align: middle;\n",
              "    }\n",
              "\n",
              "    .dataframe tbody tr th {\n",
              "        vertical-align: top;\n",
              "    }\n",
              "\n",
              "    .dataframe thead th {\n",
              "        text-align: right;\n",
              "    }\n",
              "</style>\n",
              "<table border=\"1\" class=\"dataframe\">\n",
              "  <thead>\n",
              "    <tr style=\"text-align: right;\">\n",
              "      <th></th>\n",
              "      <th>FECHA_DISPENSACION</th>\n",
              "      <th>Hora Inteira</th>\n",
              "      <th>Completa</th>\n",
              "    </tr>\n",
              "  </thead>\n",
              "  <tbody>\n",
              "    <tr>\n",
              "      <th>0</th>\n",
              "      <td>07/07/2022</td>\n",
              "      <td>10:29:00.0</td>\n",
              "      <td>07/07/2022 10:29:00.0</td>\n",
              "    </tr>\n",
              "    <tr>\n",
              "      <th>1</th>\n",
              "      <td>06/07/2022</td>\n",
              "      <td>02:48:00.0</td>\n",
              "      <td>06/07/2022 02:48:00.0</td>\n",
              "    </tr>\n",
              "    <tr>\n",
              "      <th>2</th>\n",
              "      <td>03/07/2022</td>\n",
              "      <td>19:40:00.0</td>\n",
              "      <td>03/07/2022 19:40:00.0</td>\n",
              "    </tr>\n",
              "    <tr>\n",
              "      <th>3</th>\n",
              "      <td>03/07/2022</td>\n",
              "      <td>13:29:00.0</td>\n",
              "      <td>03/07/2022 13:29:00.0</td>\n",
              "    </tr>\n",
              "    <tr>\n",
              "      <th>4</th>\n",
              "      <td>03/07/2022</td>\n",
              "      <td>01:17:00.0</td>\n",
              "      <td>03/07/2022 01:17:00.0</td>\n",
              "    </tr>\n",
              "    <tr>\n",
              "      <th>...</th>\n",
              "      <td>...</td>\n",
              "      <td>...</td>\n",
              "      <td>...</td>\n",
              "    </tr>\n",
              "    <tr>\n",
              "      <th>276974</th>\n",
              "      <td>06/06/2022</td>\n",
              "      <td>00:50:00.0</td>\n",
              "      <td>06/06/2022 00:50:00.0</td>\n",
              "    </tr>\n",
              "    <tr>\n",
              "      <th>276975</th>\n",
              "      <td>06/06/2022</td>\n",
              "      <td>12:50:00.0</td>\n",
              "      <td>06/06/2022 12:50:00.0</td>\n",
              "    </tr>\n",
              "    <tr>\n",
              "      <th>276976</th>\n",
              "      <td>11/06/2022</td>\n",
              "      <td>06:50:00.0</td>\n",
              "      <td>11/06/2022 06:50:00.0</td>\n",
              "    </tr>\n",
              "    <tr>\n",
              "      <th>276977</th>\n",
              "      <td>11/06/2022</td>\n",
              "      <td>18:50:00.0</td>\n",
              "      <td>11/06/2022 18:50:00.0</td>\n",
              "    </tr>\n",
              "    <tr>\n",
              "      <th>276978</th>\n",
              "      <td>16/06/2022</td>\n",
              "      <td>06:50:00.0</td>\n",
              "      <td>16/06/2022 06:50:00.0</td>\n",
              "    </tr>\n",
              "  </tbody>\n",
              "</table>\n",
              "<p>276979 rows × 3 columns</p>\n",
              "</div>\n",
              "      <button class=\"colab-df-convert\" onclick=\"convertToInteractive('df-41a2f049-5f8f-4709-bf0b-14370c61131c')\"\n",
              "              title=\"Convert this dataframe to an interactive table.\"\n",
              "              style=\"display:none;\">\n",
              "        \n",
              "  <svg xmlns=\"http://www.w3.org/2000/svg\" height=\"24px\"viewBox=\"0 0 24 24\"\n",
              "       width=\"24px\">\n",
              "    <path d=\"M0 0h24v24H0V0z\" fill=\"none\"/>\n",
              "    <path d=\"M18.56 5.44l.94 2.06.94-2.06 2.06-.94-2.06-.94-.94-2.06-.94 2.06-2.06.94zm-11 1L8.5 8.5l.94-2.06 2.06-.94-2.06-.94L8.5 2.5l-.94 2.06-2.06.94zm10 10l.94 2.06.94-2.06 2.06-.94-2.06-.94-.94-2.06-.94 2.06-2.06.94z\"/><path d=\"M17.41 7.96l-1.37-1.37c-.4-.4-.92-.59-1.43-.59-.52 0-1.04.2-1.43.59L10.3 9.45l-7.72 7.72c-.78.78-.78 2.05 0 2.83L4 21.41c.39.39.9.59 1.41.59.51 0 1.02-.2 1.41-.59l7.78-7.78 2.81-2.81c.8-.78.8-2.07 0-2.86zM5.41 20L4 18.59l7.72-7.72 1.47 1.35L5.41 20z\"/>\n",
              "  </svg>\n",
              "      </button>\n",
              "      \n",
              "  <style>\n",
              "    .colab-df-container {\n",
              "      display:flex;\n",
              "      flex-wrap:wrap;\n",
              "      gap: 12px;\n",
              "    }\n",
              "\n",
              "    .colab-df-convert {\n",
              "      background-color: #E8F0FE;\n",
              "      border: none;\n",
              "      border-radius: 50%;\n",
              "      cursor: pointer;\n",
              "      display: none;\n",
              "      fill: #1967D2;\n",
              "      height: 32px;\n",
              "      padding: 0 0 0 0;\n",
              "      width: 32px;\n",
              "    }\n",
              "\n",
              "    .colab-df-convert:hover {\n",
              "      background-color: #E2EBFA;\n",
              "      box-shadow: 0px 1px 2px rgba(60, 64, 67, 0.3), 0px 1px 3px 1px rgba(60, 64, 67, 0.15);\n",
              "      fill: #174EA6;\n",
              "    }\n",
              "\n",
              "    [theme=dark] .colab-df-convert {\n",
              "      background-color: #3B4455;\n",
              "      fill: #D2E3FC;\n",
              "    }\n",
              "\n",
              "    [theme=dark] .colab-df-convert:hover {\n",
              "      background-color: #434B5C;\n",
              "      box-shadow: 0px 1px 3px 1px rgba(0, 0, 0, 0.15);\n",
              "      filter: drop-shadow(0px 1px 2px rgba(0, 0, 0, 0.3));\n",
              "      fill: #FFFFFF;\n",
              "    }\n",
              "  </style>\n",
              "\n",
              "      <script>\n",
              "        const buttonEl =\n",
              "          document.querySelector('#df-41a2f049-5f8f-4709-bf0b-14370c61131c button.colab-df-convert');\n",
              "        buttonEl.style.display =\n",
              "          google.colab.kernel.accessAllowed ? 'block' : 'none';\n",
              "\n",
              "        async function convertToInteractive(key) {\n",
              "          const element = document.querySelector('#df-41a2f049-5f8f-4709-bf0b-14370c61131c');\n",
              "          const dataTable =\n",
              "            await google.colab.kernel.invokeFunction('convertToInteractive',\n",
              "                                                     [key], {});\n",
              "          if (!dataTable) return;\n",
              "\n",
              "          const docLinkHtml = 'Like what you see? Visit the ' +\n",
              "            '<a target=\"_blank\" href=https://colab.research.google.com/notebooks/data_table.ipynb>data table notebook</a>'\n",
              "            + ' to learn more about interactive tables.';\n",
              "          element.innerHTML = '';\n",
              "          dataTable['output_type'] = 'display_data';\n",
              "          await google.colab.output.renderOutput(dataTable, element);\n",
              "          const docLink = document.createElement('div');\n",
              "          docLink.innerHTML = docLinkHtml;\n",
              "          element.appendChild(docLink);\n",
              "        }\n",
              "      </script>\n",
              "    </div>\n",
              "  </div>\n",
              "  "
            ]
          },
          "metadata": {},
          "execution_count": 35
        }
      ]
    },
    {
      "cell_type": "code",
      "source": [
        "# datas3['FECHA_APLICACION'] = pd.Series(datas3['FECHA_APLICACION'], dtype='datetime64[ns]')\n",
        "# datas3['Date'] = pd.Series(datas3['Date'], dtype='datetime64[ns]')\n",
        "# # datas['Hour'] = pd.Series(datas['Hour'], dtype='datetime64[ns]')"
      ],
      "metadata": {
        "id": "meOf40NH4tyi"
      },
      "execution_count": null,
      "outputs": []
    },
    {
      "cell_type": "code",
      "source": [
        "# datas3.to_csv(\"datas_tratadas3.csv\")"
      ],
      "metadata": {
        "id": "gSe7fwyG8PJN"
      },
      "execution_count": null,
      "outputs": []
    }
  ]
}