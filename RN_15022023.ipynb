{
  "nbformat": 4,
  "nbformat_minor": 0,
  "metadata": {
    "colab": {
      "provenance": [],
      "authorship_tag": "ABX9TyP+di6ksjtg6mhYt/PuNuvK",
      "include_colab_link": true
    },
    "kernelspec": {
      "name": "python3",
      "display_name": "Python 3"
    },
    "language_info": {
      "name": "python"
    }
  },
  "cells": [
    {
      "cell_type": "markdown",
      "metadata": {
        "id": "view-in-github",
        "colab_type": "text"
      },
      "source": [
        "<a href=\"https://colab.research.google.com/github/cantaruttim/Learning_Python/blob/main/RN_15022023.ipynb\" target=\"_parent\"><img src=\"https://colab.research.google.com/assets/colab-badge.svg\" alt=\"Open In Colab\"/></a>"
      ]
    },
    {
      "cell_type": "markdown",
      "source": [
        "### Redes Neurais\n",
        "\n",
        "- 1943 : Neurônio de McCulloch e Pitts (máquina baseada/inspirada no cérebro humano)"
      ],
      "metadata": {
        "id": "SZRx7T00jWwW"
      }
    }
  ]
}