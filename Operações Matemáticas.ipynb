{
 "cells": [
  {
   "cell_type": "markdown",
   "metadata": {},
   "source": [
    "## Operações Matemáticas"
   ]
  },
  {
   "cell_type": "markdown",
   "metadata": {},
   "source": [
    "## Exercicio 1\n"
   ]
  },
  {
   "cell_type": "code",
   "execution_count": null,
   "metadata": {},
   "outputs": [],
   "source": [
    "real = float(input(\"Entre com o valor em real: \"))\n",
    "dolares = real * 5.14\n",
    "print(f\"real {real} equivalem a US$ {dolares}\")"
   ]
  },
  {
   "cell_type": "markdown",
   "metadata": {},
   "source": [
    "## Exercício 2: Faça um programa que calcule a área de um retângulo e seu perímetro com base em seus dois lados.\n",
    "$$\n",
    "Área = lado_1 * lado_2 \\\\\n",
    "Perímetro = 2 * (lado_1 + lado_2)\n",
    "$$"
   ]
  },
  {
   "cell_type": "code",
   "execution_count": null,
   "metadata": {},
   "outputs": [],
   "source": [
    "lado1 = float(input('Entre com o valor do primeiro lado: '))\n",
    "lado2 = float(input('Entre o valor do segundo lado: '))\n",
    "\n",
    "area = lado1 * lado2\n",
    "perimetro = 2*(lado1 + lado2)\n",
    "\n",
    "print(f'A área é {area} com um perímetro de {perimetro}')"
   ]
  },
  {
   "cell_type": "markdown",
   "metadata": {},
   "source": [
    "## Exercício 3 Faça um programa que converta a temperatura de graus Celsius para graus Fahrenheit.\n",
    "$$\n",
    "F = \\frac{9}{5}*C + 32\n",
    "$$"
   ]
  },
  {
   "cell_type": "code",
   "execution_count": null,
   "metadata": {},
   "outputs": [],
   "source": [
    "Celsius = float(input('Entre o valor da temperatura em Celsius: '))\n",
    "Fahrenheit = ((9 / 5 * Celsius ) + 32)\n",
    "\n",
    "print(Fahrenheit)"
   ]
  },
  {
   "cell_type": "markdown",
   "metadata": {},
   "source": [
    "## Exercício 4: Faça um programa que calcule o Índice de Massa Corporal (IMC) com base no peso e altura do indivíduo:\n",
    "$$\n",
    "IMC = \\frac{peso}{altura^2} \\\\\n",
    "$$"
   ]
  },
  {
   "cell_type": "code",
   "execution_count": null,
   "metadata": {},
   "outputs": [],
   "source": [
    "peso = int(input('Peso em Kg: '))\n",
    "altura = float(input('Valor da altura em metros: '))\n",
    "\n",
    "IMC = peso / altura**2\n",
    "\n",
    "print(f'O seu IMC é de {IMC}')"
   ]
  },
  {
   "cell_type": "markdown",
   "metadata": {},
   "source": [
    "## Exercício 5: Calcular a hipotenusa de um triângulo retângulo com base em seus catetos:\n",
    "$$\n",
    "hipotenusa = \\sqrt { cateto_1^2+ cateto_2^2 }\n",
    "$$ "
   ]
  },
  {
   "cell_type": "code",
   "execution_count": null,
   "metadata": {},
   "outputs": [],
   "source": [
    "import math  # importação da biblioteca matemática\n",
    "\n",
    "cateto1 = float(input(\"Entre com a medida do cateto 1:\"))\n",
    "cateto2 = float(input(\"Entre com a medida do cateto 2:\"))\n",
    "\n",
    "hipotenusa = math.sqrt(cateto1**2 + cateto2**2)  # SQuare RooT = raiz quadrada\n",
    "\n",
    "print('A hipotenusa mede', hipotenusa)"
   ]
  },
  {
   "cell_type": "markdown",
   "metadata": {},
   "source": [
    "## Exercício 6: Faça um programa que calcule a área de um triângulo com base em sua base e sua altura.\n",
    "$$\n",
    "area = \\frac{base * altura}{2} \\\\\n",
    "$$ "
   ]
  },
  {
   "cell_type": "code",
   "execution_count": null,
   "metadata": {},
   "outputs": [],
   "source": [
    "base = float(input(\"Entre com a base: \"))\n",
    "altura = float(input(\"Entre com a altura: \"))\n",
    "\n",
    "area = base * altura / 2 \n",
    "\n",
    "print(f\"A sua área é de {area}\")"
   ]
  },
  {
   "cell_type": "markdown",
   "metadata": {},
   "source": [
    "## Exercício 7: Faça um programa que calcule a área de um triângulo com base em seus três lados (fórmula de Herão ou Hierão). Sendo a, b e c os lados:\n",
    "$$\n",
    "p = \\frac{a+b+c}{2}, \n",
    "area = \\sqrt{ p*(p-a)*(p-b)*(p-c) }\n",
    "$$"
   ]
  },
  {
   "cell_type": "code",
   "execution_count": null,
   "metadata": {},
   "outputs": [],
   "source": [
    "a = float(input('Entre o valor de a: '))\n",
    "b = float(input('Entre o valor de b: '))\n",
    "c = float(input('Entre o valor de c: '))\n",
    "\n",
    "p = ((a + b + c) / 2)\n",
    "\n",
    "area = (p * (p - a) * (p - b) * (p - c))**0.5\n",
    "\n",
    "print(f'A área do seu tríangulo é {area}')"
   ]
  }
 ],
 "metadata": {
  "kernelspec": {
   "display_name": "Python 3",
   "language": "python",
   "name": "python3"
  },
  "language_info": {
   "codemirror_mode": {
    "name": "ipython",
    "version": 3
   },
   "file_extension": ".py",
   "mimetype": "text/x-python",
   "name": "python",
   "nbconvert_exporter": "python",
   "pygments_lexer": "ipython3",
   "version": "3.8.5"
  }
 },
 "nbformat": 4,
 "nbformat_minor": 4
}
