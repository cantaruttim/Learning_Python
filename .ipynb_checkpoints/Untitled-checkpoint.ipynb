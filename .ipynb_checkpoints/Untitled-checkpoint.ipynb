{
 "cells": [
  {
   "cell_type": "markdown",
   "id": "2a60c878",
   "metadata": {},
   "source": [
    "### Matrizes"
   ]
  },
  {
   "cell_type": "code",
   "execution_count": 1,
   "id": "ef894a43",
   "metadata": {},
   "outputs": [],
   "source": [
    "import numpy as np"
   ]
  },
  {
   "cell_type": "code",
   "execution_count": 3,
   "id": "0224e440",
   "metadata": {},
   "outputs": [
    {
     "data": {
      "text/plain": [
       "matrix([[1, 2],\n",
       "        [3, 4]])"
      ]
     },
     "execution_count": 3,
     "metadata": {},
     "output_type": "execute_result"
    }
   ],
   "source": [
    "a = np.matrix('1 2; 3 4')\n",
    "a"
   ]
  },
  {
   "cell_type": "code",
   "execution_count": 4,
   "id": "30d9f63b",
   "metadata": {},
   "outputs": [
    {
     "data": {
      "text/plain": [
       "matrix([[1, 2],\n",
       "        [3, 4]])"
      ]
     },
     "execution_count": 4,
     "metadata": {},
     "output_type": "execute_result"
    }
   ],
   "source": [
    "np.matrix([[1, 2], [3, 4]])"
   ]
  },
  {
   "cell_type": "markdown",
   "id": "2ab48f9f",
   "metadata": {},
   "source": [
    "#### Soma de Matrizes"
   ]
  },
  {
   "cell_type": "code",
   "execution_count": 10,
   "id": "032fbc8b",
   "metadata": {},
   "outputs": [],
   "source": [
    "# soma de matrizes\n",
    "b = np.matrix([[1, 2], [3, 4]]) \n",
    "c = np.matrix([[2, 4], [2, 8]])"
   ]
  },
  {
   "cell_type": "code",
   "execution_count": 12,
   "id": "9f5b1e85",
   "metadata": {},
   "outputs": [
    {
     "data": {
      "text/plain": [
       "(matrix([[1, 2],\n",
       "         [3, 4]]),\n",
       " matrix([[2, 4],\n",
       "         [2, 8]]))"
      ]
     },
     "execution_count": 12,
     "metadata": {},
     "output_type": "execute_result"
    }
   ],
   "source": [
    "b, c"
   ]
  },
  {
   "cell_type": "code",
   "execution_count": 11,
   "id": "4baef104",
   "metadata": {},
   "outputs": [
    {
     "data": {
      "text/plain": [
       "matrix([[ 3,  6],\n",
       "        [ 5, 12]])"
      ]
     },
     "execution_count": 11,
     "metadata": {},
     "output_type": "execute_result"
    }
   ],
   "source": [
    "d = b + c\n",
    "d"
   ]
  },
  {
   "cell_type": "markdown",
   "id": "dc9c3993",
   "metadata": {},
   "source": [
    "#### Subtração de Matrizes"
   ]
  },
  {
   "cell_type": "code",
   "execution_count": 20,
   "id": "5aec5645",
   "metadata": {},
   "outputs": [],
   "source": [
    "f = np.matrix([2,1,3])\n",
    "g = np.matrix([7,0,-4])\n"
   ]
  },
  {
   "cell_type": "code",
   "execution_count": 21,
   "id": "cb20d9be",
   "metadata": {},
   "outputs": [
    {
     "data": {
      "text/plain": [
       "matrix([[-5,  1,  7]])"
      ]
     },
     "execution_count": 21,
     "metadata": {},
     "output_type": "execute_result"
    }
   ],
   "source": [
    "h = f - g\n",
    "h"
   ]
  },
  {
   "cell_type": "markdown",
   "id": "7c94bb4f",
   "metadata": {},
   "source": [
    "#### Matriz Oposta\n",
    "\n",
    "$$f = f^{-}$$"
   ]
  },
  {
   "cell_type": "code",
   "execution_count": 15,
   "id": "c7f8d3d1",
   "metadata": {},
   "outputs": [
    {
     "data": {
      "text/plain": [
       "matrix([[-2, -1, -3]])"
      ]
     },
     "execution_count": 15,
     "metadata": {},
     "output_type": "execute_result"
    }
   ],
   "source": [
    "# Matriz Oposta\n",
    "-f"
   ]
  },
  {
   "cell_type": "markdown",
   "id": "e849f311",
   "metadata": {},
   "source": [
    "#### Matriz Transposta\n",
    "\n",
    "$$g = g^{t} $$"
   ]
  },
  {
   "cell_type": "code",
   "execution_count": 19,
   "id": "6444cf36",
   "metadata": {},
   "outputs": [
    {
     "data": {
      "text/plain": [
       "(matrix([[ 7,  0, -4]]),\n",
       " matrix([[ 7],\n",
       "         [ 0],\n",
       "         [-4]]))"
      ]
     },
     "execution_count": 19,
     "metadata": {},
     "output_type": "execute_result"
    }
   ],
   "source": [
    "# matrizes transpostas\n",
    "g, np.matrix.transpose(g)"
   ]
  }
 ],
 "metadata": {
  "kernelspec": {
   "display_name": "Python 3 (ipykernel)",
   "language": "python",
   "name": "python3"
  },
  "language_info": {
   "codemirror_mode": {
    "name": "ipython",
    "version": 3
   },
   "file_extension": ".py",
   "mimetype": "text/x-python",
   "name": "python",
   "nbconvert_exporter": "python",
   "pygments_lexer": "ipython3",
   "version": "3.9.12"
  }
 },
 "nbformat": 4,
 "nbformat_minor": 5
}
