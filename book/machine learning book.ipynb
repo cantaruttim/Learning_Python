{
  "cells": [
    {
      "cell_type": "code",
      "execution_count": null,
      "metadata": {
        "id": "6G3mjPBAliaa"
      },
      "outputs": [],
      "source": [
        "from sklearn.metrics import confusion_matrix, precision_score, recall_score"
      ]
    },
    {
      "cell_type": "markdown",
      "metadata": {
        "id": "ZChUo9Qbliac"
      },
      "source": [
        "### Métricas\n",
        "---"
      ]
    },
    {
      "cell_type": "markdown",
      "source": [
        "\n",
        "#### 1. Precisão: \n",
        "\n",
        "$$Precisão = \\frac{TP}{TP + FP}$$\n",
        "TP = Todos os verdadeiros positivos; FP = número de falsos positivos\n",
        "\n",
        "\n",
        "#### 2. Revocação:\n",
        "\n",
        "$$Revocação = \\frac{TP}{TP + FN}$$\n",
        "FN = é o número de falsos negativos\n",
        "\n",
        "\n",
        "#### 3. Pontuação F1:\n",
        "\n",
        "$$F1 = \\frac{2}{\\frac{1}{precisão} + \\frac{1}{revocação}} = 2 * \\frac{precisão * revocação}{precisão + revocação} = \\frac{TP}{TP + \\frac{FN + FP}{2}}$$\n",
        "\n",
        "<br />\n",
        "\n",
        "Obs¹: A pontuação F1 é a _média harmônica_ da precisão e revocação. Onde a média harmômica dará muito mais peso aos valores mais baixos.\n",
        "\n",
        "$$Mh = \\frac{n}{\\frac{1}{x1} + \\frac{1}{x2} + \\frac{1}{x3} + ... + \\frac{1}{xn}}$$\n",
        "\n",
        "#### Compensação da Precisão/Revocação:\n",
        "\n",
        "Para cada instância, ele calcula uma pontuação baseada em uma _função de decisão_ e, se essa pontuação for maior que um limiar, ele atribiu a instância à classe positiva, ou então a atribui à classe negativa."
      ],
      "metadata": {
        "id": "l-GsX2pIwJ0i"
      }
    },
    {
      "cell_type": "code",
      "execution_count": null,
      "metadata": {
        "id": "1h_o_JTdliao"
      },
      "outputs": [],
      "source": []
    },
    {
      "cell_type": "code",
      "source": [],
      "metadata": {
        "id": "xY-qzg6XwcOE"
      },
      "execution_count": null,
      "outputs": []
    },
    {
      "cell_type": "markdown",
      "source": [
        "### Redes Neurais:\n",
        "---\n",
        "\n",
        "[Funções de Ativação](https://en.wikipedia.org/wiki/Activation_function) <br />\n",
        "[Gradiente Descent](https://en.wikipedia.org/wiki/Gradient_descent)"
      ],
      "metadata": {
        "id": "0Ajxfy0Rwcjy"
      }
    },
    {
      "cell_type": "markdown",
      "source": [],
      "metadata": {
        "id": "bbEBONOzy6tQ"
      }
    }
  ],
  "metadata": {
    "kernelspec": {
      "display_name": "base",
      "language": "python",
      "name": "python3"
    },
    "language_info": {
      "codemirror_mode": {
        "name": "ipython",
        "version": 3
      },
      "file_extension": ".py",
      "mimetype": "text/x-python",
      "name": "python",
      "nbconvert_exporter": "python",
      "pygments_lexer": "ipython3",
      "version": "3.9.12"
    },
    "orig_nbformat": 4,
    "vscode": {
      "interpreter": {
        "hash": "c8d3184e42d5090dff9a42825f73ee2454fef8c1131708a89f889453d9fc9d30"
      }
    },
    "colab": {
      "provenance": []
    }
  },
  "nbformat": 4,
  "nbformat_minor": 0
}