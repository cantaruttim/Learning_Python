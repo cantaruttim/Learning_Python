{
  "nbformat": 4,
  "nbformat_minor": 0,
  "metadata": {
    "colab": {
      "provenance": [],
      "authorship_tag": "ABX9TyPLTBD3gVEHCjC2n/CSawru",
      "include_colab_link": true
    },
    "kernelspec": {
      "name": "python3",
      "display_name": "Python 3"
    },
    "language_info": {
      "name": "python"
    }
  },
  "cells": [
    {
      "cell_type": "markdown",
      "metadata": {
        "id": "view-in-github",
        "colab_type": "text"
      },
      "source": [
        "<a href=\"https://colab.research.google.com/github/cantaruttim/Learning_Python/blob/main/Estrutura_de_Dados.ipynb\" target=\"_parent\"><img src=\"https://colab.research.google.com/assets/colab-badge.svg\" alt=\"Open In Colab\"/></a>"
      ]
    },
    {
      "cell_type": "markdown",
      "source": [
        "Esse código é uma implementação do algoritmo de ordenação por inserção. Ele tem a função de ordenar uma lista de elementos, neste caso a lista A. O algoritmo percorre a lista um elemento por vez, comparando-o com cada um dos elementos anteriores. Se encontrar um elemento menor que o elemento sendo comparado, então este é deslocado para a direita, e os elementos anteriores são deslocados para a esquerda. O resultado é que a lista é ordenada. No final, a lista A é impressa e contém os elementos em ordem crescente."
      ],
      "metadata": {
        "id": "TBvhZLWp1VHm"
      }
    },
    {
      "cell_type": "code",
      "source": [
        "A = [5,2,4,6,1,3]\n",
        "\n",
        "for j in range(1, len(A)):\n",
        "    key = A[j]\n",
        "    i = j - 1\n",
        "    while i >= 0 and A[i] > key:\n",
        "        # print(A[i])\n",
        "        A[i + 1] = A[i]\n",
        "        i = i - 1\n",
        "    A[i + 1] = key\n",
        "\n",
        "print(A)"
      ],
      "metadata": {
        "colab": {
          "base_uri": "https://localhost:8080/"
        },
        "id": "cU2_BHEQv6QP",
        "outputId": "b25c3ecd-cd73-4272-8eb5-a8bc8279e764"
      },
      "execution_count": null,
      "outputs": [
        {
          "output_type": "stream",
          "name": "stdout",
          "text": [
            "[1, 2, 3, 4, 5, 6]\n"
          ]
        }
      ]
    },
    {
      "cell_type": "markdown",
      "source": [
        "Para termos uma ordenação decrescente, temos que comparar o valor do índice com o valor dos elementos existentes na lista. Pois a mecânica em que se percorre a lista é a mesma, incrementando o índice ou desincrementando-o. Porem ao compararmos `A[i] < key` estamos comparando os elementos de forma decrescente. "
      ],
      "metadata": {
        "id": "YIaphyI4rrMy"
      }
    },
    {
      "cell_type": "code",
      "source": [
        "A = [5,2,4,6,1,3]\n",
        "\n",
        "for j in range(1, len(A)):\n",
        "    key = A[j]\n",
        "    i = j - 1\n",
        "    while i >= 0 and A[i] < key:\n",
        "        # print(A[i])\n",
        "        A[i + 1] = A[i]\n",
        "        i = i - 1\n",
        "    A[i + 1] = key\n",
        "\n",
        "print(A)"
      ],
      "metadata": {
        "id": "VmJKwUwYv6b-",
        "outputId": "7543a1f4-dc45-4c99-fba8-a5bd5c33e9dd",
        "colab": {
          "base_uri": "https://localhost:8080/"
        }
      },
      "execution_count": null,
      "outputs": [
        {
          "output_type": "stream",
          "name": "stdout",
          "text": [
            "[6, 5, 4, 3, 2, 1]\n"
          ]
        }
      ]
    },
    {
      "cell_type": "markdown",
      "source": [
        "##### Observações:\n",
        "\n",
        "1. O algoritmo de ordenação pode demorar uma quantidade de tempo diferente de tempo para ordernar duas listas diferentes de um mesmo tamanho. A depender de quão ordenados os dados já estão."
      ],
      "metadata": {
        "id": "ngd0qkA4PYa6"
      }
    },
    {
      "cell_type": "code",
      "source": [
        "A = [250, 3000, 150, -100, -250, 0]\n",
        "\n",
        "for j in range(1, len(A)):\n",
        "    key = A[j]\n",
        "    i = j - 1\n",
        "    while i >= 0 and A[i] > key:\n",
        "        # print(A[i])\n",
        "        A[i + 1] = A[i]\n",
        "        i = i - 1\n",
        "    A[i + 1] = key\n",
        "\n",
        "print(A)"
      ],
      "metadata": {
        "id": "QGtafH_kpDjc",
        "outputId": "4164f1b7-48b3-421f-c153-20bb602a9f97",
        "colab": {
          "base_uri": "https://localhost:8080/"
        }
      },
      "execution_count": 5,
      "outputs": [
        {
          "output_type": "stream",
          "name": "stdout",
          "text": [
            "[-250, -100, 0, 150, 250, 3000]\n"
          ]
        }
      ]
    },
    {
      "cell_type": "code",
      "source": [],
      "metadata": {
        "id": "AcbbxIiEpDm1"
      },
      "execution_count": null,
      "outputs": []
    },
    {
      "cell_type": "code",
      "source": [],
      "metadata": {
        "id": "7W-f50klpDpe"
      },
      "execution_count": null,
      "outputs": []
    },
    {
      "cell_type": "code",
      "source": [],
      "metadata": {
        "id": "NQr9JnXApDsJ"
      },
      "execution_count": null,
      "outputs": []
    },
    {
      "cell_type": "code",
      "source": [],
      "metadata": {
        "id": "5ju7JJNqv6ei"
      },
      "execution_count": null,
      "outputs": []
    },
    {
      "cell_type": "code",
      "source": [],
      "metadata": {
        "id": "4QUKL8Bev6h7"
      },
      "execution_count": null,
      "outputs": []
    }
  ]
}