{
 "cells": [
  {
   "cell_type": "markdown",
   "id": "821046fc",
   "metadata": {},
   "source": [
    "### Geometria Analítica com Python"
   ]
  },
  {
   "cell_type": "code",
   "execution_count": 1,
   "id": "c80b5f84",
   "metadata": {},
   "outputs": [],
   "source": [
    "### Como operar vetores com Python?\n",
    "\n",
    "import numpy as np\n",
    "\n",
    "# terna tridimensional\n",
    "vetor_u = np.array([1, -2, 0])\n",
    "vetor_v = np.array([0, 2, 2])"
   ]
  },
  {
   "cell_type": "markdown",
   "id": "154467b6",
   "metadata": {},
   "source": [
    "### operações entre vetores\n",
    "\n",
    "As quatro operações mais comuns são: soma, multiplicação por escalar, produto escalar e produto misto"
   ]
  },
  {
   "cell_type": "code",
   "execution_count": 2,
   "id": "6649110f",
   "metadata": {},
   "outputs": [
    {
     "name": "stdout",
     "output_type": "stream",
     "text": [
      "[1 0 2]\n"
     ]
    }
   ],
   "source": [
    "s = vetor_u + vetor_v\n",
    "print(s)"
   ]
  },
  {
   "cell_type": "code",
   "execution_count": 3,
   "id": "4373d498",
   "metadata": {},
   "outputs": [
    {
     "name": "stdout",
     "output_type": "stream",
     "text": [
      "[  7 -14   0]\n"
     ]
    }
   ],
   "source": [
    "# multiplicação por um escalar\n",
    "\n",
    "vetor_x = 7 * vetor_u\n",
    "print(vetor_x)"
   ]
  },
  {
   "cell_type": "code",
   "execution_count": 4,
   "id": "05e25e77",
   "metadata": {},
   "outputs": [
    {
     "name": "stdout",
     "output_type": "stream",
     "text": [
      "-4\n"
     ]
    }
   ],
   "source": [
    "# produto escalar de u com v\n",
    "\n",
    "s = np.dot(vetor_u, vetor_v)\n",
    "print(s)"
   ]
  },
  {
   "cell_type": "code",
   "execution_count": 5,
   "id": "9002bb81",
   "metadata": {},
   "outputs": [
    {
     "name": "stdout",
     "output_type": "stream",
     "text": [
      "[-4 -2  2]\n"
     ]
    }
   ],
   "source": [
    "# produto vetorial de u com v\n",
    "\n",
    "s = np.cross(vetor_u, vetor_v)\n",
    "print(s)"
   ]
  },
  {
   "cell_type": "code",
   "execution_count": 6,
   "id": "74c4d051",
   "metadata": {},
   "outputs": [
    {
     "name": "stdout",
     "output_type": "stream",
     "text": [
      "0.0\n"
     ]
    }
   ],
   "source": [
    "# Produto misto. É o determinate de uma matriz quadrada de ordem 3\n",
    "\n",
    "y = np.linalg.det(\n",
    "    \n",
    "    [\n",
    "    vetor_u,\n",
    "    vetor_v,\n",
    "    vetor_x\n",
    "    ]\n",
    ")\n",
    "\n",
    "print(y)"
   ]
  },
  {
   "cell_type": "code",
   "execution_count": null,
   "id": "74d6478d",
   "metadata": {},
   "outputs": [],
   "source": []
  },
  {
   "cell_type": "code",
   "execution_count": null,
   "id": "9e2ad263",
   "metadata": {},
   "outputs": [],
   "source": []
  }
 ],
 "metadata": {
  "kernelspec": {
   "display_name": "Python 3 (ipykernel)",
   "language": "python",
   "name": "python3"
  },
  "language_info": {
   "codemirror_mode": {
    "name": "ipython",
    "version": 3
   },
   "file_extension": ".py",
   "mimetype": "text/x-python",
   "name": "python",
   "nbconvert_exporter": "python",
   "pygments_lexer": "ipython3",
   "version": "3.9.12"
  }
 },
 "nbformat": 4,
 "nbformat_minor": 5
}
