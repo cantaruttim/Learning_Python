{
  "cells": [
    {
      "cell_type": "markdown",
      "metadata": {
        "id": "view-in-github",
        "colab_type": "text"
      },
      "source": [
        "<a href=\"https://colab.research.google.com/github/cantaruttim/Learning_Python/blob/main/Exercicio.ipynb\" target=\"_parent\"><img src=\"https://colab.research.google.com/assets/colab-badge.svg\" alt=\"Open In Colab\"/></a>"
      ]
    },
    {
      "cell_type": "markdown",
      "metadata": {
        "id": "EDnzLMtnfPU9"
      },
      "source": [
        "Um programa para gerenciar os saques de um caixa eletrônico deve possuir algum\n",
        "mecanismo para decidir o **número** de notas de cada valor que deve ser disponibilizado\n",
        "para o cliente que realizou o saque.\n",
        "\n",
        "<br />\n",
        "\n",
        "Um possível critério seria o da \"distribuição ótima\"\n",
        "no sentido de que **as notas de *menor* valor fossem distribuídas em número mínimo\n",
        "possível**. _Por exemplo, se a quantia solicitada fosse 87,00, o programa deveria indicar\n",
        "uma nota de 50,00, três notas de 10,00, uma nota de 5,00 e duas notas de 1,00._\n",
        "\n",
        "<br />\n",
        "\n",
        "\n",
        "Escreva um programa que receba o valor da quantia solicitada e retorne a\n",
        "distribuição das notas de acordo com o critério da distribuição ótima (considere existir\n",
        "notas de 1,00; 2,00; 5,00; 10,00; 20,00; 50,00 e 100,00)."
      ]
    },
    {
      "cell_type": "code",
      "execution_count": null,
      "metadata": {
        "id": "lYNopPkRfdF5",
        "colab": {
          "base_uri": "https://localhost:8080/"
        },
        "outputId": "873201d3-6761-42d9-fe94-d1044bb404f0"
      },
      "outputs": [
        {
          "output_type": "stream",
          "name": "stdout",
          "text": [
            "Inicializando uma conta para o cliente Matheus\n",
            "Inicializando uma conta para o cliente Matheus\n",
            "data abertura:   2023-04-18 15:38:30.139792\n",
            "transações: \n"
          ]
        }
      ],
      "source": [
        "import datetime\n",
        "\n",
        "class Historico:\n",
        "\n",
        "  \"\"\"\n",
        "\n",
        "  Classe Histórico que registra a criação da conta,\n",
        "  assim como registra (por meio do atributo imprime)\n",
        "  as transações realizadas pelo usuário.\n",
        "\n",
        "  Atributos:\n",
        "\n",
        "  imprime : Registra as transações realizadas pelo usuário titular da conta.\n",
        "\n",
        "  \"\"\"\n",
        "\n",
        "  def __init__(self):\n",
        "    self.data_abertura = datetime.datetime.today()\n",
        "    self.transacoes = []\n",
        "\n",
        "\n",
        "  def imprime(self):\n",
        "    print(\"data abertura:   {}\".format(self.data_abertura))\n",
        "    print(\"transações: \")\n",
        "\n",
        "    for t in self.transacoes:\n",
        "      print(\"-\", t)\n",
        "\n",
        "  \n",
        "      \n",
        "class Conta:\n",
        "  # modificando a classe conta para que ela tenha um histórico\n",
        "\n",
        "  \"\"\"\n",
        "  Classe responsável por criar a conta do cliente\n",
        "\n",
        "  Atributos:\n",
        "\n",
        "    deposita : Método que recebe 1 parâmetro que será o valor a ser depositado\n",
        "\n",
        "    saca : Método que recebe 1 parâmetro que será o valor a ser sacado\n",
        "\n",
        "    numero_otimo_notas : Método que retorna o número de notas com base no valor a ser sacado\n",
        "\n",
        "    extrato : Método que registra as transações da conta\n",
        "\n",
        "    transfere_para : Método que realiza a transferência de saldo para uma outra conta\n",
        "\n",
        "  \"\"\"\n",
        "  def   __init__(self,  numero, cliente,    saldo, limite=1000.0):\n",
        "    print(f\"Inicializando uma conta para o cliente {cliente}\")\n",
        "\n",
        "    self.numero = numero\n",
        "    self.cliente = cliente\n",
        "    self.saldo = saldo\n",
        "    self.limite = limite\n",
        "    self.historico = Historico()\n",
        "    self.notas = {}\n",
        "\n",
        "\n",
        "    # Métodos/Atributos\n",
        "  def deposita(self, valor):\n",
        "    self.saldo += valor\n",
        "    self.historico.transacoes.append(\"depósito de + R$ {}\".format(valor))\n",
        "\n",
        "\n",
        "\n",
        "  def saca(self, valor):\n",
        "    if (self.saldo < valor):\n",
        "      return False\n",
        "    else:\n",
        "      self.saldo -= valor\n",
        "      self.historico.transacoes.append(\"saque de - R$ {}\".format(valor))\n",
        "    return self.saldo\n",
        "\n",
        "\n",
        "  def extrato(self):\n",
        "    print(\"número : {} \\nsaldo: {}\".format(self.numero, self.saldo))\n",
        "    self.historico.transacoes.append(\"Tirou extrato - saldo de R$ {}\".format(self.valor))\n",
        "\n",
        "\n",
        "  def   transfere_para(self,    destino,    valor):\n",
        "    retirou =   self.saca(valor)\n",
        "    if  (retirou    ==  False):\n",
        "      return False\n",
        "    else:\n",
        "      destino.deposita(valor)\n",
        "      self.historico.transacoes.append(\"Transferência de - R$ {} para conta {}\".format(valor, destino.numero))\n",
        "\n",
        "\n",
        "class Cliente:\n",
        "\n",
        "  \"\"\"\n",
        "  Classe responsável por registrar um cliente. \n",
        "  A criação de uma conta está vinculada ao cliente existente.\n",
        "\n",
        "  \"\"\"\n",
        "\n",
        "  def __init__(self, nome, sobrenome, cpf):\n",
        "    self.nome = nome\n",
        "    self.sobrenome = sobrenome\n",
        "    self.cpf = cpf\n",
        "\n",
        "\n",
        "## Criando duas contas e registrando dois clientes à cada conta\n",
        "cliente1 = Cliente('Matheus', 'Cantarutti', '123456')\n",
        "conta1 = Conta('123-4', cliente1.nome, 120.0, 1000.0)\n",
        "\n",
        "cliente2 = Cliente('Matheus', 'Cantarutti', '123457')\n",
        "conta2 = Conta('123-4', cliente1.nome, 50.0, 1000.0)\n",
        "\n",
        "\n",
        "# # Usuário 1 realiza uma série de transações na conta\n",
        "# conta1.saca(1389)\n",
        "\n",
        "\n",
        "# Retorna os valores depositados/sacados e transferidos pelo usuário titular da conta\n",
        "conta1.historico.imprime()"
      ]
    },
    {
      "cell_type": "code",
      "source": [
        "# retorna o valor ótimo de notas com base no saque\n",
        "conta1.deposita(1200)"
      ],
      "metadata": {
        "id": "7CePOa5C7uJ_"
      },
      "execution_count": null,
      "outputs": []
    },
    {
      "cell_type": "code",
      "source": [
        "conta1.saca(100)"
      ],
      "metadata": {
        "colab": {
          "base_uri": "https://localhost:8080/"
        },
        "id": "jxKk95Bu9c2d",
        "outputId": "bf63ab9f-7bc5-484e-cba3-f95f55b600e9"
      },
      "execution_count": null,
      "outputs": [
        {
          "output_type": "execute_result",
          "data": {
            "text/plain": [
              "1220.0"
            ]
          },
          "metadata": {},
          "execution_count": 46
        }
      ]
    },
    {
      "cell_type": "code",
      "source": [
        "conta1.saldo"
      ],
      "metadata": {
        "colab": {
          "base_uri": "https://localhost:8080/"
        },
        "id": "QDDGzfOi-6tu",
        "outputId": "1caa82f4-1caf-4971-9c02-57cc97055726"
      },
      "execution_count": null,
      "outputs": [
        {
          "output_type": "execute_result",
          "data": {
            "text/plain": [
              "1220.0"
            ]
          },
          "metadata": {},
          "execution_count": 47
        }
      ]
    },
    {
      "cell_type": "code",
      "source": [
        "conta1.historico.imprime()"
      ],
      "metadata": {
        "colab": {
          "base_uri": "https://localhost:8080/"
        },
        "id": "5v4r4ln39f0d",
        "outputId": "25dfe4f2-e044-49e4-c00a-72279094efd3"
      },
      "execution_count": null,
      "outputs": [
        {
          "output_type": "stream",
          "name": "stdout",
          "text": [
            "data abertura:   2023-04-18 15:38:30.139792\n",
            "transações: \n",
            "- depósito de + R$ 1200\n",
            "- saque de - R$ 100\n"
          ]
        }
      ]
    },
    {
      "cell_type": "code",
      "source": [
        "def numero_otimo_notas(valor):\n",
        "\n",
        "  notasDisponiveis = [100.0, 50.0, 20.0, 10.0, 5.0, 2.0, 1.0]\n",
        "  notasSacadas = {}\n",
        "\n",
        "  for nota in notasDisponiveis:\n",
        "    # print(nota)\n",
        "\n",
        "    notas = valor // nota\n",
        "\n",
        "    if valor > 0 :\n",
        "      # print(valor)\n",
        "\n",
        "      notas[nota] = notas\n",
        "      valor = valor % nota\n",
        "  \n",
        "  return valor"
      ],
      "metadata": {
        "id": "H0V2wXAkDezW"
      },
      "execution_count": null,
      "outputs": []
    },
    {
      "cell_type": "code",
      "source": [
        "numero_otimo_notas(15)"
      ],
      "metadata": {
        "id": "3qGW7oV-De3O"
      },
      "execution_count": null,
      "outputs": []
    },
    {
      "cell_type": "code",
      "source": [
        "1000 + ( (1000 - 750) * 0.1 )"
      ],
      "metadata": {
        "colab": {
          "base_uri": "https://localhost:8080/"
        },
        "id": "yDMl7jzFwvPf",
        "outputId": "67e6fc2b-a471-4bf1-a831-948bbfedafb3"
      },
      "execution_count": 112,
      "outputs": [
        {
          "output_type": "execute_result",
          "data": {
            "text/plain": [
              "1025.0"
            ]
          },
          "metadata": {},
          "execution_count": 112
        }
      ]
    },
    {
      "cell_type": "code",
      "source": [
        "def escolhe_praga():\n",
        "\n",
        "  tipo_praga = int(input(\"Qual seria o tipo de praga?: \"))\n",
        "  acres = int(input(\"Qual seria o valor do acre?: \"))\n",
        "\n",
        "  if tipo_praga == 4:\n",
        "    tipo_praga = 'Todos'\n",
        "    preco = 250\n",
        "    # print(\"Todos acima de R$ 250,00/acre \")\n",
        "\n",
        "  elif tipo_praga == 3:\n",
        "    tipo_praga = 'Broca'\n",
        "    preco = 150\n",
        "    # print(\"Tipo de praga Broca R$ 150,00/acre \")\n",
        "\n",
        "  elif tipo_praga == 2:\n",
        "    tipo_praga = 'Gafanhoto'\n",
        "    preco = 100\n",
        "    # print(\"Tipo de praga gafanhoto R$ 100,00/acre \")\n",
        "\n",
        "  else:\n",
        "    tipo_praga = 'Ervas Daninhas'\n",
        "    preco = 50\n",
        "    # print(\"Tipo de praga Ervas Daninhas R$ 50,00/acre \")\n",
        "\n",
        "\n",
        "  valor = acres * preco\n",
        "\n",
        "  if valor > 1000: # comparando com o valor de acres (áreas)\n",
        "    valor = valor * 0.95\n",
        "\n",
        "    if valor > 750:\n",
        "      valor_diferenca = valor - 750\n",
        "      valor_desconto = valor_diferenca * 0.90\n",
        "      valor = valor_desconto\n",
        "      \n",
        "    return print(f\"O valor a ser pago é R$ {valor}, o tipo de pulverização é {tipo_praga}\")\n",
        "\n",
        "\n",
        "  return acres, tipo_praga, valor\n",
        "\n",
        "escolhe_praga()"
      ],
      "metadata": {
        "id": "s6jniuqxDe7o",
        "colab": {
          "base_uri": "https://localhost:8080/"
        },
        "outputId": "f1035583-77fb-4bf7-dbd9-58cebdd740b1"
      },
      "execution_count": 138,
      "outputs": [
        {
          "output_type": "stream",
          "name": "stdout",
          "text": [
            "Qual seria o tipo de praga?: 4\n",
            "Qual seria o valor do acre?: 1000\n",
            "O valor a ser pago é R$ 213075.0, o tipo de pulverização é Todos\n"
          ]
        }
      ]
    },
    {
      "cell_type": "code",
      "source": [],
      "metadata": {
        "id": "0saakRYyfyrh"
      },
      "execution_count": null,
      "outputs": []
    }
  ],
  "metadata": {
    "colab": {
      "provenance": [],
      "authorship_tag": "ABX9TyPJHdkbaYdxvNGvO4z+GFVx",
      "include_colab_link": true
    },
    "kernelspec": {
      "display_name": "Python 3",
      "name": "python3"
    },
    "language_info": {
      "name": "python"
    }
  },
  "nbformat": 4,
  "nbformat_minor": 0
}