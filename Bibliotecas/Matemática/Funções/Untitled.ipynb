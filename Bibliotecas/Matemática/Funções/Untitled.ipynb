{
 "cells": [
  {
   "cell_type": "markdown",
   "id": "f7d2078f",
   "metadata": {},
   "source": [
    "#### Função do Segundo Grau\n",
    "<br />\n",
    "\n",
    "$$f(x) = ax^{2} + bx + c$$\n",
    "\n",
    "\n",
    "\n",
    "#### Cálculo do Discriminante\n",
    "<br />\n",
    "$$\\Delta = b^{2} - 4.a.c$$"
   ]
  },
  {
   "cell_type": "code",
   "execution_count": 6,
   "id": "8e09af6b",
   "metadata": {},
   "outputs": [
    {
     "name": "stdout",
     "output_type": "stream",
     "text": [
      "Com o valor de delta 1 maior que zero temos duas raízes reais e distintas\n"
     ]
    },
    {
     "data": {
      "text/plain": [
       "1"
      ]
     },
     "execution_count": 6,
     "metadata": {},
     "output_type": "execute_result"
    }
   ],
   "source": [
    "def calculo_discriminante(b,a,c):\n",
    "    # confirmando o valor de delta\n",
    "    delta = b**2 - (4*a*c)\n",
    "    \n",
    "    # Confirmando a existência das raízes da função\n",
    "    if delta < 0:\n",
    "        print(f'o valor de delta {delta} é negativo. Portanto não há raízes reais')\n",
    "    elif delta > 0:\n",
    "        print(f'Com o valor de delta {delta } maior que zero temos duas raízes reais e distintas')\n",
    "    else:\n",
    "        print(f'Com o valor de delta {delta} temos apenas duas raízes reais e iguais')\n",
    "    \n",
    "    return delta\n",
    "\n",
    "calculo_discriminante(3,2,1)"
   ]
  },
  {
   "cell_type": "markdown",
   "id": "0d1ed695",
   "metadata": {},
   "source": [
    " ### Fórmula de Bhāskara\n",
    " \n",
    " \n",
    "$$ x = \\frac {-b \\pm \\surd \\Delta}{2.a}$$"
   ]
  },
  {
   "cell_type": "code",
   "execution_count": null,
   "id": "a504c2ec",
   "metadata": {},
   "outputs": [],
   "source": []
  },
  {
   "cell_type": "code",
   "execution_count": null,
   "id": "26ebe642",
   "metadata": {},
   "outputs": [],
   "source": []
  },
  {
   "cell_type": "code",
   "execution_count": null,
   "id": "724494fe",
   "metadata": {},
   "outputs": [],
   "source": []
  },
  {
   "cell_type": "code",
   "execution_count": null,
   "id": "60f8612e",
   "metadata": {},
   "outputs": [],
   "source": []
  },
  {
   "cell_type": "code",
   "execution_count": null,
   "id": "4f52ae78",
   "metadata": {},
   "outputs": [],
   "source": []
  },
  {
   "cell_type": "code",
   "execution_count": null,
   "id": "ecbfe940",
   "metadata": {},
   "outputs": [],
   "source": []
  }
 ],
 "metadata": {
  "kernelspec": {
   "display_name": "Python 3 (ipykernel)",
   "language": "python",
   "name": "python3"
  },
  "language_info": {
   "codemirror_mode": {
    "name": "ipython",
    "version": 3
   },
   "file_extension": ".py",
   "mimetype": "text/x-python",
   "name": "python",
   "nbconvert_exporter": "python",
   "pygments_lexer": "ipython3",
   "version": "3.9.12"
  }
 },
 "nbformat": 4,
 "nbformat_minor": 5
}
