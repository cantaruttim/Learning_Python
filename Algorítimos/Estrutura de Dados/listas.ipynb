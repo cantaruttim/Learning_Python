{
 "cells": [
  {
   "attachments": {},
   "cell_type": "markdown",
   "metadata": {},
   "source": [
    "### Um outro material para poder estudar algoritmos :\n",
    "\n",
    "https://algoritmosempython.com.br/cursos/algoritmos-python/intro/"
   ]
  },
  {
   "cell_type": "code",
   "execution_count": 1,
   "metadata": {},
   "outputs": [
    {
     "data": {
      "text/plain": [
       "10"
      ]
     },
     "execution_count": 1,
     "metadata": {},
     "output_type": "execute_result"
    }
   ],
   "source": [
    "L = [1,2,3,4,5, 6,7,8,9,10]\n",
    "len(L)"
   ]
  },
  {
   "cell_type": "code",
   "execution_count": 2,
   "metadata": {},
   "outputs": [
    {
     "name": "stdout",
     "output_type": "stream",
     "text": [
      "[1, 2, 3, 4, 5, 6, 7, 8, 9, 10]\n",
      "[10]\n",
      "[9, 10]\n",
      "[8, 9, 10]\n",
      "[7, 8, 9, 10]\n",
      "[6, 7, 8, 9, 10]\n",
      "[5, 6, 7, 8, 9, 10]\n",
      "[4, 5, 6, 7, 8, 9, 10]\n",
      "[3, 4, 5, 6, 7, 8, 9, 10]\n",
      "[2, 3, 4, 5, 6, 7, 8, 9, 10]\n"
     ]
    }
   ],
   "source": [
    "for i in range(len(L)):\n",
    "    # percorre a lista toda de trás para frente\n",
    "    print(L[-i:])"
   ]
  },
  {
   "attachments": {},
   "cell_type": "markdown",
   "metadata": {},
   "source": [
    "### busca linear em uma lista "
   ]
  },
  {
   "cell_type": "code",
   "execution_count": 3,
   "metadata": {},
   "outputs": [],
   "source": [
    "# Qual a posição que encontra-se um determinado elemento da lista?"
   ]
  },
  {
   "cell_type": "code",
   "execution_count": 4,
   "metadata": {},
   "outputs": [
    {
     "name": "stdout",
     "output_type": "stream",
     "text": [
      "O índice do elemento 5 é 1\n"
     ]
    }
   ],
   "source": [
    "def busca(lista, elemento):\n",
    "    \"\"\"\n",
    "    Retorna o índice do elemento se ele estiver na lista,\n",
    "    ou None caso contrário\n",
    "    \"\"\"\n",
    "    for i in range(len(lista)):\n",
    "        if lista[i] == elemento:\n",
    "            return i\n",
    "    return None\n",
    "\n",
    "\n",
    "\n",
    "lista = [8, \"5\", 32, 0, \"python\", 11]\n",
    "elemento = \"5\"\n",
    "\n",
    "\n",
    "\n",
    "indice = busca(lista, elemento)\n",
    "\n",
    "if indice is not None:\n",
    "    print(\"O índice do elemento {} é {}\".format(elemento, indice))\n",
    "else:\n",
    "    print(\"O elemento {} não encontra-se na lista\".format(elemento))"
   ]
  },
  {
   "cell_type": "code",
   "execution_count": 5,
   "metadata": {},
   "outputs": [
    {
     "name": "stdout",
     "output_type": "stream",
     "text": [
      "Help on function busca in module __main__:\n",
      "\n",
      "busca(lista, elemento)\n",
      "    Retorna o índice do elemento se ele estiver na lista,\n",
      "    ou None caso contrário\n",
      "\n"
     ]
    }
   ],
   "source": [
    "help(busca)"
   ]
  },
  {
   "cell_type": "code",
   "execution_count": 6,
   "metadata": {},
   "outputs": [
    {
     "name": "stdout",
     "output_type": "stream",
     "text": [
      "Pesquisa com sucesso: 2\n",
      "Pesquisa com sucesso: 0\n",
      "Pesquisa com sucesso: 7\n",
      "Pesquisa com sucesso: -1\n"
     ]
    }
   ],
   "source": [
    "def pesquisa_binaria_recursiva(A, esquerda, direita, item):\n",
    "    \"\"\"Implementa pesquisa binária recursivamente.\"\"\"\n",
    "    # 1. Caso base: o elemento não está presente. \n",
    "    if direita < esquerda:\n",
    "        return -1\n",
    "    meio = (esquerda + direita) // 2\n",
    "    # 2. Nosso palpite estava certo: o elemento está no meio do arranjo. \n",
    "    if A[meio] == item:\n",
    "        return meio\n",
    "    # 3. O palpite estava errado: atualizamos os limites e continuamos a busca. \n",
    "    elif A[meio] > item:\n",
    "        return pesquisa_binaria_recursiva(A, esquerda, meio - 1, item)\n",
    "    else: # A[meio] < item\n",
    "        return pesquisa_binaria_recursiva(A, meio + 1, direita, item)\n",
    "\n",
    "A = [0, 10, 20, 30, 40, 50, 60, 70]\n",
    "print(\"Pesquisa com sucesso:\", pesquisa_binaria_recursiva(A, 0, len(A) - 1, 20))\n",
    "print(\"Pesquisa com sucesso:\", pesquisa_binaria_recursiva(A, 0, len(A) - 1, 0))\n",
    "print(\"Pesquisa com sucesso:\", pesquisa_binaria_recursiva(A, 0, len(A) - 1, 70))\n",
    "print(\"Pesquisa com sucesso:\", pesquisa_binaria_recursiva(A, 0, len(A) - 1, 100))"
   ]
  },
  {
   "attachments": {},
   "cell_type": "markdown",
   "metadata": {},
   "source": [
    "Analisemos a implementação acima para tentarmos entender o que está acontecendo. O algoritmo de pesquisa binária é muito importante, então compensa analisarmos sua implementação em mais detalhes. Perceba que inserimos comentários numerados no código para que possamos nos referir a eles agora em nossa análise da implementação. Vejamos:\n",
    "\n",
    "- Caso base: O primeiro comentário no código se refere ao caso base do algoritmo. Se você ainda não sabe o que é isso, leia este artigo (https://pt.wikipedia.org/wiki/Recursividade_(ci%C3%AAncia_da_computa%C3%A7%C3%A3o)). No caso base, verificamos se o elemento procurado não está na lista. Isso ocorrerá quando realizarmos a busca em todas as possíveis posições do arranjo em que o elemento poderia estar e não o encontrarmos. Quando isso acontecer, os limites esquerdo e direito se cruzarão. A verificação no caso base simplesmente checa isso e retorna o valor -1 se os limites tiverem se cruzado.\n",
    "\n",
    "<br /> \n",
    "\n",
    "- Palpite: No algoritmo de pesquisa binária, precisamos fazer um palpite de onde acreditamos que o elemento procurado possa estar. Um bom palpite é supormos que o elemento está no meio do arranjo. Com isso, eliminamos metade do arranjo a cada passo da nossa busca.\n",
    "\n",
    "<br /> \n",
    "\n",
    "- Elemento procurado não é o elemento no meio do arranjo: Se o elemento não está no meio do arranjo, temos duas opções: ou ele é menor do que o elemento que está no meio, ou ele é maior. Caso ele seja menor do que o elemento que está no meio do arranjo, podemos restringir nossa busca ao intervalo _[0,meio−1]_\n",
    ". Caso ele seja maior do que o elemento que está no meio do arranjo, podemos restringir nossa busca ao intervalo _[meio+1,n]_\n",
    ". Note que isso só é possível porque sabemos que o arranjo está ordenado."
   ]
  },
  {
   "cell_type": "code",
   "execution_count": 7,
   "metadata": {},
   "outputs": [
    {
     "name": "stdout",
     "output_type": "stream",
     "text": [
      "Pesquisa com sucesso: 2\n",
      "Pesquisa com sucesso: 0\n",
      "Pesquisa com sucesso: 7\n",
      "Pesquisa com sucesso: -1\n"
     ]
    }
   ],
   "source": [
    "def pesquisa_binaria(A, item):\n",
    "    \"\"\"Implementa pesquisa binária iterativamente.\"\"\"\n",
    "    esquerda, direita = 0, len(A) - 1\n",
    "    while esquerda <= direita:\n",
    "        meio = (esquerda + direita) // 2\n",
    "        if A[meio] == item:\n",
    "            return meio\n",
    "        elif A[meio] > item:\n",
    "            direita = meio - 1\n",
    "        else: # A[meio] < item\n",
    "            esquerda = meio + 1\n",
    "    return -1\n",
    "\n",
    "A = [0, 10, 20, 30, 40, 50, 60, 70]\n",
    "print(\"Pesquisa com sucesso:\", pesquisa_binaria(A, 20))\n",
    "print(\"Pesquisa com sucesso:\", pesquisa_binaria(A, 0))\n",
    "print(\"Pesquisa com sucesso:\", pesquisa_binaria(A, 70))\n",
    "print(\"Pesquisa com sucesso:\", pesquisa_binaria(A, 100))"
   ]
  },
  {
   "attachments": {},
   "cell_type": "markdown",
   "metadata": {},
   "source": [
    "Analisemos a implementação acima para tentarmos entender as diferenças em relação à versão recursiva:\n",
    "\n",
    "- Verificação dos extremos do arranjo: assim como na versão recursiva, fazemos uma verificação para saber se os limites esquerdo e direito se cruzaram, o que indica que o elemento procurado não está no arranjo de entrada. Entretanto, na versão iterativa do código essa verificação é feita no laço while que é usado para percorrer o arranjo.\n",
    "\n",
    "- Ajuste do espaço de busca: dentro do laço while, fazemos o palpite de onde o elemento procurado pode estar. Como anteriormente, supomos que ele estará no meio do arranjo. A seguir, caso o palpite não esteja correto, ajustamos os limites esquerdo e direito da parte do arranjo que estamos analisando. Na versão recursiva do algoritmo, a cada chamada recursiva reduzíamos o espaço de busca pela metade. Na versão iterativa fazemos essa redução no espaço de busca a cada iteração do laço while. Assim, na versão recursiva tinhamos no máximo O(logn)\n",
    " chamadas de função, ao passo que na versão iterativa temos no máximo O(logn)\n",
    " iterações do laço."
   ]
  },
  {
   "cell_type": "code",
   "execution_count": 8,
   "metadata": {},
   "outputs": [
    {
     "name": "stdout",
     "output_type": "stream",
     "text": [
      "Pesquisa com sucesso: 2\n",
      "Pesquisa com sucesso: 0\n",
      "Pesquisa com sucesso: 7\n",
      "Pesquisa com falha: -1\n"
     ]
    }
   ],
   "source": [
    "import bisect\n",
    "\n",
    "def pesquisa_binaria_bisect(A, item):\n",
    "    \"\"\"Implementa pesquisa binária usando bisect.\"\"\"\n",
    "    # Encontra o ponto onde o item deveria ser (ou está) inserido.\n",
    "    i = bisect.bisect_left(A, item)\n",
    "    # Testa se o item está na lista.\n",
    "    return i if i < len(A) and A[i] == item else -1\n",
    "\n",
    "A = [0, 10, 20, 30, 40, 50, 60, 70]\n",
    "print(\"Pesquisa com sucesso:\", pesquisa_binaria_bisect(A, 20))\n",
    "print(\"Pesquisa com sucesso:\", pesquisa_binaria_bisect(A, 0))\n",
    "print(\"Pesquisa com sucesso:\", pesquisa_binaria_bisect(A, 70))\n",
    "print(\"Pesquisa com falha:\", pesquisa_binaria_bisect(A, 100))"
   ]
  },
  {
   "attachments": {},
   "cell_type": "markdown",
   "metadata": {},
   "source": [
    "### Inserção e Remoção de uma lista"
   ]
  },
  {
   "attachments": {},
   "cell_type": "markdown",
   "metadata": {},
   "source": [
    "Para inserir um elemento no final da lista, a complexidade algorítima é da _**O(1)**_,\n",
    "pois depende de apenas um elemento (o que será adicionado);\n",
    "\n",
    "Par adicionarmos um elemento em qualquer posicionamento diferente do final da lista. Por exemplo, quero adicionar o elemento 1 na posição 2, de uma lista de ln() = 5, tem complexidade algoritímica de  tem um valor *variável* e depende do tamanho da lista _**O(N)**_"
   ]
  },
  {
   "attachments": {},
   "cell_type": "markdown",
   "metadata": {},
   "source": [
    "### Nó e Alocação Encadeada"
   ]
  },
  {
   "cell_type": "code",
   "execution_count": 23,
   "metadata": {},
   "outputs": [
    {
     "name": "stdout",
     "output_type": "stream",
     "text": [
      "<__main__.Node object at 0x0000022407A48FD0> <__main__.Node object at 0x0000022407A4ADD0>\n",
      "None\n",
      "5\n",
      "10\n"
     ]
    }
   ],
   "source": [
    "class Node:\n",
    "\n",
    "    def __init__(self, data):\n",
    "        self.data = data\n",
    "        self.next = None\n",
    "\n",
    "    n1 = Node(5)\n",
    "    n2 = Node(10)\n",
    "    print(n1, n2)\n",
    "    print(n1.next)\n",
    "    print(n1.data)\n",
    "    print(n2.data)"
   ]
  },
  {
   "cell_type": "code",
   "execution_count": null,
   "metadata": {},
   "outputs": [],
   "source": []
  },
  {
   "cell_type": "code",
   "execution_count": null,
   "metadata": {},
   "outputs": [],
   "source": []
  },
  {
   "cell_type": "code",
   "execution_count": null,
   "metadata": {},
   "outputs": [],
   "source": []
  },
  {
   "cell_type": "code",
   "execution_count": null,
   "metadata": {},
   "outputs": [],
   "source": []
  },
  {
   "cell_type": "code",
   "execution_count": null,
   "metadata": {},
   "outputs": [],
   "source": []
  },
  {
   "cell_type": "code",
   "execution_count": null,
   "metadata": {},
   "outputs": [],
   "source": []
  }
 ],
 "metadata": {
  "kernelspec": {
   "display_name": "Python 3",
   "language": "python",
   "name": "python3"
  },
  "language_info": {
   "codemirror_mode": {
    "name": "ipython",
    "version": 3
   },
   "file_extension": ".py",
   "mimetype": "text/x-python",
   "name": "python",
   "nbconvert_exporter": "python",
   "pygments_lexer": "ipython3",
   "version": "3.10.9"
  },
  "orig_nbformat": 4,
  "vscode": {
   "interpreter": {
    "hash": "48434fea92bcfa521232aa698a59dbef67c96a63793f88c53e51c3c6eaedc268"
   }
  }
 },
 "nbformat": 4,
 "nbformat_minor": 2
}
