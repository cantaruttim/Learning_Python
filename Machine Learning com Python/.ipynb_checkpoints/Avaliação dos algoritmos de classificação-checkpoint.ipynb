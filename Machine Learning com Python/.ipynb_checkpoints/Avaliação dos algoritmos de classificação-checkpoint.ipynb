{
 "cells": [
  {
   "cell_type": "markdown",
   "id": "a122df1a",
   "metadata": {},
   "source": [
    "#### Avaliação da Matriz de Confusão\n",
    "<br />\n",
    "\n",
    "* Verdadeiro Positivo e Falso Positivo\n",
    "* Precision & Recall\n",
    "* Overfitting & Underfitting\n",
    "* Validação Cruzada (_avaliação científica_)\n",
    "* Tuning dos Parâmetros\n",
    "* Como testar e avaliar os algoritmos (+ _Estatística_)\n",
    "* Algoritmos ANOVA & TUKEY\n",
    "* Salvando os classificadores já treinados"
   ]
  },
  {
   "cell_type": "code",
   "execution_count": 1,
   "id": "c183638e",
   "metadata": {},
   "outputs": [],
   "source": [
    "from sklearn.model_selection import GridSearchCV\n",
    "from sklearn.tree import DecisionTreeClassifier\n",
    "from sklearn.ensemble import RandomForestClassifier\n",
    "from sklearn.neighbors import KNeighborsClassifier\n",
    "from sklearn.linear_model import LogisticRegression\n",
    "from sklearn.svm import SVC\n",
    "from sklearn.neural_network import MLPClassifier\n",
    "\n",
    "import pickle\n",
    "with open('credit_base.pkl', 'rb') as f:\n",
    "    X_credit_treinamento, y_credit_treinamento, X_credit_teste, y_credit_teste = pickle.load(f)"
   ]
  },
  {
   "cell_type": "code",
   "execution_count": 2,
   "id": "4e5008bf",
   "metadata": {},
   "outputs": [
    {
     "data": {
      "text/plain": [
       "116"
      ]
     },
     "execution_count": 2,
     "metadata": {},
     "output_type": "execute_result"
    }
   ],
   "source": [
    "acertos = 85\n",
    "erro = 31\n",
    "\n",
    "total = acertos + erro\n",
    "total"
   ]
  },
  {
   "cell_type": "code",
   "execution_count": 3,
   "id": "6bde1e88",
   "metadata": {},
   "outputs": [
    {
     "data": {
      "text/plain": [
       "73.27586206896551"
      ]
     },
     "execution_count": 3,
     "metadata": {},
     "output_type": "execute_result"
    }
   ],
   "source": [
    "# percentual de acerto\n",
    "(acertos/total)*100"
   ]
  },
  {
   "cell_type": "code",
   "execution_count": 4,
   "id": "4cab03e5",
   "metadata": {},
   "outputs": [
    {
     "data": {
      "text/plain": [
       "26.72413793103448"
      ]
     },
     "execution_count": 4,
     "metadata": {},
     "output_type": "execute_result"
    }
   ],
   "source": [
    "# percentual de erro\n",
    "(erro/total)*100"
   ]
  },
  {
   "cell_type": "markdown",
   "id": "577caa17",
   "metadata": {},
   "source": [
    "Obs¹ : A matriz de confusão é gerada baseada nos dados de **Teste**\n",
    "\n",
    "1. Precisamos saber sempre o cenário/contexto que estamos inseridos, para avaliar sobre o percentual de acerto/não acerto. Isso deve ser avaliado para que o percentual de acerto, seja aceitável ou não.\n",
    "2. Precisamos saber também o número de classes que estamos trabalhando.\n",
    "3. Zero R. Baseado em Regras"
   ]
  },
  {
   "cell_type": "code",
   "execution_count": 5,
   "id": "fe96f5c1",
   "metadata": {},
   "outputs": [
    {
     "data": {
      "text/html": [
       "<div>\n",
       "<style scoped>\n",
       "    .dataframe tbody tr th:only-of-type {\n",
       "        vertical-align: middle;\n",
       "    }\n",
       "\n",
       "    .dataframe tbody tr th {\n",
       "        vertical-align: top;\n",
       "    }\n",
       "\n",
       "    .dataframe thead th {\n",
       "        text-align: right;\n",
       "    }\n",
       "</style>\n",
       "<table border=\"1\" class=\"dataframe\">\n",
       "  <thead>\n",
       "    <tr style=\"text-align: right;\">\n",
       "      <th></th>\n",
       "      <th>Doente Positivo</th>\n",
       "      <th>Doente Negativo</th>\n",
       "    </tr>\n",
       "  </thead>\n",
       "  <tbody>\n",
       "    <tr>\n",
       "      <th>Doente Positivo</th>\n",
       "      <td>200</td>\n",
       "      <td>50</td>\n",
       "    </tr>\n",
       "    <tr>\n",
       "      <th>Doente Negativo</th>\n",
       "      <td>50</td>\n",
       "      <td>700</td>\n",
       "    </tr>\n",
       "  </tbody>\n",
       "</table>\n",
       "</div>"
      ],
      "text/plain": [
       "                 Doente Positivo  Doente Negativo\n",
       "Doente Positivo              200               50\n",
       "Doente Negativo               50              700"
      ]
     },
     "execution_count": 5,
     "metadata": {},
     "output_type": "execute_result"
    }
   ],
   "source": [
    "exemplo = {\"Doente Positivo\":[200, 50],\n",
    "          \"Doente Negativo\":[50, 700]}\n",
    "\n",
    "# convertendo o dicionário em um DataFrame do Pandas\n",
    "\n",
    "import pandas as pd\n",
    "df = pd.DataFrame(exemplo, index=[\"Doente Positivo\", \"Doente Negativo\"])\n",
    "df"
   ]
  },
  {
   "cell_type": "markdown",
   "id": "3285ad82",
   "metadata": {},
   "source": [
    "#### Métricas de Availação (_matriz de confusão_)"
   ]
  },
  {
   "cell_type": "code",
   "execution_count": 6,
   "id": "0eed0579",
   "metadata": {},
   "outputs": [
    {
     "data": {
      "text/plain": [
       "1000"
      ]
     },
     "execution_count": 6,
     "metadata": {},
     "output_type": "execute_result"
    }
   ],
   "source": [
    "total_registros = df['Doente Positivo'].sum() + df['Doente Negativo'].sum()\n",
    "total_registros"
   ]
  },
  {
   "cell_type": "code",
   "execution_count": 7,
   "id": "70b887f9",
   "metadata": {},
   "outputs": [
    {
     "data": {
      "text/plain": [
       "(250, 750)"
      ]
     },
     "execution_count": 7,
     "metadata": {},
     "output_type": "execute_result"
    }
   ],
   "source": [
    "# Total de doentes positivos\n",
    "total_doentes_positivos = df['Doente Positivo'].iloc[:].sum()\n",
    "total_positivos_porcentagem = (total_doentes_positivos / total_registros)*100\n",
    "\n",
    "# Total de doentes negativos\n",
    "total_doentes_negativos = df['Doente Negativo'].iloc[:].sum()\n",
    "total_negativos_porcentagem = ( total_doentes_negativos/ total_registros)*100\n",
    "\n",
    "total_doentes_positivos, total_doentes_negativos"
   ]
  },
  {
   "cell_type": "code",
   "execution_count": 8,
   "id": "a738a371",
   "metadata": {},
   "outputs": [
    {
     "data": {
      "text/plain": [
       "(25.0, 75.0)"
      ]
     },
     "execution_count": 8,
     "metadata": {},
     "output_type": "execute_result"
    }
   ],
   "source": [
    "# porcentagem \n",
    "total_positivos_porcentagem, total_negativos_porcentagem"
   ]
  },
  {
   "cell_type": "code",
   "execution_count": 9,
   "id": "c0249091",
   "metadata": {},
   "outputs": [
    {
     "data": {
      "text/plain": [
       "(900, 90.0)"
      ]
     },
     "execution_count": 9,
     "metadata": {},
     "output_type": "execute_result"
    }
   ],
   "source": [
    "# Porcentagem de acerto\n",
    "# esse valor tbm pode ser entendido como o valor da diagonal principal da matriz (DataFrame)\n",
    "\n",
    "             #    200                          700\n",
    "acuracia = df['Doente Positivo'][0] + df['Doente Negativo'][1]\n",
    "\n",
    "acuracia_porcentagem = (acuracia / total_registros) *  100\n",
    "acuracia, acuracia_porcentagem"
   ]
  },
  {
   "cell_type": "code",
   "execution_count": 14,
   "id": "40fbb4fa",
   "metadata": {},
   "outputs": [
    {
     "data": {
      "text/plain": [
       "50"
      ]
     },
     "execution_count": 14,
     "metadata": {},
     "output_type": "execute_result"
    }
   ],
   "source": [
    "df['Doente Negativo'][0]"
   ]
  },
  {
   "cell_type": "markdown",
   "id": "f81b7028",
   "metadata": {},
   "source": [
    "#### Precision and Recall\n",
    "<br />\n",
    "\n",
    "##### Precision\n",
    "* O _precision_ visa responder: Quando o modelo previu SIM, o quanto ele estava certo?\n",
    "\n",
    "\n",
    "$$precision = \\frac{TP}{TP + FP}$$\n",
    "\n",
    "<br />\n",
    "\n",
    "onde TP = \"True Positives\" e FP \"False Positives\"\n",
    "\n",
    "<br />\n",
    "\n",
    "Podemos reescrever essa fórmula utilizando outra notação \n",
    "\n",
    "<br />\n",
    "\n",
    "$$precision = \\frac{TP}{Total Doentes Positivos}$$"
   ]
  },
  {
   "cell_type": "code",
   "execution_count": 12,
   "id": "207b4781",
   "metadata": {},
   "outputs": [
    {
     "data": {
      "text/plain": [
       "80.0"
      ]
     },
     "execution_count": 12,
     "metadata": {},
     "output_type": "execute_result"
    }
   ],
   "source": [
    "precision = (df['Doente Positivo'][0] / total_doentes_positivos) * 100\n",
    "\n",
    "# portanto o modelo está correto em 80% das previsões\n",
    "precision"
   ]
  },
  {
   "cell_type": "markdown",
   "id": "c1d97de9",
   "metadata": {},
   "source": [
    "#### Recall\n",
    "\n",
    "<br />\n",
    "\n",
    "* O _recall_ visa responder: Quando o modelo previu SIM, o quanto o modelo classificou corretamente?\n",
    "\n",
    "$$recall = \\frac{TP}{TP + FN}$$\n"
   ]
  },
  {
   "cell_type": "code",
   "execution_count": 16,
   "id": "1c563347",
   "metadata": {},
   "outputs": [
    {
     "data": {
      "text/plain": [
       "80.0"
      ]
     },
     "execution_count": 16,
     "metadata": {},
     "output_type": "execute_result"
    }
   ],
   "source": [
    "recall = (df['Doente Positivo'][0] / (df['Doente Positivo'][0] + df['Doente Negativo'][0])) * 100\n",
    "\n",
    "# portanto o modelo identifica corretamente 80% dos registros\n",
    "recall"
   ]
  },
  {
   "cell_type": "code",
   "execution_count": null,
   "id": "eecda1fd",
   "metadata": {},
   "outputs": [],
   "source": []
  },
  {
   "cell_type": "code",
   "execution_count": null,
   "id": "e8127e03",
   "metadata": {},
   "outputs": [],
   "source": []
  },
  {
   "cell_type": "code",
   "execution_count": null,
   "id": "02071ef6",
   "metadata": {},
   "outputs": [],
   "source": []
  },
  {
   "cell_type": "code",
   "execution_count": null,
   "id": "f71f857e",
   "metadata": {},
   "outputs": [],
   "source": []
  }
 ],
 "metadata": {
  "kernelspec": {
   "display_name": "Python 3 (ipykernel)",
   "language": "python",
   "name": "python3"
  },
  "language_info": {
   "codemirror_mode": {
    "name": "ipython",
    "version": 3
   },
   "file_extension": ".py",
   "mimetype": "text/x-python",
   "name": "python",
   "nbconvert_exporter": "python",
   "pygments_lexer": "ipython3",
   "version": "3.9.12"
  }
 },
 "nbformat": 4,
 "nbformat_minor": 5
}
