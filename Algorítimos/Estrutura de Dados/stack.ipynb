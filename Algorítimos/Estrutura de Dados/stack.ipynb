{
 "cells": [
  {
   "cell_type": "code",
   "execution_count": 1,
   "metadata": {},
   "outputs": [
    {
     "name": "stdout",
     "output_type": "stream",
     "text": [
      "<__main__.Node object at 0x000002C54C3A6040> <__main__.Node object at 0x000002C54C3A65B0>\n",
      "None\n",
      "5\n",
      "10\n"
     ]
    }
   ],
   "source": [
    "class Node:\n",
    "\n",
    "    def __init__(self, data):\n",
    "        self.data = data\n",
    "        self.next = None\n",
    "\n",
    "n1 = Node(5)\n",
    "n2 = Node(10)\n",
    "    \n",
    "print(n1, n2)\n",
    "print(n1.next)\n",
    "print(n1.data)\n",
    "print(n2.data)"
   ]
  },
  {
   "cell_type": "code",
   "execution_count": null,
   "metadata": {},
   "outputs": [],
   "source": [
    "class Stack:\n",
    "\n",
    "    def __init__(self):\n",
    "        self.top = None\n",
    "        self._size = 0\n",
    "\n",
    "\n",
    "    # inserir\n",
    "    # remover\n",
    "    # observar o topo da pilha\n",
    "\n",
    "    def push(self, elem):\n",
    "        # inserindo um elemento na pilha\n",
    "        node = Node(elem)\n",
    "        node.next = self.top\n",
    "        self.top = node\n",
    "\n",
    "\n",
    "    def pop(self):\n",
    "        # remove o elemento do topo da pilha\n",
    "        pass\n",
    "    \n",
    "    def peek(self):\n",
    "        # retorna o topo da pilha. Sem remover\n",
    "        pass\n",
    "\n",
    "   \n",
    "    def __len__(self):\n",
    "        \"\"\"Retorna o tamanho da lista\"\"\"\n",
    "        return self._size\n",
    "\n",
    "\n",
    "    def __repr__(self):\n",
    "        r = \"\"\n",
    "\n",
    "        pointer = self.head\n",
    "        while(pointer):\n",
    "            r = r + str(pointer.data) + \"->\"\n",
    "            pointer = pointer.next\n",
    "        return r\n",
    "\n",
    "\n",
    "    def __str__(self):\n",
    "        return self.__repr__()"
   ]
  }
 ],
 "metadata": {
  "kernelspec": {
   "display_name": "base",
   "language": "python",
   "name": "python3"
  },
  "language_info": {
   "codemirror_mode": {
    "name": "ipython",
    "version": 3
   },
   "file_extension": ".py",
   "mimetype": "text/x-python",
   "name": "python",
   "nbconvert_exporter": "python",
   "pygments_lexer": "ipython3",
   "version": "3.9.12"
  },
  "orig_nbformat": 4,
  "vscode": {
   "interpreter": {
    "hash": "c8d3184e42d5090dff9a42825f73ee2454fef8c1131708a89f889453d9fc9d30"
   }
  }
 },
 "nbformat": 4,
 "nbformat_minor": 2
}
