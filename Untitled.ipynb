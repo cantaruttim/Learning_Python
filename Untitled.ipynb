{
 "cells": [
  {
   "cell_type": "markdown",
   "id": "aea58190",
   "metadata": {},
   "source": [
    "### Matrizes"
   ]
  },
  {
   "cell_type": "code",
   "execution_count": 1,
   "id": "dce9bef0",
   "metadata": {},
   "outputs": [],
   "source": [
    "import numpy as np"
   ]
  },
  {
   "cell_type": "markdown",
   "id": "0f36fcc2",
   "metadata": {},
   "source": [
    "$$\\begin{bmatrix}\n",
    "    1&2\\\\\n",
    "    3&4\n",
    "\\end{bmatrix}$$"
   ]
  },
  {
   "cell_type": "code",
   "execution_count": 3,
   "id": "7b439d5a",
   "metadata": {},
   "outputs": [
    {
     "data": {
      "text/plain": [
       "matrix([[1, 2],\n",
       "        [3, 4]])"
      ]
     },
     "execution_count": 3,
     "metadata": {},
     "output_type": "execute_result"
    }
   ],
   "source": [
    "a = np.matrix('1 2; 3 4')\n",
    "a"
   ]
  },
  {
   "cell_type": "code",
   "execution_count": 4,
   "id": "33789a03",
   "metadata": {},
   "outputs": [
    {
     "data": {
      "text/plain": [
       "matrix([[1, 2],\n",
       "        [3, 4]])"
      ]
     },
     "execution_count": 4,
     "metadata": {},
     "output_type": "execute_result"
    }
   ],
   "source": [
    "np.matrix([[1, 2], [3, 4]])"
   ]
  },
  {
   "cell_type": "markdown",
   "id": "303f02e7",
   "metadata": {},
   "source": [
    "#### Soma de Matrizes"
   ]
  },
  {
   "cell_type": "code",
   "execution_count": 10,
   "id": "ea0397ae",
   "metadata": {},
   "outputs": [],
   "source": [
    "# soma de matrizes\n",
    "b = np.matrix([[1, 2], [3, 4]]) \n",
    "c = np.matrix([[2, 4], [2, 8]])"
   ]
  },
  {
   "cell_type": "code",
   "execution_count": 12,
   "id": "9b54c677",
   "metadata": {},
   "outputs": [
    {
     "data": {
      "text/plain": [
       "(matrix([[1, 2],\n",
       "         [3, 4]]),\n",
       " matrix([[2, 4],\n",
       "         [2, 8]]))"
      ]
     },
     "execution_count": 12,
     "metadata": {},
     "output_type": "execute_result"
    }
   ],
   "source": [
    "b, c"
   ]
  },
  {
   "cell_type": "code",
   "execution_count": 11,
   "id": "770d1f57",
   "metadata": {},
   "outputs": [
    {
     "data": {
      "text/plain": [
       "matrix([[ 3,  6],\n",
       "        [ 5, 12]])"
      ]
     },
     "execution_count": 11,
     "metadata": {},
     "output_type": "execute_result"
    }
   ],
   "source": [
    "d = b + c\n",
    "d"
   ]
  },
  {
   "cell_type": "markdown",
   "id": "22f7e65d",
   "metadata": {},
   "source": [
    "#### Subtração de Matrizes"
   ]
  },
  {
   "cell_type": "code",
   "execution_count": 20,
   "id": "e4b44d3b",
   "metadata": {},
   "outputs": [],
   "source": [
    "f = np.matrix([2,1,3])\n",
    "g = np.matrix([7,0,-4])\n"
   ]
  },
  {
   "cell_type": "code",
   "execution_count": 21,
   "id": "b31cad51",
   "metadata": {},
   "outputs": [
    {
     "data": {
      "text/plain": [
       "matrix([[-5,  1,  7]])"
      ]
     },
     "execution_count": 21,
     "metadata": {},
     "output_type": "execute_result"
    }
   ],
   "source": [
    "h = f - g\n",
    "h"
   ]
  },
  {
   "cell_type": "markdown",
   "id": "0498a156",
   "metadata": {},
   "source": [
    "#### Matriz Oposta\n",
    "\n",
    "$$f = f^{-}$$"
   ]
  },
  {
   "cell_type": "code",
   "execution_count": 15,
   "id": "a478e810",
   "metadata": {},
   "outputs": [
    {
     "data": {
      "text/plain": [
       "matrix([[-2, -1, -3]])"
      ]
     },
     "execution_count": 15,
     "metadata": {},
     "output_type": "execute_result"
    }
   ],
   "source": [
    "# Matriz Oposta\n",
    "-f"
   ]
  },
  {
   "cell_type": "markdown",
   "id": "d1202a99",
   "metadata": {},
   "source": [
    "#### Matriz Transposta\n",
    "\n",
    "$$g = g^{t} $$"
   ]
  },
  {
   "cell_type": "code",
   "execution_count": 19,
   "id": "99f76292",
   "metadata": {},
   "outputs": [
    {
     "data": {
      "text/plain": [
       "(matrix([[ 7,  0, -4]]),\n",
       " matrix([[ 7],\n",
       "         [ 0],\n",
       "         [-4]]))"
      ]
     },
     "execution_count": 19,
     "metadata": {},
     "output_type": "execute_result"
    }
   ],
   "source": [
    "# matrizes transpostas\n",
    "g, np.matrix.transpose(g)"
   ]
  },
  {
   "cell_type": "markdown",
   "id": "7fa51cfa",
   "metadata": {},
   "source": [
    "#### Multiplicação de Matrizes\n",
    "<br />\n",
    "\n",
    "Obs¹: O número de colunas da primeira, deve ser igual ao número de linhas da segunda"
   ]
  },
  {
   "cell_type": "code",
   "execution_count": 25,
   "id": "f30d773c",
   "metadata": {},
   "outputs": [],
   "source": [
    "x = np.matrix([[2,1],[7,4], [0,-1]])\n",
    "y = np.matrix([[2,4,1,4], [-1,-2,-3,0]])"
   ]
  },
  {
   "cell_type": "code",
   "execution_count": 26,
   "id": "cdc29a4d",
   "metadata": {},
   "outputs": [
    {
     "data": {
      "text/plain": [
       "(matrix([[ 2,  1],\n",
       "         [ 7,  4],\n",
       "         [ 0, -1]]),\n",
       " matrix([[ 2,  4,  1,  4],\n",
       "         [-1, -2, -3,  0]]))"
      ]
     },
     "execution_count": 26,
     "metadata": {},
     "output_type": "execute_result"
    }
   ],
   "source": [
    "x, y"
   ]
  },
  {
   "cell_type": "code",
   "execution_count": 27,
   "id": "64247416",
   "metadata": {},
   "outputs": [
    {
     "data": {
      "text/plain": [
       "matrix([[ 3,  6, -1,  8],\n",
       "        [10, 20, -5, 28],\n",
       "        [ 1,  2,  3,  0]])"
      ]
     },
     "execution_count": 27,
     "metadata": {},
     "output_type": "execute_result"
    }
   ],
   "source": [
    "x * y"
   ]
  },
  {
   "cell_type": "markdown",
   "id": "bf898c30",
   "metadata": {},
   "source": [
    "#### Matriz Inversa\n",
    "\n",
    "$$A * A^{-} = I$$"
   ]
  },
  {
   "cell_type": "code",
   "execution_count": 33,
   "id": "df2d1e45",
   "metadata": {},
   "outputs": [
    {
     "ename": "TypeError",
     "evalue": "__new__() missing 1 required positional argument: 'data'",
     "output_type": "error",
     "traceback": [
      "\u001b[1;31m---------------------------------------------------------------------------\u001b[0m",
      "\u001b[1;31mTypeError\u001b[0m                                 Traceback (most recent call last)",
      "Input \u001b[1;32mIn [33]\u001b[0m, in \u001b[0;36m<cell line: 1>\u001b[1;34m()\u001b[0m\n\u001b[1;32m----> 1\u001b[0m np\u001b[38;5;241m.\u001b[39mmatrix([[\u001b[38;5;241m2\u001b[39m,\u001b[38;5;241m-\u001b[39m\u001b[38;5;241m1\u001b[39m], [\u001b[38;5;241m3\u001b[39m,\u001b[38;5;241m4\u001b[39m]]) \u001b[38;5;241m*\u001b[39m \u001b[43mnp\u001b[49m\u001b[38;5;241;43m.\u001b[39;49m\u001b[43mmatrix\u001b[49m\u001b[43m(\u001b[49m\u001b[43m)\u001b[49m\n",
      "\u001b[1;31mTypeError\u001b[0m: __new__() missing 1 required positional argument: 'data'"
     ]
    }
   ],
   "source": [
    "np.matrix([[2,-1], [3,4]]) * np.matrix([0.36, 0.09], [])"
   ]
  }
 ],
 "metadata": {
  "kernelspec": {
   "display_name": "Python 3 (ipykernel)",
   "language": "python",
   "name": "python3"
  },
  "language_info": {
   "codemirror_mode": {
    "name": "ipython",
    "version": 3
   },
   "file_extension": ".py",
   "mimetype": "text/x-python",
   "name": "python",
   "nbconvert_exporter": "python",
   "pygments_lexer": "ipython3",
   "version": "3.9.12"
  }
 },
 "nbformat": 4,
 "nbformat_minor": 5
}
