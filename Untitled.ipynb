{
 "cells": [
  {
   "cell_type": "markdown",
   "id": "2be24e2b",
   "metadata": {},
   "source": [
    "### Matrizes"
   ]
  },
  {
   "cell_type": "code",
   "execution_count": 1,
   "id": "64fc9ee3",
   "metadata": {},
   "outputs": [],
   "source": [
    "import numpy as np"
   ]
  },
  {
   "cell_type": "markdown",
   "id": "b4dc2172",
   "metadata": {},
   "source": [
    "$$\\begin{bmatrix}\n",
    "    1&2\\\\\n",
    "    3&4\n",
    "\\end{bmatrix}$$"
   ]
  },
  {
   "cell_type": "code",
   "execution_count": 3,
   "id": "1ffc23e7",
   "metadata": {},
   "outputs": [
    {
     "data": {
      "text/plain": [
       "matrix([[1, 2],\n",
       "        [3, 4]])"
      ]
     },
     "execution_count": 3,
     "metadata": {},
     "output_type": "execute_result"
    }
   ],
   "source": [
    "a = np.matrix('1 2; 3 4')\n",
    "a"
   ]
  },
  {
   "cell_type": "code",
   "execution_count": 4,
   "id": "1cc9b924",
   "metadata": {},
   "outputs": [
    {
     "data": {
      "text/plain": [
       "matrix([[1, 2],\n",
       "        [3, 4]])"
      ]
     },
     "execution_count": 4,
     "metadata": {},
     "output_type": "execute_result"
    }
   ],
   "source": [
    "np.matrix([[1, 2], [3, 4]])"
   ]
  },
  {
   "cell_type": "markdown",
   "id": "4c04c5d1",
   "metadata": {},
   "source": [
    "#### Soma de Matrizes"
   ]
  },
  {
   "cell_type": "code",
   "execution_count": 10,
   "id": "2596a732",
   "metadata": {},
   "outputs": [],
   "source": [
    "# soma de matrizes\n",
    "b = np.matrix([[1, 2], [3, 4]]) \n",
    "c = np.matrix([[2, 4], [2, 8]])"
   ]
  },
  {
   "cell_type": "code",
   "execution_count": 12,
   "id": "9cd9219d",
   "metadata": {},
   "outputs": [
    {
     "data": {
      "text/plain": [
       "(matrix([[1, 2],\n",
       "         [3, 4]]),\n",
       " matrix([[2, 4],\n",
       "         [2, 8]]))"
      ]
     },
     "execution_count": 12,
     "metadata": {},
     "output_type": "execute_result"
    }
   ],
   "source": [
    "b, c"
   ]
  },
  {
   "cell_type": "code",
   "execution_count": 11,
   "id": "6fe4893c",
   "metadata": {},
   "outputs": [
    {
     "data": {
      "text/plain": [
       "matrix([[ 3,  6],\n",
       "        [ 5, 12]])"
      ]
     },
     "execution_count": 11,
     "metadata": {},
     "output_type": "execute_result"
    }
   ],
   "source": [
    "d = b + c\n",
    "d"
   ]
  },
  {
   "cell_type": "markdown",
   "id": "7113fdf1",
   "metadata": {},
   "source": [
    "#### Subtração de Matrizes"
   ]
  },
  {
   "cell_type": "code",
   "execution_count": 20,
   "id": "73faf118",
   "metadata": {},
   "outputs": [],
   "source": [
    "f = np.matrix([2,1,3])\n",
    "g = np.matrix([7,0,-4])\n"
   ]
  },
  {
   "cell_type": "code",
   "execution_count": 21,
   "id": "cd294610",
   "metadata": {},
   "outputs": [
    {
     "data": {
      "text/plain": [
       "matrix([[-5,  1,  7]])"
      ]
     },
     "execution_count": 21,
     "metadata": {},
     "output_type": "execute_result"
    }
   ],
   "source": [
    "h = f - g\n",
    "h"
   ]
  },
  {
   "cell_type": "markdown",
   "id": "1e7b8e84",
   "metadata": {},
   "source": [
    "#### Matriz Oposta\n",
    "\n",
    "$$f = f^{-}$$"
   ]
  },
  {
   "cell_type": "code",
   "execution_count": 15,
   "id": "472a5a5d",
   "metadata": {},
   "outputs": [
    {
     "data": {
      "text/plain": [
       "matrix([[-2, -1, -3]])"
      ]
     },
     "execution_count": 15,
     "metadata": {},
     "output_type": "execute_result"
    }
   ],
   "source": [
    "# Matriz Oposta\n",
    "-f"
   ]
  },
  {
   "cell_type": "markdown",
   "id": "b6474f87",
   "metadata": {},
   "source": [
    "#### Matriz Transposta\n",
    "\n",
    "$$g = g^{t} $$"
   ]
  },
  {
   "cell_type": "code",
   "execution_count": 19,
   "id": "60246909",
   "metadata": {},
   "outputs": [
    {
     "data": {
      "text/plain": [
       "(matrix([[ 7,  0, -4]]),\n",
       " matrix([[ 7],\n",
       "         [ 0],\n",
       "         [-4]]))"
      ]
     },
     "execution_count": 19,
     "metadata": {},
     "output_type": "execute_result"
    }
   ],
   "source": [
    "# matrizes transpostas\n",
    "g, np.matrix.transpose(g)"
   ]
  },
  {
   "cell_type": "markdown",
   "id": "65e04d62",
   "metadata": {},
   "source": [
    "#### Multiplicação de Matrizes\n",
    "<br />\n",
    "\n",
    "Obs¹: O número de colunas da primeira, deve ser igual ao número de linhas da segunda"
   ]
  },
  {
   "cell_type": "code",
   "execution_count": 25,
   "id": "927bd3d0",
   "metadata": {},
   "outputs": [],
   "source": [
    "x = np.matrix([[2,1],[7,4], [0,-1]])\n",
    "y = np.matrix([[2,4,1,4], [-1,-2,-3,0]])"
   ]
  },
  {
   "cell_type": "code",
   "execution_count": 26,
   "id": "13526e44",
   "metadata": {},
   "outputs": [
    {
     "data": {
      "text/plain": [
       "(matrix([[ 2,  1],\n",
       "         [ 7,  4],\n",
       "         [ 0, -1]]),\n",
       " matrix([[ 2,  4,  1,  4],\n",
       "         [-1, -2, -3,  0]]))"
      ]
     },
     "execution_count": 26,
     "metadata": {},
     "output_type": "execute_result"
    }
   ],
   "source": [
    "x, y"
   ]
  },
  {
   "cell_type": "code",
   "execution_count": 27,
   "id": "3c99aa6e",
   "metadata": {},
   "outputs": [
    {
     "data": {
      "text/plain": [
       "matrix([[ 3,  6, -1,  8],\n",
       "        [10, 20, -5, 28],\n",
       "        [ 1,  2,  3,  0]])"
      ]
     },
     "execution_count": 27,
     "metadata": {},
     "output_type": "execute_result"
    }
   ],
   "source": [
    "x * y"
   ]
  },
  {
   "cell_type": "markdown",
   "id": "21750b6c",
   "metadata": {},
   "source": [
    "#### Matriz Inversa\n",
    "\n",
    "$$A * A^{-} = I$$"
   ]
  },
  {
   "cell_type": "code",
   "execution_count": 39,
   "id": "81d53799",
   "metadata": {},
   "outputs": [],
   "source": [
    "t = np.matrix([[2,-1], [3,4]]) #* np.matrix([[0.363636, 0.090909], [-0.272727, 0.181818]])"
   ]
  },
  {
   "cell_type": "code",
   "execution_count": 41,
   "id": "7a3e6323",
   "metadata": {},
   "outputs": [
    {
     "data": {
      "text/plain": [
       "matrix([[ 0.36363636,  0.09090909],\n",
       "        [-0.27272727,  0.18181818]])"
      ]
     },
     "execution_count": 41,
     "metadata": {},
     "output_type": "execute_result"
    }
   ],
   "source": [
    "# retorna a matrix inversa \n",
    "np.matrix.getI(t)"
   ]
  },
  {
   "cell_type": "code",
   "execution_count": 44,
   "id": "00ea0192",
   "metadata": {},
   "outputs": [
    {
     "data": {
      "text/plain": [
       "11.000000000000002"
      ]
     },
     "execution_count": 44,
     "metadata": {},
     "output_type": "execute_result"
    }
   ],
   "source": [
    "# calculando o determinante de uma matriz\n",
    "\n",
    "np.linalg.det(t)"
   ]
  },
  {
   "cell_type": "code",
   "execution_count": null,
   "id": "d6a99a28",
   "metadata": {},
   "outputs": [],
   "source": []
  },
  {
   "cell_type": "code",
   "execution_count": null,
   "id": "16441c54",
   "metadata": {},
   "outputs": [],
   "source": []
  }
 ],
 "metadata": {
  "kernelspec": {
   "display_name": "Python 3 (ipykernel)",
   "language": "python",
   "name": "python3"
  },
  "language_info": {
   "codemirror_mode": {
    "name": "ipython",
    "version": 3
   },
   "file_extension": ".py",
   "mimetype": "text/x-python",
   "name": "python",
   "nbconvert_exporter": "python",
   "pygments_lexer": "ipython3",
   "version": "3.9.12"
  }
 },
 "nbformat": 4,
 "nbformat_minor": 5
}
