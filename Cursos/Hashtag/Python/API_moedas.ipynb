{
 "cells": [
  {
   "cell_type": "code",
   "execution_count": 2,
   "metadata": {},
   "outputs": [],
   "source": [
    "import requests\n",
    "import json"
   ]
  },
  {
   "cell_type": "code",
   "execution_count": 3,
   "metadata": {},
   "outputs": [
    {
     "name": "stdout",
     "output_type": "stream",
     "text": [
      "{'USD': {'code': 'USD', 'codein': 'BRL', 'name': 'Dólar Americano/Real Brasileiro', 'high': '5.1868', 'low': '5.1868', 'varBid': '0.0005', 'pctChange': '0.01', 'bid': '5.1863', 'ask': '5.1873', 'timestamp': '1674126697', 'create_date': '2023-01-19 08:11:37'}, 'USDT': {'code': 'USD', 'codein': 'BRLT', 'name': 'Dólar Americano/Real Brasileiro Turismo', 'high': '5.185', 'low': '5.185', 'varBid': '0', 'pctChange': '0', 'bid': '5.03', 'ask': '5.34', 'timestamp': '1674126600', 'create_date': '2023-01-19 08:10:00'}, 'CAD': {'code': 'CAD', 'codein': 'BRL', 'name': 'Dólar Canadense/Real Brasileiro', 'high': '3.8458', 'low': '3.8363', 'varBid': '-0.0008', 'pctChange': '-0.02', 'bid': '3.8414', 'ask': '3.8433', 'timestamp': '1674126677', 'create_date': '2023-01-19 08:11:17'}, 'GBP': {'code': 'GBP', 'codein': 'BRL', 'name': 'Libra Esterlina/Real Brasileiro', 'high': '6.407', 'low': '6.3865', 'varBid': '-0.005', 'pctChange': '-0.08', 'bid': '6.3963', 'ask': '6.3996', 'timestamp': '1674126697', 'create_date': '2023-01-19 08:11:37'}, 'ARS': {'code': 'ARS', 'codein': 'BRL', 'name': 'Peso Argentino/Real Brasileiro', 'high': '0.0284', 'low': '0.0284', 'varBid': '0', 'pctChange': '0', 'bid': '0.0284', 'ask': '0.0284', 'timestamp': '1674126677', 'create_date': '2023-01-19 08:11:17'}, 'BTC': {'code': 'BTC', 'codein': 'BRL', 'name': 'Bitcoin/Real Brasileiro', 'high': '110.328', 'low': '105.808', 'varBid': '-1104', 'pctChange': '-1.01', 'bid': '108.066', 'ask': '108.066', 'timestamp': '1674126690', 'create_date': '2023-01-19 08:11:30'}, 'LTC': {'code': 'LTC', 'codein': 'BRL', 'name': 'Litecoin/Real Brasileiro', 'high': '448.96', 'low': '426.66', 'varBid': '-12.69', 'pctChange': '-2.86', 'bid': '431.35', 'ask': '432.09', 'timestamp': '1674126511', 'create_date': '2023-01-19 08:08:31'}, 'EUR': {'code': 'EUR', 'codein': 'BRL', 'name': 'Euro/Real Brasileiro', 'high': '5.6214', 'low': '5.5924', 'varBid': '0.0176', 'pctChange': '0.32', 'bid': '5.6137', 'ask': '5.6158', 'timestamp': '1674126677', 'create_date': '2023-01-19 08:11:17'}, 'JPY': {'code': 'JPY', 'codein': 'BRL', 'name': 'Iene Japonês/Real Brasileiro', 'high': '0.04059', 'low': '0.04022', 'varBid': '0.0001', 'pctChange': '0.25', 'bid': '0.04033', 'ask': '0.04035', 'timestamp': '1674126700', 'create_date': '2023-01-19 08:11:40'}, 'CHF': {'code': 'CHF', 'codein': 'BRL', 'name': 'Franco Suíço/Real Brasileiro', 'high': '5.6693', 'low': '5.6514', 'varBid': '-0.005', 'pctChange': '-0.09', 'bid': '5.6526', 'ask': '5.6562', 'timestamp': '1674126677', 'create_date': '2023-01-19 08:11:17'}, 'AUD': {'code': 'AUD', 'codein': 'BRL', 'name': 'Dólar Australiano/Real Brasileiro', 'high': '3.604', 'low': '3.5659', 'varBid': '-0.0303', 'pctChange': '-0.84', 'bid': '3.5682', 'ask': '3.5709', 'timestamp': '1674126678', 'create_date': '2023-01-19 08:11:18'}, 'CNY': {'code': 'CNY', 'codein': 'BRL', 'name': 'Yuan Chinês/Real Brasileiro', 'high': '0.7661', 'low': '0.7641', 'varBid': '0.0089', 'pctChange': '1.18', 'bid': '0.7642', 'ask': '0.7643', 'timestamp': '1674126544', 'create_date': '2023-01-19 08:09:04'}, 'ILS': {'code': 'ILS', 'codein': 'BRL', 'name': 'Novo Shekel Israelense/Real Brasileiro', 'high': '1.5338', 'low': '1.524', 'varBid': '0.0147', 'pctChange': '0.97', 'bid': '1.5244', 'ask': '1.5247', 'timestamp': '1674126606', 'create_date': '2023-01-19 08:10:06'}, 'ETH': {'code': 'ETH', 'codein': 'BRL', 'name': 'Ethereum/Real Brasileiro', 'high': '8.172', 'low': '7.75138', 'varBid': '-180.1', 'pctChange': '-2.22', 'bid': '7.9255', 'ask': '7.92668', 'timestamp': '1674126698', 'create_date': '2023-01-19 08:11:38'}, 'XRP': {'code': 'XRP', 'codein': 'BRL', 'name': 'XRP/Real Brasileiro', 'high': '2.03', 'low': '1.9', 'varBid': '0.02', 'pctChange': '1.1', 'bid': '2.01', 'ask': '2.02', 'timestamp': '1674126578', 'create_date': '2023-01-19 08:09:38'}, 'DOGE': {'code': 'DOGE', 'codein': 'BRL', 'name': 'Dogecoin/Real Brasileiro', 'high': '0.452', 'low': '0.413066', 'varBid': '-0.01706099', 'pctChange': '-3.9', 'bid': '0.420941', 'ask': '0.420941', 'timestamp': '1674126697', 'create_date': '2023-01-19 08:11:37'}}\n"
     ]
    }
   ],
   "source": [
    "# puxando uma informações com o .get()\n",
    "cotacoes = requests.get('https://economia.awesomeapi.com.br/json/all')\n",
    "\n",
    "# transformando o request (que volta como um parâmetro json) em um dicionário do python\n",
    "cotacoes_dict = cotacoes.json()\n",
    "print(cotacoes_dict)"
   ]
  },
  {
   "cell_type": "code",
   "execution_count": 4,
   "metadata": {},
   "outputs": [
    {
     "name": "stdout",
     "output_type": "stream",
     "text": [
      "Dólar: 5.1863\n",
      "Euro: 5.6137\n",
      "Bitcoin: 108.066\n"
     ]
    }
   ],
   "source": [
    "print(\"Dólar: {}\".format(cotacoes_dict['USD']['bid']))\n",
    "print(\"Euro: {}\".format(cotacoes_dict['EUR']['bid']))\n",
    "print(\"Bitcoin: {}\".format(cotacoes_dict['BTC']['bid']))"
   ]
  },
  {
   "cell_type": "code",
   "execution_count": 5,
   "metadata": {},
   "outputs": [
    {
     "name": "stdout",
     "output_type": "stream",
     "text": [
      "{'code': 'USD', 'codein': 'BRL', 'name': 'Dólar Americano/Real Brasileiro', 'high': '5.1868', 'low': '5.1868', 'varBid': '0.0005', 'pctChange': '0.01', 'bid': '5.1863', 'ask': '5.1873', 'timestamp': '1674126672', 'create_date': '2023-01-19 08:11:12'}\n"
     ]
    }
   ],
   "source": [
    "# pegando a cotação do Dólar dos últimos 30 dias \n",
    "cotacoes_dias = requests.get('https://economia.awesomeapi.com.br/json/USD-BRL/30')\n",
    "\n",
    "cotacoes_dolar_30d = cotacoes_dias.json()\n",
    "print(cotacoes_dolar_30d[0])"
   ]
  },
  {
   "cell_type": "code",
   "execution_count": 6,
   "metadata": {},
   "outputs": [
    {
     "name": "stdout",
     "output_type": "stream",
     "text": [
      "[5.1863, 5.1863, 5.1863, 5.1863, 5.1863, 5.1863, 5.1863, 5.1863, 5.1863, 5.1863, 5.1863, 5.1863, 5.1863, 5.1863, 5.1863, 5.1863, 5.1863, 5.1863, 5.1863, 5.1863, 5.1863, 5.1863, 5.1863, 5.1863, 5.1863, 5.1863, 5.1863, 5.1863, 5.1863, 5.1863]\n"
     ]
    }
   ],
   "source": [
    "# vamos pegar a informação do bid de cada indice do dicionário\n",
    "# transformando o valor da cotação em float\n",
    "\n",
    "lista_cotacoes_USD = [float(item['bid']) for item in cotacoes_dolar_30d]\n",
    "print(lista_cotacoes_USD)"
   ]
  },
  {
   "cell_type": "code",
   "execution_count": 7,
   "metadata": {},
   "outputs": [],
   "source": [
    "# pegando as cotações de um período específico\n",
    "\n",
    "cotacoes2 = requests.get('https://economia.awesomeapi.com.br/USD-BRL/300?start_date=20210101&end_date=20231001')\n",
    "cotacoes3 = requests.get('https://economia.awesomeapi.com.br/EUR-BRL/300?start_date=20210101&end_date=20231001')\n",
    "cotacoes4 = requests.get('https://economia.awesomeapi.com.br/BTC-BRL/300?start_date=20210101&end_date=20231001')\n",
    "\n",
    "\n",
    "cotacoes_usd_periodo = cotacoes2.json()\n",
    "cotacoes_euro_periodo = cotacoes2.json()\n",
    "cotacoes_btc_periodo = cotacoes2.json()"
   ]
  },
  {
   "cell_type": "code",
   "execution_count": 8,
   "metadata": {},
   "outputs": [],
   "source": [
    "lista_cotacoes_USD = [float(item['bid']) for item in cotacoes_usd_periodo]\n",
    "lista_cotacoes_EUR = [float(item['bid']) for item in cotacoes_euro_periodo]\n",
    "lista_cotacoes_BTC = [float(item['bid']) for item in cotacoes_btc_periodo]"
   ]
  },
  {
   "cell_type": "code",
   "execution_count": 9,
   "metadata": {},
   "outputs": [],
   "source": [
    "# exibindo no gráfico\n",
    "\n",
    "import matplotlib.pyplot as plt\n",
    "\n",
    "lista_cotacoes_USD.reverse()\n",
    "lista_cotacoes_EUR.reverse()\n",
    "lista_cotacoes_BTC.reverse()"
   ]
  },
  {
   "cell_type": "code",
   "execution_count": 16,
   "metadata": {},
   "outputs": [
    {
     "data": {
      "image/png": "[encoded data removed]",
      "text/plain": [
       "<Figure size 1080x720 with 1 Axes>"
      ]
     },
     "metadata": {},
     "output_type": "display_data"
    }
   ],
   "source": [
    "plt.figure(figsize=(15,10))\n",
    "\n",
    "plt.plot(lista_cotacoes_USD)\n",
    "#plt.plot(lista_cotacoes_EUR, label = 'Euro')\n",
    "#plt.plot(lista_cotacoes_BTC, label = 'Bitcoin')\n",
    "\n",
    "plt.show()"
   ]
  },
  {
   "attachments": {},
   "cell_type": "markdown",
   "metadata": {},
   "source": [
    "### Informações Econômicas"
   ]
  },
  {
   "cell_type": "code",
   "execution_count": null,
   "metadata": {},
   "outputs": [],
   "source": []
  },
  {
   "cell_type": "code",
   "execution_count": null,
   "metadata": {},
   "outputs": [],
   "source": []
  },
  {
   "cell_type": "code",
   "execution_count": null,
   "metadata": {},
   "outputs": [],
   "source": []
  },
  {
   "cell_type": "code",
   "execution_count": null,
   "metadata": {},
   "outputs": [],
   "source": []
  },
  {
   "cell_type": "code",
   "execution_count": null,
   "metadata": {},
   "outputs": [],
   "source": []
  }
 ],
 "metadata": {
  "kernelspec": {
   "display_name": "base",
   "language": "python",
   "name": "python3"
  },
  "language_info": {
   "codemirror_mode": {
    "name": "ipython",
    "version": 3
   },
   "file_extension": ".py",
   "mimetype": "text/x-python",
   "name": "python",
   "nbconvert_exporter": "python",
   "pygments_lexer": "ipython3",
   "version": "3.9.12 (main, Apr  4 2022, 05:22:27) [MSC v.1916 64 bit (AMD64)]"
  },
  "orig_nbformat": 4,
  "vscode": {
   "interpreter": {
    "hash": "c8d3184e42d5090dff9a42825f73ee2454fef8c1131708a89f889453d9fc9d30"
   }
  }
 },
 "nbformat": 4,
 "nbformat_minor": 2
}
