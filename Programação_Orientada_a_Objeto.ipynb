{
  "nbformat": 4,
  "nbformat_minor": 0,
  "metadata": {
    "colab": {
      "provenance": [],
      "authorship_tag": "ABX9TyOIZCtWRYBn8ESdf+zsPr4H",
      "include_colab_link": true
    },
    "kernelspec": {
      "name": "python3",
      "display_name": "Python 3"
    },
    "language_info": {
      "name": "python"
    }
  },
  "cells": [
    {
      "cell_type": "markdown",
      "metadata": {
        "id": "view-in-github",
        "colab_type": "text"
      },
      "source": [
        "<a href=\"https://colab.research.google.com/github/cantaruttim/Learning_Python/blob/main/Programa%C3%A7%C3%A3o_Orientada_a_Objeto.ipynb\" target=\"_parent\"><img src=\"https://colab.research.google.com/assets/colab-badge.svg\" alt=\"Open In Colab\"/></a>"
      ]
    },
    {
      "cell_type": "markdown",
      "source": [
        "# Programação Orientada à Objeto no Python\n",
        "\n",
        "- Otimiza a organização dos dados\n",
        "- Melhora como encontrar as informações quando a quantidade de dados aumentar\n",
        "\n",
        "\n",
        "> Existe\t outro\t método,\t o\t \t__new__()\t\t que\t é\t chamado\t antes\t do\t \t __init_() pelo interpretador\tdo\tPython.\tO\tmétodo __new__() é\trealmente\to\tconstrutor\te\té\tquem realmente\tcria uma instância\tde `Classe`. O\t método\t \t__init__() é responsável por inicializar o objeto, tanto é que já recebe\ta\tprópria\tinstância\t(self)\tcriada\tpelo\tconstrutor\tcomo argumento.\tDessa\tmaneira,\tgarantimos\tque toda\tinstância\tde\tuma\t\tConta\t\ttenha\tos\tatributos\tque\tdefinimos."
      ],
      "metadata": {
        "id": "-IP2bb12A77K"
      }
    },
    {
      "cell_type": "code",
      "execution_count": null,
      "metadata": {
        "id": "StZBCdejA4eW"
      },
      "outputs": [],
      "source": [
        "class Conta:\n",
        "  \n",
        "  def __init__(self, numero, titular, saldo, limite=1000.00):\n",
        "    print(f\"Inicializando uma conta para o cliente {titular}\")\n",
        "    self.numero = numero\n",
        "    self.titular = titular\n",
        "    self.saldo = saldo\n",
        "    self.limite = limite\n",
        "\n",
        "  # Métodos/Atributos\n",
        "  def deposita(self, valor):\n",
        "    self.saldo += valor\n",
        "\n",
        "\n",
        "  def saca(self, valor):\n",
        "    if (self.saldo < valor):\n",
        "      return False\n",
        "    else:\n",
        "      self.saldo -= valor\n",
        "      return True\n",
        "\n",
        "  def extrato(self):\n",
        "    print(\"número : {} \\nsaldo: {}\".format(self.numero, self.saldo))\n",
        "\n",
        "  def\ttransfere_para(self,\tdestino,\tvalor):\n",
        "    retirou\t=\tself.saca(valor)\n",
        "    if\t(retirou\t==\tFalse):\n",
        "      return False\n",
        "    else:\n",
        "      destino.deposita(valor)\n",
        "      return True"
      ]
    },
    {
      "cell_type": "code",
      "source": [
        "conta = Conta('123-4', 'João', 120.0)\n",
        "conta2 = Conta('123-5', 'Matheus', 100.0)"
      ],
      "metadata": {
        "colab": {
          "base_uri": "https://localhost:8080/"
        },
        "id": "USrrQ9BqCJMr",
        "outputId": "1eca4674-f36f-45e7-8117-96df207ad4f3"
      },
      "execution_count": null,
      "outputs": [
        {
          "output_type": "stream",
          "name": "stdout",
          "text": [
            "Inicializando uma conta para o cliente João\n",
            "Inicializando uma conta para o cliente Matheus\n"
          ]
        }
      ]
    },
    {
      "cell_type": "code",
      "source": [
        "conta.deposita(50)\n",
        "conta.saldo\n",
        "conta.saca(30)\n",
        "conta.saldo"
      ],
      "metadata": {
        "colab": {
          "base_uri": "https://localhost:8080/"
        },
        "id": "85jaWJovDxUH",
        "outputId": "7b73acb2-2195-4940-8443-f52959b56d2b"
      },
      "execution_count": null,
      "outputs": [
        {
          "output_type": "execute_result",
          "data": {
            "text/plain": [
              "140.0"
            ]
          },
          "metadata": {},
          "execution_count": 21
        }
      ]
    },
    {
      "cell_type": "code",
      "source": [
        "conta.extrato()"
      ],
      "metadata": {
        "colab": {
          "base_uri": "https://localhost:8080/"
        },
        "id": "YoBYGNQsFAGM",
        "outputId": "8193cc93-8b18-4574-d54f-8e61efa2904a"
      },
      "execution_count": null,
      "outputs": [
        {
          "output_type": "stream",
          "name": "stdout",
          "text": [
            "número : 123-4 \n",
            "saldo: 140.0\n"
          ]
        }
      ]
    },
    {
      "cell_type": "markdown",
      "source": [
        "Ao\t criar\t uma\t \tConta\t,\t estamos\t pedindo\t para\t o\t Python\t criar\t uma\t nova\t instância\t de\t \tConta\t\t na memória,ou\t seja,\to\tPython\talocará\tmemória\t suficiente\tpara\tguardar\ttodas\tas\tinformações\tda Conta\tdentro\t da\t memória\t do\t programa.\t O\t \t__new__()\t,\t portanto,\t devolve\t uma\t referência,\t uma\t seta\t que aponta\tpara\to\tobjeto\tem\tmemória\te\té\tguardada\tna\tvariável\tconta.\n",
        "\n",
        "> Como\to\tself\té\ta\treferência\tdo\tobjeto,\tele\tchama\t\t`self.titular`\t\te\t\t`self.saldo`\t\tda\tclasse\t\tConta\t."
      ],
      "metadata": {
        "id": "3MEijg1hMKe8"
      }
    },
    {
      "cell_type": "code",
      "source": [
        "# Para acessar os atributos basta usarmos o '.'\n",
        "\n",
        "conta.titular, conta.saldo"
      ],
      "metadata": {
        "colab": {
          "base_uri": "https://localhost:8080/"
        },
        "id": "WSjEpGuQCJXH",
        "outputId": "18d78bd0-2ba1-4731-d75b-2d2f19a7cb6d"
      },
      "execution_count": null,
      "outputs": [
        {
          "output_type": "execute_result",
          "data": {
            "text/plain": [
              "('João', 1000)"
            ]
          },
          "metadata": {},
          "execution_count": 27
        }
      ]
    },
    {
      "cell_type": "markdown",
      "source": [
        "### Métodos com Retorno"
      ],
      "metadata": {
        "id": "dHIAPQQGFXGD"
      }
    },
    {
      "cell_type": "code",
      "source": [
        "# veremos que seria melhor usar um método Exeption\n",
        "conta.saldo\t=\t1000\n",
        "if(conta.saca(2000)):\n",
        "\tprint(\"consegui\tsacar\")\n",
        "else:\n",
        "\tprint(\"não\tconsegui\tsacar\")"
      ],
      "metadata": {
        "id": "YZazxOuVCJes",
        "colab": {
          "base_uri": "https://localhost:8080/"
        },
        "outputId": "5c126c1b-1718-4b8c-e7e3-40337efa3991"
      },
      "execution_count": null,
      "outputs": [
        {
          "output_type": "stream",
          "name": "stdout",
          "text": [
            "não\tconsegui\tsacar\n"
          ]
        }
      ]
    },
    {
      "cell_type": "code",
      "source": [
        "conta.saldo"
      ],
      "metadata": {
        "id": "kHD_JCaHPE9a",
        "colab": {
          "base_uri": "https://localhost:8080/"
        },
        "outputId": "95b6e4bf-1af2-4a63-d39f-ad432532f663"
      },
      "execution_count": null,
      "outputs": [
        {
          "output_type": "execute_result",
          "data": {
            "text/plain": [
              "1000"
            ]
          },
          "metadata": {},
          "execution_count": 26
        }
      ]
    },
    {
      "cell_type": "markdown",
      "source": [
        "### Métodos são acessados por referência\n",
        "\n",
        "> Quando\t criamos\t uma\t variável\t para\t associar\t a\t um\t objeto,\t na\t verdade,\t essa\t variável\t não\t guarda\t o\n",
        "objeto,\te\tsim\tuma\tmaneira\tde\tacessá-lo,\tchamada\tde\treferência\t(o\tself)."
      ],
      "metadata": {
        "id": "1jEtGQJ-GnTo"
      }
    },
    {
      "cell_type": "code",
      "source": [
        "# Nesse caso o correto dizer é que c1 é um objeto referência da Classe Conta \n",
        "conta2 = conta"
      ],
      "metadata": {
        "id": "yWytSQCDPE_m"
      },
      "execution_count": null,
      "outputs": []
    },
    {
      "cell_type": "code",
      "source": [
        "print(id(conta2))\n",
        "print(id(conta))\n",
        "\n",
        "# ambas as variáveis guardam\tum\tnúmero\tque\tidentifica\tem\tque\tposição\tda\tmemória\taquela Conta\tse\tencontra\n",
        "# Nesse caso apresentam o mesmo id pois se referenciam ao mesmo objeto. São duas referências para o mesmo objeto tipo Conta"
      ],
      "metadata": {
        "id": "VviG4jr0PFBt",
        "colab": {
          "base_uri": "https://localhost:8080/"
        },
        "outputId": "c19f201d-b10c-4301-8e7b-6ecd6e4c64d4"
      },
      "execution_count": null,
      "outputs": [
        {
          "output_type": "stream",
          "name": "stdout",
          "text": [
            "139761363630256\n",
            "139761363630256\n"
          ]
        }
      ]
    },
    {
      "cell_type": "markdown",
      "source": [
        "Outra\t maneira\t de\t notar\t esse\t comportamento\t é\t que\t o\t interpretador\t Python\t chamou\t os\t métodos\n",
        "\t__new__()\t\t e\t \t__init__()\t\t apenas\t uma\t vez\t (na\t linha\t \tconta2\t =\t Conta('123-4',\t 'João',\t 120.0,\n",
        "1000.0)\t),\tentão\tsó\tpode\thaver\tum\tobjeto\t\tConta\t\tna\tmemória.\tCompará-las\tcom\to\toperador\t“==”\tvai\n",
        "nos\tretornar\t\tTrue\t,\tpois\to\tvalor\tque\telas\tcarregam\té\to\tmesmo:"
      ],
      "metadata": {
        "id": "0TBKdg8DI7Sw"
      }
    },
    {
      "cell_type": "code",
      "source": [
        "conta2 == conta"
      ],
      "metadata": {
        "id": "Gr57v_PyPFFN",
        "colab": {
          "base_uri": "https://localhost:8080/"
        },
        "outputId": "3365325c-d745-49db-cf91-109d00cb0f61"
      },
      "execution_count": null,
      "outputs": [
        {
          "output_type": "execute_result",
          "data": {
            "text/plain": [
              "True"
            ]
          },
          "metadata": {},
          "execution_count": 34
        }
      ]
    },
    {
      "cell_type": "markdown",
      "source": [
        "### Método Transfere"
      ],
      "metadata": {
        "id": "9ArZgTK9Jp_z"
      }
    },
    {
      "cell_type": "code",
      "source": [
        "conta.transfere_para(conta2, 100)"
      ],
      "metadata": {
        "colab": {
          "base_uri": "https://localhost:8080/"
        },
        "id": "KIAhKrqnISpg",
        "outputId": "396d44c1-178f-4ee7-94da-f18a9e0c061f"
      },
      "execution_count": null,
      "outputs": [
        {
          "output_type": "execute_result",
          "data": {
            "text/plain": [
              "True"
            ]
          },
          "metadata": {},
          "execution_count": 4
        }
      ]
    },
    {
      "cell_type": "code",
      "source": [
        "conta2.extrato(), conta.extrato()"
      ],
      "metadata": {
        "colab": {
          "base_uri": "https://localhost:8080/"
        },
        "id": "E9efBogNJJmt",
        "outputId": "16288d44-bd5d-4958-8317-9a7425547f01"
      },
      "execution_count": null,
      "outputs": [
        {
          "output_type": "stream",
          "name": "stdout",
          "text": [
            "número : 123-5 \n",
            "saldo: 200.0\n",
            "número : 123-4 \n",
            "saldo: 20.0\n"
          ]
        },
        {
          "output_type": "execute_result",
          "data": {
            "text/plain": [
              "(None, None)"
            ]
          },
          "metadata": {},
          "execution_count": 7
        }
      ]
    },
    {
      "cell_type": "code",
      "source": [
        "# Como determinamos o valor do limite podemos inicializar a conta sem o valor do limite e acessá-lo pelo '.'\n",
        "\n",
        "conta.limite"
      ],
      "metadata": {
        "colab": {
          "base_uri": "https://localhost:8080/"
        },
        "id": "szIuFOyzJJoj",
        "outputId": "e1d1328d-fd35-499d-8fa0-938c171267f4"
      },
      "execution_count": null,
      "outputs": [
        {
          "output_type": "execute_result",
          "data": {
            "text/plain": [
              "1000.0"
            ]
          },
          "metadata": {},
          "execution_count": 11
        }
      ]
    },
    {
      "cell_type": "markdown",
      "source": [
        "## Agregação\n",
        "\n",
        "- Ao começarmos a expandir o número de contas, poderemos ter outros atributos e querermos associar uma conta à um cliente. Com isso precisáriamos de ter uma nova classe"
      ],
      "metadata": {
        "id": "1-k8_hoNOF3N"
      }
    },
    {
      "cell_type": "code",
      "source": [
        "class Cliente:\n",
        "\n",
        "  def __init__(self, nome, sobrenome, cpf):\n",
        "    self.nome = nome\n",
        "    self.sobrenome = sobrenome\n",
        "    self.cpf = cpf\n",
        "\n",
        "class Conta:\n",
        "\n",
        "  def __init__(self, numero, cliente, saldo, limite):\n",
        "    self.numero = numero\n",
        "    self.titular = cliente # vinculamos uma conta a um cliente\n",
        "    self.saldo = saldo\n",
        "    self.limite = limite"
      ],
      "metadata": {
        "id": "dw9-bqpyMowd"
      },
      "execution_count": null,
      "outputs": []
    },
    {
      "cell_type": "code",
      "source": [
        "cliente = Cliente('Lara', 'Croft', '123456')\n",
        "conta_cliente = Conta('123-4', cliente, 120.0, 1000.0)"
      ],
      "metadata": {
        "id": "H6NwnfdUMoyR"
      },
      "execution_count": null,
      "outputs": []
    },
    {
      "cell_type": "markdown",
      "source": [
        "Aqui\taconteceu\tuma\tatribuição,\to\tvalor\tda\tvariável\tcliente é\tcopiado\tpara\to\tatributo\t\ttitular\tdo\tobjeto\tao\tqual\t\tminha_conta\t\tse\trefere.\tEm\toutras\tpalavras,\t\tminha_conta\t\ttem\tuma\treferência\tao mesmo\t\tCliente\t\tque\t\tcliente\t\tse\trefere,\te\tpode\tser\tacessado\tatravés\tde conta_cliente.titular\t."
      ],
      "metadata": {
        "id": "aUEwLTspPhxL"
      }
    },
    {
      "cell_type": "code",
      "source": [
        "print(conta_cliente.titular)"
      ],
      "metadata": {
        "colab": {
          "base_uri": "https://localhost:8080/"
        },
        "id": "PSRPOCn9Mo11",
        "outputId": "adb6430a-d868-4559-a35f-69eea1d818ce"
      },
      "execution_count": null,
      "outputs": [
        {
          "output_type": "stream",
          "name": "stdout",
          "text": [
            "<__main__.Cliente object at 0x7ff5679da130>\n"
          ]
        }
      ]
    },
    {
      "cell_type": "code",
      "source": [
        "# Como o titular a conta é um objeto referência para da classe cliente, podemos navegar por todos qualquer atributo desse cliente\n",
        "# por meio do '.'\n",
        "\n",
        "print(conta_cliente.titular.nome)\n",
        "print(conta_cliente.titular.cpf)"
      ],
      "metadata": {
        "colab": {
          "base_uri": "https://localhost:8080/"
        },
        "id": "DiHR_q78JJr9",
        "outputId": "28f2e656-84dc-4740-e63a-27e25d87d933"
      },
      "execution_count": null,
      "outputs": [
        {
          "output_type": "stream",
          "name": "stdout",
          "text": [
            "Lara\n",
            "123456\n"
          ]
        }
      ]
    },
    {
      "cell_type": "markdown",
      "source": [
        "## Tudo é Objeto\n",
        "\n",
        "Conjunto de classes que operam entre si, delegando responsabilidades para aqueles que mais são responsáveis.\n",
        "\n",
        "### Composição\n",
        "\n",
        "Suponha\t agora\t que\t nossa\t \tConta\t\t possua\t um\t histórico,\t contendo\t a\t data\t de\t abertura\t da\t conta\t e\t suas transações.\tPodemos\tcriar\tuma\tclasse\tpara\trepresentar\to\thistórico,\tcomo\tno\texemplo\tabaixo:"
      ],
      "metadata": {
        "id": "Knvc_JsWQhUC"
      }
    },
    {
      "cell_type": "code",
      "source": [
        "import datetime\n",
        "\n",
        "class Historico:\n",
        "\n",
        "  def __init__(self):\n",
        "    self.data_abertura = datetime.datetime.today()\n",
        "    self.transacoes = []\n",
        "\n",
        "  def imprime(self):\n",
        "    print(\"data\tabertura:\t{}\".format(self.data_abertura))\n",
        "    print(\"transações: \")\n",
        "\n",
        "    for t in self.transacoes:\n",
        "      print(\"-\", t)\n",
        "\n",
        "class Conta:\n",
        "  # modificando a classe conta para que ela tenha um histórico\n",
        "  def\t__init__(self,\tnumero,\tcliente,\tsaldo,\tlimite=1000.0):\n",
        "    self.numero = numero\n",
        "    self.cliente = cliente\n",
        "    self.saldo = saldo\n",
        "    self.limite = limite\n",
        "    self.historico = Historico()\n",
        "\n",
        "    # Métodos/Atributos\n",
        "  def deposita(self, valor):\n",
        "    self.saldo += valor\n",
        "    self.historico.transacoes.append(\"depósito de {}\".format(valor))\n",
        "\n",
        "  def saca(self, valor):\n",
        "    if (self.saldo < valor):\n",
        "      return False\n",
        "    else:\n",
        "      self.saldo -= valor\n",
        "      self.historico.transacoes.append(\"saque de {}\".format(valor))\n",
        "\n",
        "  def extrato(self):\n",
        "    print(\"número : {} \\nsaldo: {}\".format(self.numero, self.saldo))\n",
        "    self.historico.transacoes.append(\"Tirou extrato - saldo de {}\".format(self.valor))\n",
        "\n",
        "  def\ttransfere_para(self,\tdestino,\tvalor):\n",
        "    retirou\t=\tself.saca(valor)\n",
        "    if\t(retirou\t==\tFalse):\n",
        "      return False\n",
        "    else:\n",
        "      destino.deposita(valor)\n",
        "      self.historico.transacoes.append(\"Transferência de {} para conta {}\".format(valor, destino.numero))\n",
        "\n",
        "class Cliente:\n",
        "\n",
        "  def __init__(self, nome, sobrenome, cpf):\n",
        "    self.nome = nome\n",
        "    self.sobrenome = sobrenome\n",
        "    self.cpf = cpf"
      ],
      "metadata": {
        "id": "kf_ZOuEVISsW"
      },
      "execution_count": null,
      "outputs": []
    },
    {
      "cell_type": "code",
      "source": [
        "cliente1\t=\tCliente('João',\t'Oliveira',\t'11111111111-11')\n",
        "cliente2\t=\tCliente('José',\t'Azevedo',\t'222222222-22')"
      ],
      "metadata": {
        "id": "5qjeBq3sQd-X"
      },
      "execution_count": null,
      "outputs": []
    },
    {
      "cell_type": "code",
      "source": [
        "conta1\t=\tConta('123-4',\tcliente1,\t1000.0)\n",
        "conta2\t=\tConta('123-5',\tcliente2,\t1000.0)"
      ],
      "metadata": {
        "id": "b0nh5rSJQeBw"
      },
      "execution_count": null,
      "outputs": []
    },
    {
      "cell_type": "code",
      "source": [
        "conta1.deposita(1500.00)"
      ],
      "metadata": {
        "id": "C5RnbM76QeDs"
      },
      "execution_count": null,
      "outputs": []
    },
    {
      "cell_type": "code",
      "source": [
        "conta1.saca(100.00)"
      ],
      "metadata": {
        "id": "vL0bKRwPQeGw"
      },
      "execution_count": null,
      "outputs": []
    },
    {
      "cell_type": "code",
      "source": [
        "conta1.transfere_para(conta2, 500.00)"
      ],
      "metadata": {
        "id": "qCevdA9EISvB"
      },
      "execution_count": null,
      "outputs": []
    },
    {
      "cell_type": "code",
      "source": [
        "conta1.historico.imprime()"
      ],
      "metadata": {
        "colab": {
          "base_uri": "https://localhost:8080/"
        },
        "id": "VlCprRODISx6",
        "outputId": "8bf52351-6287-457c-9c1b-b8ff383ce6dd"
      },
      "execution_count": null,
      "outputs": [
        {
          "output_type": "stream",
          "name": "stdout",
          "text": [
            "data\tabertura:\t2023-03-20 16:06:29.322341\n",
            "transações: \n",
            "- depósito de 1500.0\n",
            "- saque de 100.0\n",
            "- saque de 500.0\n",
            "- Transferência de 500.0 para conta 123-5\n",
            "- saque de 500.0\n",
            "- Transferência de 500.0 para conta 123-5\n",
            "- saque de 500.0\n",
            "- Transferência de 500.0 para conta 123-5\n"
          ]
        }
      ]
    },
    {
      "cell_type": "code",
      "source": [
        "conta2.historico.imprime()"
      ],
      "metadata": {
        "colab": {
          "base_uri": "https://localhost:8080/"
        },
        "id": "n8QWtQQwIS1R",
        "outputId": "5b1b9c00-3f13-4e3f-d88d-77f92ebdf105"
      },
      "execution_count": null,
      "outputs": [
        {
          "output_type": "stream",
          "name": "stdout",
          "text": [
            "data\tabertura:\t2023-03-20 16:06:29.322495\n",
            "transações: \n",
            "- depósito de 500.0\n",
            "- depósito de 500.0\n",
            "- depósito de 500.0\n"
          ]
        }
      ]
    },
    {
      "cell_type": "markdown",
      "source": [
        "Quando\ta\texistência\t de\t uma\tclasse\t depende\t de\t outra\tclasse,\tcomo\té\ta\t relação\t da\tclasse\tHistórico com\t a\t classe\t Conta,\t dizemos\t que\t a\t classe\t \tHistorico compõe\t a\t classe\t \tConta\t.\t Esta\t associação chamamos\t**Composição**.\n",
        "\n",
        "\n",
        "# Outros métodos de uma classe"
      ],
      "metadata": {
        "id": "Cb-MP_L0ytZj"
      }
    },
    {
      "cell_type": "code",
      "source": [
        "dir(conta1)"
      ],
      "metadata": {
        "colab": {
          "base_uri": "https://localhost:8080/"
        },
        "id": "4vvMm402zyEE",
        "outputId": "864c1a63-e786-424d-a001-8b2ea0acf317"
      },
      "execution_count": null,
      "outputs": [
        {
          "output_type": "execute_result",
          "data": {
            "text/plain": [
              "['__class__',\n",
              " '__delattr__',\n",
              " '__dict__',\n",
              " '__dir__',\n",
              " '__doc__',\n",
              " '__eq__',\n",
              " '__format__',\n",
              " '__ge__',\n",
              " '__getattribute__',\n",
              " '__gt__',\n",
              " '__hash__',\n",
              " '__init__',\n",
              " '__init_subclass__',\n",
              " '__le__',\n",
              " '__lt__',\n",
              " '__module__',\n",
              " '__ne__',\n",
              " '__new__',\n",
              " '__reduce__',\n",
              " '__reduce_ex__',\n",
              " '__repr__',\n",
              " '__setattr__',\n",
              " '__sizeof__',\n",
              " '__str__',\n",
              " '__subclasshook__',\n",
              " '__weakref__',\n",
              " 'cliente',\n",
              " 'deposita',\n",
              " 'extrato',\n",
              " 'historico',\n",
              " 'limite',\n",
              " 'numero',\n",
              " 'saca',\n",
              " 'saldo',\n",
              " 'transfere_para']"
            ]
          },
          "metadata": {},
          "execution_count": 20
        }
      ]
    },
    {
      "cell_type": "code",
      "source": [
        "conta1.__dict__"
      ],
      "metadata": {
        "colab": {
          "base_uri": "https://localhost:8080/"
        },
        "id": "lbiE2viMz0KH",
        "outputId": "2fc63d29-e608-4b1c-85b7-1221340683e3"
      },
      "execution_count": null,
      "outputs": [
        {
          "output_type": "execute_result",
          "data": {
            "text/plain": [
              "{'numero': '123-4',\n",
              " 'cliente': <__main__.Cliente at 0x7fc2b93f3880>,\n",
              " 'saldo': 900.0,\n",
              " 'limite': 1000.0,\n",
              " 'historico': <__main__.Historico at 0x7fc2b93f3af0>}"
            ]
          },
          "metadata": {},
          "execution_count": 24
        }
      ]
    },
    {
      "cell_type": "code",
      "source": [
        "vars(conta1)"
      ],
      "metadata": {
        "colab": {
          "base_uri": "https://localhost:8080/"
        },
        "id": "gj3f8I69z0lG",
        "outputId": "baa36585-047b-4912-9832-841e4cf6804a"
      },
      "execution_count": null,
      "outputs": [
        {
          "output_type": "execute_result",
          "data": {
            "text/plain": [
              "{'numero': '123-4',\n",
              " 'cliente': <__main__.Cliente at 0x7fc2b93f3880>,\n",
              " 'saldo': 900.0,\n",
              " 'limite': 1000.0,\n",
              " 'historico': <__main__.Historico at 0x7fc2b93f3af0>}"
            ]
          },
          "metadata": {},
          "execution_count": 25
        }
      ]
    },
    {
      "cell_type": "markdown",
      "source": [
        "Repare\tque\to\t\t__dict__\t\te\to\t\tvars()\t\tretornam\texatamente\tum\tdicionário\tde\tatributos\tde\tuma\tconta\n",
        "como\t tínhamos\t modelado\t no\t início\t deste\t capítulo.\t _Portanto,\t nossas\t classes\t utilizam\t dicionários\t para\n",
        "armazenar\tinformações\tda\tprópria\tclasse._"
      ],
      "metadata": {
        "id": "e6iMVDO521st"
      }
    },
    {
      "cell_type": "code",
      "source": [
        "# verificando o tipo da variável `conta1`\n",
        "\n",
        "type(conta1)"
      ],
      "metadata": {
        "colab": {
          "base_uri": "https://localhost:8080/"
        },
        "id": "fMXla2k9z0rV",
        "outputId": "91f6802c-da61-4963-f8e8-05ac45d13366"
      },
      "execution_count": null,
      "outputs": [
        {
          "output_type": "execute_result",
          "data": {
            "text/plain": [
              "__main__.Conta"
            ]
          },
          "metadata": {},
          "execution_count": 29
        }
      ]
    },
    {
      "cell_type": "code",
      "source": [
        "type(cliente1)"
      ],
      "metadata": {
        "colab": {
          "base_uri": "https://localhost:8080/"
        },
        "id": "pi_As_IM3afc",
        "outputId": "09ac25d0-477e-4d34-850d-add90b243320"
      },
      "execution_count": null,
      "outputs": [
        {
          "output_type": "execute_result",
          "data": {
            "text/plain": [
              "__main__.Cliente"
            ]
          },
          "metadata": {},
          "execution_count": 30
        }
      ]
    },
    {
      "cell_type": "markdown",
      "source": [
        "# Modificadores de Acesso e Métodos de Classe\n",
        "\n",
        "Em orientação a objetos, é prática quase que obrigatória proteger\tseus\tatributos\tcom\tprivate. Cada classe\té\tresponsável\tpor\tcontrolar\tseus\tatributos,\tportanto\tela deve\tjulgar\tse\taquele\tnovo\tvalor\té\tválido\tou\tnão.\tE esta\tvalidação\tnão\tdeve\tser\tcontrolada\tpor\tquem\testá usando\t a\t classe,\t e\t sim por ela mesma centralizando essa responsabilidade\t e\t facilitando futuras mudanças\tno sistema. No\t Python,inserimos\t dois\t underscores ('__') ao atributo\tpara adicionarmos\testa\tcaracterística."
      ],
      "metadata": {
        "id": "iwZAhzZH38nv"
      }
    },
    {
      "cell_type": "code",
      "source": [
        "class Pessoa:\n",
        "\n",
        "  def __init__(self, idade):\n",
        "    self.__idade = idade"
      ],
      "metadata": {
        "id": "yMXcLkdR4BqN"
      },
      "execution_count": null,
      "outputs": []
    },
    {
      "cell_type": "code",
      "source": [
        "P1 = Pessoa(20)"
      ],
      "metadata": {
        "id": "AdGuS-GG4Bul"
      },
      "execution_count": null,
      "outputs": []
    },
    {
      "cell_type": "code",
      "source": [
        "P1.idade"
      ],
      "metadata": {
        "colab": {
          "base_uri": "https://localhost:8080/",
          "height": 166
        },
        "id": "5o7C6JCF4Bzo",
        "outputId": "4a18098e-0c63-414f-f720-01b22b4f336b"
      },
      "execution_count": null,
      "outputs": [
        {
          "output_type": "error",
          "ename": "AttributeError",
          "evalue": "ignored",
          "traceback": [
            "\u001b[0;31m---------------------------------------------------------------------------\u001b[0m",
            "\u001b[0;31mAttributeError\u001b[0m                            Traceback (most recent call last)",
            "\u001b[0;32m<ipython-input-59-a0bba134f934>\u001b[0m in \u001b[0;36m<module>\u001b[0;34m\u001b[0m\n\u001b[0;32m----> 1\u001b[0;31m \u001b[0mP1\u001b[0m\u001b[0;34m.\u001b[0m\u001b[0midade\u001b[0m\u001b[0;34m\u001b[0m\u001b[0;34m\u001b[0m\u001b[0m\n\u001b[0m",
            "\u001b[0;31mAttributeError\u001b[0m: 'Pessoa' object has no attribute 'idade'"
          ]
        }
      ]
    },
    {
      "cell_type": "code",
      "source": [
        "# para acessar um atributo nesse caso fazemos :\n",
        "\n",
        "P1._Pessoa__idade"
      ],
      "metadata": {
        "colab": {
          "base_uri": "https://localhost:8080/"
        },
        "id": "mNdLG8Nn4B39",
        "outputId": "8485a729-a9f8-45d0-8dbe-a9c8b0b7d9bc"
      },
      "execution_count": null,
      "outputs": [
        {
          "output_type": "execute_result",
          "data": {
            "text/plain": [
              "20"
            ]
          },
          "metadata": {},
          "execution_count": 60
        }
      ]
    },
    {
      "cell_type": "code",
      "source": [
        "dir(P1)"
      ],
      "metadata": {
        "colab": {
          "base_uri": "https://localhost:8080/"
        },
        "id": "Fd-r-tAE4B8a",
        "outputId": "1643dcf2-60f0-4e10-e242-16798c81142d"
      },
      "execution_count": null,
      "outputs": [
        {
          "output_type": "execute_result",
          "data": {
            "text/plain": [
              "['_Pessoa__idade',\n",
              " '__class__',\n",
              " '__delattr__',\n",
              " '__dict__',\n",
              " '__dir__',\n",
              " '__doc__',\n",
              " '__eq__',\n",
              " '__format__',\n",
              " '__ge__',\n",
              " '__getattribute__',\n",
              " '__gt__',\n",
              " '__hash__',\n",
              " '__init__',\n",
              " '__init_subclass__',\n",
              " '__le__',\n",
              " '__lt__',\n",
              " '__module__',\n",
              " '__ne__',\n",
              " '__new__',\n",
              " '__reduce__',\n",
              " '__reduce_ex__',\n",
              " '__repr__',\n",
              " '__setattr__',\n",
              " '__sizeof__',\n",
              " '__str__',\n",
              " '__subclasshook__',\n",
              " '__weakref__']"
            ]
          },
          "metadata": {},
          "execution_count": 52
        }
      ]
    },
    {
      "cell_type": "code",
      "source": [
        "P1.__idade = 25"
      ],
      "metadata": {
        "id": "hqF4_v4x4CAh"
      },
      "execution_count": null,
      "outputs": []
    },
    {
      "cell_type": "code",
      "source": [
        "P1._Pessoa__idade"
      ],
      "metadata": {
        "colab": {
          "base_uri": "https://localhost:8080/"
        },
        "id": "p6bX82Xv4CEg",
        "outputId": "9551e006-7785-4ccd-a2c3-31cd6e3a2f3a"
      },
      "execution_count": null,
      "outputs": [
        {
          "output_type": "execute_result",
          "data": {
            "text/plain": [
              "20"
            ]
          },
          "metadata": {},
          "execution_count": 62
        }
      ]
    },
    {
      "cell_type": "code",
      "source": [
        "# O\tque\taconteceu\taqui\té\tque\to\tPython\tcriou\tum\tnovo\tatributo\t__idade\tpara\to\tobjeto\t\tpessoa\t\tjá\tque é\tuma\tlinguagem\tdinâmica\n",
        "\n",
        "dir(P1)"
      ],
      "metadata": {
        "colab": {
          "base_uri": "https://localhost:8080/"
        },
        "id": "j8omZYCWEH04",
        "outputId": "045a81a0-a583-4257-e827-2648c90357a2"
      },
      "execution_count": null,
      "outputs": [
        {
          "output_type": "execute_result",
          "data": {
            "text/plain": [
              "['_Pessoa__idade',\n",
              " '__class__',\n",
              " '__delattr__',\n",
              " '__dict__',\n",
              " '__dir__',\n",
              " '__doc__',\n",
              " '__eq__',\n",
              " '__format__',\n",
              " '__ge__',\n",
              " '__getattribute__',\n",
              " '__gt__',\n",
              " '__hash__',\n",
              " '__idade',\n",
              " '__init__',\n",
              " '__init_subclass__',\n",
              " '__le__',\n",
              " '__lt__',\n",
              " '__module__',\n",
              " '__ne__',\n",
              " '__new__',\n",
              " '__reduce__',\n",
              " '__reduce_ex__',\n",
              " '__repr__',\n",
              " '__setattr__',\n",
              " '__sizeof__',\n",
              " '__str__',\n",
              " '__subclasshook__',\n",
              " '__weakref__']"
            ]
          },
          "metadata": {},
          "execution_count": 63
        }
      ]
    },
    {
      "cell_type": "code",
      "source": [
        "class Pessoa:\n",
        "\n",
        "  def __init__(self, idade):\n",
        "\n",
        "    # Convenção: Mostra que esse atributo não deve ser acessado diretamente \n",
        "    self.__idade = idade"
      ],
      "metadata": {
        "id": "zdh7MzbBEH54"
      },
      "execution_count": null,
      "outputs": []
    },
    {
      "cell_type": "markdown",
      "source": [
        "Um\tatributo\tcom\tapenas\t um\t underscore\té\tchamado\t de\t protegido,\tmas\t quando\t usado\tsinaliza\t que deve\tser\ttratado\tcomo\tum\tatributo\t**\"privado\"**,\tfazendo\tcom\tque\tacessá-lo\tdiretamente\tpossa\tser\tperigoso"
      ],
      "metadata": {
        "id": "5fQhLss5fTTX"
      }
    },
    {
      "cell_type": "markdown",
      "source": [
        "## Encapsulamento\n",
        "\n",
        "O\tque\tcomeçamos\ta\tver\tnesse\tcapítulo\té\ta\tideia\tde\tencapsular,\tisto\té,\t'esconder'\ttodos\tos\tmembros de\tuma\tclasse\t(como\tvimos\tacima),\talém\tde\tesconder\tcomo\tfuncionam\tas\trotinas\t(no\tcaso\tmétodos) do nosso sistema.\n",
        "\n",
        "Encapsular\té\tfundamental\tpara\tque\tseu\tsistema\tseja\tsuscetível\ta\tmudanças:\tnão\tprecisamos\tmudar uma\t regra\t de\t negócio\t em\t vários\t lugares,\t mas\t sim\t em\t apenas\t um\t único\t lugar,\t já\t que\t essa\t regra\t está encapsulada.\tO\tconjunto\tde\tmétodos\tpúblicos\tde\tuma\tclasse\té\ttambém\tchamado\tde\t**interface\tda\tclasse**, pois\testa\té\ta\túnica\tmaneira\ta\tqual\tvocê\tse\tcomunica\tcom\tobjetos\tdessa\tclasse\n",
        "\n",
        "Sempre\tque\tprecisamos\tarrumar\tuma maneira\t de\t fazer\t alguma\t coisa\t com\t um\t objeto, utilizamos\t métodos!\t Vamos\t então\t criar\t um\t método, digamos pega_saldo(), para\trealizar\tessa\tsimples\ttarefa"
      ],
      "metadata": {
        "id": "Jf4d30lxQz6Y"
      }
    },
    {
      "cell_type": "code",
      "source": [
        "import datetime\n",
        "\n",
        "class Historico:\n",
        "\n",
        "  def __init__(self):\n",
        "    self.data_abertura = datetime.datetime.today()\n",
        "    self.transacoes = []\n",
        "\n",
        "  def imprime(self):\n",
        "    print(\"data\tabertura:\t{}\".format(self.data_abertura))\n",
        "    print(\"transações: \")\n",
        "\n",
        "    for t in self.transacoes:\n",
        "      print(\"-\", t)\n",
        "\n",
        "class Conta:\n",
        "  # modificando a classe conta para que ela tenha um histórico\n",
        "  def\t__init__(self,\tnumero,\tcliente,\tsaldo,\tlimite=1000.0):\n",
        "    self.numero = numero\n",
        "    self.cliente = cliente\n",
        "    self.saldo = saldo\n",
        "    self.limite = limite\n",
        "    self.historico = Historico()\n",
        "\n",
        "    # Métodos/Atributos\n",
        "  def deposita(self, valor):\n",
        "    self.saldo += valor\n",
        "    self.historico.transacoes.append(\"depósito de {}\".format(valor))\n",
        "\n",
        "  def saca(self, valor):\n",
        "    if (self.saldo < valor):\n",
        "      return False\n",
        "    else:\n",
        "      self.saldo -= valor\n",
        "      self.historico.transacoes.append(\"saque de {}\".format(valor))\n",
        "\n",
        "  def extrato(self):\n",
        "    print(\"número : {} \\nsaldo: {}\".format(self.numero, self.saldo))\n",
        "    self.historico.transacoes.append(\"Tirou extrato - saldo de {}\".format(self.valor))\n",
        "\n",
        "  def\ttransfere_para(self,\tdestino,\tvalor):\n",
        "    retirou\t=\tself.saca(valor)\n",
        "    if\t(retirou\t==\tFalse):\n",
        "      return False\n",
        "    else:\n",
        "      destino.deposita(valor)\n",
        "      self.historico.transacoes.append(\"Transferência de {} para conta {}\".format(valor, destino.numero))\n",
        "\n",
        "class Cliente:\n",
        "\n",
        "  def __init__(self, nome, sobrenome, cpf):\n",
        "    self.nome = nome\n",
        "    self.sobrenome = sobrenome\n",
        "    self.cpf = cpf"
      ],
      "metadata": {
        "id": "_cQaqNArQ1ww"
      },
      "execution_count": 1,
      "outputs": []
    },
    {
      "cell_type": "code",
      "source": [],
      "metadata": {
        "id": "MovrFloRQ11b"
      },
      "execution_count": null,
      "outputs": []
    },
    {
      "cell_type": "code",
      "source": [],
      "metadata": {
        "id": "hRs5d2MAQ16a"
      },
      "execution_count": null,
      "outputs": []
    },
    {
      "cell_type": "code",
      "source": [],
      "metadata": {
        "id": "YHwIvuM8Q1-K"
      },
      "execution_count": null,
      "outputs": []
    },
    {
      "cell_type": "code",
      "source": [],
      "metadata": {
        "id": "ORxEvYV5EH-q"
      },
      "execution_count": null,
      "outputs": []
    },
    {
      "cell_type": "code",
      "source": [],
      "metadata": {
        "id": "_vf1sPBSEID4"
      },
      "execution_count": null,
      "outputs": []
    },
    {
      "cell_type": "code",
      "source": [],
      "metadata": {
        "id": "0DFNPSL1z0xa"
      },
      "execution_count": null,
      "outputs": []
    }
  ]
}