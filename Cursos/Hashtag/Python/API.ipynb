{
 "cells": [
  {
   "cell_type": "code",
   "execution_count": 2,
   "metadata": {},
   "outputs": [],
   "source": [
    "import requests\n",
    "import json"
   ]
  },
  {
   "cell_type": "code",
   "execution_count": 3,
   "metadata": {},
   "outputs": [
    {
     "name": "stdout",
     "output_type": "stream",
     "text": [
      "{'USD': {'code': 'USD', 'codein': 'BRL', 'name': 'Dólar Americano/Real Brasileiro', 'high': '5.1007', 'low': '5.1007', 'varBid': '0.0004', 'pctChange': '0.01', 'bid': '5.1003', 'ask': '5.1012', 'timestamp': '1674038917', 'create_date': '2023-01-18 07:48:37'}, 'USDT': {'code': 'USD', 'codein': 'BRLT', 'name': 'Dólar Americano/Real Brasileiro Turismo', 'high': '5.125', 'low': '5.125', 'varBid': '0', 'pctChange': '0', 'bid': '4.97', 'ask': '5.28', 'timestamp': '1674039360', 'create_date': '2023-01-18 07:56:00'}, 'CAD': {'code': 'CAD', 'codein': 'BRL', 'name': 'Dólar Canadense/Real Brasileiro', 'high': '3.8203', 'low': '3.804', 'varBid': '0.0101', 'pctChange': '0.27', 'bid': '3.8182', 'ask': '3.8191', 'timestamp': '1674040222', 'create_date': '2023-01-18 08:10:22'}, 'GBP': {'code': 'GBP', 'codein': 'BRL', 'name': 'Libra Esterlina/Real Brasileiro', 'high': '6.3063', 'low': '6.2515', 'varBid': '0.0335', 'pctChange': '0.53', 'bid': '6.2989', 'ask': '6.3025', 'timestamp': '1674040221', 'create_date': '2023-01-18 08:10:21'}, 'ARS': {'code': 'ARS', 'codein': 'BRL', 'name': 'Peso Argentino/Real Brasileiro', 'high': '0.028', 'low': '0.0279', 'varBid': '0.0001', 'pctChange': '0.18', 'bid': '0.0279', 'ask': '0.028', 'timestamp': '1674040222', 'create_date': '2023-01-18 08:10:22'}, 'BTC': {'code': 'BTC', 'codein': 'BRL', 'name': 'Bitcoin/Real Brasileiro', 'high': '110.81', 'low': '108.609', 'varBid': '-408', 'pctChange': '-0.37', 'bid': '109.014', 'ask': '109.084', 'timestamp': '1674040223', 'create_date': '2023-01-18 08:10:23'}, 'LTC': {'code': 'LTC', 'codein': 'BRL', 'name': 'Litecoin/Real Brasileiro', 'high': '457.9', 'low': '440.42', 'varBid': '-1.32', 'pctChange': '-0.3', 'bid': '442.64', 'ask': '443.89', 'timestamp': '1674040171', 'create_date': '2023-01-18 08:09:31'}, 'EUR': {'code': 'EUR', 'codein': 'BRL', 'name': 'Euro/Real Brasileiro', 'high': '5.545', 'low': '5.4917', 'varBid': '0.0311', 'pctChange': '0.57', 'bid': '5.5318', 'ask': '5.5348', 'timestamp': '1674040222', 'create_date': '2023-01-18 08:10:22'}, 'JPY': {'code': 'JPY', 'codein': 'BRL', 'name': 'Iene Japonês/Real Brasileiro', 'high': '0.03981', 'low': '0.03879', 'varBid': '-0.0003', 'pctChange': '-0.75', 'bid': '0.03947', 'ask': '0.03949', 'timestamp': '1674040225', 'create_date': '2023-01-18 08:10:25'}, 'CHF': {'code': 'CHF', 'codein': 'BRL', 'name': 'Franco Suíço/Real Brasileiro', 'high': '5.589', 'low': '5.5167', 'varBid': '0.0577', 'pctChange': '1.04', 'bid': '5.5863', 'ask': '5.5879', 'timestamp': '1674040222', 'create_date': '2023-01-18 08:10:22'}, 'AUD': {'code': 'AUD', 'codein': 'BRL', 'name': 'Dólar Australiano/Real Brasileiro', 'high': '3.5891', 'low': '3.5573', 'varBid': '0.0199', 'pctChange': '0.56', 'bid': '3.5819', 'ask': '3.5851', 'timestamp': '1674040222', 'create_date': '2023-01-18 08:10:22'}, 'CNY': {'code': 'CNY', 'codein': 'BRL', 'name': 'Yuan Chinês/Real Brasileiro', 'high': '0.7555', 'low': '0.7515', 'varBid': '-0.0036', 'pctChange': '-0.47', 'bid': '0.7554', 'ask': '0.7555', 'timestamp': '1674040205', 'create_date': '2023-01-18 08:10:05'}, 'ILS': {'code': 'ILS', 'codein': 'BRL', 'name': 'Novo Shekel Israelense/Real Brasileiro', 'high': '1.5113', 'low': '1.4979', 'varBid': '0.005', 'pctChange': '0.33', 'bid': '1.5105', 'ask': '1.5108', 'timestamp': '1674040208', 'create_date': '2023-01-18 08:10:08'}, 'ETH': {'code': 'ETH', 'codein': 'BRL', 'name': 'Ethereum/Real Brasileiro', 'high': '8.26933', 'low': '8.0609', 'varBid': '14.35', 'pctChange': '0.18', 'bid': '8.09932', 'ask': '8.10575', 'timestamp': '1674040224', 'create_date': '2023-01-18 08:10:24'}, 'XRP': {'code': 'XRP', 'codein': 'BRL', 'name': 'XRP/Real Brasileiro', 'high': '2.05', 'low': '1.98', 'varBid': '-0.01', 'pctChange': '-0.45', 'bid': '2', 'ask': '2', 'timestamp': '1674040189', 'create_date': '2023-01-18 08:09:49'}, 'DOGE': {'code': 'DOGE', 'codein': 'BRL', 'name': 'Dogecoin/Real Brasileiro', 'high': '0.454351', 'low': '0.423035', 'varBid': '0.00653101', 'pctChange': '1.51', 'bid': '0.438911', 'ask': '0.438911', 'timestamp': '1674040223', 'create_date': '2023-01-18 08:10:23'}}\n"
     ]
    }
   ],
   "source": [
    "# puxando uma informações com o .get()\n",
    "cotacoes = requests.get('https://economia.awesomeapi.com.br/json/all')\n",
    "\n",
    "# transformando o request (que volta como um parâmetro json) em um dicionário do python\n",
    "cotacoes_dict = cotacoes.json()\n",
    "print(cotacoes_dict)"
   ]
  },
  {
   "cell_type": "code",
   "execution_count": 17,
   "metadata": {},
   "outputs": [
    {
     "name": "stdout",
     "output_type": "stream",
     "text": [
      "Dólar: 5.1003\n",
      "Euro: 5.5318\n",
      "Bitcoin: 109.014\n"
     ]
    }
   ],
   "source": [
    "print(\"Dólar: {}\".format(cotacoes_dict['USD']['bid']))\n",
    "print(\"Euro: {}\".format(cotacoes_dict['EUR']['bid']))\n",
    "print(\"Bitcoin: {}\".format(cotacoes_dict['BTC']['bid']))"
   ]
  },
  {
   "cell_type": "code",
   "execution_count": 22,
   "metadata": {},
   "outputs": [
    {
     "name": "stdout",
     "output_type": "stream",
     "text": [
      "{'code': 'USD', 'codein': 'BRL', 'name': 'Dólar Americano/Real Brasileiro', 'high': '5.1007', 'low': '5.1007', 'varBid': '0.0004', 'pctChange': '0.01', 'bid': '5.1003', 'ask': '5.1012', 'timestamp': '1674039462', 'create_date': '2023-01-18 07:57:42'}\n"
     ]
    }
   ],
   "source": [
    "# pegando a cotação do Dólar dos últimos 30 dias \n",
    "cotacoes_dias = requests.get('https://economia.awesomeapi.com.br/json/USD-BRL/30')\n",
    "\n",
    "cotacoes_dolar_30d = cotacoes_dias.json()\n",
    "print(cotacoes_dolar_30d[0])"
   ]
  },
  {
   "cell_type": "code",
   "execution_count": 30,
   "metadata": {},
   "outputs": [
    {
     "name": "stdout",
     "output_type": "stream",
     "text": [
      "[5.1003, 5.1003, 5.1003, 5.1003, 5.1003, 5.1003, 5.1003, 5.1003, 5.1003, 5.1003, 5.1003, 5.1003, 5.1003, 5.1003, 5.1003, 5.1003, 5.1003, 5.1003, 5.1003, 5.1003, 5.1003, 5.1003, 5.1003, 5.1003, 5.1003, 5.1003, 5.1003, 5.1003, 5.1003, 5.1003]\n"
     ]
    }
   ],
   "source": [
    "# vamos pegar a informação do bid de cada indice do dicionário\n",
    "# transformando o valor da cotação em float\n",
    "\n",
    "lista_cotacoes_USD = [float(item['bid']) for item in cotacoes_dolar_30d]\n",
    "print(lista_cotacoes_USD)"
   ]
  },
  {
   "cell_type": "code",
   "execution_count": null,
   "metadata": {},
   "outputs": [],
   "source": []
  },
  {
   "cell_type": "code",
   "execution_count": null,
   "metadata": {},
   "outputs": [],
   "source": []
  },
  {
   "cell_type": "code",
   "execution_count": null,
   "metadata": {},
   "outputs": [],
   "source": []
  },
  {
   "cell_type": "code",
   "execution_count": null,
   "metadata": {},
   "outputs": [],
   "source": []
  }
 ],
 "metadata": {
  "kernelspec": {
   "display_name": "base",
   "language": "python",
   "name": "python3"
  },
  "language_info": {
   "codemirror_mode": {
    "name": "ipython",
    "version": 3
   },
   "file_extension": ".py",
   "mimetype": "text/x-python",
   "name": "python",
   "nbconvert_exporter": "python",
   "pygments_lexer": "ipython3",
   "version": "3.9.12"
  },
  "orig_nbformat": 4,
  "vscode": {
   "interpreter": {
    "hash": "c8d3184e42d5090dff9a42825f73ee2454fef8c1131708a89f889453d9fc9d30"
   }
  }
 },
 "nbformat": 4,
 "nbformat_minor": 2
}
