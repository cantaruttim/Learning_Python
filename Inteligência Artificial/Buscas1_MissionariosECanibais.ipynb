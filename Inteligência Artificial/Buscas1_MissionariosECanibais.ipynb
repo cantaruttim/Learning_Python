{
  "nbformat": 4,
  "nbformat_minor": 0,
  "metadata": {
    "colab": {
      "name": "Buscas1_MissionariosECanibais.ipynb",
      "provenance": []
    },
    "kernelspec": {
      "name": "python3",
      "display_name": "Python 3"
    },
    "language_info": {
      "name": "python"
    }
  },
  "cells": [
    {
      "cell_type": "markdown",
      "metadata": {
        "id": "Q74pMtGyTdSJ"
      },
      "source": [
        "# **Implementação do Problema dos missionários e canibais**"
      ]
    },
    {
      "cell_type": "markdown",
      "source": [
        "Este quebra-cabeça pode ser jogado [aqui](https://rachacuca.com.br/jogos/missionarios-e-canibais/)."
      ],
      "metadata": {
        "id": "D5WHW1Ll1K8Q"
      }
    },
    {
      "cell_type": "code",
      "metadata": {
        "id": "U_CtSn_v0aZi"
      },
      "source": [
        "class No:\n",
        "  def __init__(self, estado, pai, nivel, acaoGeradora):  \n",
        "    self.estado = estado\n",
        "    self.pai = pai\n",
        "    self.nivel = nivel\n",
        "    self.acaoGeradora = acaoGeradora\n",
        "\n",
        "  def __chequeValidade(self):\n",
        "    ms,cs,mn,cn,barco = self.estado\n",
        "    if ms>=0 and ms<=3 and\\\n",
        "      cs>=0 and cs<=3 and\\\n",
        "      mn>=0 and mn<=3 and\\\n",
        "      cn>=0 and cn<=3 and\\\n",
        "      ms+mn==3 and cs+cn==3 and\\\n",
        "      (ms>=cs or ms==0) and (mn>=cn or mn==0): return True\n",
        "    else: return False\n",
        "\n",
        "  def __ciclo(self):\n",
        "    aux = self.pai\n",
        "    while aux != None:\n",
        "      if aux.estado == self.estado:\n",
        "        return True\n",
        "      else: aux = aux.pai\n",
        "    return False\n",
        "\n",
        "  def gereSucessores(self, detectaCiclo = True):\n",
        "    ms,cs,mn,cn,barco = self.estado\n",
        "    sucessores=[]\n",
        "    possiveis=[]\n",
        "    if barco=='S':  # barco está na margem sul ('S')\n",
        "      possiveis.append( No((ms-2,cs,mn+2,cn,'N'), self, self.nivel+1, '2m') )  # envio 2 missionários\n",
        "      possiveis.append( No((ms,cs-2,mn,cn+2,'N'), self, self.nivel+1, '2c') )  # envio 2 canibais\n",
        "      possiveis.append( No((ms-1,cs-1,mn+1,cn+1,'N'), self, self.nivel+1, '1m1c') )  # envio 1 canibal e 1 missionário\n",
        "      possiveis.append( No((ms-1,cs,mn+1,cn,'N'), self, self.nivel+1, '1m') )  # envio 1 missionário apenas\n",
        "      possiveis.append( No((ms,cs-1,mn,cn+1,'N'), self, self.nivel+1, '1c') )  # envio 1 canibal apenas\n",
        "    else:  # barco está na margem norte ('N')\n",
        "      possiveis.append( No((ms+2,cs,mn-2,cn,'S'), self, self.nivel+1, '2m') )  # envio 2 missionários\n",
        "      possiveis.append( No((ms,cs+2,mn,cn-2,'S'), self, self.nivel+1, '2c') )  # envio 2 canibais\n",
        "      possiveis.append( No((ms+1,cs+1,mn-1,cn-1,'S'), self, self.nivel+1, '1m1c') )  # envio 1 canibal e 1 missionário\n",
        "      possiveis.append( No((ms+1,cs,mn-1,cn,'S'), self, self.nivel+1, '1m') )  # envio 1 missionário apenas\n",
        "      possiveis.append( No((ms,cs+1,mn,cn-1,'S'), self, self.nivel+1, '1c') )  # envio 1 canibal apenas\n",
        "    \n",
        "    for e in possiveis:\n",
        "      if e.__chequeValidade():\n",
        "        if detectaCiclo:\n",
        "          if not e.__ciclo():\n",
        "            sucessores.append(e)\n",
        "        else:\n",
        "          sucessores.append(e)\n",
        "    return sucessores\n",
        "\n",
        "  def label(self):\n",
        "    return str(self.estado)"
      ],
      "execution_count": null,
      "outputs": []
    },
    {
      "cell_type": "markdown",
      "metadata": {
        "id": "1EfeyTsA1ThE"
      },
      "source": [
        "**Busca em Largura**"
      ]
    },
    {
      "cell_type": "code",
      "metadata": {
        "id": "EipHJ7GP0clE"
      },
      "source": [
        "from graphviz import Digraph\n",
        "# Create Digraph object\n",
        "dot = Digraph()\n",
        "\n",
        "def buscaLargura(estadoInicial, estadoObjetivo):\n",
        "  global dot\n",
        "\n",
        "  fila = [ No(estado=estadoInicial, pai=None, nivel=0, acaoGeradora=None) ]\n",
        "\n",
        "  while len(fila) > 0:\n",
        "    no = fila.pop(0)  # retiro o primeiro da fila\n",
        "    if(no.pai != None):\n",
        "      dot.node(str(no.pai), no.pai.label())\n",
        "      dot.node(str(no), no.label())\n",
        "      dot.edge(str(no.pai), str(no), no.acaoGeradora)\n",
        "      print('De:\\n', no.pai.label(), '\\nPara:\\n', no.label(), '  -> Ação: ', no.acaoGeradora, '\\n', sep='')\n",
        "    if no.estado == estadoObjetivo:  # teste de objetivo\n",
        "      print('Achei a solução!!')\n",
        "      dot.node(str(no), no.label(), style='filled',fillcolor='yellow')\n",
        "      print('Caminho com', len(caminho(no))-1, 'passos')\n",
        "      break\n",
        "    else:\n",
        "      sucessores = no.gereSucessores(detectaCiclo=True)\n",
        "      fila.extend(sucessores)  # coloco os sucessores no fim da fila\n",
        "\n",
        "def caminho(no):\n",
        "  resp = []\n",
        "  while no != None:\n",
        "    resp.append(no.label())\n",
        "    no = no.pai  # suba na árvore em direção ao no inicial\n",
        "  resp.reverse()  # quero o caminho do início para o fim\n",
        "  return resp"
      ],
      "execution_count": null,
      "outputs": []
    },
    {
      "cell_type": "code",
      "metadata": {
        "colab": {
          "base_uri": "https://localhost:8080/"
        },
        "id": "wXJcxuC40m3l",
        "outputId": "3d979bcb-2b69-4e32-a163-3d0e2a022c77"
      },
      "source": [
        "estadoInicial = (3,3,0,0,'S')\n",
        "estadoObjetivo = (0,0,3,3,'N')\n",
        "buscaLargura(estadoInicial, estadoObjetivo)"
      ],
      "execution_count": null,
      "outputs": [
        {
          "output_type": "stream",
          "name": "stdout",
          "text": [
            "De:\n",
            "(3, 3, 0, 0, 'S')\n",
            "Para:\n",
            "(3, 1, 0, 2, 'N')  -> Ação: 2c\n",
            "\n",
            "De:\n",
            "(3, 3, 0, 0, 'S')\n",
            "Para:\n",
            "(2, 2, 1, 1, 'N')  -> Ação: 1m1c\n",
            "\n",
            "De:\n",
            "(3, 3, 0, 0, 'S')\n",
            "Para:\n",
            "(3, 2, 0, 1, 'N')  -> Ação: 1c\n",
            "\n",
            "De:\n",
            "(3, 1, 0, 2, 'N')\n",
            "Para:\n",
            "(3, 2, 0, 1, 'S')  -> Ação: 1c\n",
            "\n",
            "De:\n",
            "(2, 2, 1, 1, 'N')\n",
            "Para:\n",
            "(3, 2, 0, 1, 'S')  -> Ação: 1m\n",
            "\n",
            "De:\n",
            "(3, 2, 0, 1, 'S')\n",
            "Para:\n",
            "(3, 0, 0, 3, 'N')  -> Ação: 2c\n",
            "\n",
            "De:\n",
            "(3, 2, 0, 1, 'S')\n",
            "Para:\n",
            "(2, 2, 1, 1, 'N')  -> Ação: 1m\n",
            "\n",
            "De:\n",
            "(3, 2, 0, 1, 'S')\n",
            "Para:\n",
            "(3, 0, 0, 3, 'N')  -> Ação: 2c\n",
            "\n",
            "De:\n",
            "(3, 2, 0, 1, 'S')\n",
            "Para:\n",
            "(3, 1, 0, 2, 'N')  -> Ação: 1c\n",
            "\n",
            "De:\n",
            "(3, 0, 0, 3, 'N')\n",
            "Para:\n",
            "(3, 1, 0, 2, 'S')  -> Ação: 1c\n",
            "\n",
            "De:\n",
            "(3, 0, 0, 3, 'N')\n",
            "Para:\n",
            "(3, 1, 0, 2, 'S')  -> Ação: 1c\n",
            "\n",
            "De:\n",
            "(3, 1, 0, 2, 'S')\n",
            "Para:\n",
            "(1, 1, 2, 2, 'N')  -> Ação: 2m\n",
            "\n",
            "De:\n",
            "(3, 1, 0, 2, 'S')\n",
            "Para:\n",
            "(1, 1, 2, 2, 'N')  -> Ação: 2m\n",
            "\n",
            "De:\n",
            "(1, 1, 2, 2, 'N')\n",
            "Para:\n",
            "(2, 2, 1, 1, 'S')  -> Ação: 1m1c\n",
            "\n",
            "De:\n",
            "(1, 1, 2, 2, 'N')\n",
            "Para:\n",
            "(2, 2, 1, 1, 'S')  -> Ação: 1m1c\n",
            "\n",
            "De:\n",
            "(2, 2, 1, 1, 'S')\n",
            "Para:\n",
            "(0, 2, 3, 1, 'N')  -> Ação: 2m\n",
            "\n",
            "De:\n",
            "(2, 2, 1, 1, 'S')\n",
            "Para:\n",
            "(0, 2, 3, 1, 'N')  -> Ação: 2m\n",
            "\n",
            "De:\n",
            "(0, 2, 3, 1, 'N')\n",
            "Para:\n",
            "(0, 3, 3, 0, 'S')  -> Ação: 1c\n",
            "\n",
            "De:\n",
            "(0, 2, 3, 1, 'N')\n",
            "Para:\n",
            "(0, 3, 3, 0, 'S')  -> Ação: 1c\n",
            "\n",
            "De:\n",
            "(0, 3, 3, 0, 'S')\n",
            "Para:\n",
            "(0, 1, 3, 2, 'N')  -> Ação: 2c\n",
            "\n",
            "De:\n",
            "(0, 3, 3, 0, 'S')\n",
            "Para:\n",
            "(0, 1, 3, 2, 'N')  -> Ação: 2c\n",
            "\n",
            "De:\n",
            "(0, 1, 3, 2, 'N')\n",
            "Para:\n",
            "(1, 1, 2, 2, 'S')  -> Ação: 1m\n",
            "\n",
            "De:\n",
            "(0, 1, 3, 2, 'N')\n",
            "Para:\n",
            "(0, 2, 3, 1, 'S')  -> Ação: 1c\n",
            "\n",
            "De:\n",
            "(0, 1, 3, 2, 'N')\n",
            "Para:\n",
            "(1, 1, 2, 2, 'S')  -> Ação: 1m\n",
            "\n",
            "De:\n",
            "(0, 1, 3, 2, 'N')\n",
            "Para:\n",
            "(0, 2, 3, 1, 'S')  -> Ação: 1c\n",
            "\n",
            "De:\n",
            "(1, 1, 2, 2, 'S')\n",
            "Para:\n",
            "(0, 0, 3, 3, 'N')  -> Ação: 1m1c\n",
            "\n",
            "Achei a solução!!\n",
            "Caminho com 11 passos\n"
          ]
        }
      ]
    },
    {
      "cell_type": "code",
      "metadata": {
        "colab": {
          "base_uri": "https://localhost:8080/",
          "height": 1000
        },
        "id": "jk0cxAgT0yal",
        "outputId": "1fa81544-693a-4974-f2ce-d23ca8ff42f6"
      },
      "source": [
        "dot"
      ],
      "execution_count": null,
      "outputs": [
        {
          "output_type": "execute_result",
          "data": {
            "text/plain": [
              "<graphviz.dot.Digraph at 0x7f7d20b1e350>"
            ],
            "image/svg+xml": "<?xml version=\"1.0\" encoding=\"UTF-8\" standalone=\"no\"?>\n<!DOCTYPE svg PUBLIC \"-//W3C//DTD SVG 1.1//EN\"\n \"http://www.w3.org/Graphics/SVG/1.1/DTD/svg11.dtd\">\n<!-- Generated by graphviz version 2.40.1 (20161225.0304)\n -->\n<!-- Title: %3 Pages: 1 -->\n<svg width=\"727pt\" height=\"1001pt\"\n viewBox=\"0.00 0.00 727.29 1001.00\" xmlns=\"http://www.w3.org/2000/svg\" xmlns:xlink=\"http://www.w3.org/1999/xlink\">\n<g id=\"graph0\" class=\"graph\" transform=\"scale(1 1) rotate(0) translate(4 997)\">\n<title>%3</title>\n<polygon fill=\"#ffffff\" stroke=\"transparent\" points=\"-4,4 -4,-997 723.2884,-997 723.2884,4 -4,4\"/>\n<!-- __main__.No object at 0x7f7d20b6fc90 -->\n<g id=\"node1\" class=\"node\">\n<title>__main__.No object at 0x7f7d20b6fc90</title>\n<ellipse fill=\"none\" stroke=\"#000000\" cx=\"504.6442\" cy=\"-975\" rx=\"63.8893\" ry=\"18\"/>\n<text text-anchor=\"middle\" x=\"504.6442\" y=\"-971.3\" font-family=\"Times,serif\" font-size=\"14.00\" fill=\"#000000\">(3, 3, 0, 0, &#39;S&#39;)</text>\n</g>\n<!-- __main__.No object at 0x7f7d20b6f510 -->\n<g id=\"node2\" class=\"node\">\n<title>__main__.No object at 0x7f7d20b6f510</title>\n<ellipse fill=\"none\" stroke=\"#000000\" cx=\"355.6442\" cy=\"-888\" rx=\"65.7887\" ry=\"18\"/>\n<text text-anchor=\"middle\" x=\"355.6442\" y=\"-884.3\" font-family=\"Times,serif\" font-size=\"14.00\" fill=\"#000000\">(3, 1, 0, 2, &#39;N&#39;)</text>\n</g>\n<!-- __main__.No object at 0x7f7d20b6fc90&#45;&gt;__main__.No object at 0x7f7d20b6f510 -->\n<g id=\"edge1\" class=\"edge\">\n<title>__main__.No object at 0x7f7d20b6fc90&#45;&gt;__main__.No object at 0x7f7d20b6f510</title>\n<path fill=\"none\" stroke=\"#000000\" d=\"M476.6184,-958.636C452.8646,-944.7663 418.6156,-924.7685 392.618,-909.5887\"/>\n<polygon fill=\"#000000\" stroke=\"#000000\" points=\"394.1977,-906.4582 383.7972,-904.4383 390.668,-912.5032 394.1977,-906.4582\"/>\n<text text-anchor=\"middle\" x=\"446.6442\" y=\"-927.8\" font-family=\"Times,serif\" font-size=\"14.00\" fill=\"#000000\">2c</text>\n</g>\n<!-- __main__.No object at 0x7f7d20b6f4d0 -->\n<g id=\"node3\" class=\"node\">\n<title>__main__.No object at 0x7f7d20b6f4d0</title>\n<ellipse fill=\"none\" stroke=\"#000000\" cx=\"504.6442\" cy=\"-888\" rx=\"65.7887\" ry=\"18\"/>\n<text text-anchor=\"middle\" x=\"504.6442\" y=\"-884.3\" font-family=\"Times,serif\" font-size=\"14.00\" fill=\"#000000\">(2, 2, 1, 1, &#39;N&#39;)</text>\n</g>\n<!-- __main__.No object at 0x7f7d20b6fc90&#45;&gt;__main__.No object at 0x7f7d20b6f4d0 -->\n<g id=\"edge2\" class=\"edge\">\n<title>__main__.No object at 0x7f7d20b6fc90&#45;&gt;__main__.No object at 0x7f7d20b6f4d0</title>\n<path fill=\"none\" stroke=\"#000000\" d=\"M504.6442,-956.9735C504.6442,-945.1918 504.6442,-929.5607 504.6442,-916.1581\"/>\n<polygon fill=\"#000000\" stroke=\"#000000\" points=\"508.1443,-916.0033 504.6442,-906.0034 501.1443,-916.0034 508.1443,-916.0033\"/>\n<text text-anchor=\"middle\" x=\"521.1442\" y=\"-927.8\" font-family=\"Times,serif\" font-size=\"14.00\" fill=\"#000000\">1m1c</text>\n</g>\n<!-- __main__.No object at 0x7f7d20b31610 -->\n<g id=\"node4\" class=\"node\">\n<title>__main__.No object at 0x7f7d20b31610</title>\n<ellipse fill=\"none\" stroke=\"#000000\" cx=\"653.6442\" cy=\"-888\" rx=\"65.7887\" ry=\"18\"/>\n<text text-anchor=\"middle\" x=\"653.6442\" y=\"-884.3\" font-family=\"Times,serif\" font-size=\"14.00\" fill=\"#000000\">(3, 2, 0, 1, &#39;N&#39;)</text>\n</g>\n<!-- __main__.No object at 0x7f7d20b6fc90&#45;&gt;__main__.No object at 0x7f7d20b31610 -->\n<g id=\"edge3\" class=\"edge\">\n<title>__main__.No object at 0x7f7d20b6fc90&#45;&gt;__main__.No object at 0x7f7d20b31610</title>\n<path fill=\"none\" stroke=\"#000000\" d=\"M532.6699,-958.636C556.4238,-944.7663 590.6728,-924.7685 616.6704,-909.5887\"/>\n<polygon fill=\"#000000\" stroke=\"#000000\" points=\"618.6203,-912.5032 625.4912,-904.4383 615.0907,-906.4582 618.6203,-912.5032\"/>\n<text text-anchor=\"middle\" x=\"594.6442\" y=\"-927.8\" font-family=\"Times,serif\" font-size=\"14.00\" fill=\"#000000\">1c</text>\n</g>\n<!-- __main__.No object at 0x7f7d20b1ee50 -->\n<g id=\"node5\" class=\"node\">\n<title>__main__.No object at 0x7f7d20b1ee50</title>\n<ellipse fill=\"none\" stroke=\"#000000\" cx=\"355.6442\" cy=\"-801\" rx=\"63.8893\" ry=\"18\"/>\n<text text-anchor=\"middle\" x=\"355.6442\" y=\"-797.3\" font-family=\"Times,serif\" font-size=\"14.00\" fill=\"#000000\">(3, 2, 0, 1, &#39;S&#39;)</text>\n</g>\n<!-- __main__.No object at 0x7f7d20b6f510&#45;&gt;__main__.No object at 0x7f7d20b1ee50 -->\n<g id=\"edge4\" class=\"edge\">\n<title>__main__.No object at 0x7f7d20b6f510&#45;&gt;__main__.No object at 0x7f7d20b1ee50</title>\n<path fill=\"none\" stroke=\"#000000\" d=\"M355.6442,-869.9735C355.6442,-858.1918 355.6442,-842.5607 355.6442,-829.1581\"/>\n<polygon fill=\"#000000\" stroke=\"#000000\" points=\"359.1443,-829.0033 355.6442,-819.0034 352.1443,-829.0034 359.1443,-829.0033\"/>\n<text text-anchor=\"middle\" x=\"362.6442\" y=\"-840.8\" font-family=\"Times,serif\" font-size=\"14.00\" fill=\"#000000\">1c</text>\n</g>\n<!-- __main__.No object at 0x7f7d20b1e590 -->\n<g id=\"node6\" class=\"node\">\n<title>__main__.No object at 0x7f7d20b1e590</title>\n<ellipse fill=\"none\" stroke=\"#000000\" cx=\"504.6442\" cy=\"-801\" rx=\"63.8893\" ry=\"18\"/>\n<text text-anchor=\"middle\" x=\"504.6442\" y=\"-797.3\" font-family=\"Times,serif\" font-size=\"14.00\" fill=\"#000000\">(3, 2, 0, 1, &#39;S&#39;)</text>\n</g>\n<!-- __main__.No object at 0x7f7d20b6f4d0&#45;&gt;__main__.No object at 0x7f7d20b1e590 -->\n<g id=\"edge5\" class=\"edge\">\n<title>__main__.No object at 0x7f7d20b6f4d0&#45;&gt;__main__.No object at 0x7f7d20b1e590</title>\n<path fill=\"none\" stroke=\"#000000\" d=\"M504.6442,-869.9735C504.6442,-858.1918 504.6442,-842.5607 504.6442,-829.1581\"/>\n<polygon fill=\"#000000\" stroke=\"#000000\" points=\"508.1443,-829.0033 504.6442,-819.0034 501.1443,-829.0034 508.1443,-829.0033\"/>\n<text text-anchor=\"middle\" x=\"514.1442\" y=\"-840.8\" font-family=\"Times,serif\" font-size=\"14.00\" fill=\"#000000\">1m</text>\n</g>\n<!-- __main__.No object at 0x7f7d20b59ed0 -->\n<g id=\"node7\" class=\"node\">\n<title>__main__.No object at 0x7f7d20b59ed0</title>\n<ellipse fill=\"none\" stroke=\"#000000\" cx=\"206.6442\" cy=\"-714\" rx=\"65.7887\" ry=\"18\"/>\n<text text-anchor=\"middle\" x=\"206.6442\" y=\"-710.3\" font-family=\"Times,serif\" font-size=\"14.00\" fill=\"#000000\">(3, 0, 0, 3, &#39;N&#39;)</text>\n</g>\n<!-- __main__.No object at 0x7f7d20b1ee50&#45;&gt;__main__.No object at 0x7f7d20b59ed0 -->\n<g id=\"edge6\" class=\"edge\">\n<title>__main__.No object at 0x7f7d20b1ee50&#45;&gt;__main__.No object at 0x7f7d20b59ed0</title>\n<path fill=\"none\" stroke=\"#000000\" d=\"M327.6184,-784.636C303.8646,-770.7663 269.6156,-750.7685 243.618,-735.5887\"/>\n<polygon fill=\"#000000\" stroke=\"#000000\" points=\"245.1977,-732.4582 234.7972,-730.4383 241.668,-738.5032 245.1977,-732.4582\"/>\n<text text-anchor=\"middle\" x=\"297.6442\" y=\"-753.8\" font-family=\"Times,serif\" font-size=\"14.00\" fill=\"#000000\">2c</text>\n</g>\n<!-- __main__.No object at 0x7f7d20b59e10 -->\n<g id=\"node8\" class=\"node\">\n<title>__main__.No object at 0x7f7d20b59e10</title>\n<ellipse fill=\"none\" stroke=\"#000000\" cx=\"355.6442\" cy=\"-714\" rx=\"65.7887\" ry=\"18\"/>\n<text text-anchor=\"middle\" x=\"355.6442\" y=\"-710.3\" font-family=\"Times,serif\" font-size=\"14.00\" fill=\"#000000\">(2, 2, 1, 1, &#39;N&#39;)</text>\n</g>\n<!-- __main__.No object at 0x7f7d20b1ee50&#45;&gt;__main__.No object at 0x7f7d20b59e10 -->\n<g id=\"edge7\" class=\"edge\">\n<title>__main__.No object at 0x7f7d20b1ee50&#45;&gt;__main__.No object at 0x7f7d20b59e10</title>\n<path fill=\"none\" stroke=\"#000000\" d=\"M355.6442,-782.9735C355.6442,-771.1918 355.6442,-755.5607 355.6442,-742.1581\"/>\n<polygon fill=\"#000000\" stroke=\"#000000\" points=\"359.1443,-742.0033 355.6442,-732.0034 352.1443,-742.0034 359.1443,-742.0033\"/>\n<text text-anchor=\"middle\" x=\"365.1442\" y=\"-753.8\" font-family=\"Times,serif\" font-size=\"14.00\" fill=\"#000000\">1m</text>\n</g>\n<!-- __main__.No object at 0x7f7d266b1f50 -->\n<g id=\"node9\" class=\"node\">\n<title>__main__.No object at 0x7f7d266b1f50</title>\n<ellipse fill=\"none\" stroke=\"#000000\" cx=\"504.6442\" cy=\"-714\" rx=\"65.7887\" ry=\"18\"/>\n<text text-anchor=\"middle\" x=\"504.6442\" y=\"-710.3\" font-family=\"Times,serif\" font-size=\"14.00\" fill=\"#000000\">(3, 0, 0, 3, &#39;N&#39;)</text>\n</g>\n<!-- __main__.No object at 0x7f7d20b1e590&#45;&gt;__main__.No object at 0x7f7d266b1f50 -->\n<g id=\"edge8\" class=\"edge\">\n<title>__main__.No object at 0x7f7d20b1e590&#45;&gt;__main__.No object at 0x7f7d266b1f50</title>\n<path fill=\"none\" stroke=\"#000000\" d=\"M504.6442,-782.9735C504.6442,-771.1918 504.6442,-755.5607 504.6442,-742.1581\"/>\n<polygon fill=\"#000000\" stroke=\"#000000\" points=\"508.1443,-742.0033 504.6442,-732.0034 501.1443,-742.0034 508.1443,-742.0033\"/>\n<text text-anchor=\"middle\" x=\"511.6442\" y=\"-753.8\" font-family=\"Times,serif\" font-size=\"14.00\" fill=\"#000000\">2c</text>\n</g>\n<!-- __main__.No object at 0x7f7d23da5f50 -->\n<g id=\"node10\" class=\"node\">\n<title>__main__.No object at 0x7f7d23da5f50</title>\n<ellipse fill=\"none\" stroke=\"#000000\" cx=\"653.6442\" cy=\"-714\" rx=\"65.7887\" ry=\"18\"/>\n<text text-anchor=\"middle\" x=\"653.6442\" y=\"-710.3\" font-family=\"Times,serif\" font-size=\"14.00\" fill=\"#000000\">(3, 1, 0, 2, &#39;N&#39;)</text>\n</g>\n<!-- __main__.No object at 0x7f7d20b1e590&#45;&gt;__main__.No object at 0x7f7d23da5f50 -->\n<g id=\"edge9\" class=\"edge\">\n<title>__main__.No object at 0x7f7d20b1e590&#45;&gt;__main__.No object at 0x7f7d23da5f50</title>\n<path fill=\"none\" stroke=\"#000000\" d=\"M532.6699,-784.636C556.4238,-770.7663 590.6728,-750.7685 616.6704,-735.5887\"/>\n<polygon fill=\"#000000\" stroke=\"#000000\" points=\"618.6203,-738.5032 625.4912,-730.4383 615.0907,-732.4582 618.6203,-738.5032\"/>\n<text text-anchor=\"middle\" x=\"594.6442\" y=\"-753.8\" font-family=\"Times,serif\" font-size=\"14.00\" fill=\"#000000\">1c</text>\n</g>\n<!-- __main__.No object at 0x7f7d20b81090 -->\n<g id=\"node11\" class=\"node\">\n<title>__main__.No object at 0x7f7d20b81090</title>\n<ellipse fill=\"none\" stroke=\"#000000\" cx=\"206.6442\" cy=\"-627\" rx=\"63.8893\" ry=\"18\"/>\n<text text-anchor=\"middle\" x=\"206.6442\" y=\"-623.3\" font-family=\"Times,serif\" font-size=\"14.00\" fill=\"#000000\">(3, 1, 0, 2, &#39;S&#39;)</text>\n</g>\n<!-- __main__.No object at 0x7f7d20b59ed0&#45;&gt;__main__.No object at 0x7f7d20b81090 -->\n<g id=\"edge10\" class=\"edge\">\n<title>__main__.No object at 0x7f7d20b59ed0&#45;&gt;__main__.No object at 0x7f7d20b81090</title>\n<path fill=\"none\" stroke=\"#000000\" d=\"M206.6442,-695.9735C206.6442,-684.1918 206.6442,-668.5607 206.6442,-655.1581\"/>\n<polygon fill=\"#000000\" stroke=\"#000000\" points=\"210.1443,-655.0033 206.6442,-645.0034 203.1443,-655.0034 210.1443,-655.0033\"/>\n<text text-anchor=\"middle\" x=\"213.6442\" y=\"-666.8\" font-family=\"Times,serif\" font-size=\"14.00\" fill=\"#000000\">1c</text>\n</g>\n<!-- __main__.No object at 0x7f7d20b1eb50 -->\n<g id=\"node12\" class=\"node\">\n<title>__main__.No object at 0x7f7d20b1eb50</title>\n<ellipse fill=\"none\" stroke=\"#000000\" cx=\"504.6442\" cy=\"-627\" rx=\"63.8893\" ry=\"18\"/>\n<text text-anchor=\"middle\" x=\"504.6442\" y=\"-623.3\" font-family=\"Times,serif\" font-size=\"14.00\" fill=\"#000000\">(3, 1, 0, 2, &#39;S&#39;)</text>\n</g>\n<!-- __main__.No object at 0x7f7d266b1f50&#45;&gt;__main__.No object at 0x7f7d20b1eb50 -->\n<g id=\"edge11\" class=\"edge\">\n<title>__main__.No object at 0x7f7d266b1f50&#45;&gt;__main__.No object at 0x7f7d20b1eb50</title>\n<path fill=\"none\" stroke=\"#000000\" d=\"M504.6442,-695.9735C504.6442,-684.1918 504.6442,-668.5607 504.6442,-655.1581\"/>\n<polygon fill=\"#000000\" stroke=\"#000000\" points=\"508.1443,-655.0033 504.6442,-645.0034 501.1443,-655.0034 508.1443,-655.0033\"/>\n<text text-anchor=\"middle\" x=\"511.6442\" y=\"-666.8\" font-family=\"Times,serif\" font-size=\"14.00\" fill=\"#000000\">1c</text>\n</g>\n<!-- __main__.No object at 0x7f7d20b7eb10 -->\n<g id=\"node13\" class=\"node\">\n<title>__main__.No object at 0x7f7d20b7eb10</title>\n<ellipse fill=\"none\" stroke=\"#000000\" cx=\"206.6442\" cy=\"-540\" rx=\"65.7887\" ry=\"18\"/>\n<text text-anchor=\"middle\" x=\"206.6442\" y=\"-536.3\" font-family=\"Times,serif\" font-size=\"14.00\" fill=\"#000000\">(1, 1, 2, 2, &#39;N&#39;)</text>\n</g>\n<!-- __main__.No object at 0x7f7d20b81090&#45;&gt;__main__.No object at 0x7f7d20b7eb10 -->\n<g id=\"edge12\" class=\"edge\">\n<title>__main__.No object at 0x7f7d20b81090&#45;&gt;__main__.No object at 0x7f7d20b7eb10</title>\n<path fill=\"none\" stroke=\"#000000\" d=\"M206.6442,-608.9735C206.6442,-597.1918 206.6442,-581.5607 206.6442,-568.1581\"/>\n<polygon fill=\"#000000\" stroke=\"#000000\" points=\"210.1443,-568.0033 206.6442,-558.0034 203.1443,-568.0034 210.1443,-568.0033\"/>\n<text text-anchor=\"middle\" x=\"216.1442\" y=\"-579.8\" font-family=\"Times,serif\" font-size=\"14.00\" fill=\"#000000\">2m</text>\n</g>\n<!-- __main__.No object at 0x7f7d20b512d0 -->\n<g id=\"node14\" class=\"node\">\n<title>__main__.No object at 0x7f7d20b512d0</title>\n<ellipse fill=\"none\" stroke=\"#000000\" cx=\"504.6442\" cy=\"-540\" rx=\"65.7887\" ry=\"18\"/>\n<text text-anchor=\"middle\" x=\"504.6442\" y=\"-536.3\" font-family=\"Times,serif\" font-size=\"14.00\" fill=\"#000000\">(1, 1, 2, 2, &#39;N&#39;)</text>\n</g>\n<!-- __main__.No object at 0x7f7d20b1eb50&#45;&gt;__main__.No object at 0x7f7d20b512d0 -->\n<g id=\"edge13\" class=\"edge\">\n<title>__main__.No object at 0x7f7d20b1eb50&#45;&gt;__main__.No object at 0x7f7d20b512d0</title>\n<path fill=\"none\" stroke=\"#000000\" d=\"M504.6442,-608.9735C504.6442,-597.1918 504.6442,-581.5607 504.6442,-568.1581\"/>\n<polygon fill=\"#000000\" stroke=\"#000000\" points=\"508.1443,-568.0033 504.6442,-558.0034 501.1443,-568.0034 508.1443,-568.0033\"/>\n<text text-anchor=\"middle\" x=\"514.1442\" y=\"-579.8\" font-family=\"Times,serif\" font-size=\"14.00\" fill=\"#000000\">2m</text>\n</g>\n<!-- __main__.No object at 0x7f7d20b3d090 -->\n<g id=\"node15\" class=\"node\">\n<title>__main__.No object at 0x7f7d20b3d090</title>\n<ellipse fill=\"none\" stroke=\"#000000\" cx=\"206.6442\" cy=\"-453\" rx=\"63.8893\" ry=\"18\"/>\n<text text-anchor=\"middle\" x=\"206.6442\" y=\"-449.3\" font-family=\"Times,serif\" font-size=\"14.00\" fill=\"#000000\">(2, 2, 1, 1, &#39;S&#39;)</text>\n</g>\n<!-- __main__.No object at 0x7f7d20b7eb10&#45;&gt;__main__.No object at 0x7f7d20b3d090 -->\n<g id=\"edge14\" class=\"edge\">\n<title>__main__.No object at 0x7f7d20b7eb10&#45;&gt;__main__.No object at 0x7f7d20b3d090</title>\n<path fill=\"none\" stroke=\"#000000\" d=\"M206.6442,-521.9735C206.6442,-510.1918 206.6442,-494.5607 206.6442,-481.1581\"/>\n<polygon fill=\"#000000\" stroke=\"#000000\" points=\"210.1443,-481.0033 206.6442,-471.0034 203.1443,-481.0034 210.1443,-481.0033\"/>\n<text text-anchor=\"middle\" x=\"223.1442\" y=\"-492.8\" font-family=\"Times,serif\" font-size=\"14.00\" fill=\"#000000\">1m1c</text>\n</g>\n<!-- __main__.No object at 0x7f7d20b3d790 -->\n<g id=\"node16\" class=\"node\">\n<title>__main__.No object at 0x7f7d20b3d790</title>\n<ellipse fill=\"none\" stroke=\"#000000\" cx=\"504.6442\" cy=\"-453\" rx=\"63.8893\" ry=\"18\"/>\n<text text-anchor=\"middle\" x=\"504.6442\" y=\"-449.3\" font-family=\"Times,serif\" font-size=\"14.00\" fill=\"#000000\">(2, 2, 1, 1, &#39;S&#39;)</text>\n</g>\n<!-- __main__.No object at 0x7f7d20b512d0&#45;&gt;__main__.No object at 0x7f7d20b3d790 -->\n<g id=\"edge15\" class=\"edge\">\n<title>__main__.No object at 0x7f7d20b512d0&#45;&gt;__main__.No object at 0x7f7d20b3d790</title>\n<path fill=\"none\" stroke=\"#000000\" d=\"M504.6442,-521.9735C504.6442,-510.1918 504.6442,-494.5607 504.6442,-481.1581\"/>\n<polygon fill=\"#000000\" stroke=\"#000000\" points=\"508.1443,-481.0033 504.6442,-471.0034 501.1443,-481.0034 508.1443,-481.0033\"/>\n<text text-anchor=\"middle\" x=\"521.1442\" y=\"-492.8\" font-family=\"Times,serif\" font-size=\"14.00\" fill=\"#000000\">1m1c</text>\n</g>\n<!-- __main__.No object at 0x7f7d20b36590 -->\n<g id=\"node17\" class=\"node\">\n<title>__main__.No object at 0x7f7d20b36590</title>\n<ellipse fill=\"none\" stroke=\"#000000\" cx=\"206.6442\" cy=\"-366\" rx=\"65.7887\" ry=\"18\"/>\n<text text-anchor=\"middle\" x=\"206.6442\" y=\"-362.3\" font-family=\"Times,serif\" font-size=\"14.00\" fill=\"#000000\">(0, 2, 3, 1, &#39;N&#39;)</text>\n</g>\n<!-- __main__.No object at 0x7f7d20b3d090&#45;&gt;__main__.No object at 0x7f7d20b36590 -->\n<g id=\"edge16\" class=\"edge\">\n<title>__main__.No object at 0x7f7d20b3d090&#45;&gt;__main__.No object at 0x7f7d20b36590</title>\n<path fill=\"none\" stroke=\"#000000\" d=\"M206.6442,-434.9735C206.6442,-423.1918 206.6442,-407.5607 206.6442,-394.1581\"/>\n<polygon fill=\"#000000\" stroke=\"#000000\" points=\"210.1443,-394.0033 206.6442,-384.0034 203.1443,-394.0034 210.1443,-394.0033\"/>\n<text text-anchor=\"middle\" x=\"216.1442\" y=\"-405.8\" font-family=\"Times,serif\" font-size=\"14.00\" fill=\"#000000\">2m</text>\n</g>\n<!-- __main__.No object at 0x7f7d20b36cd0 -->\n<g id=\"node18\" class=\"node\">\n<title>__main__.No object at 0x7f7d20b36cd0</title>\n<ellipse fill=\"none\" stroke=\"#000000\" cx=\"504.6442\" cy=\"-366\" rx=\"65.7887\" ry=\"18\"/>\n<text text-anchor=\"middle\" x=\"504.6442\" y=\"-362.3\" font-family=\"Times,serif\" font-size=\"14.00\" fill=\"#000000\">(0, 2, 3, 1, &#39;N&#39;)</text>\n</g>\n<!-- __main__.No object at 0x7f7d20b3d790&#45;&gt;__main__.No object at 0x7f7d20b36cd0 -->\n<g id=\"edge17\" class=\"edge\">\n<title>__main__.No object at 0x7f7d20b3d790&#45;&gt;__main__.No object at 0x7f7d20b36cd0</title>\n<path fill=\"none\" stroke=\"#000000\" d=\"M504.6442,-434.9735C504.6442,-423.1918 504.6442,-407.5607 504.6442,-394.1581\"/>\n<polygon fill=\"#000000\" stroke=\"#000000\" points=\"508.1443,-394.0033 504.6442,-384.0034 501.1443,-394.0034 508.1443,-394.0033\"/>\n<text text-anchor=\"middle\" x=\"514.1442\" y=\"-405.8\" font-family=\"Times,serif\" font-size=\"14.00\" fill=\"#000000\">2m</text>\n</g>\n<!-- __main__.No object at 0x7f7d20b46550 -->\n<g id=\"node19\" class=\"node\">\n<title>__main__.No object at 0x7f7d20b46550</title>\n<ellipse fill=\"none\" stroke=\"#000000\" cx=\"206.6442\" cy=\"-279\" rx=\"63.8893\" ry=\"18\"/>\n<text text-anchor=\"middle\" x=\"206.6442\" y=\"-275.3\" font-family=\"Times,serif\" font-size=\"14.00\" fill=\"#000000\">(0, 3, 3, 0, &#39;S&#39;)</text>\n</g>\n<!-- __main__.No object at 0x7f7d20b36590&#45;&gt;__main__.No object at 0x7f7d20b46550 -->\n<g id=\"edge18\" class=\"edge\">\n<title>__main__.No object at 0x7f7d20b36590&#45;&gt;__main__.No object at 0x7f7d20b46550</title>\n<path fill=\"none\" stroke=\"#000000\" d=\"M206.6442,-347.9735C206.6442,-336.1918 206.6442,-320.5607 206.6442,-307.1581\"/>\n<polygon fill=\"#000000\" stroke=\"#000000\" points=\"210.1443,-307.0033 206.6442,-297.0034 203.1443,-307.0034 210.1443,-307.0033\"/>\n<text text-anchor=\"middle\" x=\"213.6442\" y=\"-318.8\" font-family=\"Times,serif\" font-size=\"14.00\" fill=\"#000000\">1c</text>\n</g>\n<!-- __main__.No object at 0x7f7d20b46c90 -->\n<g id=\"node20\" class=\"node\">\n<title>__main__.No object at 0x7f7d20b46c90</title>\n<ellipse fill=\"none\" stroke=\"#000000\" cx=\"504.6442\" cy=\"-279\" rx=\"63.8893\" ry=\"18\"/>\n<text text-anchor=\"middle\" x=\"504.6442\" y=\"-275.3\" font-family=\"Times,serif\" font-size=\"14.00\" fill=\"#000000\">(0, 3, 3, 0, &#39;S&#39;)</text>\n</g>\n<!-- __main__.No object at 0x7f7d20b36cd0&#45;&gt;__main__.No object at 0x7f7d20b46c90 -->\n<g id=\"edge19\" class=\"edge\">\n<title>__main__.No object at 0x7f7d20b36cd0&#45;&gt;__main__.No object at 0x7f7d20b46c90</title>\n<path fill=\"none\" stroke=\"#000000\" d=\"M504.6442,-347.9735C504.6442,-336.1918 504.6442,-320.5607 504.6442,-307.1581\"/>\n<polygon fill=\"#000000\" stroke=\"#000000\" points=\"508.1443,-307.0033 504.6442,-297.0034 501.1443,-307.0034 508.1443,-307.0033\"/>\n<text text-anchor=\"middle\" x=\"511.6442\" y=\"-318.8\" font-family=\"Times,serif\" font-size=\"14.00\" fill=\"#000000\">1c</text>\n</g>\n<!-- __main__.No object at 0x7f7d20b45350 -->\n<g id=\"node21\" class=\"node\">\n<title>__main__.No object at 0x7f7d20b45350</title>\n<ellipse fill=\"none\" stroke=\"#000000\" cx=\"206.6442\" cy=\"-192\" rx=\"65.7887\" ry=\"18\"/>\n<text text-anchor=\"middle\" x=\"206.6442\" y=\"-188.3\" font-family=\"Times,serif\" font-size=\"14.00\" fill=\"#000000\">(0, 1, 3, 2, &#39;N&#39;)</text>\n</g>\n<!-- __main__.No object at 0x7f7d20b46550&#45;&gt;__main__.No object at 0x7f7d20b45350 -->\n<g id=\"edge20\" class=\"edge\">\n<title>__main__.No object at 0x7f7d20b46550&#45;&gt;__main__.No object at 0x7f7d20b45350</title>\n<path fill=\"none\" stroke=\"#000000\" d=\"M206.6442,-260.9735C206.6442,-249.1918 206.6442,-233.5607 206.6442,-220.1581\"/>\n<polygon fill=\"#000000\" stroke=\"#000000\" points=\"210.1443,-220.0033 206.6442,-210.0034 203.1443,-220.0034 210.1443,-220.0033\"/>\n<text text-anchor=\"middle\" x=\"213.6442\" y=\"-231.8\" font-family=\"Times,serif\" font-size=\"14.00\" fill=\"#000000\">2c</text>\n</g>\n<!-- __main__.No object at 0x7f7d20b45a90 -->\n<g id=\"node22\" class=\"node\">\n<title>__main__.No object at 0x7f7d20b45a90</title>\n<ellipse fill=\"none\" stroke=\"#000000\" cx=\"504.6442\" cy=\"-192\" rx=\"65.7887\" ry=\"18\"/>\n<text text-anchor=\"middle\" x=\"504.6442\" y=\"-188.3\" font-family=\"Times,serif\" font-size=\"14.00\" fill=\"#000000\">(0, 1, 3, 2, &#39;N&#39;)</text>\n</g>\n<!-- __main__.No object at 0x7f7d20b46c90&#45;&gt;__main__.No object at 0x7f7d20b45a90 -->\n<g id=\"edge21\" class=\"edge\">\n<title>__main__.No object at 0x7f7d20b46c90&#45;&gt;__main__.No object at 0x7f7d20b45a90</title>\n<path fill=\"none\" stroke=\"#000000\" d=\"M504.6442,-260.9735C504.6442,-249.1918 504.6442,-233.5607 504.6442,-220.1581\"/>\n<polygon fill=\"#000000\" stroke=\"#000000\" points=\"508.1443,-220.0033 504.6442,-210.0034 501.1443,-220.0034 508.1443,-220.0033\"/>\n<text text-anchor=\"middle\" x=\"511.6442\" y=\"-231.8\" font-family=\"Times,serif\" font-size=\"14.00\" fill=\"#000000\">2c</text>\n</g>\n<!-- __main__.No object at 0x7f7d20b7e890 -->\n<g id=\"node23\" class=\"node\">\n<title>__main__.No object at 0x7f7d20b7e890</title>\n<ellipse fill=\"none\" stroke=\"#000000\" cx=\"65.6442\" cy=\"-105\" rx=\"63.8893\" ry=\"18\"/>\n<text text-anchor=\"middle\" x=\"65.6442\" y=\"-101.3\" font-family=\"Times,serif\" font-size=\"14.00\" fill=\"#000000\">(1, 1, 2, 2, &#39;S&#39;)</text>\n</g>\n<!-- __main__.No object at 0x7f7d20b45350&#45;&gt;__main__.No object at 0x7f7d20b7e890 -->\n<g id=\"edge22\" class=\"edge\">\n<title>__main__.No object at 0x7f7d20b45350&#45;&gt;__main__.No object at 0x7f7d20b7e890</title>\n<path fill=\"none\" stroke=\"#000000\" d=\"M179.7913,-175.4312C157.4462,-161.6438 125.4565,-141.9055 101.0246,-126.8305\"/>\n<polygon fill=\"#000000\" stroke=\"#000000\" points=\"102.7454,-123.7796 92.3971,-121.5071 99.0696,-129.7369 102.7454,-123.7796\"/>\n<text text-anchor=\"middle\" x=\"154.1442\" y=\"-144.8\" font-family=\"Times,serif\" font-size=\"14.00\" fill=\"#000000\">1m</text>\n</g>\n<!-- __main__.No object at 0x7f7d20b1ea90 -->\n<g id=\"node24\" class=\"node\">\n<title>__main__.No object at 0x7f7d20b1ea90</title>\n<ellipse fill=\"none\" stroke=\"#000000\" cx=\"210.6442\" cy=\"-105\" rx=\"63.8893\" ry=\"18\"/>\n<text text-anchor=\"middle\" x=\"210.6442\" y=\"-101.3\" font-family=\"Times,serif\" font-size=\"14.00\" fill=\"#000000\">(0, 2, 3, 1, &#39;S&#39;)</text>\n</g>\n<!-- __main__.No object at 0x7f7d20b45350&#45;&gt;__main__.No object at 0x7f7d20b1ea90 -->\n<g id=\"edge23\" class=\"edge\">\n<title>__main__.No object at 0x7f7d20b45350&#45;&gt;__main__.No object at 0x7f7d20b1ea90</title>\n<path fill=\"none\" stroke=\"#000000\" d=\"M207.473,-173.9735C208.0147,-162.1918 208.7333,-146.5607 209.3496,-133.1581\"/>\n<polygon fill=\"#000000\" stroke=\"#000000\" points=\"212.8534,-133.1536 209.8164,-123.0034 205.8607,-132.832 212.8534,-133.1536\"/>\n<text text-anchor=\"middle\" x=\"216.6442\" y=\"-144.8\" font-family=\"Times,serif\" font-size=\"14.00\" fill=\"#000000\">1c</text>\n</g>\n<!-- __main__.No object at 0x7f7d20acb150 -->\n<g id=\"node25\" class=\"node\">\n<title>__main__.No object at 0x7f7d20acb150</title>\n<ellipse fill=\"none\" stroke=\"#000000\" cx=\"431.6442\" cy=\"-105\" rx=\"63.8893\" ry=\"18\"/>\n<text text-anchor=\"middle\" x=\"431.6442\" y=\"-101.3\" font-family=\"Times,serif\" font-size=\"14.00\" fill=\"#000000\">(1, 1, 2, 2, &#39;S&#39;)</text>\n</g>\n<!-- __main__.No object at 0x7f7d20b45a90&#45;&gt;__main__.No object at 0x7f7d20acb150 -->\n<g id=\"edge24\" class=\"edge\">\n<title>__main__.No object at 0x7f7d20b45a90&#45;&gt;__main__.No object at 0x7f7d20acb150</title>\n<path fill=\"none\" stroke=\"#000000\" d=\"M489.8715,-174.3943C479.2842,-161.7765 464.8623,-144.5887 453.0205,-130.4759\"/>\n<polygon fill=\"#000000\" stroke=\"#000000\" points=\"455.5039,-127.9904 446.3948,-122.5796 450.1415,-132.4898 455.5039,-127.9904\"/>\n<text text-anchor=\"middle\" x=\"482.1442\" y=\"-144.8\" font-family=\"Times,serif\" font-size=\"14.00\" fill=\"#000000\">1m</text>\n</g>\n<!-- __main__.No object at 0x7f7d20acb190 -->\n<g id=\"node26\" class=\"node\">\n<title>__main__.No object at 0x7f7d20acb190</title>\n<ellipse fill=\"none\" stroke=\"#000000\" cx=\"576.6442\" cy=\"-105\" rx=\"63.8893\" ry=\"18\"/>\n<text text-anchor=\"middle\" x=\"576.6442\" y=\"-101.3\" font-family=\"Times,serif\" font-size=\"14.00\" fill=\"#000000\">(0, 2, 3, 1, &#39;S&#39;)</text>\n</g>\n<!-- __main__.No object at 0x7f7d20b45a90&#45;&gt;__main__.No object at 0x7f7d20acb190 -->\n<g id=\"edge25\" class=\"edge\">\n<title>__main__.No object at 0x7f7d20b45a90&#45;&gt;__main__.No object at 0x7f7d20acb190</title>\n<path fill=\"none\" stroke=\"#000000\" d=\"M519.2144,-174.3943C529.6567,-161.7765 543.8811,-144.5887 555.5607,-130.4759\"/>\n<polygon fill=\"#000000\" stroke=\"#000000\" points=\"558.4162,-132.515 562.0956,-122.5796 553.0235,-128.052 558.4162,-132.515\"/>\n<text text-anchor=\"middle\" x=\"552.6442\" y=\"-144.8\" font-family=\"Times,serif\" font-size=\"14.00\" fill=\"#000000\">1c</text>\n</g>\n<!-- __main__.No object at 0x7f7d20acb890 -->\n<g id=\"node27\" class=\"node\">\n<title>__main__.No object at 0x7f7d20acb890</title>\n<ellipse fill=\"#ffff00\" stroke=\"#000000\" cx=\"65.6442\" cy=\"-18\" rx=\"65.7887\" ry=\"18\"/>\n<text text-anchor=\"middle\" x=\"65.6442\" y=\"-14.3\" font-family=\"Times,serif\" font-size=\"14.00\" fill=\"#000000\">(0, 0, 3, 3, &#39;N&#39;)</text>\n</g>\n<!-- __main__.No object at 0x7f7d20b7e890&#45;&gt;__main__.No object at 0x7f7d20acb890 -->\n<g id=\"edge26\" class=\"edge\">\n<title>__main__.No object at 0x7f7d20b7e890&#45;&gt;__main__.No object at 0x7f7d20acb890</title>\n<path fill=\"none\" stroke=\"#000000\" d=\"M65.6442,-86.9735C65.6442,-75.1918 65.6442,-59.5607 65.6442,-46.1581\"/>\n<polygon fill=\"#000000\" stroke=\"#000000\" points=\"69.1443,-46.0033 65.6442,-36.0034 62.1443,-46.0034 69.1443,-46.0033\"/>\n<text text-anchor=\"middle\" x=\"82.1442\" y=\"-57.8\" font-family=\"Times,serif\" font-size=\"14.00\" fill=\"#000000\">1m1c</text>\n</g>\n</g>\n</svg>\n"
          },
          "metadata": {},
          "execution_count": 11
        }
      ]
    },
    {
      "cell_type": "code",
      "metadata": {
        "colab": {
          "base_uri": "https://localhost:8080/",
          "height": 35
        },
        "id": "eOkJI7K802Ok",
        "outputId": "82e29822-fcbb-439b-9a74-8580e692276d"
      },
      "source": [
        "dot.render('arvoreBuscaLargura')  # gera um arquivo .pdf com a imagem da árvore que pode ser baixado"
      ],
      "execution_count": null,
      "outputs": [
        {
          "output_type": "execute_result",
          "data": {
            "application/vnd.google.colaboratory.intrinsic+json": {
              "type": "string"
            },
            "text/plain": [
              "'arvoreBuscaLargura.pdf'"
            ]
          },
          "metadata": {},
          "execution_count": 5
        }
      ]
    },
    {
      "cell_type": "markdown",
      "metadata": {
        "id": "WYZCBxlr1pFH"
      },
      "source": [
        "**Busca em profundidade**"
      ]
    },
    {
      "cell_type": "code",
      "metadata": {
        "id": "D9zZf8DE1sK0"
      },
      "source": [
        "from graphviz import Digraph\n",
        "# Create Digraph object\n",
        "dot = Digraph()\n",
        "\n",
        "def buscaProfundidade(estadoInicial, estadoObjetivo):\n",
        "  global dot\n",
        "\n",
        "  pilha = [ No(estado=estadoInicial, pai=None, nivel=0, acaoGeradora=None) ]\n",
        "\n",
        "  while len(pilha) > 0:\n",
        "    no = pilha.pop()  # retiro o último da lista, ou seja, o primeiro da pilha\n",
        "    if(no.pai != None):\n",
        "      dot.node(str(no.pai), no.pai.label())\n",
        "      dot.node(str(no), no.label())\n",
        "      dot.edge(str(no.pai), str(no), no.acaoGeradora)\n",
        "      print('De:\\n', no.pai.label(), '\\nPara:\\n', no.label(), '  -> Ação: ', no.acaoGeradora, '\\n', sep='')\n",
        "    if no.estado == estadoObjetivo:  # teste de objetivo\n",
        "      print('Achei a solução!!')\n",
        "      dot.node(str(no), no.label(), style='filled',fillcolor='yellow')\n",
        "      print('Caminho com', len(caminho(no))-1, 'passos')\n",
        "      break\n",
        "    else:\n",
        "      sucessores = no.gereSucessores(detectaCiclo=True)\n",
        "      pilha.extend(sucessores)  # coloco os sucessores no topo da pilha\n"
      ],
      "execution_count": null,
      "outputs": []
    },
    {
      "cell_type": "code",
      "metadata": {
        "colab": {
          "base_uri": "https://localhost:8080/"
        },
        "id": "zf_hnl8F2aWW",
        "outputId": "e14d3848-15cf-4733-e96b-4de023ba5f0f"
      },
      "source": [
        "buscaProfundidade(estadoInicial, estadoObjetivo)"
      ],
      "execution_count": null,
      "outputs": [
        {
          "output_type": "stream",
          "name": "stdout",
          "text": [
            "De:\n",
            "(3, 3, 0, 0, 'S')\n",
            "Para:\n",
            "(3, 2, 0, 1, 'N')  -> Ação: 1c\n",
            "\n",
            "De:\n",
            "(3, 3, 0, 0, 'S')\n",
            "Para:\n",
            "(2, 2, 1, 1, 'N')  -> Ação: 1m1c\n",
            "\n",
            "De:\n",
            "(2, 2, 1, 1, 'N')\n",
            "Para:\n",
            "(3, 2, 0, 1, 'S')  -> Ação: 1m\n",
            "\n",
            "De:\n",
            "(3, 2, 0, 1, 'S')\n",
            "Para:\n",
            "(3, 1, 0, 2, 'N')  -> Ação: 1c\n",
            "\n",
            "De:\n",
            "(3, 2, 0, 1, 'S')\n",
            "Para:\n",
            "(3, 0, 0, 3, 'N')  -> Ação: 2c\n",
            "\n",
            "De:\n",
            "(3, 0, 0, 3, 'N')\n",
            "Para:\n",
            "(3, 1, 0, 2, 'S')  -> Ação: 1c\n",
            "\n",
            "De:\n",
            "(3, 1, 0, 2, 'S')\n",
            "Para:\n",
            "(1, 1, 2, 2, 'N')  -> Ação: 2m\n",
            "\n",
            "De:\n",
            "(1, 1, 2, 2, 'N')\n",
            "Para:\n",
            "(2, 2, 1, 1, 'S')  -> Ação: 1m1c\n",
            "\n",
            "De:\n",
            "(2, 2, 1, 1, 'S')\n",
            "Para:\n",
            "(0, 2, 3, 1, 'N')  -> Ação: 2m\n",
            "\n",
            "De:\n",
            "(0, 2, 3, 1, 'N')\n",
            "Para:\n",
            "(0, 3, 3, 0, 'S')  -> Ação: 1c\n",
            "\n",
            "De:\n",
            "(0, 3, 3, 0, 'S')\n",
            "Para:\n",
            "(0, 1, 3, 2, 'N')  -> Ação: 2c\n",
            "\n",
            "De:\n",
            "(0, 1, 3, 2, 'N')\n",
            "Para:\n",
            "(0, 2, 3, 1, 'S')  -> Ação: 1c\n",
            "\n",
            "De:\n",
            "(0, 2, 3, 1, 'S')\n",
            "Para:\n",
            "(0, 0, 3, 3, 'N')  -> Ação: 2c\n",
            "\n",
            "Achei a solução!!\n",
            "Caminho com 11 passos\n"
          ]
        }
      ]
    },
    {
      "cell_type": "code",
      "metadata": {
        "colab": {
          "base_uri": "https://localhost:8080/",
          "height": 1000
        },
        "id": "nIf7X3Gq2fwk",
        "outputId": "ef4fcb91-1c6f-453d-faa5-34858e2a3cad"
      },
      "source": [
        "dot"
      ],
      "execution_count": null,
      "outputs": [
        {
          "output_type": "execute_result",
          "data": {
            "text/plain": [
              "<graphviz.dot.Digraph at 0x7f7d20b26e50>"
            ],
            "image/svg+xml": "<?xml version=\"1.0\" encoding=\"UTF-8\" standalone=\"no\"?>\n<!DOCTYPE svg PUBLIC \"-//W3C//DTD SVG 1.1//EN\"\n \"http://www.w3.org/Graphics/SVG/1.1/DTD/svg11.dtd\">\n<!-- Generated by graphviz version 2.40.1 (20161225.0304)\n -->\n<!-- Title: %3 Pages: 1 -->\n<svg width=\"391pt\" height=\"1001pt\"\n viewBox=\"0.00 0.00 391.29 1001.00\" xmlns=\"http://www.w3.org/2000/svg\" xmlns:xlink=\"http://www.w3.org/1999/xlink\">\n<g id=\"graph0\" class=\"graph\" transform=\"scale(1 1) rotate(0) translate(4 997)\">\n<title>%3</title>\n<polygon fill=\"#ffffff\" stroke=\"transparent\" points=\"-4,4 -4,-997 387.2884,-997 387.2884,4 -4,4\"/>\n<!-- __main__.No object at 0x7f7d20ab19d0 -->\n<g id=\"node1\" class=\"node\">\n<title>__main__.No object at 0x7f7d20ab19d0</title>\n<ellipse fill=\"none\" stroke=\"#000000\" cx=\"111.6442\" cy=\"-975\" rx=\"63.8893\" ry=\"18\"/>\n<text text-anchor=\"middle\" x=\"111.6442\" y=\"-971.3\" font-family=\"Times,serif\" font-size=\"14.00\" fill=\"#000000\">(3, 3, 0, 0, &#39;S&#39;)</text>\n</g>\n<!-- __main__.No object at 0x7f7d20ab8d10 -->\n<g id=\"node2\" class=\"node\">\n<title>__main__.No object at 0x7f7d20ab8d10</title>\n<ellipse fill=\"none\" stroke=\"#000000\" cx=\"65.6442\" cy=\"-888\" rx=\"65.7887\" ry=\"18\"/>\n<text text-anchor=\"middle\" x=\"65.6442\" y=\"-884.3\" font-family=\"Times,serif\" font-size=\"14.00\" fill=\"#000000\">(3, 2, 0, 1, &#39;N&#39;)</text>\n</g>\n<!-- __main__.No object at 0x7f7d20ab19d0&#45;&gt;__main__.No object at 0x7f7d20ab8d10 -->\n<g id=\"edge1\" class=\"edge\">\n<title>__main__.No object at 0x7f7d20ab19d0&#45;&gt;__main__.No object at 0x7f7d20ab8d10</title>\n<path fill=\"none\" stroke=\"#000000\" d=\"M102.1129,-956.9735C95.6985,-944.8418 87.126,-928.6287 79.9041,-914.9698\"/>\n<polygon fill=\"#000000\" stroke=\"#000000\" points=\"82.9316,-913.2077 75.1632,-906.0034 76.7433,-916.4797 82.9316,-913.2077\"/>\n<text text-anchor=\"middle\" x=\"98.6442\" y=\"-927.8\" font-family=\"Times,serif\" font-size=\"14.00\" fill=\"#000000\">1c</text>\n</g>\n<!-- __main__.No object at 0x7f7d20ab84d0 -->\n<g id=\"node3\" class=\"node\">\n<title>__main__.No object at 0x7f7d20ab84d0</title>\n<ellipse fill=\"none\" stroke=\"#000000\" cx=\"214.6442\" cy=\"-888\" rx=\"65.7887\" ry=\"18\"/>\n<text text-anchor=\"middle\" x=\"214.6442\" y=\"-884.3\" font-family=\"Times,serif\" font-size=\"14.00\" fill=\"#000000\">(2, 2, 1, 1, &#39;N&#39;)</text>\n</g>\n<!-- __main__.No object at 0x7f7d20ab19d0&#45;&gt;__main__.No object at 0x7f7d20ab84d0 -->\n<g id=\"edge2\" class=\"edge\">\n<title>__main__.No object at 0x7f7d20ab19d0&#45;&gt;__main__.No object at 0x7f7d20ab84d0</title>\n<path fill=\"none\" stroke=\"#000000\" d=\"M131.9937,-957.8116C147.5117,-944.7042 169.0739,-926.4914 186.2837,-911.955\"/>\n<polygon fill=\"#000000\" stroke=\"#000000\" points=\"188.9559,-914.2793 194.337,-905.1527 184.439,-908.9317 188.9559,-914.2793\"/>\n<text text-anchor=\"middle\" x=\"185.1442\" y=\"-927.8\" font-family=\"Times,serif\" font-size=\"14.00\" fill=\"#000000\">1m1c</text>\n</g>\n<!-- __main__.No object at 0x7f7d20b1eb10 -->\n<g id=\"node4\" class=\"node\">\n<title>__main__.No object at 0x7f7d20b1eb10</title>\n<ellipse fill=\"none\" stroke=\"#000000\" cx=\"214.6442\" cy=\"-801\" rx=\"63.8893\" ry=\"18\"/>\n<text text-anchor=\"middle\" x=\"214.6442\" y=\"-797.3\" font-family=\"Times,serif\" font-size=\"14.00\" fill=\"#000000\">(3, 2, 0, 1, &#39;S&#39;)</text>\n</g>\n<!-- __main__.No object at 0x7f7d20ab84d0&#45;&gt;__main__.No object at 0x7f7d20b1eb10 -->\n<g id=\"edge3\" class=\"edge\">\n<title>__main__.No object at 0x7f7d20ab84d0&#45;&gt;__main__.No object at 0x7f7d20b1eb10</title>\n<path fill=\"none\" stroke=\"#000000\" d=\"M214.6442,-869.9735C214.6442,-858.1918 214.6442,-842.5607 214.6442,-829.1581\"/>\n<polygon fill=\"#000000\" stroke=\"#000000\" points=\"218.1443,-829.0033 214.6442,-819.0034 211.1443,-829.0034 218.1443,-829.0033\"/>\n<text text-anchor=\"middle\" x=\"224.1442\" y=\"-840.8\" font-family=\"Times,serif\" font-size=\"14.00\" fill=\"#000000\">1m</text>\n</g>\n<!-- __main__.No object at 0x7f7d20ab8c90 -->\n<g id=\"node5\" class=\"node\">\n<title>__main__.No object at 0x7f7d20ab8c90</title>\n<ellipse fill=\"none\" stroke=\"#000000\" cx=\"168.6442\" cy=\"-714\" rx=\"65.7887\" ry=\"18\"/>\n<text text-anchor=\"middle\" x=\"168.6442\" y=\"-710.3\" font-family=\"Times,serif\" font-size=\"14.00\" fill=\"#000000\">(3, 1, 0, 2, &#39;N&#39;)</text>\n</g>\n<!-- __main__.No object at 0x7f7d20b1eb10&#45;&gt;__main__.No object at 0x7f7d20ab8c90 -->\n<g id=\"edge4\" class=\"edge\">\n<title>__main__.No object at 0x7f7d20b1eb10&#45;&gt;__main__.No object at 0x7f7d20ab8c90</title>\n<path fill=\"none\" stroke=\"#000000\" d=\"M205.1129,-782.9735C198.6985,-770.8418 190.126,-754.6287 182.9041,-740.9698\"/>\n<polygon fill=\"#000000\" stroke=\"#000000\" points=\"185.9316,-739.2077 178.1632,-732.0034 179.7433,-742.4797 185.9316,-739.2077\"/>\n<text text-anchor=\"middle\" x=\"200.6442\" y=\"-753.8\" font-family=\"Times,serif\" font-size=\"14.00\" fill=\"#000000\">1c</text>\n</g>\n<!-- __main__.No object at 0x7f7d20b1ec50 -->\n<g id=\"node6\" class=\"node\">\n<title>__main__.No object at 0x7f7d20b1ec50</title>\n<ellipse fill=\"none\" stroke=\"#000000\" cx=\"317.6442\" cy=\"-714\" rx=\"65.7887\" ry=\"18\"/>\n<text text-anchor=\"middle\" x=\"317.6442\" y=\"-710.3\" font-family=\"Times,serif\" font-size=\"14.00\" fill=\"#000000\">(3, 0, 0, 3, &#39;N&#39;)</text>\n</g>\n<!-- __main__.No object at 0x7f7d20b1eb10&#45;&gt;__main__.No object at 0x7f7d20b1ec50 -->\n<g id=\"edge5\" class=\"edge\">\n<title>__main__.No object at 0x7f7d20b1eb10&#45;&gt;__main__.No object at 0x7f7d20b1ec50</title>\n<path fill=\"none\" stroke=\"#000000\" d=\"M234.9937,-783.8116C250.5117,-770.7042 272.0739,-752.4914 289.2837,-737.955\"/>\n<polygon fill=\"#000000\" stroke=\"#000000\" points=\"291.9559,-740.2793 297.337,-731.1527 287.439,-734.9317 291.9559,-740.2793\"/>\n<text text-anchor=\"middle\" x=\"278.6442\" y=\"-753.8\" font-family=\"Times,serif\" font-size=\"14.00\" fill=\"#000000\">2c</text>\n</g>\n<!-- __main__.No object at 0x7f7d20b26350 -->\n<g id=\"node7\" class=\"node\">\n<title>__main__.No object at 0x7f7d20b26350</title>\n<ellipse fill=\"none\" stroke=\"#000000\" cx=\"317.6442\" cy=\"-627\" rx=\"63.8893\" ry=\"18\"/>\n<text text-anchor=\"middle\" x=\"317.6442\" y=\"-623.3\" font-family=\"Times,serif\" font-size=\"14.00\" fill=\"#000000\">(3, 1, 0, 2, &#39;S&#39;)</text>\n</g>\n<!-- __main__.No object at 0x7f7d20b1ec50&#45;&gt;__main__.No object at 0x7f7d20b26350 -->\n<g id=\"edge6\" class=\"edge\">\n<title>__main__.No object at 0x7f7d20b1ec50&#45;&gt;__main__.No object at 0x7f7d20b26350</title>\n<path fill=\"none\" stroke=\"#000000\" d=\"M317.6442,-695.9735C317.6442,-684.1918 317.6442,-668.5607 317.6442,-655.1581\"/>\n<polygon fill=\"#000000\" stroke=\"#000000\" points=\"321.1443,-655.0033 317.6442,-645.0034 314.1443,-655.0034 321.1443,-655.0033\"/>\n<text text-anchor=\"middle\" x=\"324.6442\" y=\"-666.8\" font-family=\"Times,serif\" font-size=\"14.00\" fill=\"#000000\">1c</text>\n</g>\n<!-- __main__.No object at 0x7f7d20aae9d0 -->\n<g id=\"node8\" class=\"node\">\n<title>__main__.No object at 0x7f7d20aae9d0</title>\n<ellipse fill=\"none\" stroke=\"#000000\" cx=\"317.6442\" cy=\"-540\" rx=\"65.7887\" ry=\"18\"/>\n<text text-anchor=\"middle\" x=\"317.6442\" y=\"-536.3\" font-family=\"Times,serif\" font-size=\"14.00\" fill=\"#000000\">(1, 1, 2, 2, &#39;N&#39;)</text>\n</g>\n<!-- __main__.No object at 0x7f7d20b26350&#45;&gt;__main__.No object at 0x7f7d20aae9d0 -->\n<g id=\"edge7\" class=\"edge\">\n<title>__main__.No object at 0x7f7d20b26350&#45;&gt;__main__.No object at 0x7f7d20aae9d0</title>\n<path fill=\"none\" stroke=\"#000000\" d=\"M317.6442,-608.9735C317.6442,-597.1918 317.6442,-581.5607 317.6442,-568.1581\"/>\n<polygon fill=\"#000000\" stroke=\"#000000\" points=\"321.1443,-568.0033 317.6442,-558.0034 314.1443,-568.0034 321.1443,-568.0033\"/>\n<text text-anchor=\"middle\" x=\"327.1442\" y=\"-579.8\" font-family=\"Times,serif\" font-size=\"14.00\" fill=\"#000000\">2m</text>\n</g>\n<!-- __main__.No object at 0x7f7d20b26650 -->\n<g id=\"node9\" class=\"node\">\n<title>__main__.No object at 0x7f7d20b26650</title>\n<ellipse fill=\"none\" stroke=\"#000000\" cx=\"317.6442\" cy=\"-453\" rx=\"63.8893\" ry=\"18\"/>\n<text text-anchor=\"middle\" x=\"317.6442\" y=\"-449.3\" font-family=\"Times,serif\" font-size=\"14.00\" fill=\"#000000\">(2, 2, 1, 1, &#39;S&#39;)</text>\n</g>\n<!-- __main__.No object at 0x7f7d20aae9d0&#45;&gt;__main__.No object at 0x7f7d20b26650 -->\n<g id=\"edge8\" class=\"edge\">\n<title>__main__.No object at 0x7f7d20aae9d0&#45;&gt;__main__.No object at 0x7f7d20b26650</title>\n<path fill=\"none\" stroke=\"#000000\" d=\"M317.6442,-521.9735C317.6442,-510.1918 317.6442,-494.5607 317.6442,-481.1581\"/>\n<polygon fill=\"#000000\" stroke=\"#000000\" points=\"321.1443,-481.0033 317.6442,-471.0034 314.1443,-481.0034 321.1443,-481.0033\"/>\n<text text-anchor=\"middle\" x=\"334.1442\" y=\"-492.8\" font-family=\"Times,serif\" font-size=\"14.00\" fill=\"#000000\">1m1c</text>\n</g>\n<!-- __main__.No object at 0x7f7d20aaeb10 -->\n<g id=\"node10\" class=\"node\">\n<title>__main__.No object at 0x7f7d20aaeb10</title>\n<ellipse fill=\"none\" stroke=\"#000000\" cx=\"317.6442\" cy=\"-366\" rx=\"65.7887\" ry=\"18\"/>\n<text text-anchor=\"middle\" x=\"317.6442\" y=\"-362.3\" font-family=\"Times,serif\" font-size=\"14.00\" fill=\"#000000\">(0, 2, 3, 1, &#39;N&#39;)</text>\n</g>\n<!-- __main__.No object at 0x7f7d20b26650&#45;&gt;__main__.No object at 0x7f7d20aaeb10 -->\n<g id=\"edge9\" class=\"edge\">\n<title>__main__.No object at 0x7f7d20b26650&#45;&gt;__main__.No object at 0x7f7d20aaeb10</title>\n<path fill=\"none\" stroke=\"#000000\" d=\"M317.6442,-434.9735C317.6442,-423.1918 317.6442,-407.5607 317.6442,-394.1581\"/>\n<polygon fill=\"#000000\" stroke=\"#000000\" points=\"321.1443,-394.0033 317.6442,-384.0034 314.1443,-394.0034 321.1443,-394.0033\"/>\n<text text-anchor=\"middle\" x=\"327.1442\" y=\"-405.8\" font-family=\"Times,serif\" font-size=\"14.00\" fill=\"#000000\">2m</text>\n</g>\n<!-- __main__.No object at 0x7f7d20aae450 -->\n<g id=\"node11\" class=\"node\">\n<title>__main__.No object at 0x7f7d20aae450</title>\n<ellipse fill=\"none\" stroke=\"#000000\" cx=\"317.6442\" cy=\"-279\" rx=\"63.8893\" ry=\"18\"/>\n<text text-anchor=\"middle\" x=\"317.6442\" y=\"-275.3\" font-family=\"Times,serif\" font-size=\"14.00\" fill=\"#000000\">(0, 3, 3, 0, &#39;S&#39;)</text>\n</g>\n<!-- __main__.No object at 0x7f7d20aaeb10&#45;&gt;__main__.No object at 0x7f7d20aae450 -->\n<g id=\"edge10\" class=\"edge\">\n<title>__main__.No object at 0x7f7d20aaeb10&#45;&gt;__main__.No object at 0x7f7d20aae450</title>\n<path fill=\"none\" stroke=\"#000000\" d=\"M317.6442,-347.9735C317.6442,-336.1918 317.6442,-320.5607 317.6442,-307.1581\"/>\n<polygon fill=\"#000000\" stroke=\"#000000\" points=\"321.1443,-307.0033 317.6442,-297.0034 314.1443,-307.0034 321.1443,-307.0033\"/>\n<text text-anchor=\"middle\" x=\"324.6442\" y=\"-318.8\" font-family=\"Times,serif\" font-size=\"14.00\" fill=\"#000000\">1c</text>\n</g>\n<!-- __main__.No object at 0x7f7d20b26710 -->\n<g id=\"node12\" class=\"node\">\n<title>__main__.No object at 0x7f7d20b26710</title>\n<ellipse fill=\"none\" stroke=\"#000000\" cx=\"317.6442\" cy=\"-192\" rx=\"65.7887\" ry=\"18\"/>\n<text text-anchor=\"middle\" x=\"317.6442\" y=\"-188.3\" font-family=\"Times,serif\" font-size=\"14.00\" fill=\"#000000\">(0, 1, 3, 2, &#39;N&#39;)</text>\n</g>\n<!-- __main__.No object at 0x7f7d20aae450&#45;&gt;__main__.No object at 0x7f7d20b26710 -->\n<g id=\"edge11\" class=\"edge\">\n<title>__main__.No object at 0x7f7d20aae450&#45;&gt;__main__.No object at 0x7f7d20b26710</title>\n<path fill=\"none\" stroke=\"#000000\" d=\"M317.6442,-260.9735C317.6442,-249.1918 317.6442,-233.5607 317.6442,-220.1581\"/>\n<polygon fill=\"#000000\" stroke=\"#000000\" points=\"321.1443,-220.0033 317.6442,-210.0034 314.1443,-220.0034 321.1443,-220.0033\"/>\n<text text-anchor=\"middle\" x=\"324.6442\" y=\"-231.8\" font-family=\"Times,serif\" font-size=\"14.00\" fill=\"#000000\">2c</text>\n</g>\n<!-- __main__.No object at 0x7f7d20b26490 -->\n<g id=\"node13\" class=\"node\">\n<title>__main__.No object at 0x7f7d20b26490</title>\n<ellipse fill=\"none\" stroke=\"#000000\" cx=\"317.6442\" cy=\"-105\" rx=\"63.8893\" ry=\"18\"/>\n<text text-anchor=\"middle\" x=\"317.6442\" y=\"-101.3\" font-family=\"Times,serif\" font-size=\"14.00\" fill=\"#000000\">(0, 2, 3, 1, &#39;S&#39;)</text>\n</g>\n<!-- __main__.No object at 0x7f7d20b26710&#45;&gt;__main__.No object at 0x7f7d20b26490 -->\n<g id=\"edge12\" class=\"edge\">\n<title>__main__.No object at 0x7f7d20b26710&#45;&gt;__main__.No object at 0x7f7d20b26490</title>\n<path fill=\"none\" stroke=\"#000000\" d=\"M317.6442,-173.9735C317.6442,-162.1918 317.6442,-146.5607 317.6442,-133.1581\"/>\n<polygon fill=\"#000000\" stroke=\"#000000\" points=\"321.1443,-133.0033 317.6442,-123.0034 314.1443,-133.0034 321.1443,-133.0033\"/>\n<text text-anchor=\"middle\" x=\"324.6442\" y=\"-144.8\" font-family=\"Times,serif\" font-size=\"14.00\" fill=\"#000000\">1c</text>\n</g>\n<!-- __main__.No object at 0x7f7d20b1e2d0 -->\n<g id=\"node14\" class=\"node\">\n<title>__main__.No object at 0x7f7d20b1e2d0</title>\n<ellipse fill=\"#ffff00\" stroke=\"#000000\" cx=\"317.6442\" cy=\"-18\" rx=\"65.7887\" ry=\"18\"/>\n<text text-anchor=\"middle\" x=\"317.6442\" y=\"-14.3\" font-family=\"Times,serif\" font-size=\"14.00\" fill=\"#000000\">(0, 0, 3, 3, &#39;N&#39;)</text>\n</g>\n<!-- __main__.No object at 0x7f7d20b26490&#45;&gt;__main__.No object at 0x7f7d20b1e2d0 -->\n<g id=\"edge13\" class=\"edge\">\n<title>__main__.No object at 0x7f7d20b26490&#45;&gt;__main__.No object at 0x7f7d20b1e2d0</title>\n<path fill=\"none\" stroke=\"#000000\" d=\"M317.6442,-86.9735C317.6442,-75.1918 317.6442,-59.5607 317.6442,-46.1581\"/>\n<polygon fill=\"#000000\" stroke=\"#000000\" points=\"321.1443,-46.0033 317.6442,-36.0034 314.1443,-46.0034 321.1443,-46.0033\"/>\n<text text-anchor=\"middle\" x=\"324.6442\" y=\"-57.8\" font-family=\"Times,serif\" font-size=\"14.00\" fill=\"#000000\">2c</text>\n</g>\n</g>\n</svg>\n"
          },
          "metadata": {},
          "execution_count": 22
        }
      ]
    },
    {
      "cell_type": "code",
      "metadata": {
        "colab": {
          "base_uri": "https://localhost:8080/",
          "height": 35
        },
        "id": "btr14Rrq2k62",
        "outputId": "1e42899c-78f0-499b-c8c4-bc2814236f9a"
      },
      "source": [
        "dot.render('arvoreBuscaProfundidade')  # gera um arquivo .pdf com a11 passos imagem da árvore que pode ser baixado"
      ],
      "execution_count": null,
      "outputs": [
        {
          "output_type": "execute_result",
          "data": {
            "application/vnd.google.colaboratory.intrinsic+json": {
              "type": "string"
            },
            "text/plain": [
              "'arvoreBuscaProfundidade.pdf'"
            ]
          },
          "metadata": {},
          "execution_count": 9
        }
      ]
    }
  ]
}