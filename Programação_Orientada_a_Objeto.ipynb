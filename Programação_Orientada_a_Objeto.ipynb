{
  "nbformat": 4,
  "nbformat_minor": 0,
  "metadata": {
    "colab": {
      "provenance": [],
      "authorship_tag": "ABX9TyOMSaHtxzvFBUuYIe2bgWeE",
      "include_colab_link": true
    },
    "kernelspec": {
      "name": "python3",
      "display_name": "Python 3"
    },
    "language_info": {
      "name": "python"
    }
  },
  "cells": [
    {
      "cell_type": "markdown",
      "metadata": {
        "id": "view-in-github",
        "colab_type": "text"
      },
      "source": [
        "<a href=\"https://colab.research.google.com/github/cantaruttim/Learning_Python/blob/main/Programa%C3%A7%C3%A3o_Orientada_a_Objeto.ipynb\" target=\"_parent\"><img src=\"https://colab.research.google.com/assets/colab-badge.svg\" alt=\"Open In Colab\"/></a>"
      ]
    },
    {
      "cell_type": "markdown",
      "source": [
        "# Programação Orientada à Objeto no Python\n",
        "\n",
        "- Otimiza a organização dos dados\n",
        "- Melhora como encontrar as informações quando a quantidade de dados aumentar\n",
        "\n",
        "\n",
        "> Existe\t outro\t método,\t o\t \t__new__()\t\t que\t é\t chamado\t antes\t do\t \t __init_() pelo interpretador\tdo\tPython.\tO\tmétodo __new__() é\trealmente\to\tconstrutor\te\té\tquem realmente\tcria uma instância\tde `Classe`. O\t método\t \t__init__() é responsável por inicializar o objeto, tanto é que já recebe\ta\tprópria\tinstância\t(self)\tcriada\tpelo\tconstrutor\tcomo argumento.\tDessa\tmaneira,\tgarantimos\tque toda\tinstância\tde\tuma\t\tConta\t\ttenha\tos\tatributos\tque\tdefinimos."
      ],
      "metadata": {
        "id": "-IP2bb12A77K"
      }
    },
    {
      "cell_type": "code",
      "execution_count": 14,
      "metadata": {
        "id": "StZBCdejA4eW"
      },
      "outputs": [],
      "source": [
        "class Conta:\n",
        "  \n",
        "  def __init__(self, numero, titular, saldo, limite):\n",
        "    print(f\"Inicializando uma conta para o cliente {titular}\")\n",
        "    self.numero = numero\n",
        "    self.titular = titular\n",
        "    self.saldo = saldo\n",
        "    self.limite = limite"
      ]
    },
    {
      "cell_type": "code",
      "source": [
        "conta = Conta('123-4', 'João', 120.0,\t1000.0)"
      ],
      "metadata": {
        "colab": {
          "base_uri": "https://localhost:8080/"
        },
        "id": "USrrQ9BqCJMr",
        "outputId": "0217d23a-3043-4a0f-f01d-2161047a1290"
      },
      "execution_count": 15,
      "outputs": [
        {
          "output_type": "stream",
          "name": "stdout",
          "text": [
            "Inicializando uma conta para o cliente João\n"
          ]
        }
      ]
    },
    {
      "cell_type": "code",
      "source": [],
      "metadata": {
        "id": "WSjEpGuQCJXH"
      },
      "execution_count": null,
      "outputs": []
    },
    {
      "cell_type": "code",
      "source": [],
      "metadata": {
        "id": "YZazxOuVCJes"
      },
      "execution_count": null,
      "outputs": []
    }
  ]
}