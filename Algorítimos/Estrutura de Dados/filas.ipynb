{
 "cells": [
  {
   "attachments": {},
   "cell_type": "markdown",
   "metadata": {},
   "source": [
    "### Filas\n",
    "\n",
    "- A política de acesso segue a regra : FIFO"
   ]
  },
  {
   "cell_type": "code",
   "execution_count": 41,
   "metadata": {},
   "outputs": [],
   "source": [
    "class Node:\n",
    "\n",
    "    def __init__(self, data):\n",
    "        self.data = data\n",
    "        self.next = None\n"
   ]
  },
  {
   "cell_type": "code",
   "execution_count": 42,
   "metadata": {},
   "outputs": [],
   "source": [
    "class Queue:\n",
    "    \"\"\"Vamos adicionar no final e remover do início da Fila\"\"\"\n",
    "    def __init__(self):\n",
    "        self.first = None\n",
    "        self.last = None    \n",
    "        self._size = 0\n",
    "\n",
    "    # inserir\n",
    "    # remover\n",
    "    # observar o topo da fila\n",
    "\n",
    "    def push(self, elem):\n",
    "        # inserindo um elemento na pilha\n",
    "        node = Node(elem)\n",
    "        if self.last is None:\n",
    "            self.last = node\n",
    "        elif self.last.next is node:\n",
    "            self.last = node\n",
    "        else: \n",
    "            self.first = None\n",
    "            self.first = node\n",
    "        self._size += 1\n",
    "\n",
    "\n",
    "    def pop(self):\n",
    "        # remove o elemento do topo da pilha\n",
    "        if self._size > 0:\n",
    "            elem = self.first.data\n",
    "            self.first = self.first.next\n",
    "            self._size -= 1\n",
    "            return elem\n",
    "        raise IndexError(\"The queue is empty\")\n",
    "\n",
    "\n",
    "    def peek(self):\n",
    "        # retorna o topo da pilha. Sem remover\n",
    "        if self._size > 0:\n",
    "            elem = self.first.data\n",
    "            return elem\n",
    "        raise IndexError(\"The queue is empty\")\n",
    "\n",
    "   \n",
    "    def __len__(self):\n",
    "        \"\"\"Retorna o tamanho da lista\"\"\"\n",
    "        return self._size\n",
    "\n",
    "\n",
    "    def __repr__(self):\n",
    "        if self._size > 0:\n",
    "            r = \"\"\n",
    "            pointer = self.first\n",
    "\n",
    "            while(pointer):\n",
    "                r = r + str(pointer.data) + \" \"\n",
    "                pointer = pointer.next\n",
    "            return r\n",
    "        return \"Empty Queue\"\n",
    "\n",
    "\n",
    "    def __str__(self):\n",
    "        return self.__repr__()"
   ]
  },
  {
   "cell_type": "code",
   "execution_count": 43,
   "metadata": {},
   "outputs": [],
   "source": [
    "fila = Queue()"
   ]
  },
  {
   "cell_type": "code",
   "execution_count": 44,
   "metadata": {},
   "outputs": [
    {
     "data": {
      "text/plain": [
       "Empty Queue"
      ]
     },
     "execution_count": 44,
     "metadata": {},
     "output_type": "execute_result"
    }
   ],
   "source": [
    "fila"
   ]
  },
  {
   "cell_type": "code",
   "execution_count": 45,
   "metadata": {},
   "outputs": [],
   "source": [
    "fila.push(5)"
   ]
  },
  {
   "cell_type": "code",
   "execution_count": 46,
   "metadata": {},
   "outputs": [],
   "source": [
    "fila.push(15)"
   ]
  },
  {
   "cell_type": "code",
   "execution_count": 47,
   "metadata": {},
   "outputs": [],
   "source": [
    "fila.push(\"python\")"
   ]
  },
  {
   "cell_type": "code",
   "execution_count": 48,
   "metadata": {},
   "outputs": [],
   "source": [
    "fila.push(True)"
   ]
  },
  {
   "cell_type": "code",
   "execution_count": 49,
   "metadata": {},
   "outputs": [],
   "source": [
    "fila.push(42)"
   ]
  },
  {
   "cell_type": "code",
   "execution_count": 50,
   "metadata": {},
   "outputs": [
    {
     "data": {
      "text/plain": [
       "42 "
      ]
     },
     "execution_count": 50,
     "metadata": {},
     "output_type": "execute_result"
    }
   ],
   "source": [
    "fila"
   ]
  },
  {
   "cell_type": "code",
   "execution_count": 51,
   "metadata": {},
   "outputs": [
    {
     "data": {
      "text/plain": [
       "42"
      ]
     },
     "execution_count": 51,
     "metadata": {},
     "output_type": "execute_result"
    }
   ],
   "source": [
    "fila.pop()"
   ]
  },
  {
   "cell_type": "code",
   "execution_count": 52,
   "metadata": {},
   "outputs": [
    {
     "ename": "AttributeError",
     "evalue": "'NoneType' object has no attribute 'data'",
     "output_type": "error",
     "traceback": [
      "\u001b[1;31m---------------------------------------------------------------------------\u001b[0m",
      "\u001b[1;31mAttributeError\u001b[0m                            Traceback (most recent call last)",
      "\u001b[1;32mc:\\Users\\Matheus\\OneDrive\\Área de Trabalho\\FATEC - BD Negócios\\Projetos\\Learning_Python_Portfolio\\Algorítimos\\Estrutura de Dados\\filas.ipynb Cell 13\u001b[0m in \u001b[0;36m<cell line: 1>\u001b[1;34m()\u001b[0m\n\u001b[1;32m----> <a href='vscode-notebook-cell:/c%3A/Users/Matheus/OneDrive/%C3%81rea%20de%20Trabalho/FATEC%20-%20BD%20Neg%C3%B3cios/Projetos/Learning_Python_Portfolio/Algor%C3%ADtimos/Estrutura%20de%20Dados/filas.ipynb#X16sZmlsZQ%3D%3D?line=0'>1</a>\u001b[0m fila\u001b[39m.\u001b[39;49mpeek()\n",
      "\u001b[1;32mc:\\Users\\Matheus\\OneDrive\\Área de Trabalho\\FATEC - BD Negócios\\Projetos\\Learning_Python_Portfolio\\Algorítimos\\Estrutura de Dados\\filas.ipynb Cell 13\u001b[0m in \u001b[0;36mQueue.peek\u001b[1;34m(self)\u001b[0m\n\u001b[0;32m     <a href='vscode-notebook-cell:/c%3A/Users/Matheus/OneDrive/%C3%81rea%20de%20Trabalho/FATEC%20-%20BD%20Neg%C3%B3cios/Projetos/Learning_Python_Portfolio/Algor%C3%ADtimos/Estrutura%20de%20Dados/filas.ipynb#X16sZmlsZQ%3D%3D?line=34'>35</a>\u001b[0m \u001b[39mdef\u001b[39;00m \u001b[39mpeek\u001b[39m(\u001b[39mself\u001b[39m):\n\u001b[0;32m     <a href='vscode-notebook-cell:/c%3A/Users/Matheus/OneDrive/%C3%81rea%20de%20Trabalho/FATEC%20-%20BD%20Neg%C3%B3cios/Projetos/Learning_Python_Portfolio/Algor%C3%ADtimos/Estrutura%20de%20Dados/filas.ipynb#X16sZmlsZQ%3D%3D?line=35'>36</a>\u001b[0m     \u001b[39m# retorna o topo da pilha. Sem remover\u001b[39;00m\n\u001b[0;32m     <a href='vscode-notebook-cell:/c%3A/Users/Matheus/OneDrive/%C3%81rea%20de%20Trabalho/FATEC%20-%20BD%20Neg%C3%B3cios/Projetos/Learning_Python_Portfolio/Algor%C3%ADtimos/Estrutura%20de%20Dados/filas.ipynb#X16sZmlsZQ%3D%3D?line=36'>37</a>\u001b[0m     \u001b[39mif\u001b[39;00m \u001b[39mself\u001b[39m\u001b[39m.\u001b[39m_size \u001b[39m>\u001b[39m \u001b[39m0\u001b[39m:\n\u001b[1;32m---> <a href='vscode-notebook-cell:/c%3A/Users/Matheus/OneDrive/%C3%81rea%20de%20Trabalho/FATEC%20-%20BD%20Neg%C3%B3cios/Projetos/Learning_Python_Portfolio/Algor%C3%ADtimos/Estrutura%20de%20Dados/filas.ipynb#X16sZmlsZQ%3D%3D?line=37'>38</a>\u001b[0m         elem \u001b[39m=\u001b[39m \u001b[39mself\u001b[39;49m\u001b[39m.\u001b[39;49mfirst\u001b[39m.\u001b[39;49mdata\n\u001b[0;32m     <a href='vscode-notebook-cell:/c%3A/Users/Matheus/OneDrive/%C3%81rea%20de%20Trabalho/FATEC%20-%20BD%20Neg%C3%B3cios/Projetos/Learning_Python_Portfolio/Algor%C3%ADtimos/Estrutura%20de%20Dados/filas.ipynb#X16sZmlsZQ%3D%3D?line=38'>39</a>\u001b[0m         \u001b[39mreturn\u001b[39;00m elem\n\u001b[0;32m     <a href='vscode-notebook-cell:/c%3A/Users/Matheus/OneDrive/%C3%81rea%20de%20Trabalho/FATEC%20-%20BD%20Neg%C3%B3cios/Projetos/Learning_Python_Portfolio/Algor%C3%ADtimos/Estrutura%20de%20Dados/filas.ipynb#X16sZmlsZQ%3D%3D?line=39'>40</a>\u001b[0m     \u001b[39mraise\u001b[39;00m \u001b[39mIndexError\u001b[39;00m(\u001b[39m\"\u001b[39m\u001b[39mThe queue is empty\u001b[39m\u001b[39m\"\u001b[39m)\n",
      "\u001b[1;31mAttributeError\u001b[0m: 'NoneType' object has no attribute 'data'"
     ]
    }
   ],
   "source": [
    "fila.peek()"
   ]
  },
  {
   "cell_type": "code",
   "execution_count": 53,
   "metadata": {},
   "outputs": [
    {
     "data": {
      "text/plain": [
       "4"
      ]
     },
     "execution_count": 53,
     "metadata": {},
     "output_type": "execute_result"
    }
   ],
   "source": [
    "len(fila)"
   ]
  }
 ],
 "metadata": {
  "kernelspec": {
   "display_name": "Python 3",
   "language": "python",
   "name": "python3"
  },
  "language_info": {
   "codemirror_mode": {
    "name": "ipython",
    "version": 3
   },
   "file_extension": ".py",
   "mimetype": "text/x-python",
   "name": "python",
   "nbconvert_exporter": "python",
   "pygments_lexer": "ipython3",
   "version": "3.10.9"
  },
  "orig_nbformat": 4,
  "vscode": {
   "interpreter": {
    "hash": "48434fea92bcfa521232aa698a59dbef67c96a63793f88c53e51c3c6eaedc268"
   }
  }
 },
 "nbformat": 4,
 "nbformat_minor": 2
}
