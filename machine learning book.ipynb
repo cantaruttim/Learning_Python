{
 "cells": [
  {
   "cell_type": "code",
   "execution_count": 2,
   "metadata": {},
   "outputs": [],
   "source": [
    "from sklearn.metrics import confusion_matrix, precision_score, recall_score"
   ]
  },
  {
   "attachments": {},
   "cell_type": "markdown",
   "metadata": {},
   "source": [
    "#### 1. Precisão \n",
    "\n",
    "$$Precisão = \\frac{TP}{TP + FP}$$\n",
    "TP = Todos os verdadeiros positivos; FP = número de falsos positivos\n",
    "\n",
    "\n",
    "#### 2. Revocação\n",
    "\n",
    "$$Revocação = \\frac{TP}{TP + FN}$$\n",
    "FN = é o número de falsos negativos\n",
    "\n",
    "\n",
    "#### 3. Pontuação F1\n",
    "\n",
    "$$F1 = \\frac{2}{\\frac{1}{precisão} + \\frac{1}{revocação}} = 2 * \\frac{precisão * revocação}{precisão + revocação} = \\frac{TP}{TP + \\frac{FN + FP}{2}}$$\n",
    "\n",
    "<br />\n",
    "\n",
    "Obs¹: A pontuação F1 é a _média harmônica_ da precisão e revocação. Onde a média harmômica dará muito mais peso aos valores mais baixos."
   ]
  },
  {
   "cell_type": "code",
   "execution_count": null,
   "metadata": {},
   "outputs": [],
   "source": []
  },
  {
   "cell_type": "code",
   "execution_count": null,
   "metadata": {},
   "outputs": [],
   "source": []
  },
  {
   "cell_type": "code",
   "execution_count": null,
   "metadata": {},
   "outputs": [],
   "source": []
  },
  {
   "cell_type": "code",
   "execution_count": null,
   "metadata": {},
   "outputs": [],
   "source": []
  },
  {
   "cell_type": "code",
   "execution_count": null,
   "metadata": {},
   "outputs": [],
   "source": []
  }
 ],
 "metadata": {
  "kernelspec": {
   "display_name": "base",
   "language": "python",
   "name": "python3"
  },
  "language_info": {
   "codemirror_mode": {
    "name": "ipython",
    "version": 3
   },
   "file_extension": ".py",
   "mimetype": "text/x-python",
   "name": "python",
   "nbconvert_exporter": "python",
   "pygments_lexer": "ipython3",
   "version": "3.9.12"
  },
  "orig_nbformat": 4,
  "vscode": {
   "interpreter": {
    "hash": "c8d3184e42d5090dff9a42825f73ee2454fef8c1131708a89f889453d9fc9d30"
   }
  }
 },
 "nbformat": 4,
 "nbformat_minor": 2
}
