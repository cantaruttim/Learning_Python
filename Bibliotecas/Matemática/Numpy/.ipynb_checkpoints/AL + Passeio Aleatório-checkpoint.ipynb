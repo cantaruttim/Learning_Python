{
 "cells": [
  {
   "cell_type": "markdown",
   "id": "1288c1b2",
   "metadata": {},
   "source": [
    "### Álgebra Linear"
   ]
  },
  {
   "cell_type": "code",
   "execution_count": 1,
   "id": "7430899e",
   "metadata": {},
   "outputs": [],
   "source": [
    "import numpy as np"
   ]
  },
  {
   "cell_type": "code",
   "execution_count": 2,
   "id": "e00b7f8d",
   "metadata": {},
   "outputs": [],
   "source": [
    "x = np.array([[1,2,3],[4,5,6]])\n",
    "y = np.array([[6,23],[-1,7], [8,9]])"
   ]
  },
  {
   "cell_type": "code",
   "execution_count": 3,
   "id": "8773c563",
   "metadata": {},
   "outputs": [
    {
     "data": {
      "text/plain": [
       "array([[1, 2, 3],\n",
       "       [4, 5, 6]])"
      ]
     },
     "execution_count": 3,
     "metadata": {},
     "output_type": "execute_result"
    }
   ],
   "source": [
    "x"
   ]
  },
  {
   "cell_type": "code",
   "execution_count": 4,
   "id": "68f0be60",
   "metadata": {},
   "outputs": [
    {
     "data": {
      "text/plain": [
       "array([[ 6, 23],\n",
       "       [-1,  7],\n",
       "       [ 8,  9]])"
      ]
     },
     "execution_count": 4,
     "metadata": {},
     "output_type": "execute_result"
    }
   ],
   "source": [
    "y"
   ]
  },
  {
   "cell_type": "code",
   "execution_count": 5,
   "id": "046d915e",
   "metadata": {},
   "outputs": [
    {
     "data": {
      "text/plain": [
       "array([[ 28,  64],\n",
       "       [ 67, 181]])"
      ]
     },
     "execution_count": 5,
     "metadata": {},
     "output_type": "execute_result"
    }
   ],
   "source": [
    "x.dot(y) # equivalente ao np.dot(x,y)"
   ]
  },
  {
   "cell_type": "code",
   "execution_count": 6,
   "id": "c34129f2",
   "metadata": {},
   "outputs": [
    {
     "data": {
      "text/plain": [
       "array([[ 28,  64],\n",
       "       [ 67, 181]])"
      ]
     },
     "execution_count": 6,
     "metadata": {},
     "output_type": "execute_result"
    }
   ],
   "source": [
    "np.dot(x,y)"
   ]
  },
  {
   "cell_type": "code",
   "execution_count": 7,
   "id": "d8edc1f7",
   "metadata": {},
   "outputs": [
    {
     "data": {
      "text/plain": [
       "array([ 6., 15.])"
      ]
     },
     "execution_count": 7,
     "metadata": {},
     "output_type": "execute_result"
    }
   ],
   "source": [
    "# podemos utilizar o @ para realizar a multiplicação\n",
    "\n",
    "x @ np.ones(3)"
   ]
  },
  {
   "cell_type": "code",
   "execution_count": 12,
   "id": "85cd6aa5",
   "metadata": {},
   "outputs": [],
   "source": [
    "from numpy.linalg import inv, qr"
   ]
  },
  {
   "cell_type": "code",
   "execution_count": 13,
   "id": "82ec7bd3",
   "metadata": {},
   "outputs": [],
   "source": [
    "X = np.random.randn(5,5)"
   ]
  },
  {
   "cell_type": "code",
   "execution_count": 14,
   "id": "c65dc796",
   "metadata": {},
   "outputs": [
    {
     "data": {
      "text/plain": [
       "array([[-0.65510162, -0.38654882,  0.07263483,  2.00975397, -1.47599189],\n",
       "       [ 0.9000805 , -0.1306248 , -0.02189332,  0.60078139,  0.24135403],\n",
       "       [ 0.44050904, -1.28536045, -0.73867771,  0.37332903, -0.50562798],\n",
       "       [-0.10672695, -0.00309582, -0.71696522,  0.10431179, -1.40789922],\n",
       "       [ 0.3457574 ,  0.38436577, -1.37634085, -1.32052721, -0.02236718]])"
      ]
     },
     "execution_count": 14,
     "metadata": {},
     "output_type": "execute_result"
    }
   ],
   "source": [
    "X"
   ]
  },
  {
   "cell_type": "code",
   "execution_count": 15,
   "id": "766c94fc",
   "metadata": {},
   "outputs": [
    {
     "data": {
      "text/plain": [
       "array([[ 1.56429008, -0.29732925, -0.79204367, -1.0791016 ,  1.10395623],\n",
       "       [-0.29732925,  1.96638094,  0.3974513 , -1.84309573,  1.18469173],\n",
       "       [-0.79204367,  0.3974513 ,  2.95975317,  1.59976282,  1.30120329],\n",
       "       [-1.0791016 , -1.84309573,  1.59976282,  6.29409692, -3.12746918],\n",
       "       [ 1.10395623,  1.18469173,  1.30120329, -3.12746918,  4.47514398]])"
      ]
     },
     "execution_count": 15,
     "metadata": {},
     "output_type": "execute_result"
    }
   ],
   "source": [
    "mat = X.T.dot(X) # calculo do produto escalar de X com a sua transpposta X.T\n",
    "mat"
   ]
  },
  {
   "cell_type": "code",
   "execution_count": 16,
   "id": "e137fccd",
   "metadata": {},
   "outputs": [
    {
     "data": {
      "text/plain": [
       "array([[ 1.00000000e+00, -3.63058660e-17, -1.71564194e-16,\n",
       "         4.12511259e-17,  6.30485523e-16],\n",
       "       [ 1.07509350e-15,  1.00000000e+00,  7.78549865e-16,\n",
       "        -6.98816327e-16, -7.52046858e-17],\n",
       "       [-1.12153914e-15,  2.05399292e-16,  1.00000000e+00,\n",
       "         3.31085774e-16,  5.87974689e-16],\n",
       "       [-1.25022434e-15,  9.24760558e-16, -1.65493518e-15,\n",
       "         1.00000000e+00, -7.79410931e-17],\n",
       "       [ 5.86082927e-17, -1.55803527e-16,  3.93987902e-16,\n",
       "         2.94029601e-16,  1.00000000e+00]])"
      ]
     },
     "execution_count": 16,
     "metadata": {},
     "output_type": "execute_result"
    }
   ],
   "source": [
    "mat.dot(inv(mat))"
   ]
  },
  {
   "cell_type": "markdown",
   "id": "8a652fa5",
   "metadata": {},
   "source": [
    "##### Algumas funções importantes do _numpy.linalg_\n",
    "\n",
    "```\n",
    "\n",
    "diag : Devolve os elementos diagonais (ou fora da diagonal) de uma matriz quadrada como um array 1D, ou converte um array 1D em uma matriz quadrada, com zeros fora da diagonal.\n",
    "\n",
    "dot : Multiplicação de matrizes.\n",
    "\n",
    "trace : Calcula a soma dos elementos da diagonal.\n",
    "\n",
    "det : Calcula o determinante da matriz.\n",
    "\n",
    "eig : Calcula os autovalores (valores próprios) e os autovetores de uma matriz quadrada.\n",
    "\n",
    "inv : Calcula a inversa de uma matriz quadrada.\n",
    "\n",
    "pinv : Calcula a psudoinversa de Moore-Penrose de uma matriz.\n",
    "\n",
    "qr : Calcula a decomposição QR.\n",
    "\n",
    "svd : Calcula a SVD.\n",
    "\n",
    "solve : Resolve o sistema linear Ax = b, em que A é uma matriz quadrada. \n",
    "\n",
    "lstsq : Calcula a solução de quadrados mínimos para Ax = b\n",
    "\n",
    "```"
   ]
  },
  {
   "cell_type": "code",
   "execution_count": 19,
   "id": "f12bb794",
   "metadata": {},
   "outputs": [
    {
     "data": {
      "text/plain": [
       "array([[-0.65510162, -0.38654882,  0.07263483,  2.00975397, -1.47599189],\n",
       "       [ 0.9000805 , -0.1306248 , -0.02189332,  0.60078139,  0.24135403],\n",
       "       [ 0.44050904, -1.28536045, -0.73867771,  0.37332903, -0.50562798],\n",
       "       [-0.10672695, -0.00309582, -0.71696522,  0.10431179, -1.40789922],\n",
       "       [ 0.3457574 ,  0.38436577, -1.37634085, -1.32052721, -0.02236718]])"
      ]
     },
     "execution_count": 19,
     "metadata": {},
     "output_type": "execute_result"
    }
   ],
   "source": [
    "X"
   ]
  },
  {
   "cell_type": "code",
   "execution_count": 18,
   "id": "53bdda25",
   "metadata": {},
   "outputs": [
    {
     "data": {
      "text/plain": [
       "array([-0.65510162, -0.1306248 , -0.73867771,  0.10431179, -0.02236718])"
      ]
     },
     "execution_count": 18,
     "metadata": {},
     "output_type": "execute_result"
    }
   ],
   "source": [
    "# diagonal principal da matriz quadrada\n",
    "\n",
    "np.diag(X)"
   ]
  },
  {
   "cell_type": "code",
   "execution_count": 20,
   "id": "91932545",
   "metadata": {},
   "outputs": [
    {
     "data": {
      "text/plain": [
       "-1.4424595104211342"
      ]
     },
     "execution_count": 20,
     "metadata": {},
     "output_type": "execute_result"
    }
   ],
   "source": [
    "np.trace(X)"
   ]
  },
  {
   "cell_type": "code",
   "execution_count": 21,
   "id": "c9f4da4a",
   "metadata": {},
   "outputs": [
    {
     "data": {
      "text/plain": [
       "-1.4424595200000003"
      ]
     },
     "execution_count": 21,
     "metadata": {},
     "output_type": "execute_result"
    }
   ],
   "source": [
    "-0.65510162 + (-0.1306248) + (-0.73867771) + 0.10431179 + (-0.02236718)"
   ]
  },
  {
   "cell_type": "code",
   "execution_count": 23,
   "id": "b8c29ead",
   "metadata": {},
   "outputs": [
    {
     "data": {
      "text/plain": [
       "-2.8942651317270145"
      ]
     },
     "execution_count": 23,
     "metadata": {},
     "output_type": "execute_result"
    }
   ],
   "source": [
    "np.linalg.det(X)"
   ]
  },
  {
   "cell_type": "code",
   "execution_count": 24,
   "id": "0e57409b",
   "metadata": {},
   "outputs": [
    {
     "data": {
      "text/plain": [
       "(array([-1.5007854 +0.j        , -0.9254703 +0.83364485j,\n",
       "        -0.9254703 -0.83364485j,  0.95463325+0.5759332j ,\n",
       "         0.95463325-0.5759332j ]),\n",
       " array([[ 0.3144604 +0.j        ,  0.36478402+0.12919739j,\n",
       "          0.36478402-0.12919739j,  0.59950819+0.j        ,\n",
       "          0.59950819-0.j        ],\n",
       "        [ 0.18433061+0.j        ,  0.21807816-0.33217408j,\n",
       "          0.21807816+0.33217408j,  0.43411926-0.32531823j,\n",
       "          0.43411926+0.32531823j],\n",
       "        [-0.0372125 +0.j        ,  0.49487819+0.j        ,\n",
       "          0.49487819-0.j        ,  0.08551811+0.27118237j,\n",
       "          0.08551811-0.27118237j],\n",
       "        [-0.61093108+0.j        , -0.25796443+0.37933181j,\n",
       "         -0.25796443-0.37933181j,  0.3281508 -0.06930974j,\n",
       "          0.3281508 +0.06930974j],\n",
       "        [-0.70179437+0.j        , -0.2442199 +0.42113763j,\n",
       "         -0.2442199 -0.42113763j, -0.31649467-0.22975976j,\n",
       "         -0.31649467+0.22975976j]]))"
      ]
     },
     "execution_count": 24,
     "metadata": {},
     "output_type": "execute_result"
    }
   ],
   "source": [
    "np.linalg.eig(X)"
   ]
  },
  {
   "cell_type": "code",
   "execution_count": 26,
   "id": "9a5ba2d5",
   "metadata": {},
   "outputs": [
    {
     "data": {
      "text/plain": [
       "array([[-0.62387653,  0.95829923, -0.04962876,  0.84347599, -0.46091694],\n",
       "       [ 0.27034864,  0.43825608, -0.78619788,  0.06779964,  0.39392764],\n",
       "       [-0.81480783,  0.02828508, -0.11503977,  0.91923939, -1.18712457],\n",
       "       [ 0.75581791,  0.35004827, -0.12286205, -0.69558975,  0.46260641],\n",
       "       [ 0.51763442, -0.06207716,  0.05497141, -1.29402189,  0.67288557]])"
      ]
     },
     "execution_count": 26,
     "metadata": {},
     "output_type": "execute_result"
    }
   ],
   "source": [
    "np.linalg.inv(X) # matriz inversa"
   ]
  },
  {
   "cell_type": "code",
   "execution_count": 29,
   "id": "ed9f87ba",
   "metadata": {},
   "outputs": [
    {
     "data": {
      "text/plain": [
       "array([[-0.62387653,  0.95829923, -0.04962876,  0.84347599, -0.46091694],\n",
       "       [ 0.27034864,  0.43825608, -0.78619788,  0.06779964,  0.39392764],\n",
       "       [-0.81480783,  0.02828508, -0.11503977,  0.91923939, -1.18712457],\n",
       "       [ 0.75581791,  0.35004827, -0.12286205, -0.69558975,  0.46260641],\n",
       "       [ 0.51763442, -0.06207716,  0.05497141, -1.29402189,  0.67288557]])"
      ]
     },
     "execution_count": 29,
     "metadata": {},
     "output_type": "execute_result"
    }
   ],
   "source": [
    "np.linalg.pinv(X)"
   ]
  },
  {
   "cell_type": "code",
   "execution_count": 30,
   "id": "23876654",
   "metadata": {},
   "outputs": [
    {
     "data": {
      "text/plain": [
       "array([[False, False, False, False, False],\n",
       "       [False, False, False, False, False],\n",
       "       [False, False, False, False, False],\n",
       "       [False, False, False, False, False],\n",
       "       [False, False, False, False, False]])"
      ]
     },
     "execution_count": 30,
     "metadata": {},
     "output_type": "execute_result"
    }
   ],
   "source": [
    "np.linalg.pinv(X) == np.linalg.inv(X)"
   ]
  },
  {
   "cell_type": "code",
   "execution_count": null,
   "id": "ccb2578b",
   "metadata": {},
   "outputs": [],
   "source": []
  },
  {
   "cell_type": "code",
   "execution_count": null,
   "id": "49b13e5f",
   "metadata": {},
   "outputs": [],
   "source": []
  },
  {
   "cell_type": "code",
   "execution_count": null,
   "id": "28730496",
   "metadata": {},
   "outputs": [],
   "source": []
  },
  {
   "cell_type": "code",
   "execution_count": null,
   "id": "440d802c",
   "metadata": {},
   "outputs": [],
   "source": []
  },
  {
   "cell_type": "code",
   "execution_count": null,
   "id": "ab7acf62",
   "metadata": {},
   "outputs": [],
   "source": []
  },
  {
   "cell_type": "code",
   "execution_count": null,
   "id": "b234b745",
   "metadata": {},
   "outputs": [],
   "source": []
  }
 ],
 "metadata": {
  "kernelspec": {
   "display_name": "Python 3 (ipykernel)",
   "language": "python",
   "name": "python3"
  },
  "language_info": {
   "codemirror_mode": {
    "name": "ipython",
    "version": 3
   },
   "file_extension": ".py",
   "mimetype": "text/x-python",
   "name": "python",
   "nbconvert_exporter": "python",
   "pygments_lexer": "ipython3",
   "version": "3.9.12"
  }
 },
 "nbformat": 4,
 "nbformat_minor": 5
}
