{
 "cells": [
  {
   "cell_type": "code",
   "execution_count": 2,
   "metadata": {},
   "outputs": [],
   "source": [
    "import requests\n",
    "import json"
   ]
  },
  {
   "cell_type": "code",
   "execution_count": 3,
   "metadata": {},
   "outputs": [
    {
     "name": "stdout",
     "output_type": "stream",
     "text": [
      "{'USD': {'code': 'USD', 'codein': 'BRL', 'name': 'Dólar Americano/Real Brasileiro', 'high': '5.1007', 'low': '5.1007', 'varBid': '0.0004', 'pctChange': '0.01', 'bid': '5.1003', 'ask': '5.1012', 'timestamp': '1674038917', 'create_date': '2023-01-18 07:48:37'}, 'USDT': {'code': 'USD', 'codein': 'BRLT', 'name': 'Dólar Americano/Real Brasileiro Turismo', 'high': '5.125', 'low': '5.125', 'varBid': '0', 'pctChange': '0', 'bid': '4.97', 'ask': '5.28', 'timestamp': '1674039360', 'create_date': '2023-01-18 07:56:00'}, 'CAD': {'code': 'CAD', 'codein': 'BRL', 'name': 'Dólar Canadense/Real Brasileiro', 'high': '3.8203', 'low': '3.804', 'varBid': '0.0101', 'pctChange': '0.27', 'bid': '3.8182', 'ask': '3.8191', 'timestamp': '1674040222', 'create_date': '2023-01-18 08:10:22'}, 'GBP': {'code': 'GBP', 'codein': 'BRL', 'name': 'Libra Esterlina/Real Brasileiro', 'high': '6.3063', 'low': '6.2515', 'varBid': '0.0335', 'pctChange': '0.53', 'bid': '6.2989', 'ask': '6.3025', 'timestamp': '1674040221', 'create_date': '2023-01-18 08:10:21'}, 'ARS': {'code': 'ARS', 'codein': 'BRL', 'name': 'Peso Argentino/Real Brasileiro', 'high': '0.028', 'low': '0.0279', 'varBid': '0.0001', 'pctChange': '0.18', 'bid': '0.0279', 'ask': '0.028', 'timestamp': '1674040222', 'create_date': '2023-01-18 08:10:22'}, 'BTC': {'code': 'BTC', 'codein': 'BRL', 'name': 'Bitcoin/Real Brasileiro', 'high': '110.81', 'low': '108.609', 'varBid': '-408', 'pctChange': '-0.37', 'bid': '109.014', 'ask': '109.084', 'timestamp': '1674040223', 'create_date': '2023-01-18 08:10:23'}, 'LTC': {'code': 'LTC', 'codein': 'BRL', 'name': 'Litecoin/Real Brasileiro', 'high': '457.9', 'low': '440.42', 'varBid': '-1.32', 'pctChange': '-0.3', 'bid': '442.64', 'ask': '443.89', 'timestamp': '1674040171', 'create_date': '2023-01-18 08:09:31'}, 'EUR': {'code': 'EUR', 'codein': 'BRL', 'name': 'Euro/Real Brasileiro', 'high': '5.545', 'low': '5.4917', 'varBid': '0.0311', 'pctChange': '0.57', 'bid': '5.5318', 'ask': '5.5348', 'timestamp': '1674040222', 'create_date': '2023-01-18 08:10:22'}, 'JPY': {'code': 'JPY', 'codein': 'BRL', 'name': 'Iene Japonês/Real Brasileiro', 'high': '0.03981', 'low': '0.03879', 'varBid': '-0.0003', 'pctChange': '-0.75', 'bid': '0.03947', 'ask': '0.03949', 'timestamp': '1674040225', 'create_date': '2023-01-18 08:10:25'}, 'CHF': {'code': 'CHF', 'codein': 'BRL', 'name': 'Franco Suíço/Real Brasileiro', 'high': '5.589', 'low': '5.5167', 'varBid': '0.0577', 'pctChange': '1.04', 'bid': '5.5863', 'ask': '5.5879', 'timestamp': '1674040222', 'create_date': '2023-01-18 08:10:22'}, 'AUD': {'code': 'AUD', 'codein': 'BRL', 'name': 'Dólar Australiano/Real Brasileiro', 'high': '3.5891', 'low': '3.5573', 'varBid': '0.0199', 'pctChange': '0.56', 'bid': '3.5819', 'ask': '3.5851', 'timestamp': '1674040222', 'create_date': '2023-01-18 08:10:22'}, 'CNY': {'code': 'CNY', 'codein': 'BRL', 'name': 'Yuan Chinês/Real Brasileiro', 'high': '0.7555', 'low': '0.7515', 'varBid': '-0.0036', 'pctChange': '-0.47', 'bid': '0.7554', 'ask': '0.7555', 'timestamp': '1674040205', 'create_date': '2023-01-18 08:10:05'}, 'ILS': {'code': 'ILS', 'codein': 'BRL', 'name': 'Novo Shekel Israelense/Real Brasileiro', 'high': '1.5113', 'low': '1.4979', 'varBid': '0.005', 'pctChange': '0.33', 'bid': '1.5105', 'ask': '1.5108', 'timestamp': '1674040208', 'create_date': '2023-01-18 08:10:08'}, 'ETH': {'code': 'ETH', 'codein': 'BRL', 'name': 'Ethereum/Real Brasileiro', 'high': '8.26933', 'low': '8.0609', 'varBid': '14.35', 'pctChange': '0.18', 'bid': '8.09932', 'ask': '8.10575', 'timestamp': '1674040224', 'create_date': '2023-01-18 08:10:24'}, 'XRP': {'code': 'XRP', 'codein': 'BRL', 'name': 'XRP/Real Brasileiro', 'high': '2.05', 'low': '1.98', 'varBid': '-0.01', 'pctChange': '-0.45', 'bid': '2', 'ask': '2', 'timestamp': '1674040189', 'create_date': '2023-01-18 08:09:49'}, 'DOGE': {'code': 'DOGE', 'codein': 'BRL', 'name': 'Dogecoin/Real Brasileiro', 'high': '0.454351', 'low': '0.423035', 'varBid': '0.00653101', 'pctChange': '1.51', 'bid': '0.438911', 'ask': '0.438911', 'timestamp': '1674040223', 'create_date': '2023-01-18 08:10:23'}}\n"
     ]
    }
   ],
   "source": [
    "# puxando uma informações com o .get()\n",
    "cotacoes = requests.get('https://economia.awesomeapi.com.br/json/all')\n",
    "\n",
    "# transformando o request (que volta como um parâmetro json) em um dicionário do python\n",
    "cotacoes_dict = cotacoes.json()\n",
    "print(cotacoes_dict)"
   ]
  },
  {
   "cell_type": "code",
   "execution_count": 17,
   "metadata": {},
   "outputs": [
    {
     "name": "stdout",
     "output_type": "stream",
     "text": [
      "Dólar: 5.1003\n",
      "Euro: 5.5318\n",
      "Bitcoin: 109.014\n"
     ]
    }
   ],
   "source": [
    "print(\"Dólar: {}\".format(cotacoes_dict['USD']['bid']))\n",
    "print(\"Euro: {}\".format(cotacoes_dict['EUR']['bid']))\n",
    "print(\"Bitcoin: {}\".format(cotacoes_dict['BTC']['bid']))"
   ]
  },
  {
   "cell_type": "code",
   "execution_count": 22,
   "metadata": {},
   "outputs": [
    {
     "name": "stdout",
     "output_type": "stream",
     "text": [
      "{'code': 'USD', 'codein': 'BRL', 'name': 'Dólar Americano/Real Brasileiro', 'high': '5.1007', 'low': '5.1007', 'varBid': '0.0004', 'pctChange': '0.01', 'bid': '5.1003', 'ask': '5.1012', 'timestamp': '1674039462', 'create_date': '2023-01-18 07:57:42'}\n"
     ]
    }
   ],
   "source": [
    "# pegando a cotação do Dólar dos últimos 30 dias \n",
    "cotacoes_dias = requests.get('https://economia.awesomeapi.com.br/json/USD-BRL/30')\n",
    "\n",
    "cotacoes_dolar_30d = cotacoes_dias.json()\n",
    "print(cotacoes_dolar_30d[0])"
   ]
  },
  {
   "cell_type": "code",
   "execution_count": 30,
   "metadata": {},
   "outputs": [
    {
     "name": "stdout",
     "output_type": "stream",
     "text": [
      "[5.1003, 5.1003, 5.1003, 5.1003, 5.1003, 5.1003, 5.1003, 5.1003, 5.1003, 5.1003, 5.1003, 5.1003, 5.1003, 5.1003, 5.1003, 5.1003, 5.1003, 5.1003, 5.1003, 5.1003, 5.1003, 5.1003, 5.1003, 5.1003, 5.1003, 5.1003, 5.1003, 5.1003, 5.1003, 5.1003]\n"
     ]
    }
   ],
   "source": [
    "# vamos pegar a informação do bid de cada indice do dicionário\n",
    "# transformando o valor da cotação em float\n",
    "\n",
    "lista_cotacoes_USD = [float(item['bid']) for item in cotacoes_dolar_30d]\n",
    "print(lista_cotacoes_USD)"
   ]
  },
  {
   "cell_type": "code",
   "execution_count": 42,
   "metadata": {},
   "outputs": [
    {
     "name": "stdout",
     "output_type": "stream",
     "text": [
      "[{'code': 'BTC', 'codein': 'BRL', 'name': 'Bitcoin/Real Brasileiro', 'high': '110.81', 'low': '108.609', 'varBid': '-716', 'pctChange': '-0.65', 'bid': '109.052', 'ask': '109.082', 'timestamp': '1674042126', 'create_date': '2023-01-18 08:42:06'}, {'high': '110.81', 'low': '108.609', 'varBid': '-716', 'pctChange': '-0.65', 'bid': '109.019', 'ask': '109.082', 'timestamp': '1674042038'}, {'high': '110.81', 'low': '108.609', 'varBid': '-716', 'pctChange': '-0.65', 'bid': '109.065', 'ask': '109.082', 'timestamp': '1674041969'}, {'high': '110.81', 'low': '108.609', 'varBid': '-716', 'pctChange': '-0.65', 'bid': '109.082', 'ask': '109.082', 'timestamp': '1674041900'}, {'high': '110.81', 'low': '108.609', 'varBid': '-716', 'pctChange': '-0.65', 'bid': '109.066', 'ask': '109.082', 'timestamp': '1674041836'}, {'high': '110.81', 'low': '108.609', 'varBid': '-716', 'pctChange': '-0.65', 'bid': '109.068', 'ask': '109.082', 'timestamp': '1674041766'}, {'high': '110.81', 'low': '108.609', 'varBid': '-716', 'pctChange': '-0.65', 'bid': '109.034', 'ask': '109.082', 'timestamp': '1674041698'}, {'high': '110.81', 'low': '108.609', 'varBid': '-765', 'pctChange': '-0.7', 'bid': '109.001', 'ask': '109.077', 'timestamp': '1674041635'}, {'high': '110.81', 'low': '108.609', 'varBid': '-729', 'pctChange': '-0.66', 'bid': '109.001', 'ask': '109.04', 'timestamp': '1674041571'}, {'high': '110.81', 'low': '108.609', 'varBid': '-716', 'pctChange': '-0.65', 'bid': '109.007', 'ask': '109.07', 'timestamp': '1674041503'}, {'high': '110.81', 'low': '108.609', 'varBid': '-716', 'pctChange': '-0.65', 'bid': '109.037', 'ask': '109.082', 'timestamp': '1674041441'}, {'high': '110.81', 'low': '108.609', 'varBid': '-798', 'pctChange': '-0.73', 'bid': '109.049', 'ask': '109.082', 'timestamp': '1674041380'}, {'high': '110.81', 'low': '108.609', 'varBid': '-798', 'pctChange': '-0.73', 'bid': '109', 'ask': '109.077', 'timestamp': '1674041283'}, {'high': '110.81', 'low': '108.609', 'varBid': '-716', 'pctChange': '-0.65', 'bid': '109.011', 'ask': '109.082', 'timestamp': '1674041217'}, {'high': '110.81', 'low': '108.609', 'varBid': '-798', 'pctChange': '-0.73', 'bid': '109.048', 'ask': '109.082', 'timestamp': '1674041156'}, {'high': '110.81', 'low': '108.609', 'varBid': '-798', 'pctChange': '-0.73', 'bid': '109', 'ask': '109.059', 'timestamp': '1674041083'}, {'high': '110.81', 'low': '108.609', 'varBid': '-798', 'pctChange': '-0.73', 'bid': '109.03', 'ask': '109.082', 'timestamp': '1674041018'}, {'high': '110.81', 'low': '108.609', 'varBid': '-798', 'pctChange': '-0.73', 'bid': '109', 'ask': '109.046', 'timestamp': '1674040956'}, {'high': '110.81', 'low': '108.609', 'varBid': '-716', 'pctChange': '-0.65', 'bid': '109.008', 'ask': '109.018', 'timestamp': '1674040892'}, {'high': '110.81', 'low': '108.609', 'varBid': '-330', 'pctChange': '-0.3', 'bid': '109.008', 'ask': '109.072', 'timestamp': '1674040748'}, {'high': '110.81', 'low': '108.609', 'varBid': '-405', 'pctChange': '-0.37', 'bid': '109.008', 'ask': '109.047', 'timestamp': '1674040330'}, {'high': '110.81', 'low': '108.609', 'varBid': '-405', 'pctChange': '-0.37', 'bid': '109.022', 'ask': '109.103', 'timestamp': '1674040254'}, {'high': '110.81', 'low': '108.609', 'varBid': '-408', 'pctChange': '-0.37', 'bid': '109.023', 'ask': '109.109', 'timestamp': '1674040190'}, {'high': '110.81', 'low': '108.609', 'varBid': '-377', 'pctChange': '-0.34', 'bid': '109.045', 'ask': '109.109', 'timestamp': '1674040128'}, {'high': '110.81', 'low': '108.609', 'varBid': '-303', 'pctChange': '-0.28', 'bid': '109.035', 'ask': '109.109', 'timestamp': '1674040065'}, {'high': '110.81', 'low': '108.609', 'varBid': '-303', 'pctChange': '-0.28', 'bid': '109.039', 'ask': '109.109', 'timestamp': '1674040004'}, {'high': '110.81', 'low': '108.609', 'varBid': '-303', 'pctChange': '-0.28', 'bid': '109.023', 'ask': '109.104', 'timestamp': '1674039943'}, {'high': '110.81', 'low': '108.609', 'varBid': '-303', 'pctChange': '-0.28', 'bid': '109.067', 'ask': '109.109', 'timestamp': '1674039859'}, {'high': '110.81', 'low': '108.609', 'varBid': '-356', 'pctChange': '-0.33', 'bid': '109.061', 'ask': '109.109', 'timestamp': '1674039797'}, {'high': '110.81', 'low': '108.609', 'varBid': '-356', 'pctChange': '-0.33', 'bid': '109.046', 'ask': '109.056', 'timestamp': '1674039737'}, {'high': '110.81', 'low': '108.609', 'varBid': '-412', 'pctChange': '-0.38', 'bid': '109', 'ask': '109.053', 'timestamp': '1674039676'}, {'high': '110.81', 'low': '108.609', 'varBid': '-412', 'pctChange': '-0.38', 'bid': '109', 'ask': '109.045', 'timestamp': '1674039614'}, {'high': '110.81', 'low': '108.609', 'varBid': '-312', 'pctChange': '-0.28', 'bid': '109.1', 'ask': '109.155', 'timestamp': '1674039183'}, {'high': '110.81', 'low': '108.609', 'varBid': '-239', 'pctChange': '-0.22', 'bid': '109.101', 'ask': '109.141', 'timestamp': '1674039092'}, {'high': '110.81', 'low': '108.609', 'varBid': '-239', 'pctChange': '-0.22', 'bid': '109.102', 'ask': '109.171', 'timestamp': '1674039023'}, {'high': '110.81', 'low': '108.609', 'varBid': '-309', 'pctChange': '-0.28', 'bid': '109.1', 'ask': '109.15', 'timestamp': '1674038955'}, {'high': '110.81', 'low': '108.609', 'varBid': '-227', 'pctChange': '-0.21', 'bid': '109.112', 'ask': '109.185', 'timestamp': '1674038889'}, {'high': '110.81', 'low': '108.609', 'varBid': '-282', 'pctChange': '-0.26', 'bid': '109.121', 'ask': '109.185', 'timestamp': '1674038821'}, {'high': '110.81', 'low': '108.609', 'varBid': '-238', 'pctChange': '-0.22', 'bid': '109.123', 'ask': '109.147', 'timestamp': '1674038642'}, {'high': '110.81', 'low': '108.609', 'varBid': '-259', 'pctChange': '-0.24', 'bid': '109.153', 'ask': '109.185', 'timestamp': '1674038484'}, {'high': '110.81', 'low': '108.609', 'varBid': '-167', 'pctChange': '-0.15', 'bid': '109.153', 'ask': '109.232', 'timestamp': '1674038422'}, {'high': '110.81', 'low': '108.609', 'varBid': '-133', 'pctChange': '-0.12', 'bid': '109.279', 'ask': '109.279', 'timestamp': '1674038360'}, {'high': '110.81', 'low': '108.609', 'varBid': '-133', 'pctChange': '-0.12', 'bid': '109.279', 'ask': '109.279', 'timestamp': '1674038274'}, {'high': '110.81', 'low': '108.609', 'varBid': '-133', 'pctChange': '-0.12', 'bid': '109.279', 'ask': '109.279', 'timestamp': '1674038185'}, {'high': '110.81', 'low': '108.609', 'varBid': '-107', 'pctChange': '-0.1', 'bid': '109.279', 'ask': '109.279', 'timestamp': '1674038088'}, {'high': '110.81', 'low': '108.609', 'varBid': '-107', 'pctChange': '-0.1', 'bid': '109.279', 'ask': '109.279', 'timestamp': '1674038018'}, {'high': '110.81', 'low': '108.609', 'varBid': '-31', 'pctChange': '-0.03', 'bid': '109.287', 'ask': '109.385', 'timestamp': '1674037267'}, {'high': '110.81', 'low': '108.609', 'varBid': '-23', 'pctChange': '-0.02', 'bid': '109.292', 'ask': '109.381', 'timestamp': '1674037204'}, {'high': '110.81', 'low': '108.609', 'varBid': '-114', 'pctChange': '-0.1', 'bid': '109.292', 'ask': '109.329', 'timestamp': '1674037141'}, {'high': '110.81', 'low': '108.609', 'varBid': '-116', 'pctChange': '-0.11', 'bid': '109.288', 'ask': '109.329', 'timestamp': '1674037077'}, {'high': '110.81', 'low': '108.609', 'varBid': '-121', 'pctChange': '-0.11', 'bid': '109.281', 'ask': '109.283', 'timestamp': '1674036924'}, {'high': '110.81', 'low': '108.609', 'varBid': '-124', 'pctChange': '-0.11', 'bid': '109.28', 'ask': '109.289', 'timestamp': '1674036861'}, {'high': '110.81', 'low': '108.609', 'varBid': '-125', 'pctChange': '-0.11', 'bid': '109.279', 'ask': '109.279', 'timestamp': '1674036800'}, {'high': '110.81', 'low': '108.609', 'varBid': '-125', 'pctChange': '-0.11', 'bid': '109.279', 'ask': '109.279', 'timestamp': '1674036734'}, {'high': '110.81', 'low': '108.609', 'varBid': '-115', 'pctChange': '-0.1', 'bid': '109.277', 'ask': '109.289', 'timestamp': '1674036643'}, {'high': '110.81', 'low': '108.609', 'varBid': '-189', 'pctChange': '-0.17', 'bid': '109.215', 'ask': '109.275', 'timestamp': '1674036578'}, {'high': '110.81', 'low': '108.609', 'varBid': '-191', 'pctChange': '-0.17', 'bid': '109.213', 'ask': '109.275', 'timestamp': '1674036512'}, {'high': '110.81', 'low': '108.609', 'varBid': '-132', 'pctChange': '-0.12', 'bid': '109.202', 'ask': '109.271', 'timestamp': '1674036296'}, {'high': '110.81', 'low': '108.609', 'varBid': '-231', 'pctChange': '-0.21', 'bid': '109.155', 'ask': '109.206', 'timestamp': '1674036234'}, {'high': '110.81', 'low': '108.609', 'varBid': '-251', 'pctChange': '-0.23', 'bid': '109.153', 'ask': '109.173', 'timestamp': '1674036173'}, {'high': '110.81', 'low': '108.609', 'varBid': '-187', 'pctChange': '-0.17', 'bid': '109.154', 'ask': '109.185', 'timestamp': '1674036110'}, {'high': '110.81', 'low': '108.609', 'varBid': '-187', 'pctChange': '-0.17', 'bid': '109.182', 'ask': '109.217', 'timestamp': '1674036041'}, {'high': '110.81', 'low': '108.609', 'varBid': '-234', 'pctChange': '-0.21', 'bid': '109.152', 'ask': '109.251', 'timestamp': '1674035944'}, {'high': '110.81', 'low': '108.609', 'varBid': '-239', 'pctChange': '-0.22', 'bid': '109.165', 'ask': '109.237', 'timestamp': '1674035875'}, {'high': '110.81', 'low': '108.609', 'varBid': '-204', 'pctChange': '-0.19', 'bid': '109.2', 'ask': '109.242', 'timestamp': '1674035778'}, {'high': '110.81', 'low': '108.609', 'varBid': '-204', 'pctChange': '-0.19', 'bid': '109.2', 'ask': '109.25', 'timestamp': '1674035710'}, {'high': '110.81', 'low': '108.609', 'varBid': '-204', 'pctChange': '-0.19', 'bid': '109.2', 'ask': '109.232', 'timestamp': '1674035498'}, {'high': '110.81', 'low': '108.609', 'varBid': '-185', 'pctChange': '-0.17', 'bid': '109.204', 'ask': '109.218', 'timestamp': '1674035438'}, {'high': '110.81', 'low': '108.609', 'varBid': '-185', 'pctChange': '-0.17', 'bid': '109.218', 'ask': '109.218', 'timestamp': '1674035374'}, {'high': '110.81', 'low': '108.609', 'varBid': '-185', 'pctChange': '-0.17', 'bid': '109.218', 'ask': '109.218', 'timestamp': '1674035308'}, {'high': '110.81', 'low': '108.609', 'varBid': '-204', 'pctChange': '-0.19', 'bid': '109.2', 'ask': '109.216', 'timestamp': '1674035232'}, {'high': '110.81', 'low': '108.609', 'varBid': '-122', 'pctChange': '-0.11', 'bid': '109.202', 'ask': '109.259', 'timestamp': '1674034575'}, {'high': '110.81', 'low': '108.609', 'varBid': '-122', 'pctChange': '-0.11', 'bid': '109.204', 'ask': '109.282', 'timestamp': '1674034502'}, {'high': '110.81', 'low': '108.609', 'varBid': '-52', 'pctChange': '-0.05', 'bid': '109.249', 'ask': '109.314', 'timestamp': '1674034435'}, {'high': '110.81', 'low': '108.609', 'varBid': '-38', 'pctChange': '-0.04', 'bid': '109.287', 'ask': '109.352', 'timestamp': '1674034374'}, {'high': '110.81', 'low': '108.609', 'varBid': '-32', 'pctChange': '-0.03', 'bid': '109.28', 'ask': '109.346', 'timestamp': '1674034313'}, {'high': '110.81', 'low': '108.609', 'varBid': '77', 'pctChange': '0.07', 'bid': '109.314', 'ask': '109.375', 'timestamp': '1674034248'}, {'high': '110.81', 'low': '108.609', 'varBid': '77', 'pctChange': '0.07', 'bid': '109.303', 'ask': '109.366', 'timestamp': '1674034186'}, {'high': '110.81', 'low': '108.609', 'varBid': '77', 'pctChange': '0.07', 'bid': '109.314', 'ask': '109.385', 'timestamp': '1674034122'}, {'high': '110.81', 'low': '108.609', 'varBid': '61', 'pctChange': '0.06', 'bid': '109.359', 'ask': '109.507', 'timestamp': '1674033744'}, {'high': '110.81', 'low': '108.609', 'varBid': '61', 'pctChange': '0.06', 'bid': '109.411', 'ask': '109.516', 'timestamp': '1674033676'}, {'high': '110.81', 'low': '108.609', 'varBid': '-216', 'pctChange': '-0.2', 'bid': '109.27', 'ask': '109.38', 'timestamp': '1674033613'}, {'high': '110.81', 'low': '108.609', 'varBid': '-149', 'pctChange': '-0.14', 'bid': '109.266', 'ask': '109.336', 'timestamp': '1674033541'}, {'high': '110.81', 'low': '108.609', 'varBid': '-239', 'pctChange': '-0.22', 'bid': '109.209', 'ask': '109.289', 'timestamp': '1674033470'}, {'high': '110.81', 'low': '108.609', 'varBid': '-144', 'pctChange': '-0.13', 'bid': '109.205', 'ask': '109.246', 'timestamp': '1674033405'}, {'high': '110.81', 'low': '108.609', 'varBid': '-144', 'pctChange': '-0.13', 'bid': '109.263', 'ask': '109.345', 'timestamp': '1674033339'}, {'high': '110.81', 'low': '108.609', 'varBid': '-144', 'pctChange': '-0.13', 'bid': '109.246', 'ask': '109.327', 'timestamp': '1674033267'}, {'high': '110.81', 'low': '108.609', 'varBid': '-175', 'pctChange': '-0.16', 'bid': '109.31', 'ask': '109.22', 'timestamp': '1674032869'}, {'high': '110.81', 'low': '108.609', 'varBid': '-175', 'pctChange': '-0.16', 'bid': '109.31', 'ask': '109.313', 'timestamp': '1674032804'}, {'high': '110.81', 'low': '108.609', 'varBid': '-175', 'pctChange': '-0.16', 'bid': '109.31', 'ask': '109.32', 'timestamp': '1674032728'}]\n"
     ]
    }
   ],
   "source": [
    "# pegando as cotações de um período específico\n",
    "# Perído: Janeiro 2021 - Janeiro 2023\n",
    "cotacoes2 = requests.get('https://economia.awesomeapi.com.br/BTC-BRL/100?start_date=20210101&end_date=20231001')\n",
    "\n",
    "cotacoes_btc_periodo = cotacoes2.json()\n",
    "print(cotacoes_btc_periodo)"
   ]
  },
  {
   "cell_type": "code",
   "execution_count": 43,
   "metadata": {},
   "outputs": [
    {
     "name": "stdout",
     "output_type": "stream",
     "text": [
      "[109.052, 109.019, 109.065, 109.082, 109.066, 109.068, 109.034, 109.001, 109.001, 109.007, 109.037, 109.049, 109.0, 109.011, 109.048, 109.0, 109.03, 109.0, 109.008, 109.008, 109.008, 109.022, 109.023, 109.045, 109.035, 109.039, 109.023, 109.067, 109.061, 109.046, 109.0, 109.0, 109.1, 109.101, 109.102, 109.1, 109.112, 109.121, 109.123, 109.153, 109.153, 109.279, 109.279, 109.279, 109.279, 109.279, 109.287, 109.292, 109.292, 109.288, 109.281, 109.28, 109.279, 109.279, 109.277, 109.215, 109.213, 109.202, 109.155, 109.153, 109.154, 109.182, 109.152, 109.165, 109.2, 109.2, 109.2, 109.204, 109.218, 109.218, 109.2, 109.202, 109.204, 109.249, 109.287, 109.28, 109.314, 109.303, 109.314, 109.359, 109.411, 109.27, 109.266, 109.209, 109.205, 109.263, 109.246, 109.31, 109.31, 109.31]\n"
     ]
    }
   ],
   "source": [
    "lista_cotacoes_BTC = [float(item['bid']) for item in cotacoes_btc_periodo]\n",
    "print(lista_cotacoes_BTC)"
   ]
  },
  {
   "cell_type": "code",
   "execution_count": 44,
   "metadata": {},
   "outputs": [],
   "source": [
    "# exibindo no gráfico\n",
    "\n",
    "import matplotlib.pyplot as plt"
   ]
  },
  {
   "cell_type": "code",
   "execution_count": null,
   "metadata": {},
   "outputs": [],
   "source": []
  },
  {
   "cell_type": "code",
   "execution_count": null,
   "metadata": {},
   "outputs": [],
   "source": []
  }
 ],
 "metadata": {
  "kernelspec": {
   "display_name": "base",
   "language": "python",
   "name": "python3"
  },
  "language_info": {
   "codemirror_mode": {
    "name": "ipython",
    "version": 3
   },
   "file_extension": ".py",
   "mimetype": "text/x-python",
   "name": "python",
   "nbconvert_exporter": "python",
   "pygments_lexer": "ipython3",
   "version": "3.9.12"
  },
  "orig_nbformat": 4,
  "vscode": {
   "interpreter": {
    "hash": "c8d3184e42d5090dff9a42825f73ee2454fef8c1131708a89f889453d9fc9d30"
   }
  }
 },
 "nbformat": 4,
 "nbformat_minor": 2
}
