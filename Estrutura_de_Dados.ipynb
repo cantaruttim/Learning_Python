{
  "nbformat": 4,
  "nbformat_minor": 0,
  "metadata": {
    "colab": {
      "provenance": [],
      "authorship_tag": "ABX9TyNMLixiR9c2D/UZU4U4Vx+4",
      "include_colab_link": true
    },
    "kernelspec": {
      "name": "python3",
      "display_name": "Python 3"
    },
    "language_info": {
      "name": "python"
    }
  },
  "cells": [
    {
      "cell_type": "markdown",
      "metadata": {
        "id": "view-in-github",
        "colab_type": "text"
      },
      "source": [
        "<a href=\"https://colab.research.google.com/github/cantaruttim/Learning_Python/blob/main/Estrutura_de_Dados.ipynb\" target=\"_parent\"><img src=\"https://colab.research.google.com/assets/colab-badge.svg\" alt=\"Open In Colab\"/></a>"
      ]
    },
    {
      "cell_type": "markdown",
      "source": [
        "Esse código é uma implementação do algoritmo de ordenação por inserção. Ele tem a função de ordenar uma lista de elementos, neste caso a lista A. O algoritmo percorre a lista um elemento por vez, comparando-o com cada um dos elementos anteriores. Se encontrar um elemento menor que o elemento sendo comparado, então este é deslocado para a direita, e os elementos anteriores são deslocados para a esquerda. O resultado é que a lista é ordenada. No final, a lista A é impressa e contém os elementos em ordem crescente."
      ],
      "metadata": {
        "id": "TBvhZLWp1VHm"
      }
    },
    {
      "cell_type": "code",
      "source": [
        "A = [5,2,4,6,1,3]\n",
        "\n",
        "for j in range(1, len(A)):\n",
        "    key = A[j]\n",
        "    i = j - 1\n",
        "    while i >= 0 and A[i] > key:\n",
        "        A[i + 1] = A[i]\n",
        "        i = i - 1\n",
        "    A[i + 1] = key\n",
        "\n",
        "print(A)"
      ],
      "metadata": {
        "colab": {
          "base_uri": "https://localhost:8080/"
        },
        "id": "cU2_BHEQv6QP",
        "outputId": "e41ac898-1b49-4b19-dee0-7729164a887c"
      },
      "execution_count": 21,
      "outputs": [
        {
          "output_type": "stream",
          "name": "stdout",
          "text": [
            "[1, 2, 3, 4, 5, 6]\n"
          ]
        }
      ]
    },
    {
      "cell_type": "code",
      "source": [],
      "metadata": {
        "id": "0pzwE8XFv6XN"
      },
      "execution_count": null,
      "outputs": []
    },
    {
      "cell_type": "code",
      "source": [],
      "metadata": {
        "id": "hw2pyFIYv6Zy"
      },
      "execution_count": null,
      "outputs": []
    },
    {
      "cell_type": "code",
      "source": [],
      "metadata": {
        "id": "VmJKwUwYv6b-"
      },
      "execution_count": null,
      "outputs": []
    },
    {
      "cell_type": "code",
      "source": [],
      "metadata": {
        "id": "5ju7JJNqv6ei"
      },
      "execution_count": null,
      "outputs": []
    },
    {
      "cell_type": "code",
      "source": [],
      "metadata": {
        "id": "4QUKL8Bev6h7"
      },
      "execution_count": null,
      "outputs": []
    }
  ]
}