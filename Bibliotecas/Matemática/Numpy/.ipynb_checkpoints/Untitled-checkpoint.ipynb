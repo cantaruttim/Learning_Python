{
 "cells": [
  {
   "cell_type": "markdown",
   "id": "42e3ef43",
   "metadata": {},
   "source": [
    "### Álgebra Linear"
   ]
  },
  {
   "cell_type": "code",
   "execution_count": 1,
   "id": "3affcb95",
   "metadata": {},
   "outputs": [],
   "source": [
    "import numpy as np"
   ]
  },
  {
   "cell_type": "code",
   "execution_count": 2,
   "id": "760fa6dc",
   "metadata": {},
   "outputs": [],
   "source": [
    "x = np.array([[1,2,3],[4,5,6]])\n",
    "y = np.array([[6,23],[-1,7], [8,9]])"
   ]
  },
  {
   "cell_type": "code",
   "execution_count": 3,
   "id": "f06a6e94",
   "metadata": {},
   "outputs": [
    {
     "data": {
      "text/plain": [
       "array([[1, 2, 3],\n",
       "       [4, 5, 6]])"
      ]
     },
     "execution_count": 3,
     "metadata": {},
     "output_type": "execute_result"
    }
   ],
   "source": [
    "x"
   ]
  },
  {
   "cell_type": "code",
   "execution_count": 4,
   "id": "b6aea5da",
   "metadata": {},
   "outputs": [
    {
     "data": {
      "text/plain": [
       "array([[ 6, 23],\n",
       "       [-1,  7],\n",
       "       [ 8,  9]])"
      ]
     },
     "execution_count": 4,
     "metadata": {},
     "output_type": "execute_result"
    }
   ],
   "source": [
    "y"
   ]
  },
  {
   "cell_type": "code",
   "execution_count": 5,
   "id": "5deb2852",
   "metadata": {},
   "outputs": [
    {
     "data": {
      "text/plain": [
       "array([[ 28,  64],\n",
       "       [ 67, 181]])"
      ]
     },
     "execution_count": 5,
     "metadata": {},
     "output_type": "execute_result"
    }
   ],
   "source": [
    "x.dot(y) # equivalente ao np.dot(x,y)"
   ]
  },
  {
   "cell_type": "code",
   "execution_count": 6,
   "id": "336c5608",
   "metadata": {},
   "outputs": [
    {
     "data": {
      "text/plain": [
       "array([[ 28,  64],\n",
       "       [ 67, 181]])"
      ]
     },
     "execution_count": 6,
     "metadata": {},
     "output_type": "execute_result"
    }
   ],
   "source": [
    "np.dot(x,y)"
   ]
  },
  {
   "cell_type": "code",
   "execution_count": 7,
   "id": "fbd52de6",
   "metadata": {},
   "outputs": [
    {
     "data": {
      "text/plain": [
       "array([ 6., 15.])"
      ]
     },
     "execution_count": 7,
     "metadata": {},
     "output_type": "execute_result"
    }
   ],
   "source": [
    "# podemos utilizar o @ para realizar a multiplicação\n",
    "\n",
    "x @ np.ones(3)"
   ]
  },
  {
   "cell_type": "code",
   "execution_count": 12,
   "id": "5de08ca7",
   "metadata": {},
   "outputs": [],
   "source": [
    "from numpy.linalg import inv, qr"
   ]
  },
  {
   "cell_type": "code",
   "execution_count": 13,
   "id": "669d417a",
   "metadata": {},
   "outputs": [],
   "source": [
    "X = np.random.randn(5,5)"
   ]
  },
  {
   "cell_type": "code",
   "execution_count": 14,
   "id": "b36fe21a",
   "metadata": {},
   "outputs": [
    {
     "data": {
      "text/plain": [
       "array([[-0.65510162, -0.38654882,  0.07263483,  2.00975397, -1.47599189],\n",
       "       [ 0.9000805 , -0.1306248 , -0.02189332,  0.60078139,  0.24135403],\n",
       "       [ 0.44050904, -1.28536045, -0.73867771,  0.37332903, -0.50562798],\n",
       "       [-0.10672695, -0.00309582, -0.71696522,  0.10431179, -1.40789922],\n",
       "       [ 0.3457574 ,  0.38436577, -1.37634085, -1.32052721, -0.02236718]])"
      ]
     },
     "execution_count": 14,
     "metadata": {},
     "output_type": "execute_result"
    }
   ],
   "source": [
    "X"
   ]
  },
  {
   "cell_type": "code",
   "execution_count": 15,
   "id": "16b4074b",
   "metadata": {},
   "outputs": [
    {
     "data": {
      "text/plain": [
       "array([[ 1.56429008, -0.29732925, -0.79204367, -1.0791016 ,  1.10395623],\n",
       "       [-0.29732925,  1.96638094,  0.3974513 , -1.84309573,  1.18469173],\n",
       "       [-0.79204367,  0.3974513 ,  2.95975317,  1.59976282,  1.30120329],\n",
       "       [-1.0791016 , -1.84309573,  1.59976282,  6.29409692, -3.12746918],\n",
       "       [ 1.10395623,  1.18469173,  1.30120329, -3.12746918,  4.47514398]])"
      ]
     },
     "execution_count": 15,
     "metadata": {},
     "output_type": "execute_result"
    }
   ],
   "source": [
    "mat = X.T.dot(X) # calculo do produto escalar de X com a sua transpposta X.T\n",
    "mat"
   ]
  },
  {
   "cell_type": "code",
   "execution_count": 16,
   "id": "75d8daf3",
   "metadata": {},
   "outputs": [
    {
     "data": {
      "text/plain": [
       "array([[ 1.00000000e+00, -3.63058660e-17, -1.71564194e-16,\n",
       "         4.12511259e-17,  6.30485523e-16],\n",
       "       [ 1.07509350e-15,  1.00000000e+00,  7.78549865e-16,\n",
       "        -6.98816327e-16, -7.52046858e-17],\n",
       "       [-1.12153914e-15,  2.05399292e-16,  1.00000000e+00,\n",
       "         3.31085774e-16,  5.87974689e-16],\n",
       "       [-1.25022434e-15,  9.24760558e-16, -1.65493518e-15,\n",
       "         1.00000000e+00, -7.79410931e-17],\n",
       "       [ 5.86082927e-17, -1.55803527e-16,  3.93987902e-16,\n",
       "         2.94029601e-16,  1.00000000e+00]])"
      ]
     },
     "execution_count": 16,
     "metadata": {},
     "output_type": "execute_result"
    }
   ],
   "source": [
    "mat.dot(inv(mat))"
   ]
  },
  {
   "cell_type": "markdown",
   "id": "06c5994f",
   "metadata": {},
   "source": [
    "##### Algumas funções importantes do _numpy.linalg_\n",
    "\n",
    "```\n",
    "\n",
    "diag : Devolve os elementos diagonais (ou fora da diagonal) de uma matriz quadrada como um array 1D, ou converte um array 1D em uma matriz quadrada, com zeros fora da diagonal.\n",
    "\n",
    "dot : Multiplicação de matrizes.\n",
    "\n",
    "trace : Calcula a soma dos elementos da diagonal.\n",
    "\n",
    "det : Calcula o determinante da matriz.\n",
    "\n",
    "eig : Calcula os autovalores (valores próprios) e os autovetores de uma matriz quadrada.\n",
    "\n",
    "inv : Calcula a inversa de uma matriz quadrada.\n",
    "\n",
    "pinv : Calcula a psudoinversa de Moore-Penrose de uma matriz.\n",
    "\n",
    "qr : Calcula a decomposição QR.\n",
    "\n",
    "svd : Calcula a SVD.\n",
    "\n",
    "solve : Resolve o sistema linear Ax = b, em que A é uma matriz quadrada. \n",
    "\n",
    "lstsq : Calcula a solução de quadrados mínimos para Ax = b\n",
    "\n",
    "```"
   ]
  },
  {
   "cell_type": "code",
   "execution_count": 19,
   "id": "5b4ea186",
   "metadata": {},
   "outputs": [
    {
     "data": {
      "text/plain": [
       "array([[-0.65510162, -0.38654882,  0.07263483,  2.00975397, -1.47599189],\n",
       "       [ 0.9000805 , -0.1306248 , -0.02189332,  0.60078139,  0.24135403],\n",
       "       [ 0.44050904, -1.28536045, -0.73867771,  0.37332903, -0.50562798],\n",
       "       [-0.10672695, -0.00309582, -0.71696522,  0.10431179, -1.40789922],\n",
       "       [ 0.3457574 ,  0.38436577, -1.37634085, -1.32052721, -0.02236718]])"
      ]
     },
     "execution_count": 19,
     "metadata": {},
     "output_type": "execute_result"
    }
   ],
   "source": [
    "X"
   ]
  },
  {
   "cell_type": "code",
   "execution_count": 18,
   "id": "576a16b1",
   "metadata": {},
   "outputs": [
    {
     "data": {
      "text/plain": [
       "array([-0.65510162, -0.1306248 , -0.73867771,  0.10431179, -0.02236718])"
      ]
     },
     "execution_count": 18,
     "metadata": {},
     "output_type": "execute_result"
    }
   ],
   "source": [
    "# diagonal principal da matriz quadrada\n",
    "\n",
    "np.diag(X)"
   ]
  },
  {
   "cell_type": "code",
   "execution_count": null,
   "id": "26b24378",
   "metadata": {},
   "outputs": [],
   "source": []
  },
  {
   "cell_type": "code",
   "execution_count": null,
   "id": "bbcc65a1",
   "metadata": {},
   "outputs": [],
   "source": []
  },
  {
   "cell_type": "code",
   "execution_count": null,
   "id": "19e936b9",
   "metadata": {},
   "outputs": [],
   "source": []
  },
  {
   "cell_type": "code",
   "execution_count": null,
   "id": "59b0f71a",
   "metadata": {},
   "outputs": [],
   "source": []
  },
  {
   "cell_type": "code",
   "execution_count": null,
   "id": "d4f870bd",
   "metadata": {},
   "outputs": [],
   "source": []
  }
 ],
 "metadata": {
  "kernelspec": {
   "display_name": "Python 3 (ipykernel)",
   "language": "python",
   "name": "python3"
  },
  "language_info": {
   "codemirror_mode": {
    "name": "ipython",
    "version": 3
   },
   "file_extension": ".py",
   "mimetype": "text/x-python",
   "name": "python",
   "nbconvert_exporter": "python",
   "pygments_lexer": "ipython3",
   "version": "3.9.12"
  }
 },
 "nbformat": 4,
 "nbformat_minor": 5
}
