{
 "cells": [
  {
   "cell_type": "code",
   "execution_count": 1,
   "metadata": {},
   "outputs": [],
   "source": [
    "import requests\n",
    "import json"
   ]
  },
  {
   "cell_type": "code",
   "execution_count": 6,
   "metadata": {},
   "outputs": [
    {
     "name": "stdout",
     "output_type": "stream",
     "text": [
      "{'USD': {'code': 'USD', 'codein': 'BRL', 'name': 'Dólar Americano/Real Brasileiro', 'high': '5.1007', 'low': '5.1007', 'varBid': '0.0004', 'pctChange': '0.01', 'bid': '5.1003', 'ask': '5.1012', 'timestamp': '1674038658', 'create_date': '2023-01-18 07:44:18'}, 'USDT': {'code': 'USD', 'codein': 'BRLT', 'name': 'Dólar Americano/Real Brasileiro Turismo', 'high': '5.125', 'low': '5.125', 'varBid': '0', 'pctChange': '0', 'bid': '4.97', 'ask': '5.28', 'timestamp': '1674039360', 'create_date': '2023-01-18 07:56:00'}, 'CAD': {'code': 'CAD', 'codein': 'BRL', 'name': 'Dólar Canadense/Real Brasileiro', 'high': '3.8203', 'low': '3.804', 'varBid': '0.0103', 'pctChange': '0.27', 'bid': '3.8179', 'ask': '3.8197', 'timestamp': '1674039857', 'create_date': '2023-01-18 08:04:17'}, 'GBP': {'code': 'GBP', 'codein': 'BRL', 'name': 'Libra Esterlina/Real Brasileiro', 'high': '6.3063', 'low': '6.2515', 'varBid': '0.0343', 'pctChange': '0.55', 'bid': '6.2989', 'ask': '6.3041', 'timestamp': '1674039858', 'create_date': '2023-01-18 08:04:18'}, 'ARS': {'code': 'ARS', 'codein': 'BRL', 'name': 'Peso Argentino/Real Brasileiro', 'high': '0.028', 'low': '0.0279', 'varBid': '0.0001', 'pctChange': '0.18', 'bid': '0.0279', 'ask': '0.028', 'timestamp': '1674039856', 'create_date': '2023-01-18 08:04:16'}, 'BTC': {'code': 'BTC', 'codein': 'BRL', 'name': 'Bitcoin/Real Brasileiro', 'high': '110.81', 'low': '108.609', 'varBid': '-303', 'pctChange': '-0.28', 'bid': '109.066', 'ask': '109.109', 'timestamp': '1674039862', 'create_date': '2023-01-18 08:04:22'}, 'LTC': {'code': 'LTC', 'codein': 'BRL', 'name': 'Litecoin/Real Brasileiro', 'high': '457.9', 'low': '440.42', 'varBid': '-1.32', 'pctChange': '-0.3', 'bid': '442.41', 'ask': '443.92', 'timestamp': '1674039855', 'create_date': '2023-01-18 08:04:15'}, 'EUR': {'code': 'EUR', 'codein': 'BRL', 'name': 'Euro/Real Brasileiro', 'high': '5.545', 'low': '5.4917', 'varBid': '0.0336', 'pctChange': '0.61', 'bid': '5.5343', 'ask': '5.5374', 'timestamp': '1674039859', 'create_date': '2023-01-18 08:04:19'}, 'JPY': {'code': 'JPY', 'codein': 'BRL', 'name': 'Iene Japonês/Real Brasileiro', 'high': '0.03981', 'low': '0.03879', 'varBid': '-0.0003', 'pctChange': '-0.75', 'bid': '0.0395', 'ask': '0.03952', 'timestamp': '1674039862', 'create_date': '2023-01-18 08:04:22'}, 'CHF': {'code': 'CHF', 'codein': 'BRL', 'name': 'Franco Suíço/Real Brasileiro', 'high': '5.589', 'low': '5.5167', 'varBid': '0.0562', 'pctChange': '1.02', 'bid': '5.5845', 'ask': '5.5867', 'timestamp': '1674039857', 'create_date': '2023-01-18 08:04:17'}, 'AUD': {'code': 'AUD', 'codein': 'BRL', 'name': 'Dólar Australiano/Real Brasileiro', 'high': '3.5891', 'low': '3.5573', 'varBid': '0.0197', 'pctChange': '0.55', 'bid': '3.5825', 'ask': '3.5841', 'timestamp': '1674039857', 'create_date': '2023-01-18 08:04:17'}, 'CNY': {'code': 'CNY', 'codein': 'BRL', 'name': 'Yuan Chinês/Real Brasileiro', 'high': '0.7555', 'low': '0.7515', 'varBid': '-0.0038', 'pctChange': '-0.49', 'bid': '0.7552', 'ask': '0.7554', 'timestamp': '1674039844', 'create_date': '2023-01-18 08:04:04'}, 'ILS': {'code': 'ILS', 'codein': 'BRL', 'name': 'Novo Shekel Israelense/Real Brasileiro', 'high': '1.5113', 'low': '1.4979', 'varBid': '0.0047', 'pctChange': '0.31', 'bid': '1.5102', 'ask': '1.5105', 'timestamp': '1674039847', 'create_date': '2023-01-18 08:04:07'}, 'ETH': {'code': 'ETH', 'codein': 'BRL', 'name': 'Ethereum/Real Brasileiro', 'high': '8.26933', 'low': '8.0609', 'varBid': '6.56', 'pctChange': '0.08', 'bid': '8.09983', 'ask': '8.10925', 'timestamp': '1674039861', 'create_date': '2023-01-18 08:04:21'}, 'XRP': {'code': 'XRP', 'codein': 'BRL', 'name': 'XRP/Real Brasileiro', 'high': '2.05', 'low': '1.98', 'varBid': '-0.01', 'pctChange': '-0.45', 'bid': '2', 'ask': '2', 'timestamp': '1674039856', 'create_date': '2023-01-18 08:04:16'}, 'DOGE': {'code': 'DOGE', 'codein': 'BRL', 'name': 'Dogecoin/Real Brasileiro', 'high': '0.454351', 'low': '0.423035', 'varBid': '0.00490701', 'pctChange': '1.13', 'bid': '0.437287', 'ask': '0.437287', 'timestamp': '1674039717', 'create_date': '2023-01-18 08:01:57'}}\n"
     ]
    }
   ],
   "source": [
    "# puxando uma informações com o .get()\n",
    "cotacoes = requests.get('https://economia.awesomeapi.com.br/json/all')\n",
    "\n",
    "# transformando o request (que volta como um parâmetro json) em um dicionário do python\n",
    "cotacoes_dict = cotacoes.json()\n",
    "print(cotacoes_dict)"
   ]
  },
  {
   "cell_type": "code",
   "execution_count": null,
   "metadata": {},
   "outputs": [],
   "source": []
  },
  {
   "cell_type": "code",
   "execution_count": null,
   "metadata": {},
   "outputs": [],
   "source": []
  },
  {
   "cell_type": "code",
   "execution_count": null,
   "metadata": {},
   "outputs": [],
   "source": []
  },
  {
   "cell_type": "code",
   "execution_count": null,
   "metadata": {},
   "outputs": [],
   "source": []
  },
  {
   "cell_type": "code",
   "execution_count": null,
   "metadata": {},
   "outputs": [],
   "source": []
  },
  {
   "cell_type": "code",
   "execution_count": null,
   "metadata": {},
   "outputs": [],
   "source": []
  },
  {
   "cell_type": "code",
   "execution_count": null,
   "metadata": {},
   "outputs": [],
   "source": []
  }
 ],
 "metadata": {
  "kernelspec": {
   "display_name": "base",
   "language": "python",
   "name": "python3"
  },
  "language_info": {
   "codemirror_mode": {
    "name": "ipython",
    "version": 3
   },
   "file_extension": ".py",
   "mimetype": "text/x-python",
   "name": "python",
   "nbconvert_exporter": "python",
   "pygments_lexer": "ipython3",
   "version": "3.9.12"
  },
  "orig_nbformat": 4,
  "vscode": {
   "interpreter": {
    "hash": "c8d3184e42d5090dff9a42825f73ee2454fef8c1131708a89f889453d9fc9d30"
   }
  }
 },
 "nbformat": 4,
 "nbformat_minor": 2
}
