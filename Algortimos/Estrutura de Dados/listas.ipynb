{
 "cells": [
  {
   "cell_type": "code",
   "execution_count": 29,
   "metadata": {},
   "outputs": [],
   "source": [
    "L = [1,2,3,4,5, 6,7,8,9,10]"
   ]
  },
  {
   "cell_type": "code",
   "execution_count": 30,
   "metadata": {},
   "outputs": [
    {
     "data": {
      "text/plain": [
       "10"
      ]
     },
     "execution_count": 30,
     "metadata": {},
     "output_type": "execute_result"
    }
   ],
   "source": [
    "len(L)"
   ]
  },
  {
   "cell_type": "code",
   "execution_count": 31,
   "metadata": {},
   "outputs": [
    {
     "name": "stdout",
     "output_type": "stream",
     "text": [
      "[1, 2, 3, 4, 5, 6, 7, 8, 9, 10]\n",
      "[10]\n",
      "[9, 10]\n",
      "[8, 9, 10]\n",
      "[7, 8, 9, 10]\n",
      "[6, 7, 8, 9, 10]\n",
      "[5, 6, 7, 8, 9, 10]\n",
      "[4, 5, 6, 7, 8, 9, 10]\n",
      "[3, 4, 5, 6, 7, 8, 9, 10]\n",
      "[2, 3, 4, 5, 6, 7, 8, 9, 10]\n"
     ]
    }
   ],
   "source": [
    "for i in range(len(L)):\n",
    "    # percorre a lista toda de trás para frente\n",
    "    print(L[-i:])"
   ]
  },
  {
   "attachments": {},
   "cell_type": "markdown",
   "metadata": {},
   "source": [
    "### busca linear em uma lista "
   ]
  },
  {
   "cell_type": "code",
   "execution_count": 32,
   "metadata": {},
   "outputs": [],
   "source": [
    "# Qual a posição que encontra-se um determinado elemento da lista?"
   ]
  },
  {
   "cell_type": "code",
   "execution_count": 43,
   "metadata": {},
   "outputs": [
    {
     "name": "stdout",
     "output_type": "stream",
     "text": [
      "O índice do elemento 5 é 1\n"
     ]
    }
   ],
   "source": [
    "def busca(lista, elemento):\n",
    "    \"\"\"\n",
    "    Retorna o índice do elemento se ele estiver na lista,\n",
    "    ou None caso contrário\n",
    "    \"\"\"\n",
    "    for i in range(len(lista)):\n",
    "        if lista[i] == elemento:\n",
    "            return i\n",
    "    return None\n",
    "\n",
    "\n",
    "\n",
    "lista = [8, \"5\", 32, 0, \"python\", 11]\n",
    "elemento = \"5\"\n",
    "\n",
    "\n",
    "\n",
    "indice = busca(lista, elemento)\n",
    "\n",
    "if indice is not None:\n",
    "    print(\"O índice do elemento {} é {}\".format(elemento, indice))\n",
    "else:\n",
    "    print(\"O elemento {} não encontra-se na lista\".format(elemento))"
   ]
  },
  {
   "cell_type": "code",
   "execution_count": null,
   "metadata": {},
   "outputs": [],
   "source": []
  },
  {
   "cell_type": "code",
   "execution_count": null,
   "metadata": {},
   "outputs": [],
   "source": []
  },
  {
   "cell_type": "code",
   "execution_count": null,
   "metadata": {},
   "outputs": [],
   "source": []
  },
  {
   "cell_type": "code",
   "execution_count": null,
   "metadata": {},
   "outputs": [],
   "source": []
  },
  {
   "cell_type": "code",
   "execution_count": null,
   "metadata": {},
   "outputs": [],
   "source": []
  },
  {
   "cell_type": "code",
   "execution_count": null,
   "metadata": {},
   "outputs": [],
   "source": []
  },
  {
   "cell_type": "code",
   "execution_count": null,
   "metadata": {},
   "outputs": [],
   "source": []
  },
  {
   "cell_type": "code",
   "execution_count": null,
   "metadata": {},
   "outputs": [],
   "source": []
  }
 ],
 "metadata": {
  "kernelspec": {
   "display_name": "base",
   "language": "python",
   "name": "python3"
  },
  "language_info": {
   "codemirror_mode": {
    "name": "ipython",
    "version": 3
   },
   "file_extension": ".py",
   "mimetype": "text/x-python",
   "name": "python",
   "nbconvert_exporter": "python",
   "pygments_lexer": "ipython3",
   "version": "3.9.12"
  },
  "orig_nbformat": 4,
  "vscode": {
   "interpreter": {
    "hash": "c8d3184e42d5090dff9a42825f73ee2454fef8c1131708a89f889453d9fc9d30"
   }
  }
 },
 "nbformat": 4,
 "nbformat_minor": 2
}
