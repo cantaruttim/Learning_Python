{
 "cells": [
  {
   "cell_type": "code",
   "execution_count": 2,
   "metadata": {},
   "outputs": [],
   "source": [
    "import win32com.client as win32\n",
    "outlook = win32.Dispatch('outlook.application')"
   ]
  },
  {
   "cell_type": "code",
   "execution_count": 3,
   "metadata": {},
   "outputs": [],
   "source": [
    "mail = outlook.CreateItem(0)\n",
    "mail.to = 'cantaruttim@outlook.com'\n",
    "mail.Subject = \"\"\"\n",
    "                Preparando para o início das aulas\n",
    "\n",
    "               \"\"\"\n",
    "mail.Body = 'As aulas do College irão iniciar dia 07/02\\nAs aulas da FATEC Ipiranga irão começar dia 08/02'\n",
    "\n",
    "\n",
    "mail.Send()"
   ]
  },
  {
   "cell_type": "code",
   "execution_count": 4,
   "metadata": {},
   "outputs": [],
   "source": [
    "import pandas as pd"
   ]
  },
  {
   "cell_type": "code",
   "execution_count": 5,
   "metadata": {},
   "outputs": [
    {
     "data": {
      "text/html": [
       "<div>\n",
       "<style scoped>\n",
       "    .dataframe tbody tr th:only-of-type {\n",
       "        vertical-align: middle;\n",
       "    }\n",
       "\n",
       "    .dataframe tbody tr th {\n",
       "        vertical-align: top;\n",
       "    }\n",
       "\n",
       "    .dataframe thead th {\n",
       "        text-align: right;\n",
       "    }\n",
       "</style>\n",
       "<table border=\"1\" class=\"dataframe\">\n",
       "  <thead>\n",
       "    <tr style=\"text-align: right;\">\n",
       "      <th></th>\n",
       "      <th>Gerente</th>\n",
       "      <th>E-mail</th>\n",
       "      <th>Relatório</th>\n",
       "    </tr>\n",
       "  </thead>\n",
       "  <tbody>\n",
       "    <tr>\n",
       "      <th>0</th>\n",
       "      <td>Lira</td>\n",
       "      <td>NaN</td>\n",
       "      <td>Vendas</td>\n",
       "    </tr>\n",
       "    <tr>\n",
       "      <th>1</th>\n",
       "      <td>Julia</td>\n",
       "      <td>NaN</td>\n",
       "      <td>Produção</td>\n",
       "    </tr>\n",
       "    <tr>\n",
       "      <th>2</th>\n",
       "      <td>José</td>\n",
       "      <td>NaN</td>\n",
       "      <td>Manutenção</td>\n",
       "    </tr>\n",
       "    <tr>\n",
       "      <th>3</th>\n",
       "      <td>Gustavo</td>\n",
       "      <td>NaN</td>\n",
       "      <td>Operações</td>\n",
       "    </tr>\n",
       "    <tr>\n",
       "      <th>4</th>\n",
       "      <td>Ana</td>\n",
       "      <td>NaN</td>\n",
       "      <td>Logística</td>\n",
       "    </tr>\n",
       "    <tr>\n",
       "      <th>5</th>\n",
       "      <td>Paula</td>\n",
       "      <td>NaN</td>\n",
       "      <td>Financeiro</td>\n",
       "    </tr>\n",
       "    <tr>\n",
       "      <th>6</th>\n",
       "      <td>Maria</td>\n",
       "      <td>NaN</td>\n",
       "      <td>Marketing</td>\n",
       "    </tr>\n",
       "  </tbody>\n",
       "</table>\n",
       "</div>"
      ],
      "text/plain": [
       "   Gerente  E-mail   Relatório\n",
       "0     Lira     NaN      Vendas\n",
       "1    Julia     NaN    Produção\n",
       "2     José     NaN  Manutenção\n",
       "3  Gustavo     NaN   Operações\n",
       "4      Ana     NaN   Logística\n",
       "5    Paula     NaN  Financeiro\n",
       "6    Maria     NaN   Marketing"
      ]
     },
     "metadata": {},
     "output_type": "display_data"
    }
   ],
   "source": [
    "gerentes_df = pd.read_csv('./Outlook e Python/Enviar E-mails.csv', \n",
    "                            encoding='latin-1', \n",
    "                            sep = ';')\n",
    "display(gerentes_df)"
   ]
  },
  {
   "cell_type": "code",
   "execution_count": 7,
   "metadata": {},
   "outputs": [
    {
     "ename": "com_error",
     "evalue": "(-2147352567, 'Exceção.', (4096, 'Microsoft Outlook', 'O Outlook não reconhece um ou mais nomes. ', None, 0, -2147467259), None)",
     "output_type": "error",
     "traceback": [
      "\u001b[1;31m---------------------------------------------------------------------------\u001b[0m",
      "\u001b[1;31mcom_error\u001b[0m                                 Traceback (most recent call last)",
      "\u001b[1;32mc:\\Users\\Matheus\\OneDrive\\Área de Trabalho\\FATEC - BD Negócios\\Projetos\\Learning_Python_Portfolio\\Cursos\\Hashtag\\Python\\Python e Outlook.ipynb Cell 5\u001b[0m in \u001b[0;36m<cell line: 1>\u001b[1;34m()\u001b[0m\n\u001b[0;32m     <a href='vscode-notebook-cell:/c%3A/Users/Matheus/OneDrive/%C3%81rea%20de%20Trabalho/FATEC%20-%20BD%20Neg%C3%B3cios/Projetos/Learning_Python_Portfolio/Cursos/Hashtag/Python/Python%20e%20Outlook.ipynb#W4sZmlsZQ%3D%3D?line=22'>23</a>\u001b[0m attachment \u001b[39m=\u001b[39m \u001b[39mr\u001b[39m\u001b[39m'\u001b[39m\u001b[39mC:\u001b[39m\u001b[39m\\\u001b[39m\u001b[39mUsers\u001b[39m\u001b[39m\\\u001b[39m\u001b[39mMatheus\u001b[39m\u001b[39m\\\u001b[39m\u001b[39mOneDrive\u001b[39m\u001b[39m\\\u001b[39m\u001b[39mÁrea de Trabalho\u001b[39m\u001b[39m\\\u001b[39m\u001b[39mFATEC - BD Negócios\u001b[39m\u001b[39m\\\u001b[39m\u001b[39mProjetos\u001b[39m\u001b[39m\\\u001b[39m\u001b[39mLearning_Python_Portfolio\u001b[39m\u001b[39m\\\u001b[39m\u001b[39mCursos\u001b[39m\u001b[39m\\\u001b[39m\u001b[39mHashtag\u001b[39m\u001b[39m\\\u001b[39m\u001b[39mPython\u001b[39m\u001b[39m\\\u001b[39m\u001b[39mOutlook e Python\u001b[39m\u001b[39m\\\u001b[39m\u001b[39m{}\u001b[39;00m\u001b[39m.xlsx\u001b[39m\u001b[39m'\u001b[39m\u001b[39m.\u001b[39mformat(area)\n\u001b[0;32m     <a href='vscode-notebook-cell:/c%3A/Users/Matheus/OneDrive/%C3%81rea%20de%20Trabalho/FATEC%20-%20BD%20Neg%C3%B3cios/Projetos/Learning_Python_Portfolio/Cursos/Hashtag/Python/Python%20e%20Outlook.ipynb#W4sZmlsZQ%3D%3D?line=23'>24</a>\u001b[0m mail\u001b[39m.\u001b[39mAttachments\u001b[39m.\u001b[39mAdd(attachment)\n\u001b[1;32m---> <a href='vscode-notebook-cell:/c%3A/Users/Matheus/OneDrive/%C3%81rea%20de%20Trabalho/FATEC%20-%20BD%20Neg%C3%B3cios/Projetos/Learning_Python_Portfolio/Cursos/Hashtag/Python/Python%20e%20Outlook.ipynb#W4sZmlsZQ%3D%3D?line=25'>26</a>\u001b[0m mail\u001b[39m.\u001b[39;49mSend()\n",
      "File \u001b[1;32m<COMObject CreateItem>:2\u001b[0m, in \u001b[0;36mSend\u001b[1;34m(self)\u001b[0m\n",
      "\u001b[1;31mcom_error\u001b[0m: (-2147352567, 'Exceção.', (4096, 'Microsoft Outlook', 'O Outlook não reconhece um ou mais nomes. ', None, 0, -2147467259), None)"
     ]
    }
   ],
   "source": [
    "for i, email in enumerate(gerentes_df['E-mail']):\n",
    "    gerente = gerentes_df.loc[i, 'Gerente']\n",
    "    area = gerentes_df.loc[i, 'Relatório']\n",
    "\n",
    "\n",
    "    # disparando os emails para os gerentes\n",
    "    mail = outlook.CreateItem(0)\n",
    "    mail.to = email\n",
    "    mail.Subject = 'Relatório de {}'.format(area)\n",
    "    mail.Body = \"\"\"\n",
    "\n",
    "\n",
    "                Preazado {},\n",
    "\n",
    "                Segue em anexo o Relatório de {}, conforme solicitado.\n",
    "                Fico à disposição.\n",
    "                At.te,\n",
    "                Matheus\n",
    "    \n",
    "    \n",
    "                \"\"\".format(gerente, area)\n",
    "\n",
    "    attachment = r'C:\\Users\\Matheus\\OneDrive\\Área de Trabalho\\FATEC - BD Negócios\\Projetos\\Learning_Python_Portfolio\\Cursos\\Hashtag\\Python\\Outlook e Python\\{}.xlsx'.format(area)\n",
    "    mail.Attachments.Add(attachment)\n",
    "\n",
    "    mail.Send()"
   ]
  },
  {
   "cell_type": "code",
   "execution_count": null,
   "metadata": {},
   "outputs": [],
   "source": []
  },
  {
   "cell_type": "code",
   "execution_count": null,
   "metadata": {},
   "outputs": [],
   "source": []
  }
 ],
 "metadata": {
  "kernelspec": {
   "display_name": "base",
   "language": "python",
   "name": "python3"
  },
  "language_info": {
   "codemirror_mode": {
    "name": "ipython",
    "version": 3
   },
   "file_extension": ".py",
   "mimetype": "text/x-python",
   "name": "python",
   "nbconvert_exporter": "python",
   "pygments_lexer": "ipython3",
   "version": "3.9.12"
  },
  "orig_nbformat": 4,
  "vscode": {
   "interpreter": {
    "hash": "c8d3184e42d5090dff9a42825f73ee2454fef8c1131708a89f889453d9fc9d30"
   }
  }
 },
 "nbformat": 4,
 "nbformat_minor": 2
}
