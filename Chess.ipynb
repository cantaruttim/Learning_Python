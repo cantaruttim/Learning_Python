{
  "nbformat": 4,
  "nbformat_minor": 0,
  "metadata": {
    "colab": {
      "provenance": [],
      "authorship_tag": "ABX9TyNresbXgXk7KdXIRUbUGmu3",
      "include_colab_link": true
    },
    "kernelspec": {
      "name": "python3",
      "display_name": "Python 3"
    },
    "language_info": {
      "name": "python"
    }
  },
  "cells": [
    {
      "cell_type": "markdown",
      "metadata": {
        "id": "view-in-github",
        "colab_type": "text"
      },
      "source": [
        "<a href=\"https://colab.research.google.com/github/cantaruttim/Learning_Python/blob/main/Chess.ipynb\" target=\"_parent\"><img src=\"https://colab.research.google.com/assets/colab-badge.svg\" alt=\"Open In Colab\"/></a>"
      ]
    },
    {
      "cell_type": "code",
      "execution_count": 1,
      "metadata": {
        "id": "Ho1VyyadorIg"
      },
      "outputs": [],
      "source": [
        "import pandas as pd\n",
        "import numpy as np"
      ]
    },
    {
      "cell_type": "code",
      "source": [
        "tabuleiro = np.matrix([[8,8,8,8,8,8,8,8] ,\n",
        "                       [7,7,7,7,7,7,7,7] ,\n",
        "                       [6,6,6,6,6,6,6,6] ,\n",
        "                       [5,5,5,5,5,5,5,5] ,\n",
        "                       [4,4,4,4,4,4,4,4] ,\n",
        "                       [3,3,3,3,3,3,3,3] ,\n",
        "                       [2,2,2,2,2,2,2,2] , \n",
        "                       [1,1,1,1,1,1,1,1]])\n",
        "tabuleiro"
      ],
      "metadata": {
        "colab": {
          "base_uri": "https://localhost:8080/"
        },
        "id": "kZhp2BbXpEM6",
        "outputId": "0ab6494e-b0ae-405a-c121-b403a94a0600"
      },
      "execution_count": 13,
      "outputs": [
        {
          "output_type": "execute_result",
          "data": {
            "text/plain": [
              "matrix([[8, 8, 8, 8, 8, 8, 8, 8],\n",
              "        [7, 7, 7, 7, 7, 7, 7, 7],\n",
              "        [6, 6, 6, 6, 6, 6, 6, 6],\n",
              "        [5, 5, 5, 5, 5, 5, 5, 5],\n",
              "        [4, 4, 4, 4, 4, 4, 4, 4],\n",
              "        [3, 3, 3, 3, 3, 3, 3, 3],\n",
              "        [2, 2, 2, 2, 2, 2, 2, 2],\n",
              "        [1, 1, 1, 1, 1, 1, 1, 1]])"
            ]
          },
          "metadata": {},
          "execution_count": 13
        }
      ]
    },
    {
      "cell_type": "code",
      "source": [
        "class Pecas:\n",
        "\n",
        "  def __init__(self, nome):\n",
        "    self.nome = nome"
      ],
      "metadata": {
        "id": "9dReAx4EpEUL"
      },
      "execution_count": 15,
      "outputs": []
    },
    {
      "cell_type": "code",
      "source": [],
      "metadata": {
        "id": "Ob6NnFgnpFNT"
      },
      "execution_count": null,
      "outputs": []
    },
    {
      "cell_type": "code",
      "source": [],
      "metadata": {
        "id": "6CaB6fRnpFSN"
      },
      "execution_count": null,
      "outputs": []
    },
    {
      "cell_type": "code",
      "source": [],
      "metadata": {
        "id": "3lt46cFPpFW1"
      },
      "execution_count": null,
      "outputs": []
    },
    {
      "cell_type": "code",
      "source": [],
      "metadata": {
        "id": "aYyMlV4tpEgA"
      },
      "execution_count": null,
      "outputs": []
    }
  ]
}