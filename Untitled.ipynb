{
 "cells": [
  {
   "cell_type": "markdown",
   "id": "08ee4599",
   "metadata": {},
   "source": [
    "### Matrizes"
   ]
  },
  {
   "cell_type": "code",
   "execution_count": 1,
   "id": "3508d440",
   "metadata": {},
   "outputs": [],
   "source": [
    "import numpy as np"
   ]
  },
  {
   "cell_type": "markdown",
   "id": "b8368e65",
   "metadata": {},
   "source": [
    "$$\\begin{bmatrix}\n",
    "    1&2\\\\\n",
    "    3&4\n",
    "\\end{bmatrix}$$"
   ]
  },
  {
   "cell_type": "code",
   "execution_count": 2,
   "id": "a29f126b",
   "metadata": {},
   "outputs": [
    {
     "data": {
      "text/plain": [
       "matrix([[1, 2],\n",
       "        [3, 4]])"
      ]
     },
     "execution_count": 2,
     "metadata": {},
     "output_type": "execute_result"
    }
   ],
   "source": [
    "a = np.matrix('1 2; 3 4')\n",
    "a"
   ]
  },
  {
   "cell_type": "code",
   "execution_count": 3,
   "id": "371d940a",
   "metadata": {},
   "outputs": [
    {
     "data": {
      "text/plain": [
       "matrix([[1, 2],\n",
       "        [3, 4]])"
      ]
     },
     "execution_count": 3,
     "metadata": {},
     "output_type": "execute_result"
    }
   ],
   "source": [
    "np.matrix([[1, 2], [3, 4]])"
   ]
  },
  {
   "cell_type": "markdown",
   "id": "d7193d33",
   "metadata": {},
   "source": [
    "#### Soma de Matrizes"
   ]
  },
  {
   "cell_type": "code",
   "execution_count": 4,
   "id": "85b081bf",
   "metadata": {},
   "outputs": [],
   "source": [
    "# soma de matrizes\n",
    "b = np.matrix([[1, 2], [3, 4]]) \n",
    "c = np.matrix([[2, 4], [2, 8]])"
   ]
  },
  {
   "cell_type": "code",
   "execution_count": 5,
   "id": "56219191",
   "metadata": {},
   "outputs": [
    {
     "data": {
      "text/plain": [
       "(matrix([[1, 2],\n",
       "         [3, 4]]),\n",
       " matrix([[2, 4],\n",
       "         [2, 8]]))"
      ]
     },
     "execution_count": 5,
     "metadata": {},
     "output_type": "execute_result"
    }
   ],
   "source": [
    "b, c"
   ]
  },
  {
   "cell_type": "code",
   "execution_count": 6,
   "id": "32d207b6",
   "metadata": {},
   "outputs": [
    {
     "data": {
      "text/plain": [
       "matrix([[ 3,  6],\n",
       "        [ 5, 12]])"
      ]
     },
     "execution_count": 6,
     "metadata": {},
     "output_type": "execute_result"
    }
   ],
   "source": [
    "d = b + c\n",
    "d"
   ]
  },
  {
   "cell_type": "markdown",
   "id": "8e3bdf2d",
   "metadata": {},
   "source": [
    "#### Subtração de Matrizes"
   ]
  },
  {
   "cell_type": "code",
   "execution_count": 7,
   "id": "5e9ea148",
   "metadata": {},
   "outputs": [],
   "source": [
    "f = np.matrix([2,1,3])\n",
    "g = np.matrix([7,0,-4])\n"
   ]
  },
  {
   "cell_type": "code",
   "execution_count": 8,
   "id": "75631744",
   "metadata": {},
   "outputs": [
    {
     "data": {
      "text/plain": [
       "matrix([[-5,  1,  7]])"
      ]
     },
     "execution_count": 8,
     "metadata": {},
     "output_type": "execute_result"
    }
   ],
   "source": [
    "h = f - g\n",
    "h"
   ]
  },
  {
   "cell_type": "markdown",
   "id": "671b6038",
   "metadata": {},
   "source": [
    "#### Matriz Oposta\n",
    "\n",
    "$$f = f^{-}$$"
   ]
  },
  {
   "cell_type": "code",
   "execution_count": 9,
   "id": "02cf1d96",
   "metadata": {},
   "outputs": [
    {
     "data": {
      "text/plain": [
       "matrix([[-2, -1, -3]])"
      ]
     },
     "execution_count": 9,
     "metadata": {},
     "output_type": "execute_result"
    }
   ],
   "source": [
    "# Matriz Oposta\n",
    "-f"
   ]
  },
  {
   "cell_type": "markdown",
   "id": "08b2aa6f",
   "metadata": {},
   "source": [
    "#### Matriz Transposta\n",
    "\n",
    "$$g = g^{t} $$"
   ]
  },
  {
   "cell_type": "code",
   "execution_count": 10,
   "id": "bb42c035",
   "metadata": {},
   "outputs": [
    {
     "data": {
      "text/plain": [
       "(matrix([[ 7,  0, -4]]),\n",
       " matrix([[ 7],\n",
       "         [ 0],\n",
       "         [-4]]))"
      ]
     },
     "execution_count": 10,
     "metadata": {},
     "output_type": "execute_result"
    }
   ],
   "source": [
    "# matrizes transpostas\n",
    "g, np.matrix.transpose(g)"
   ]
  },
  {
   "cell_type": "markdown",
   "id": "4a114dc7",
   "metadata": {},
   "source": [
    "#### Multiplicação de Matrizes\n",
    "<br />\n",
    "\n",
    "Obs¹: O número de colunas da primeira, deve ser igual ao número de linhas da segunda"
   ]
  },
  {
   "cell_type": "code",
   "execution_count": 11,
   "id": "98d2f60a",
   "metadata": {},
   "outputs": [],
   "source": [
    "x = np.matrix([[2,1],[7,4], [0,-1]])\n",
    "y1 = np.matrix([[2,4,1,4], [-1,-2,-3,0]])"
   ]
  },
  {
   "cell_type": "code",
   "execution_count": 13,
   "id": "6c9cb4e2",
   "metadata": {},
   "outputs": [
    {
     "data": {
      "text/plain": [
       "(matrix([[ 2,  1],\n",
       "         [ 7,  4],\n",
       "         [ 0, -1]]),\n",
       " matrix([[ 2,  4,  1,  4],\n",
       "         [-1, -2, -3,  0]]))"
      ]
     },
     "execution_count": 13,
     "metadata": {},
     "output_type": "execute_result"
    }
   ],
   "source": [
    "x, y1"
   ]
  },
  {
   "cell_type": "code",
   "execution_count": 14,
   "id": "81990340",
   "metadata": {},
   "outputs": [
    {
     "data": {
      "text/plain": [
       "matrix([[ 3,  6, -1,  8],\n",
       "        [10, 20, -5, 28],\n",
       "        [ 1,  2,  3,  0]])"
      ]
     },
     "execution_count": 14,
     "metadata": {},
     "output_type": "execute_result"
    }
   ],
   "source": [
    "x * y1"
   ]
  },
  {
   "cell_type": "code",
   "execution_count": 15,
   "id": "358ff94a",
   "metadata": {},
   "outputs": [
    {
     "data": {
      "text/plain": [
       "matrix([[  6,  12,   3,  12],\n",
       "        [ -3,  -6,  -9,   0],\n",
       "        [  0,  -9, -27,   3]])"
      ]
     },
     "execution_count": 15,
     "metadata": {},
     "output_type": "execute_result"
    }
   ],
   "source": [
    "y2 = np.matrix([[2,4,1,4], [-1,-2,-3,0], [0,-3,-9,1]])\n",
    "\n",
    "3 * y2"
   ]
  },
  {
   "cell_type": "code",
   "execution_count": 16,
   "id": "3f87b00c",
   "metadata": {},
   "outputs": [
    {
     "data": {
      "text/plain": [
       "matrix([[  4,   8,   2,   8],\n",
       "        [ -2,  -4,  -6,   0],\n",
       "        [  0,  -6, -18,   2]])"
      ]
     },
     "execution_count": 16,
     "metadata": {},
     "output_type": "execute_result"
    }
   ],
   "source": [
    "y2 * 2 "
   ]
  },
  {
   "cell_type": "markdown",
   "id": "3404031c",
   "metadata": {},
   "source": [
    "#### Matriz Inversa\n",
    "\n",
    "$$A * A^{-} = I$$"
   ]
  },
  {
   "cell_type": "code",
   "execution_count": 17,
   "id": "2318d81f",
   "metadata": {},
   "outputs": [],
   "source": [
    "t = np.matrix([[2,-1], [3,4]]) #* np.matrix([[0.363636, 0.090909], [-0.272727, 0.181818]])"
   ]
  },
  {
   "cell_type": "code",
   "execution_count": 18,
   "id": "01e022bf",
   "metadata": {},
   "outputs": [
    {
     "data": {
      "text/plain": [
       "matrix([[ 0.36363636,  0.09090909],\n",
       "        [-0.27272727,  0.18181818]])"
      ]
     },
     "execution_count": 18,
     "metadata": {},
     "output_type": "execute_result"
    }
   ],
   "source": [
    "# retorna a matrix inversa \n",
    "np.matrix.getI(t)"
   ]
  },
  {
   "cell_type": "code",
   "execution_count": 19,
   "id": "474a4acd",
   "metadata": {},
   "outputs": [
    {
     "data": {
      "text/plain": [
       "11.000000000000002"
      ]
     },
     "execution_count": 19,
     "metadata": {},
     "output_type": "execute_result"
    }
   ],
   "source": [
    "# calculando o determinante de uma matriz\n",
    "\n",
    "np.linalg.det(t)"
   ]
  },
  {
   "cell_type": "markdown",
   "id": "dd4b9340",
   "metadata": {},
   "source": [
    "### Teorema de Binet\n",
    "$$det (A.B) = det (A) * det (B)$$\n",
    "\n",
    "<br /> \n",
    "\n",
    "* Para se atender o teorema de Binet, devemos _ter matrizes de mesma ordem_"
   ]
  },
  {
   "cell_type": "code",
   "execution_count": 29,
   "id": "1ca284b2",
   "metadata": {},
   "outputs": [],
   "source": [
    "k = np.matrix([[3,2,3], [4,5,6], [1,2,6]])\n",
    "l = np.matrix([[4,3,12],[30,44,13],[44,41,65]])"
   ]
  },
  {
   "cell_type": "code",
   "execution_count": 30,
   "id": "d7dac923",
   "metadata": {},
   "outputs": [
    {
     "data": {
      "text/plain": [
       "(27.0, -3297.9999999999977)"
      ]
     },
     "execution_count": 30,
     "metadata": {},
     "output_type": "execute_result"
    }
   ],
   "source": [
    "np.linalg.det(k), np.linalg.det(l)"
   ]
  },
  {
   "cell_type": "code",
   "execution_count": 31,
   "id": "4f8d63b2",
   "metadata": {},
   "outputs": [
    {
     "data": {
      "text/plain": [
       "-89045.99999999994"
      ]
     },
     "execution_count": 31,
     "metadata": {},
     "output_type": "execute_result"
    }
   ],
   "source": [
    "np.linalg.det(k) * np.linalg.det(l)"
   ]
  },
  {
   "cell_type": "code",
   "execution_count": 32,
   "id": "6856d45d",
   "metadata": {},
   "outputs": [],
   "source": [
    "h = k, l"
   ]
  },
  {
   "cell_type": "code",
   "execution_count": 33,
   "id": "0984677a",
   "metadata": {},
   "outputs": [
    {
     "data": {
      "text/plain": [
       "array([   27., -3298.])"
      ]
     },
     "execution_count": 33,
     "metadata": {},
     "output_type": "execute_result"
    }
   ],
   "source": [
    "np.linalg.det(h) # o mesmo valor de fazermos os determinantes separados"
   ]
  },
  {
   "cell_type": "code",
   "execution_count": 21,
   "id": "c71aad26",
   "metadata": {},
   "outputs": [
    {
     "data": {
      "text/plain": [
       "array([0., 0., 0.])"
      ]
     },
     "execution_count": 21,
     "metadata": {},
     "output_type": "execute_result"
    }
   ],
   "source": [
    "# matriz nula\n",
    "\n",
    "np.zeros(3)"
   ]
  },
  {
   "cell_type": "code",
   "execution_count": 22,
   "id": "87d8f267",
   "metadata": {},
   "outputs": [
    {
     "data": {
      "text/plain": [
       "array([1., 1., 1.])"
      ]
     },
     "execution_count": 22,
     "metadata": {},
     "output_type": "execute_result"
    }
   ],
   "source": [
    "np.ones(3)"
   ]
  },
  {
   "cell_type": "code",
   "execution_count": 23,
   "id": "036c7f32",
   "metadata": {},
   "outputs": [],
   "source": [
    "## Para somar matrizes, podemos utilizar o método concatenate\n",
    "\n",
    "b = np.matrix([[1, 2], [3, 4]]) \n",
    "c = np.matrix([[2, 4], [2, 8]])"
   ]
  },
  {
   "cell_type": "code",
   "execution_count": 24,
   "id": "9c1ce877",
   "metadata": {},
   "outputs": [
    {
     "data": {
      "text/plain": [
       "matrix([[1, 2, 2, 4],\n",
       "        [3, 4, 2, 8]])"
      ]
     },
     "execution_count": 24,
     "metadata": {},
     "output_type": "execute_result"
    }
   ],
   "source": [
    "np.concatenate((b,c), axis =1)"
   ]
  },
  {
   "cell_type": "code",
   "execution_count": 25,
   "id": "09cf5935",
   "metadata": {},
   "outputs": [
    {
     "data": {
      "text/plain": [
       "array([[1, 2],\n",
       "       [3, 4],\n",
       "       [5, 6]])"
      ]
     },
     "execution_count": 25,
     "metadata": {},
     "output_type": "execute_result"
    }
   ],
   "source": [
    "## Matrizes\n",
    "\n",
    "data = np.array([[1, 2], [3, 4], [5, 6]])\n",
    "data"
   ]
  },
  {
   "cell_type": "code",
   "execution_count": 26,
   "id": "e9d28e3b",
   "metadata": {},
   "outputs": [
    {
     "data": {
      "text/plain": [
       "1"
      ]
     },
     "execution_count": 26,
     "metadata": {},
     "output_type": "execute_result"
    }
   ],
   "source": [
    "# slicing com matrizes\n",
    "\n",
    "# data[2,1] # retorna 6\n",
    "# data[2,0] # retorna 5\n",
    "# data[1,1] # retorna 4\n",
    "# data[1,0] # retorna 3\n",
    "# data[0,1] # retorna 2\n",
    "data[0,0] # retorna 1"
   ]
  },
  {
   "cell_type": "code",
   "execution_count": 27,
   "id": "74cc106f",
   "metadata": {},
   "outputs": [
    {
     "data": {
      "text/plain": [
       "(array([2, 4, 6]), array([5, 6]))"
      ]
     },
     "execution_count": 27,
     "metadata": {},
     "output_type": "execute_result"
    }
   ],
   "source": [
    "data.max(axis=1), data.max(axis=0)"
   ]
  },
  {
   "cell_type": "code",
   "execution_count": 28,
   "id": "10e9e000",
   "metadata": {},
   "outputs": [
    {
     "data": {
      "text/plain": [
       "array([1, 2, 4, 6])"
      ]
     },
     "execution_count": 28,
     "metadata": {},
     "output_type": "execute_result"
    }
   ],
   "source": [
    "# retornando os valores únicos\n",
    "\n",
    "np.unique([[1, 2], [2, 4], [4, 6]])"
   ]
  },
  {
   "cell_type": "markdown",
   "id": "129fa709",
   "metadata": {},
   "source": [
    "$$\\begin{bmatrix}\n",
    "    1&2&3\\\\\n",
    "    4&5&6\n",
    "\\end{bmatrix}$$"
   ]
  },
  {
   "cell_type": "code",
   "execution_count": null,
   "id": "af02279b",
   "metadata": {},
   "outputs": [],
   "source": [
    "# reestruturando a matriz em duas linhas e 3 colunas\n",
    "data.reshape(2,3)"
   ]
  },
  {
   "cell_type": "code",
   "execution_count": null,
   "id": "36821bc3",
   "metadata": {},
   "outputs": [],
   "source": [
    "# reestruturando a matriz em 3 linhas e duas colunas\n",
    "data.reshape(3,2)"
   ]
  },
  {
   "cell_type": "code",
   "execution_count": null,
   "id": "91d0e075",
   "metadata": {},
   "outputs": [],
   "source": [
    "# outra forma de criar uma matriz transposta\n",
    "\n",
    "data.T"
   ]
  },
  {
   "cell_type": "code",
   "execution_count": null,
   "id": "39ac7ed7",
   "metadata": {},
   "outputs": [],
   "source": [
    "# Outra forma de mostrar a matrix reversa - reverse array\n",
    "\n",
    "np.flip(data)"
   ]
  },
  {
   "cell_type": "code",
   "execution_count": null,
   "id": "796ed459",
   "metadata": {},
   "outputs": [],
   "source": [
    "help(max), help(min)\n",
    "\n",
    "# Diferentemente do R, o IPython utiliza o mesmo caracter especial para usar como\n",
    "# parâmetro para entender o comendo, ?max"
   ]
  },
  {
   "cell_type": "code",
   "execution_count": null,
   "id": "8821370f",
   "metadata": {},
   "outputs": [],
   "source": [
    "max?"
   ]
  },
  {
   "cell_type": "code",
   "execution_count": null,
   "id": "31d89923",
   "metadata": {},
   "outputs": [],
   "source": [
    "data?"
   ]
  },
  {
   "cell_type": "code",
   "execution_count": null,
   "id": "67cda96b",
   "metadata": {},
   "outputs": [],
   "source": [
    "import matplotlib.pyplot as plt\n",
    "\n",
    "a = np.array([2, 1, 5, 7, 4, 6, 8, 14, 10, 9, 18, 20, 22])\n",
    "%matplotlib inline"
   ]
  },
  {
   "cell_type": "code",
   "execution_count": null,
   "id": "6ada46cc",
   "metadata": {},
   "outputs": [],
   "source": [
    "plt.plot(a)"
   ]
  },
  {
   "cell_type": "code",
   "execution_count": null,
   "id": "09b37ff7",
   "metadata": {},
   "outputs": [],
   "source": [
    "# a line plot\n",
    "\n",
    "x = np.linspace(0, 5, 20)\n",
    "y = np.linspace(0, 10, 20)\n",
    "plt.plot(x, y, 'red') # line\n",
    "plt.plot(x, y, 'o')      # dots"
   ]
  },
  {
   "cell_type": "code",
   "execution_count": null,
   "id": "a2a58e30",
   "metadata": {},
   "outputs": [],
   "source": [
    "# gráfico 3d\n",
    "\n",
    "fig = plt.figure()\n",
    "ax = fig.add_subplot(projection='3d')\n",
    "X = np.arange(-5, 5, 0.15)\n",
    "Y = np.arange(-5, 5, 0.15)\n",
    "X, Y = np.meshgrid(X, Y)\n",
    "R = np.sqrt(X**2 + Y**2)\n",
    "Z = np.sin(R)\n",
    "\n",
    "ax.plot_surface(X, Y, Z, rstride=1, cstride=1, cmap='viridis')"
   ]
  },
  {
   "cell_type": "markdown",
   "id": "75d0e97d",
   "metadata": {},
   "source": [
    "## Scientifical Programming\n",
    "### Numpy : Numerical Python; Travis Oliphant + Others.\n",
    "   - Arrays\n",
    "   - Linear Algebra\n",
    "   - Geração Randômica de números\n",
    "   - Broadcasting\n",
    "\n",
    "#### List vs Numpy Arrays\n",
    "1. Similarities\n",
    "\n",
    "- Storing the data\n",
    "- Mutable\n",
    "- Can be indexed\n",
    "- Slicing\n",
    "\n",
    "2. Differences\n",
    "\n",
    "- Lists can stor data from different dtype : [1,2.1,\"a\",3]\n",
    "- Array : [1,2,3,4] - Faster, Less Memory\n",
    "- Operations\n",
    "- Lists are built-in structures on the other hand numpy must be installed to be used.\n",
    "\n",
    "### Scipy : Scientific Python"
   ]
  },
  {
   "cell_type": "code",
   "execution_count": null,
   "id": "310e4a0f",
   "metadata": {},
   "outputs": [],
   "source": [
    "help(np.array)"
   ]
  },
  {
   "cell_type": "code",
   "execution_count": null,
   "id": "e8affe7e",
   "metadata": {},
   "outputs": [],
   "source": [
    "a = np.array([1,2,3,4])\n",
    "a"
   ]
  },
  {
   "cell_type": "code",
   "execution_count": null,
   "id": "fce37353",
   "metadata": {},
   "outputs": [],
   "source": [
    "# Matriz quadrada de ordem 3\n",
    "b = np.array([[1,2,3],[4,7,9],[10,20,33]], dtype=float)\n",
    "\n",
    "b"
   ]
  },
  {
   "cell_type": "code",
   "execution_count": null,
   "id": "07ebeea7",
   "metadata": {},
   "outputs": [],
   "source": [
    "help(np.arange)"
   ]
  },
  {
   "cell_type": "code",
   "execution_count": null,
   "id": "ec044e44",
   "metadata": {},
   "outputs": [],
   "source": [
    "np.arange(4,22,1) , np.arange(4,22,2), np.arange(4, dtype=complex)"
   ]
  },
  {
   "cell_type": "code",
   "execution_count": null,
   "id": "7c0383cf",
   "metadata": {},
   "outputs": [],
   "source": [
    "np.arange(20, dtype=\"complex\")"
   ]
  },
  {
   "cell_type": "code",
   "execution_count": null,
   "id": "b18d12f0",
   "metadata": {},
   "outputs": [],
   "source": [
    "help(np.linspace)"
   ]
  },
  {
   "cell_type": "code",
   "execution_count": null,
   "id": "90d492c7",
   "metadata": {},
   "outputs": [],
   "source": [
    "# Return evenly spaced numbers over a specified interval.\n",
    "np.linspace(1,4, num=400, retstep=True)"
   ]
  },
  {
   "cell_type": "code",
   "execution_count": null,
   "id": "fcbb7a21",
   "metadata": {},
   "outputs": [],
   "source": [
    "# para 250 número \n",
    "0.012048192771084338 < 0.007518796992481203 "
   ]
  },
  {
   "cell_type": "code",
   "execution_count": null,
   "id": "76d40b56",
   "metadata": {},
   "outputs": [],
   "source": [
    " help(np.random)"
   ]
  },
  {
   "cell_type": "code",
   "execution_count": null,
   "id": "e9a6efbd",
   "metadata": {},
   "outputs": [],
   "source": [
    " np.random.rand(5)"
   ]
  },
  {
   "cell_type": "code",
   "execution_count": null,
   "id": "83da19b2",
   "metadata": {},
   "outputs": [],
   "source": [
    " np.random.rand(3,3)"
   ]
  },
  {
   "cell_type": "code",
   "execution_count": null,
   "id": "f1d510bf",
   "metadata": {},
   "outputs": [],
   "source": [
    " np.random.randn(5)"
   ]
  },
  {
   "cell_type": "code",
   "execution_count": null,
   "id": "1c7afc9d",
   "metadata": {},
   "outputs": [],
   "source": [
    " np.random.ranf(5)"
   ]
  },
  {
   "cell_type": "code",
   "execution_count": null,
   "id": "522b006b",
   "metadata": {},
   "outputs": [],
   "source": [
    " np.random.randint(5)"
   ]
  },
  {
   "cell_type": "code",
   "execution_count": null,
   "id": "a3724be3",
   "metadata": {},
   "outputs": [],
   "source": [
    "# Somando as linhas e colunas das matrizes\n",
    "\n",
    "A = np.matrix( [[3, 6, 4, 2],\n",
    "                [1, 2, 3, 4],\n",
    "                [2, 4, 5, 8]] )\n",
    "                \n",
    "                \n",
    "# somando as linhas\n",
    "\n",
    "soma = 0\n",
    "lista=[]\n",
    "for i in range(A.shape[0]):\n",
    "    for v in range(A.shape[1]):\n",
    "        item= A[i,v]\n",
    "        soma = soma + item\n",
    "    lista.append(soma)\n",
    "    soma=0\n",
    "print(lista)\n",
    "\n",
    "# somando as colunas\n",
    "\n",
    "soma = 0\n",
    "lista=[]\n",
    "for i in range(A.shape[1]):\n",
    "    for v in range(A.shape[0]):\n",
    "        item= A[v,i]\n",
    "        soma = soma + item\n",
    "    lista.append(soma)\n",
    "    soma=0\n",
    "print(lista)"
   ]
  },
  {
   "cell_type": "code",
   "execution_count": null,
   "id": "f0b95aa8",
   "metadata": {},
   "outputs": [],
   "source": [
    "# Exemplo de um processo estocástico\n",
    "\n",
    "import random\n",
    "\n",
    "dado = [1,2,3,4,5,6,7,8]\n",
    "n = 30\n",
    "S = range(0,n) # vai variar de 0 até o valor atribuito a n, n=30\n",
    "faces = []\n",
    "\n",
    "for s in S:\n",
    "    face = random.choice(dado)\n",
    "    faces.append(face)\n",
    "print(faces)\n",
    "\n",
    "plt.figure(figsize=(12,6))\n",
    "plt.plot(S, faces, 'o-', color='red', linewidth=1)\n",
    "plt.ylabel(\"Lançamento\", fontsize=20)\n",
    "plt.xlabel(\"Face observada\", fontsize=20)\n",
    "plt.show(True)"
   ]
  },
  {
   "cell_type": "code",
   "execution_count": null,
   "id": "d061fe7b",
   "metadata": {},
   "outputs": [],
   "source": [
    "## Posição da partícula \"passeio aleatório\"\n",
    "\n",
    "n = 150\n",
    "S = range(0, n)\n",
    "xi = 0\n",
    "yi = 0\n",
    "Y = [yi]\n",
    "X = [xi]\n",
    "\n",
    "for s in S:\n",
    "    xf = xi + np.random.uniform(-1,1,1)\n",
    "    yf = yi + np.random.uniform(-1,1,1)\n",
    "    xi = xf\n",
    "    yi = yf\n",
    "    \n",
    "    X.append(xf)\n",
    "    Y.append(yf)\n",
    "    \n",
    "plt.figure(figsize=(8,8))\n",
    "plt.plot(X, Y , 'o-', color='red', linestyle='-', linewidth=.5)\n",
    "plt.ylabel(\"Y\", fontsize=20)\n",
    "plt.xlabel(\"X\", fontsize=20)\n",
    "plt.show(True)"
   ]
  },
  {
   "cell_type": "code",
   "execution_count": null,
   "id": "76af839c",
   "metadata": {},
   "outputs": [],
   "source": []
  },
  {
   "cell_type": "code",
   "execution_count": null,
   "id": "2640b050",
   "metadata": {},
   "outputs": [],
   "source": []
  }
 ],
 "metadata": {
  "kernelspec": {
   "display_name": "Python 3 (ipykernel)",
   "language": "python",
   "name": "python3"
  },
  "language_info": {
   "codemirror_mode": {
    "name": "ipython",
    "version": 3
   },
   "file_extension": ".py",
   "mimetype": "text/x-python",
   "name": "python",
   "nbconvert_exporter": "python",
   "pygments_lexer": "ipython3",
   "version": "3.9.12"
  }
 },
 "nbformat": 4,
 "nbformat_minor": 5
}
