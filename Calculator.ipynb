{
  "nbformat": 4,
  "nbformat_minor": 0,
  "metadata": {
    "colab": {
      "provenance": [],
      "authorship_tag": "ABX9TyM0uIPXQHQRZSwUQJ2kACek",
      "include_colab_link": true
    },
    "kernelspec": {
      "name": "python3",
      "display_name": "Python 3"
    },
    "language_info": {
      "name": "python"
    }
  },
  "cells": [
    {
      "cell_type": "markdown",
      "metadata": {
        "id": "view-in-github",
        "colab_type": "text"
      },
      "source": [
        "<a href=\"https://colab.research.google.com/github/cantaruttim/Learning_Python/blob/main/Calculator.ipynb\" target=\"_parent\"><img src=\"https://colab.research.google.com/assets/colab-badge.svg\" alt=\"Open In Colab\"/></a>"
      ]
    },
    {
      "cell_type": "code",
      "execution_count": 9,
      "metadata": {
        "id": "gRWhB80hFIz7"
      },
      "outputs": [],
      "source": [
        "# operações simples\n",
        "\n",
        "def soma(n1,n2):\n",
        "    return n1 + n2\n",
        "\n",
        "def subtracao (n1,n2):\n",
        "    return n1 - n2\n",
        "\n",
        "def multiplicacao (n1,n2):\n",
        "    return n1 * n2\n",
        "\n",
        "def divisao (n1,n2):\n",
        "    return n1 / n2\n",
        "\n",
        "def resto(n1,n2):\n",
        "    return n1 % n2\n",
        "\n",
        "def potenciacao (n1, exp):\n",
        "    return n1 ** exp\n",
        "\n",
        "# fazer uma função para logaritmo \n",
        "\n",
        "def logaritmo(base, exp):\n",
        "  return base ** exp"
      ]
    }
  ]
}