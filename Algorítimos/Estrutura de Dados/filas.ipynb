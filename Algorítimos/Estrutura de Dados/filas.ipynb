{
 "cells": [
  {
   "attachments": {},
   "cell_type": "markdown",
   "metadata": {},
   "source": [
    "### Filas\n",
    "\n",
    "- A política de acesso segue a regra : FIFO"
   ]
  },
  {
   "cell_type": "code",
   "execution_count": 2,
   "metadata": {},
   "outputs": [],
   "source": [
    "class Node:\n",
    "\n",
    "    def __init__(self, data):\n",
    "        self.data = data\n",
    "        self.next = None\n"
   ]
  },
  {
   "cell_type": "code",
   "execution_count": 1,
   "metadata": {},
   "outputs": [],
   "source": [
    "class Queue:\n",
    "\n",
    "    def __init__(self):\n",
    "        self.top = None\n",
    "        self._size = 0\n",
    "\n",
    "\n",
    "    # inserir\n",
    "    # remover\n",
    "    # observar o topo da pilha\n",
    "\n",
    "    def push(self, elem):\n",
    "        # inserindo um elemento na pilha\n",
    "        pass\n",
    "\n",
    "\n",
    "    def pop(self):\n",
    "        # remove o elemento do topo da pilha\n",
    "        pass\n",
    "\n",
    "    def peek(self):\n",
    "        # retorna o topo da pilha. Sem remover\n",
    "       pass\n",
    "\n",
    "   \n",
    "    def __len__(self):\n",
    "        \"\"\"Retorna o tamanho da lista\"\"\"\n",
    "        pass\n",
    "\n",
    "\n",
    "    def __repr__(self):\n",
    "       pass\n",
    "\n",
    "\n",
    "    def __str__(self):\n",
    "        return self.__repr__()"
   ]
  },
  {
   "cell_type": "code",
   "execution_count": null,
   "metadata": {},
   "outputs": [],
   "source": []
  },
  {
   "cell_type": "code",
   "execution_count": null,
   "metadata": {},
   "outputs": [],
   "source": []
  },
  {
   "cell_type": "code",
   "execution_count": null,
   "metadata": {},
   "outputs": [],
   "source": []
  },
  {
   "cell_type": "code",
   "execution_count": null,
   "metadata": {},
   "outputs": [],
   "source": []
  },
  {
   "cell_type": "code",
   "execution_count": null,
   "metadata": {},
   "outputs": [],
   "source": []
  },
  {
   "cell_type": "code",
   "execution_count": null,
   "metadata": {},
   "outputs": [],
   "source": []
  }
 ],
 "metadata": {
  "kernelspec": {
   "display_name": "Python 3",
   "language": "python",
   "name": "python3"
  },
  "language_info": {
   "codemirror_mode": {
    "name": "ipython",
    "version": 3
   },
   "file_extension": ".py",
   "mimetype": "text/x-python",
   "name": "python",
   "nbconvert_exporter": "python",
   "pygments_lexer": "ipython3",
   "version": "3.10.9"
  },
  "orig_nbformat": 4,
  "vscode": {
   "interpreter": {
    "hash": "48434fea92bcfa521232aa698a59dbef67c96a63793f88c53e51c3c6eaedc268"
   }
  }
 },
 "nbformat": 4,
 "nbformat_minor": 2
}
