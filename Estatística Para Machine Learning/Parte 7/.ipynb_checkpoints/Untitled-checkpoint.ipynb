{
 "cells": [
  {
   "cell_type": "markdown",
   "id": "54f7e845",
   "metadata": {},
   "source": [
    "### Intervalo de Confiança"
   ]
  },
  {
   "cell_type": "code",
   "execution_count": 2,
   "id": "05b35bb2",
   "metadata": {},
   "outputs": [],
   "source": [
    "import numpy as np\n",
    "from scipy.stats import norm\n",
    "from scipy import stats\n",
    "import seaborn as sns\n",
    "import math"
   ]
  },
  {
   "cell_type": "code",
   "execution_count": 3,
   "id": "abc93bbc",
   "metadata": {},
   "outputs": [],
   "source": [
    "dados = np.array([126. , 129.5, 133. , 133. , 136.5, 136.5, 140. , 140. , 140. ,\n",
    "                  140. , 143.5, 143.5, 143.5, 143.5, 143.5, 143.5, 147. , 147. ,\n",
    "                  147. , 147. , 147. , 147. , 147. , 150.5, 150.5, 150.5, 150.5,\n",
    "                  150.5, 150.5, 150.5, 150.5, 154. , 154. , 154. , 154. , 154. ,\n",
    "                  154. , 154. , 154. , 154. , 157.5, 157.5, 157.5, 157.5, 157.5,\n",
    "                  157.5, 157.5, 157.5, 157.5, 157.5, 161. , 161. , 161. , 161. ,\n",
    "                  161. , 161. , 161. , 161. , 161. , 161. , 164.5, 164.5, 164.5,\n",
    "                  164.5, 164.5, 164.5, 164.5, 164.5, 164.5, 168. , 168. , 168. ,\n",
    "                  168. , 168. , 168. , 168. , 168. , 171.5, 171.5, 171.5, 171.5,\n",
    "                  171.5, 171.5, 171.5, 175. , 175. , 175. , 175. , 175. , 175. ,\n",
    "                  178.5, 178.5, 178.5, 178.5, 182. , 182. , 185.5, 185.5, 189., 192.5])"
   ]
  },
  {
   "cell_type": "code",
   "execution_count": 7,
   "id": "f94505e3",
   "metadata": {},
   "outputs": [
    {
     "data": {
      "text/plain": [
       "100"
      ]
     },
     "execution_count": 7,
     "metadata": {},
     "output_type": "execute_result"
    }
   ],
   "source": [
    "n = len(dados)\n",
    "n"
   ]
  },
  {
   "cell_type": "code",
   "execution_count": 5,
   "id": "6577ebc6",
   "metadata": {},
   "outputs": [
    {
     "data": {
      "text/plain": [
       "159.25"
      ]
     },
     "execution_count": 5,
     "metadata": {},
     "output_type": "execute_result"
    }
   ],
   "source": [
    "media = np.mean(dados)\n",
    "media"
   ]
  },
  {
   "cell_type": "code",
   "execution_count": 6,
   "id": "24c5758b",
   "metadata": {},
   "outputs": [
    {
     "data": {
      "text/plain": [
       "13.65"
      ]
     },
     "execution_count": 6,
     "metadata": {},
     "output_type": "execute_result"
    }
   ],
   "source": [
    "desvio_padrao = np.std(dados)\n",
    "desvio_padrao"
   ]
  },
  {
   "cell_type": "code",
   "execution_count": 9,
   "id": "6824f4be",
   "metadata": {},
   "outputs": [
    {
     "data": {
      "text/plain": [
       "0.025"
      ]
     },
     "execution_count": 9,
     "metadata": {},
     "output_type": "execute_result"
    }
   ],
   "source": [
    "alpha = 0.05 / 2\n",
    "alpha"
   ]
  },
  {
   "cell_type": "code",
   "execution_count": 10,
   "id": "4b0ad974",
   "metadata": {},
   "outputs": [
    {
     "data": {
      "text/plain": [
       "0.975"
      ]
     },
     "execution_count": 10,
     "metadata": {},
     "output_type": "execute_result"
    }
   ],
   "source": [
    "1 - alpha"
   ]
  },
  {
   "cell_type": "code",
   "execution_count": 11,
   "id": "0caaf372",
   "metadata": {},
   "outputs": [
    {
     "data": {
      "text/plain": [
       "1.959963984540054"
      ]
     },
     "execution_count": 11,
     "metadata": {},
     "output_type": "execute_result"
    }
   ],
   "source": [
    "z = norm.ppf(1 - alpha)\n",
    "z"
   ]
  },
  {
   "cell_type": "code",
   "execution_count": 12,
   "id": "e0fbe3f9",
   "metadata": {},
   "outputs": [
    {
     "data": {
      "text/plain": [
       "156.57464916110283"
      ]
     },
     "execution_count": 12,
     "metadata": {},
     "output_type": "execute_result"
    }
   ],
   "source": [
    "xi = media - z * (desvio_padrao / math.sqrt(n))\n",
    "xi"
   ]
  },
  {
   "cell_type": "code",
   "execution_count": 14,
   "id": "9bcf72ee",
   "metadata": {},
   "outputs": [
    {
     "data": {
      "text/plain": [
       "161.92535083889717"
      ]
     },
     "execution_count": 14,
     "metadata": {},
     "output_type": "execute_result"
    }
   ],
   "source": [
    "xs = media + z * (desvio_padrao / math.sqrt(n))\n",
    "xs"
   ]
  },
  {
   "cell_type": "code",
   "execution_count": 15,
   "id": "5bf35f75",
   "metadata": {},
   "outputs": [
    {
     "data": {
      "text/plain": [
       "2.675350838897174"
      ]
     },
     "execution_count": 15,
     "metadata": {},
     "output_type": "execute_result"
    }
   ],
   "source": [
    "margem_error = abs(media - xs)\n",
    "margem_error"
   ]
  },
  {
   "cell_type": "code",
   "execution_count": 17,
   "id": "774d583e",
   "metadata": {},
   "outputs": [
    {
     "name": "stderr",
     "output_type": "stream",
     "text": [
      "C:\\Users\\Matheus\\anaconda3\\lib\\site-packages\\seaborn\\distributions.py:2619: FutureWarning: `distplot` is a deprecated function and will be removed in a future version. Please adapt your code to use either `displot` (a figure-level function with similar flexibility) or `histplot` (an axes-level function for histograms).\n",
      "  warnings.warn(msg, FutureWarning)\n"
     ]
    },
    {
     "data": {
      "text/plain": [
       "<AxesSubplot:ylabel='Density'>"
      ]
     },
     "execution_count": 17,
     "metadata": {},
     "output_type": "execute_result"
    },
    {
     "data": {
      "image/png": "[encoded data removed]",
      "text/plain": [
       "<Figure size 432x288 with 1 Axes>"
      ]
     },
     "metadata": {
      "needs_background": "light"
     },
     "output_type": "display_data"
    }
   ],
   "source": [
    "sns.distplot(dados)"
   ]
  },
  {
   "cell_type": "code",
   "execution_count": 18,
   "id": "5106e64f",
   "metadata": {},
   "outputs": [
    {
     "data": {
      "text/plain": [
       "1.3718766178288244"
      ]
     },
     "execution_count": 18,
     "metadata": {},
     "output_type": "execute_result"
    }
   ],
   "source": [
    "stats.sem(dados)"
   ]
  },
  {
   "cell_type": "code",
   "execution_count": 19,
   "id": "57bcf2bb",
   "metadata": {},
   "outputs": [
    {
     "data": {
      "text/plain": [
       "(156.5611712378229, 161.9388287621771)"
      ]
     },
     "execution_count": 19,
     "metadata": {},
     "output_type": "execute_result"
    }
   ],
   "source": [
    "intervalos = norm.interval(0.95, media, stats.sem(dados))\n",
    "intervalos"
   ]
  },
  {
   "cell_type": "markdown",
   "id": "956689cb",
   "metadata": {},
   "source": [
    "### Distribuição T-Student"
   ]
  },
  {
   "cell_type": "code",
   "execution_count": 20,
   "id": "a851671d",
   "metadata": {},
   "outputs": [],
   "source": [
    "dados = np.array([149. , 160., 147., 189., 175., 168., 156., 160., 152.])"
   ]
  },
  {
   "cell_type": "code",
   "execution_count": 21,
   "id": "8765cab3",
   "metadata": {},
   "outputs": [
    {
     "data": {
      "text/plain": [
       "9"
      ]
     },
     "execution_count": 21,
     "metadata": {},
     "output_type": "execute_result"
    }
   ],
   "source": [
    "n = len(dados)\n",
    "n"
   ]
  },
  {
   "cell_type": "code",
   "execution_count": 22,
   "id": "f6d5b4c8",
   "metadata": {},
   "outputs": [
    {
     "data": {
      "text/plain": [
       "161.77777777777777"
      ]
     },
     "execution_count": 22,
     "metadata": {},
     "output_type": "execute_result"
    }
   ],
   "source": [
    "media = dados.mean()\n",
    "media"
   ]
  },
  {
   "cell_type": "code",
   "execution_count": 23,
   "id": "52e7fdce",
   "metadata": {},
   "outputs": [
    {
     "data": {
      "text/plain": [
       "12.786953227391823"
      ]
     },
     "execution_count": 23,
     "metadata": {},
     "output_type": "execute_result"
    }
   ],
   "source": [
    "desvio_padrao = np.std(dados)\n",
    "desvio_padrao"
   ]
  },
  {
   "cell_type": "code",
   "execution_count": 24,
   "id": "3c6e2ac1",
   "metadata": {},
   "outputs": [],
   "source": [
    "from scipy.stats import t"
   ]
  },
  {
   "cell_type": "code",
   "execution_count": 25,
   "id": "4e6d91d6",
   "metadata": {},
   "outputs": [
    {
     "data": {
      "text/plain": [
       "(151.9488554388298, 171.60670011672573)"
      ]
     },
     "execution_count": 25,
     "metadata": {},
     "output_type": "execute_result"
    }
   ],
   "source": [
    "intervalos = t.interval(0.95, n - 1, media, stats.sem(dados, ddof = 0))\n",
    "intervalos"
   ]
  },
  {
   "cell_type": "code",
   "execution_count": 27,
   "id": "06ba4865",
   "metadata": {},
   "outputs": [
    {
     "data": {
      "text/plain": [
       "9.828922338947962"
      ]
     },
     "execution_count": 27,
     "metadata": {},
     "output_type": "execute_result"
    }
   ],
   "source": [
    "margem_error = media - intervalos[0]\n",
    "margem_error"
   ]
  },
  {
   "cell_type": "code",
   "execution_count": 31,
   "id": "c6c911dd",
   "metadata": {},
   "outputs": [
    {
     "data": {
      "text/html": [
       "<div>\n",
       "<style scoped>\n",
       "    .dataframe tbody tr th:only-of-type {\n",
       "        vertical-align: middle;\n",
       "    }\n",
       "\n",
       "    .dataframe tbody tr th {\n",
       "        vertical-align: top;\n",
       "    }\n",
       "\n",
       "    .dataframe thead th {\n",
       "        text-align: right;\n",
       "    }\n",
       "</style>\n",
       "<table border=\"1\" class=\"dataframe\">\n",
       "  <thead>\n",
       "    <tr style=\"text-align: right;\">\n",
       "      <th></th>\n",
       "      <th>i#clientid</th>\n",
       "      <th>income</th>\n",
       "      <th>age</th>\n",
       "      <th>loan</th>\n",
       "      <th>c#default</th>\n",
       "    </tr>\n",
       "  </thead>\n",
       "  <tbody>\n",
       "    <tr>\n",
       "      <th>0</th>\n",
       "      <td>1</td>\n",
       "      <td>66155.925095</td>\n",
       "      <td>59.017015</td>\n",
       "      <td>8106.532131</td>\n",
       "      <td>0</td>\n",
       "    </tr>\n",
       "    <tr>\n",
       "      <th>1</th>\n",
       "      <td>2</td>\n",
       "      <td>34415.153966</td>\n",
       "      <td>48.117153</td>\n",
       "      <td>6564.745018</td>\n",
       "      <td>0</td>\n",
       "    </tr>\n",
       "    <tr>\n",
       "      <th>2</th>\n",
       "      <td>3</td>\n",
       "      <td>57317.170063</td>\n",
       "      <td>63.108049</td>\n",
       "      <td>8020.953296</td>\n",
       "      <td>0</td>\n",
       "    </tr>\n",
       "    <tr>\n",
       "      <th>3</th>\n",
       "      <td>4</td>\n",
       "      <td>42709.534201</td>\n",
       "      <td>45.751972</td>\n",
       "      <td>6103.642260</td>\n",
       "      <td>0</td>\n",
       "    </tr>\n",
       "    <tr>\n",
       "      <th>4</th>\n",
       "      <td>5</td>\n",
       "      <td>66952.688845</td>\n",
       "      <td>18.584336</td>\n",
       "      <td>8770.099235</td>\n",
       "      <td>1</td>\n",
       "    </tr>\n",
       "  </tbody>\n",
       "</table>\n",
       "</div>"
      ],
      "text/plain": [
       "   i#clientid        income        age         loan  c#default\n",
       "0           1  66155.925095  59.017015  8106.532131          0\n",
       "1           2  34415.153966  48.117153  6564.745018          0\n",
       "2           3  57317.170063  63.108049  8020.953296          0\n",
       "3           4  42709.534201  45.751972  6103.642260          0\n",
       "4           5  66952.688845  18.584336  8770.099235          1"
      ]
     },
     "execution_count": 31,
     "metadata": {},
     "output_type": "execute_result"
    }
   ],
   "source": [
    "import pandas as pd\n",
    "from sklearn.model_selection import train_test_split\n",
    "from sklearn.naive_bayes import GaussianNB\n",
    "from sklearn.linear_model import LogisticRegression\n",
    "from sklearn.ensemble import RandomForestClassifier\n",
    "from sklearn.metrics import accuracy_score\n",
    "from sklearn.model_selection import cross_val_score, KFold\n",
    "dataset = pd.read_csv('..\\Bases de dados\\credit_data.csv')\n",
    "dataset.dropna(inplace=True)\n",
    "dataset.head()"
   ]
  },
  {
   "cell_type": "code",
   "execution_count": 32,
   "id": "c2b958c6",
   "metadata": {},
   "outputs": [
    {
     "data": {
      "text/plain": [
       "array([[6.61559251e+04, 5.90170151e+01, 8.10653213e+03],\n",
       "       [3.44151540e+04, 4.81171531e+01, 6.56474502e+03],\n",
       "       [5.73171701e+04, 6.31080495e+01, 8.02095330e+03],\n",
       "       ...,\n",
       "       [4.43114493e+04, 2.80171669e+01, 5.52278669e+03],\n",
       "       [4.37560566e+04, 6.39717958e+01, 1.62272260e+03],\n",
       "       [6.94365796e+04, 5.61526170e+01, 7.37883360e+03]])"
      ]
     },
     "execution_count": 32,
     "metadata": {},
     "output_type": "execute_result"
    }
   ],
   "source": [
    "X = dataset.iloc[:, 1:4].values\n",
    "X"
   ]
  },
  {
   "cell_type": "code",
   "execution_count": 33,
   "id": "ec4ff827",
   "metadata": {},
   "outputs": [
    {
     "data": {
      "text/plain": [
       "array([0, 0, 0, ..., 1, 0, 0], dtype=int64)"
      ]
     },
     "execution_count": 33,
     "metadata": {},
     "output_type": "execute_result"
    }
   ],
   "source": [
    "y = dataset.iloc[:, 4].values\n",
    "y"
   ]
  },
  {
   "cell_type": "code",
   "execution_count": 34,
   "id": "b83e99f9",
   "metadata": {},
   "outputs": [],
   "source": [
    "resultados_naive_bayes_cv = []\n",
    "resultados_naive_bayes_cv_300 = []\n",
    "resultados_logistica_cv = []\n",
    "resultados_logistica_cv_300 = []\n",
    "resultados_forest_cv = []\n",
    "resultados_forest_cv_300 = []\n",
    "for i in range(30):\n",
    "  kfold = KFold(n_splits = 10, shuffle = True, random_state = i)\n",
    "  \n",
    "  naive_bayes = GaussianNB()\n",
    "  scores = cross_val_score(naive_bayes, X, y, cv = kfold)\n",
    "  resultados_naive_bayes_cv_300.append(scores)\n",
    "  resultados_naive_bayes_cv.append(scores.mean())\n",
    "\n",
    "  logistica = LogisticRegression()\n",
    "  scores = cross_val_score(logistica, X, y, cv = kfold)\n",
    "  resultados_logistica_cv_300.append(scores)\n",
    "  resultados_logistica_cv.append(scores.mean())\n",
    "  \n",
    "  random_forest = RandomForestClassifier()\n",
    "  scores = cross_val_score(random_forest, X, y, cv = kfold)\n",
    "  resultados_forest_cv_300.append(scores)\n",
    "  resultados_forest_cv.append(scores.mean())"
   ]
  },
  {
   "cell_type": "code",
   "execution_count": 35,
   "id": "f62cb2b3",
   "metadata": {},
   "outputs": [
    {
     "data": {
      "text/plain": [
       "(30, 30)"
      ]
     },
     "execution_count": 35,
     "metadata": {},
     "output_type": "execute_result"
    }
   ],
   "source": [
    "len(resultados_naive_bayes_cv), len(resultados_naive_bayes_cv_300)"
   ]
  },
  {
   "cell_type": "code",
   "execution_count": 36,
   "id": "1b81fc2e",
   "metadata": {},
   "outputs": [
    {
     "name": "stdout",
     "output_type": "stream",
     "text": [
      "[0.9248618090452261, 0.9249170854271356, 0.9248894472361808, 0.9228819095477387, 0.9248718592964824, 0.9253894472361809, 0.9243844221105528, 0.9248894472361808, 0.9248718592964824, 0.9238894472361808, 0.9253844221105527, 0.9244020100502512, 0.9253743718592965, 0.924394472361809, 0.9253869346733667, 0.9248819095477387, 0.9258844221105527, 0.924894472361809, 0.9238819095477387, 0.9258844221105529, 0.9258944723618091, 0.9253894472361811, 0.92436432160804, 0.9263844221105527, 0.9228944723618092, 0.9253894472361809, 0.9248869346733668, 0.9253919597989949, 0.9253819095477386, 0.9258844221105527]\n"
     ]
    }
   ],
   "source": [
    "print(resultados_naive_bayes_cv)"
   ]
  },
  {
   "cell_type": "code",
   "execution_count": 37,
   "id": "931e5cb1",
   "metadata": {},
   "outputs": [
    {
     "name": "stdout",
     "output_type": "stream",
     "text": [
      "[array([0.91      , 0.93      , 0.96      , 0.925     , 0.94      ,\n",
      "       0.895     , 0.965     , 0.89949749, 0.87939698, 0.94472362]), array([0.92      , 0.945     , 0.895     , 0.92      , 0.915     ,\n",
      "       0.93      , 0.89      , 0.94974874, 0.93467337, 0.94974874]), array([0.93      , 0.89      , 0.94      , 0.935     , 0.905     ,\n",
      "       0.935     , 0.935     , 0.91959799, 0.94472362, 0.91457286]), array([0.91      , 0.945     , 0.95      , 0.94      , 0.92      ,\n",
      "       0.9       , 0.9       , 0.90954774, 0.91959799, 0.93467337]), array([0.96      , 0.93      , 0.94      , 0.905     , 0.935     ,\n",
      "       0.93      , 0.905     , 0.90452261, 0.89949749, 0.93969849]), array([0.915     , 0.91      , 0.945     , 0.945     , 0.9       ,\n",
      "       0.935     , 0.925     , 0.96482412, 0.89949749, 0.91457286]), array([0.955     , 0.935     , 0.915     , 0.94      , 0.905     ,\n",
      "       0.9       , 0.925     , 0.92462312, 0.92462312, 0.91959799]), array([0.94      , 0.92      , 0.925     , 0.915     , 0.905     ,\n",
      "       0.935     , 0.93      , 0.91457286, 0.92462312, 0.93969849]), array([0.915     , 0.93      , 0.905     , 0.94      , 0.935     ,\n",
      "       0.955     , 0.925     , 0.91457286, 0.91457286, 0.91457286]), array([0.895     , 0.885     , 0.925     , 0.935     , 0.955     ,\n",
      "       0.935     , 0.93      , 0.92964824, 0.91959799, 0.92964824]), array([0.92      , 0.93      , 0.935     , 0.95      , 0.905     ,\n",
      "       0.905     , 0.94      , 0.91959799, 0.89949749, 0.94974874]), array([0.945     , 0.92      , 0.925     , 0.89      , 0.935     ,\n",
      "       0.9       , 0.925     , 0.92462312, 0.94472362, 0.93467337]), array([0.93      , 0.92      , 0.93      , 0.945     , 0.935     ,\n",
      "       0.93      , 0.915     , 0.92964824, 0.91457286, 0.90452261]), array([0.91      , 0.94      , 0.93      , 0.88      , 0.945     ,\n",
      "       0.9       , 0.95      , 0.93969849, 0.93467337, 0.91457286]), array([0.92      , 0.915     , 0.945     , 0.935     , 0.885     ,\n",
      "       0.945     , 0.935     , 0.93467337, 0.92462312, 0.91457286]), array([0.9       , 0.95      , 0.955     , 0.895     , 0.96      ,\n",
      "       0.935     , 0.89      , 0.90452261, 0.91959799, 0.93969849]), array([0.925     , 0.92      , 0.94      , 0.93      , 0.935     ,\n",
      "       0.93      , 0.91      , 0.90954774, 0.90954774, 0.94974874]), array([0.95      , 0.93      , 0.94      , 0.935     , 0.9       ,\n",
      "       0.895     , 0.91      , 0.94472362, 0.90954774, 0.93467337]), array([0.925     , 0.92      , 0.92      , 0.935     , 0.905     ,\n",
      "       0.94      , 0.93      , 0.91457286, 0.91457286, 0.93467337]), array([0.94      , 0.925     , 0.905     , 0.96      , 0.915     ,\n",
      "       0.915     , 0.93      , 0.90954774, 0.94974874, 0.90954774]), array([0.895     , 0.9       , 0.94      , 0.9       , 0.94      ,\n",
      "       0.935     , 0.96      , 0.89949749, 0.93467337, 0.95477387]), array([0.93      , 0.94      , 0.915     , 0.955     , 0.925     ,\n",
      "       0.9       , 0.91      , 0.89447236, 0.92462312, 0.95979899]), array([0.945     , 0.9       , 0.93      , 0.95      , 0.945     ,\n",
      "       0.93      , 0.915     , 0.91457286, 0.88944724, 0.92462312]), array([0.92      , 0.925     , 0.925     , 0.94      , 0.915     ,\n",
      "       0.91      , 0.96      , 0.94974874, 0.89949749, 0.91959799]), array([0.91      , 0.92      , 0.925     , 0.895     , 0.925     ,\n",
      "       0.92      , 0.945     , 0.92964824, 0.90954774, 0.94974874]), array([0.92      , 0.925     , 0.91      , 0.93      , 0.905     ,\n",
      "       0.945     , 0.94      , 0.92462312, 0.92964824, 0.92462312]), array([0.935     , 0.91      , 0.93      , 0.96      , 0.9       ,\n",
      "       0.91      , 0.93      , 0.91457286, 0.93969849, 0.91959799]), array([0.95      , 0.91      , 0.915     , 0.905     , 0.925     ,\n",
      "       0.93      , 0.935     , 0.92462312, 0.91959799, 0.93969849]), array([0.94      , 0.915     , 0.945     , 0.925     , 0.93      ,\n",
      "       0.92      , 0.915     , 0.90452261, 0.90954774, 0.94974874]), array([0.935     , 0.92      , 0.91      , 0.925     , 0.91      ,\n",
      "       0.93      , 0.96      , 0.91457286, 0.92964824, 0.92462312])]\n"
     ]
    }
   ],
   "source": [
    "print(resultados_naive_bayes_cv_300)"
   ]
  },
  {
   "cell_type": "code",
   "execution_count": 38,
   "id": "b78b1e92",
   "metadata": {},
   "outputs": [
    {
     "data": {
      "text/plain": [
       "(30, 10)"
      ]
     },
     "execution_count": 38,
     "metadata": {},
     "output_type": "execute_result"
    }
   ],
   "source": [
    "np.asarray(resultados_naive_bayes_cv_300).shape"
   ]
  },
  {
   "cell_type": "code",
   "execution_count": 39,
   "id": "23c4d1fe",
   "metadata": {},
   "outputs": [],
   "source": [
    "# transformam para uma única dimensão\n",
    "\n",
    "resultados_naive_bayes_cv = np.array(resultados_naive_bayes_cv)\n",
    "resultados_naive_bayes_cv_300 = np.array(np.asarray(resultados_naive_bayes_cv_300).reshape(-1))\n",
    "resultados_logistica_cv = np.array(resultados_logistica_cv)\n",
    "resultados_logistica_cv_300 = np.array(np.asarray(resultados_logistica_cv_300).reshape(-1))\n",
    "resultados_forest_cv = np.array(resultados_forest_cv)\n",
    "resultados_forest_cv_300 = np.array(np.asarray(resultados_forest_cv_300).reshape(-1))"
   ]
  },
  {
   "cell_type": "code",
   "execution_count": 40,
   "id": "987cc7b9",
   "metadata": {},
   "outputs": [
    {
     "data": {
      "text/plain": [
       "(300,)"
      ]
     },
     "execution_count": 40,
     "metadata": {},
     "output_type": "execute_result"
    }
   ],
   "source": [
    "resultados_naive_bayes_cv_300.shape"
   ]
  },
  {
   "cell_type": "code",
   "execution_count": 41,
   "id": "f6b955c8",
   "metadata": {},
   "outputs": [
    {
     "name": "stderr",
     "output_type": "stream",
     "text": [
      "C:\\Users\\Matheus\\anaconda3\\lib\\site-packages\\seaborn\\distributions.py:2619: FutureWarning: `distplot` is a deprecated function and will be removed in a future version. Please adapt your code to use either `displot` (a figure-level function with similar flexibility) or `histplot` (an axes-level function for histograms).\n",
      "  warnings.warn(msg, FutureWarning)\n"
     ]
    },
    {
     "data": {
      "image/png": "[encoded data removed]",
      "text/plain": [
       "<Figure size 432x288 with 1 Axes>"
      ]
     },
     "metadata": {
      "needs_background": "light"
     },
     "output_type": "display_data"
    }
   ],
   "source": [
    "sns.distplot(resultados_naive_bayes_cv);"
   ]
  },
  {
   "cell_type": "code",
   "execution_count": 42,
   "id": "3a23c1ed",
   "metadata": {},
   "outputs": [
    {
     "name": "stderr",
     "output_type": "stream",
     "text": [
      "C:\\Users\\Matheus\\anaconda3\\lib\\site-packages\\seaborn\\distributions.py:2619: FutureWarning: `distplot` is a deprecated function and will be removed in a future version. Please adapt your code to use either `displot` (a figure-level function with similar flexibility) or `histplot` (an axes-level function for histograms).\n",
      "  warnings.warn(msg, FutureWarning)\n"
     ]
    },
    {
     "data": {
      "image/png": "[encoded data removed]",
      "text/plain": [
       "<Figure size 432x288 with 1 Axes>"
      ]
     },
     "metadata": {
      "needs_background": "light"
     },
     "output_type": "display_data"
    }
   ],
   "source": [
    "# mais parecido com uma distruição normal\n",
    "\n",
    "sns.distplot(resultados_naive_bayes_cv_300);"
   ]
  },
  {
   "cell_type": "markdown",
   "id": "b20957e5",
   "metadata": {},
   "source": [
    "### Teste de Hipótese"
   ]
  },
  {
   "cell_type": "code",
   "execution_count": null,
   "id": "d9565477",
   "metadata": {},
   "outputs": [],
   "source": []
  },
  {
   "cell_type": "code",
   "execution_count": null,
   "id": "103a2936",
   "metadata": {},
   "outputs": [],
   "source": []
  },
  {
   "cell_type": "code",
   "execution_count": null,
   "id": "8ad2a709",
   "metadata": {},
   "outputs": [],
   "source": []
  },
  {
   "cell_type": "code",
   "execution_count": null,
   "id": "6517cb9e",
   "metadata": {},
   "outputs": [],
   "source": []
  },
  {
   "cell_type": "code",
   "execution_count": null,
   "id": "291ba51c",
   "metadata": {},
   "outputs": [],
   "source": []
  },
  {
   "cell_type": "code",
   "execution_count": null,
   "id": "d7c23e54",
   "metadata": {},
   "outputs": [],
   "source": []
  },
  {
   "cell_type": "code",
   "execution_count": null,
   "id": "4d84318e",
   "metadata": {},
   "outputs": [],
   "source": []
  },
  {
   "cell_type": "code",
   "execution_count": null,
   "id": "ea2dd73b",
   "metadata": {},
   "outputs": [],
   "source": []
  },
  {
   "cell_type": "code",
   "execution_count": null,
   "id": "3e5d035e",
   "metadata": {},
   "outputs": [],
   "source": []
  },
  {
   "cell_type": "code",
   "execution_count": null,
   "id": "83d7dbe7",
   "metadata": {},
   "outputs": [],
   "source": []
  },
  {
   "cell_type": "code",
   "execution_count": null,
   "id": "59532bf9",
   "metadata": {},
   "outputs": [],
   "source": []
  }
 ],
 "metadata": {
  "kernelspec": {
   "display_name": "Python 3 (ipykernel)",
   "language": "python",
   "name": "python3"
  },
  "language_info": {
   "codemirror_mode": {
    "name": "ipython",
    "version": 3
   },
   "file_extension": ".py",
   "mimetype": "text/x-python",
   "name": "python",
   "nbconvert_exporter": "python",
   "pygments_lexer": "ipython3",
   "version": "3.9.12"
  }
 },
 "nbformat": 4,
 "nbformat_minor": 5
}
