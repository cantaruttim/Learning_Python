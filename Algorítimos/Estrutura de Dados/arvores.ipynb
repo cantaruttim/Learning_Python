{
 "cells": [
  {
   "attachments": {},
   "cell_type": "markdown",
   "metadata": {},
   "source": [
    "### Árvores"
   ]
  },
  {
   "cell_type": "code",
   "execution_count": 2,
   "metadata": {},
   "outputs": [
    {
     "name": "stdout",
     "output_type": "stream",
     "text": [
      "7\n",
      "18\n",
      "14\n"
     ]
    }
   ],
   "source": [
    "# Implementando uma árvore binária\n",
    "\n",
    "class TreeNode:\n",
    "    \n",
    "    def __init__(self, data):\n",
    "        self.data = data\n",
    "        self.left = None\n",
    "        self.right = None\n",
    "\n",
    "    def __str__(self):\n",
    "        return str(self.data)\n",
    "\n",
    "class BinaryTree:\n",
    "\n",
    "     def __init__(self, data):\n",
    "        node = TreeNode(data)\n",
    "        self.root = node\n",
    "\n",
    "if __name__ == \"__main__\":\n",
    "    tree = BinaryTree(7)\n",
    "    tree.root.left = TreeNode(18)\n",
    "    tree.root.right = TreeNode(14)\n",
    "\n",
    "    print(tree.root)\n",
    "    print(tree.root.left)\n",
    "    print(tree.root.right)\n",
    "\n"
   ]
  }
 ],
 "metadata": {
  "kernelspec": {
   "display_name": "Python 3",
   "language": "python",
   "name": "python3"
  },
  "language_info": {
   "codemirror_mode": {
    "name": "ipython",
    "version": 3
   },
   "file_extension": ".py",
   "mimetype": "text/x-python",
   "name": "python",
   "nbconvert_exporter": "python",
   "pygments_lexer": "ipython3",
   "version": "3.10.9"
  },
  "orig_nbformat": 4,
  "vscode": {
   "interpreter": {
    "hash": "48434fea92bcfa521232aa698a59dbef67c96a63793f88c53e51c3c6eaedc268"
   }
  }
 },
 "nbformat": 4,
 "nbformat_minor": 2
}
