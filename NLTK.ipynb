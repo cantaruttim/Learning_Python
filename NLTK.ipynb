{
  "nbformat": 4,
  "nbformat_minor": 0,
  "metadata": {
    "colab": {
      "provenance": [],
      "authorship_tag": "ABX9TyMOx4YjJj6MrT8Az+hqyFVD",
      "include_colab_link": true
    },
    "kernelspec": {
      "name": "python3",
      "display_name": "Python 3"
    },
    "language_info": {
      "name": "python"
    }
  },
  "cells": [
    {
      "cell_type": "markdown",
      "metadata": {
        "id": "view-in-github",
        "colab_type": "text"
      },
      "source": [
        "<a href=\"https://colab.research.google.com/github/cantaruttim/Learning_Python/blob/main/NLTK.ipynb\" target=\"_parent\"><img src=\"https://colab.research.google.com/assets/colab-badge.svg\" alt=\"Open In Colab\"/></a>"
      ]
    },
    {
      "cell_type": "code",
      "execution_count": null,
      "metadata": {
        "colab": {
          "base_uri": "https://localhost:8080/"
        },
        "id": "CmSowm4uLPVV",
        "outputId": "77683605-9b54-442c-b623-7f4b514badcc"
      },
      "outputs": [
        {
          "output_type": "stream",
          "name": "stdout",
          "text": [
            "Looking in indexes: https://pypi.org/simple, https://us-python.pkg.dev/colab-wheels/public/simple/\n",
            "Collecting biopython\n",
            "  Downloading biopython-1.81-cp38-cp38-manylinux_2_17_x86_64.manylinux2014_x86_64.whl (3.1 MB)\n",
            "\u001b[2K     \u001b[90m━━━━━━━━━━━━━━━━━━━━━━━━━━━━━━━━━━━━━━━━\u001b[0m \u001b[32m3.1/3.1 MB\u001b[0m \u001b[31m45.9 MB/s\u001b[0m eta \u001b[36m0:00:00\u001b[0m\n",
            "\u001b[?25hRequirement already satisfied: numpy in /usr/local/lib/python3.8/dist-packages (from biopython) (1.21.6)\n",
            "Installing collected packages: biopython\n",
            "Successfully installed biopython-1.81\n"
          ]
        }
      ],
      "source": [
        "!pip install biopython"
      ]
    },
    {
      "cell_type": "markdown",
      "source": [
        "### *Recursos* \n",
        "\n",
        "- [SMS format Conversion](https://www.bioinformatics.org/sms2/index.html)\n",
        "\n",
        "- [Biopython](http://biopython.org/DIST/docs/tutorial/Tutorial.pdf)\n",
        "\n",
        "- [NLTK Book](https://www.nltk.org/book/)\n",
        "\n",
        "- [Python Bioinformatics](https://hossainlab.github.io/PY4B/index.html)\n",
        "\n",
        "- [TextBlob](https://textblob.readthedocs.io/en/dev/)"
      ],
      "metadata": {
        "id": "wzitZ1MeQmDo"
      }
    },
    {
      "cell_type": "markdown",
      "source": [
        "#### Sumarização de Textos\n",
        "\n",
        "- [Referência](https://medium.com/@empowerpython/utilizando-processamento-de-linguagem-natural-para-criar-um-sumariza%C3%A7%C3%A3o-autom%C3%A1tica-de-textos-775cb428c84e)"
      ],
      "metadata": {
        "id": "XXs67cMTsMmI"
      }
    },
    {
      "cell_type": "code",
      "source": [
        "# import Bio\n",
        "import nltk\n",
        "# print(Bio.__version__)\n",
        "# print(nltk.__version__)"
      ],
      "metadata": {
        "id": "r_W7ozmRLrno"
      },
      "execution_count": 9,
      "outputs": []
    },
    {
      "cell_type": "code",
      "source": [
        "nltk.download('all')"
      ],
      "metadata": {
        "id": "jIFy1OyAMVNe"
      },
      "execution_count": null,
      "outputs": []
    },
    {
      "cell_type": "code",
      "source": [
        "import urllib.request "
      ],
      "metadata": {
        "id": "v-cqTC4dO-oB"
      },
      "execution_count": 21,
      "outputs": []
    },
    {
      "cell_type": "code",
      "source": [
        "link = urllib.request.urlopen('https://croplifebrasil.org/perguntas-frequentes/o-que-sao-genes/#:~:text=O%20gene%20%C3%A9%20um%20segmento,desempenha%20uma%20fun%C3%A7%C3%A3o%20no%20organismo.')\n",
        "pagina = link.read()"
      ],
      "metadata": {
        "id": "DC0hhKT9wjNa"
      },
      "execution_count": 26,
      "outputs": []
    },
    {
      "cell_type": "code",
      "source": [
        "from bs4 import BeautifulSoup\n",
        "soup = BeautifulSoup(pagina, \"lxml\") # leitura das marcações da página\n",
        "#print(soup)"
      ],
      "metadata": {
        "id": "ieF6DsBtwjQp"
      },
      "execution_count": 31,
      "outputs": []
    },
    {
      "cell_type": "code",
      "source": [
        "paragrafos = soup.find_all('p')\n",
        "len(paragrafos)"
      ],
      "metadata": {
        "id": "OfsQkVJKwjUT",
        "colab": {
          "base_uri": "https://localhost:8080/"
        },
        "outputId": "3bb3358c-cc0b-4281-9d52-d8ef516d3d9b"
      },
      "execution_count": 33,
      "outputs": [
        {
          "output_type": "execute_result",
          "data": {
            "text/plain": [
              "7"
            ]
          },
          "metadata": {},
          "execution_count": 33
        }
      ]
    },
    {
      "cell_type": "code",
      "source": [
        "for p in paragrafos:\n",
        "  print(p.text) # valor do texto sem as marcações html"
      ],
      "metadata": {
        "id": "uStyySPTwjXz",
        "colab": {
          "base_uri": "https://localhost:8080/"
        },
        "outputId": "c2897f0e-76fd-43cf-fe41-a2bf0e91a18f"
      },
      "execution_count": 35,
      "outputs": [
        {
          "output_type": "stream",
          "name": "stdout",
          "text": [
            "O gene é um segmento de uma molécula de DNA (ácido desoxirribonucleico) responsável pelas características herdadas geneticamente. Cada gene é composto por uma sequência específica de DNA (as letras A, T, C e G) que contém uma “receita” para produzir uma proteína que desempenha uma função no organismo. \n",
            "O termo DNA normalmente faz referência a um número indeterminado de genes. Por isso, quando utilizamos essa sigla, fazemos menção às instruções genéticas que coordenam o desenvolvimento e funcionamento de todos os seres vivos. \n",
            "Podemos dizer então que muitas dessas instruções genéticas, são genes. A maior parte do DNA é encontrada em forma de estruturas compactadas conhecidas como cromossomos e que se localizam dentro do núcleo das células. Nesse estado, a maioria dos genes estão “desligados”. Isso equivale a dizer que eles não estão acessíveis para que proteínas consigam ler e produzir outras moléculas. \n",
            "No entanto, é dessa forma que os genes são transmitidos para os descendentes. A descompactação do cromossomo forma a estrutura em dupla-hélice que conhecemos como DNA. Assim, os genes “ligam” e tornam-se acessíveis para serem lidos por proteínas que utilizam essa instrução genética para a produção de outras moléculas. \n",
            "Esse processo de compactação e descompactação é realizado, principalmente, por proteínas conhecidas como histonas, que ajudam a determinar quais genes de determinadas células precisam estar acordados. As marcas epigenéticas também ajudam a controlar essa atividade.\n",
            "Saiba mais\n",
            " \n"
          ]
        }
      ]
    },
    {
      "cell_type": "code",
      "source": [
        "conteudo = ''\n",
        "\n",
        "# extraíndo o conteúdo completo da página \n",
        "for p in paragrafos:\n",
        "  conteudo += p.text\n",
        "\n",
        "print(conteudo)"
      ],
      "metadata": {
        "colab": {
          "base_uri": "https://localhost:8080/"
        },
        "id": "KHjlsGuyscRz",
        "outputId": "50d7f333-0de8-4e0c-96cc-cbeaab992099"
      },
      "execution_count": 40,
      "outputs": [
        {
          "output_type": "stream",
          "name": "stdout",
          "text": [
            "O gene é um segmento de uma molécula de DNA (ácido desoxirribonucleico) responsável pelas características herdadas geneticamente. Cada gene é composto por uma sequência específica de DNA (as letras A, T, C e G) que contém uma “receita” para produzir uma proteína que desempenha uma função no organismo. O termo DNA normalmente faz referência a um número indeterminado de genes. Por isso, quando utilizamos essa sigla, fazemos menção às instruções genéticas que coordenam o desenvolvimento e funcionamento de todos os seres vivos. Podemos dizer então que muitas dessas instruções genéticas, são genes. A maior parte do DNA é encontrada em forma de estruturas compactadas conhecidas como cromossomos e que se localizam dentro do núcleo das células. Nesse estado, a maioria dos genes estão “desligados”. Isso equivale a dizer que eles não estão acessíveis para que proteínas consigam ler e produzir outras moléculas. No entanto, é dessa forma que os genes são transmitidos para os descendentes. A descompactação do cromossomo forma a estrutura em dupla-hélice que conhecemos como DNA. Assim, os genes “ligam” e tornam-se acessíveis para serem lidos por proteínas que utilizam essa instrução genética para a produção de outras moléculas. Esse processo de compactação e descompactação é realizado, principalmente, por proteínas conhecidas como histonas, que ajudam a determinar quais genes de determinadas células precisam estar acordados. As marcas epigenéticas também ajudam a controlar essa atividade.Saiba mais \n"
          ]
        }
      ]
    },
    {
      "cell_type": "code",
      "source": [
        "conteudo = conteudo.lower()\n",
        "conteudo"
      ],
      "metadata": {
        "colab": {
          "base_uri": "https://localhost:8080/",
          "height": 192
        },
        "id": "r_VvU6MOsc8I",
        "outputId": "021efd2a-9273-4ffe-e700-efa5e093285e"
      },
      "execution_count": 42,
      "outputs": [
        {
          "output_type": "execute_result",
          "data": {
            "text/plain": [
              "'o gene é um segmento de uma molécula de dna (ácido desoxirribonucleico) responsável pelas características herdadas geneticamente. cada gene é composto por uma sequência específica de dna (as letras a, t, c e g) que contém uma “receita” para produzir uma proteína que desempenha uma função no organismo. o termo dna normalmente faz referência a um número indeterminado de genes. por isso, quando utilizamos essa sigla, fazemos menção às instruções genéticas que coordenam o desenvolvimento e funcionamento de todos os seres vivos. podemos dizer então que muitas dessas instruções genéticas, são genes. a maior parte do dna é encontrada em forma de estruturas compactadas conhecidas como cromossomos e que se localizam dentro do núcleo das células. nesse estado, a maioria dos genes estão “desligados”. isso equivale a dizer que eles não estão acessíveis para que proteínas consigam ler e produzir outras moléculas. no entanto, é dessa forma que os genes são transmitidos para os descendentes. a descompactação do cromossomo forma a estrutura em dupla-hélice que conhecemos como dna. assim, os genes “ligam” e tornam-se acessíveis para serem lidos por proteínas que utilizam essa instrução genética para a produção de outras moléculas. esse processo de compactação e descompactação é realizado, principalmente, por proteínas conhecidas como histonas, que ajudam a determinar quais genes de determinadas células precisam estar acordados. as marcas epigenéticas também ajudam a controlar essa atividade.saiba mais\\xa0'"
            ],
            "application/vnd.google.colaboratory.intrinsic+json": {
              "type": "string"
            }
          },
          "metadata": {},
          "execution_count": 42
        }
      ]
    },
    {
      "cell_type": "code",
      "source": [
        "from nltk.tokenize import word_tokenize\n",
        "from nltk.tokenize import sent_tokenize"
      ],
      "metadata": {
        "id": "VNR0jeRbsdC2"
      },
      "execution_count": 43,
      "outputs": []
    },
    {
      "cell_type": "code",
      "source": [
        "# Estamos dividindo o conteúdo da página em setenças e em palavras\n",
        "sentencas = sent_tokenize(conteudo)\n",
        "palavras = word_tokenize(conteudo.lower())"
      ],
      "metadata": {
        "id": "A8oCsWGMs64h"
      },
      "execution_count": 45,
      "outputs": []
    },
    {
      "cell_type": "code",
      "source": [
        "# Vamos retirar as Stopwords e Punctuations\n",
        "\n",
        "from nltk.corpus import stopwords\n",
        "from string import punctuation\n",
        "\n",
        "stopwords = set(stopwords.words('portuguese') + list(punctuation))\n",
        "palavras_sem_stopwords = [palavra for palavra in palavras if palavra not in stopwords]"
      ],
      "metadata": {
        "id": "mtQbCeIms6-4"
      },
      "execution_count": 46,
      "outputs": []
    },
    {
      "cell_type": "code",
      "source": [
        "print(stopwords)"
      ],
      "metadata": {
        "colab": {
          "base_uri": "https://localhost:8080/"
        },
        "id": "_GwPGTdss7D9",
        "outputId": "1cca81ca-b097-450b-c5d9-fa5bf4c461a6"
      },
      "execution_count": 48,
      "outputs": [
        {
          "output_type": "stream",
          "name": "stdout",
          "text": [
            "{'estiverem', 'estivermos', 'lhe', 'vos', 'esse', 'fosse', '|', 'numa', '!', 'isso', 'nas', 'forem', 'estes', 'esta', 'aos', 'tinha', '@', 'houveria', 'hão', 'tém', '[', 'estou', '-', 'houver', 'houvéssemos', 'houveremos', '.', 'com', 'como', 'da', 'seja', 'de', '{', 'tiveram', 'é', 'estão', 'se', 'tivemos', 'até', 'estiver', 'tínhamos', 'serão', 'terão', 'terei', '~', 'as', 'você', 'era', 'te', 'estamos', 'tua', 'hajam', 'houveriam', ';', 'tivera', 'ou', 'estava', 'teve', 'fossem', '^', '$', ')', 'por', '\"', 'hei', 'teremos', 'em', 'foram', 'aquele', 'houvemos', 'seríamos', 'tem', 'aqueles', 'houverá', 'eu', 'às', 'temos', 'tivessem', 'este', 'estivesse', 'lhes', 'teus', 'tu', 'tuas', 'está', 'mas', 'nós', 'pela', 'quem', 'ele', 'esteve', 'seus', 'tenho', 'das', 'suas', 'essa', 'estávamos', 'teriam', 'estivessem', 'fôssemos', 'tiver', 'tivéramos', '`', 'nem', 'aquelas', 'entre', 'estivemos', 'meu', 'o', 'a', 'foi', 'nossas', 'fora', 'sem', 'tiverem', '\\\\', 'também', 'um', 'serei', '/', 'houvera', 'pelo', 'fui', 'elas', 'estivera', 'houverem', 'aquela', 'dele', 'seremos', 'haja', 'seriam', 'eram', 'sua', 'será', 'seria', 'quando', 'uma', 'estivéssemos', '*', 'estejam', 'tivesse', 'houvermos', 'estas', 'à', 'ser', 'esses', 'do', 'tivermos', 'nosso', '>', 'tenham', '?', 'houvesse', 'pelas', 'éramos', 'mais', 'estiveram', 'nossa', ']', '_', ',', 'minhas', 'teria', 'pelos', 'deles', 'eles', 'isto', 'sou', 'só', 'estejamos', 'há', 'haver', 'num', '<', 'fôramos', '(', 'for', 'houveram', '%', 'terá', 'havemos', 'estavam', 'aquilo', 'no', ':', 'qual', '+', 'são', 'esteja', 'já', 'essas', 'houverão', 'seu', 'meus', 'delas', 'os', 'para', '#', 'fomos', 'houvéramos', 'sejamos', 'nossos', 'que', 'estivéramos', '}', 'estive', 'somos', 'tive', 'dos', 'depois', 'mesmo', 'minha', 'houvessem', 'sejam', 'houveríamos', 'muito', 'tenhamos', 'teu', 'estar', 'tivéssemos', '&', 'hajamos', 'me', 'ao', 'nos', 'formos', 'não', 'houve', 'teríamos', 'tinham', \"'\", 'ela', 'houverei', '=', 'dela', 'na', 'tenha', 'vocês', 'e'}\n"
          ]
        }
      ]
    },
    {
      "cell_type": "code",
      "source": [
        "print(palavras_sem_stopwords)"
      ],
      "metadata": {
        "colab": {
          "base_uri": "https://localhost:8080/"
        },
        "id": "J0Drr1rms7Hi",
        "outputId": "6af4d48e-8d2c-4cab-9847-f1371eb70e53"
      },
      "execution_count": 49,
      "outputs": [
        {
          "output_type": "stream",
          "name": "stdout",
          "text": [
            "['gene', 'segmento', 'molécula', 'dna', 'ácido', 'desoxirribonucleico', 'responsável', 'características', 'herdadas', 'geneticamente', 'cada', 'gene', 'composto', 'sequência', 'específica', 'dna', 'letras', 't', 'c', 'g', 'contém', '“', 'receita', '”', 'produzir', 'proteína', 'desempenha', 'função', 'organismo', 'termo', 'dna', 'normalmente', 'faz', 'referência', 'número', 'indeterminado', 'genes', 'utilizamos', 'sigla', 'fazemos', 'menção', 'instruções', 'genéticas', 'coordenam', 'desenvolvimento', 'funcionamento', 'todos', 'seres', 'vivos', 'podemos', 'dizer', 'então', 'muitas', 'dessas', 'instruções', 'genéticas', 'genes', 'maior', 'parte', 'dna', 'encontrada', 'forma', 'estruturas', 'compactadas', 'conhecidas', 'cromossomos', 'localizam', 'dentro', 'núcleo', 'células', 'nesse', 'estado', 'maioria', 'genes', '“', 'desligados', '”', 'equivale', 'dizer', 'acessíveis', 'proteínas', 'consigam', 'ler', 'produzir', 'outras', 'moléculas', 'entanto', 'dessa', 'forma', 'genes', 'transmitidos', 'descendentes', 'descompactação', 'cromossomo', 'forma', 'estrutura', 'dupla-hélice', 'conhecemos', 'dna', 'assim', 'genes', '“', 'ligam', '”', 'tornam-se', 'acessíveis', 'serem', 'lidos', 'proteínas', 'utilizam', 'instrução', 'genética', 'produção', 'outras', 'moléculas', 'processo', 'compactação', 'descompactação', 'realizado', 'principalmente', 'proteínas', 'conhecidas', 'histonas', 'ajudam', 'determinar', 'quais', 'genes', 'determinadas', 'células', 'precisam', 'acordados', 'marcas', 'epigenéticas', 'ajudam', 'controlar', 'atividade.saiba']\n"
          ]
        }
      ]
    },
    {
      "cell_type": "code",
      "source": [
        "# Criando uma lista de frequência das palavras\n",
        "\n",
        "from nltk.probability import FreqDist\n",
        "frequencia = FreqDist(palavras_sem_stopwords)"
      ],
      "metadata": {
        "id": "RlL3Pjjzs7Ky"
      },
      "execution_count": 50,
      "outputs": []
    },
    {
      "cell_type": "code",
      "source": [
        "from collections import defaultdict\n",
        "sentencas_importantes = defaultdict(int)\n",
        "#print(sentencas_importantes)"
      ],
      "metadata": {
        "colab": {
          "base_uri": "https://localhost:8080/"
        },
        "id": "DnplXqfNsdG-",
        "outputId": "71d3b181-cbb1-4911-e113-27042a6dc792"
      },
      "execution_count": 54,
      "outputs": [
        {
          "output_type": "stream",
          "name": "stdout",
          "text": [
            "defaultdict(<class 'int'>, {})\n"
          ]
        }
      ]
    },
    {
      "cell_type": "code",
      "source": [
        "for i, sentenca in enumerate(sentencas):\n",
        "    for palavra in word_tokenize(sentenca.lower()):\n",
        "        if palavra in frequencia:\n",
        "            sentencas_importantes[i] += frequencia[palavra]"
      ],
      "metadata": {
        "id": "EiCscs7YsdNX"
      },
      "execution_count": 55,
      "outputs": []
    },
    {
      "cell_type": "code",
      "source": [
        "from heapq import nlargest\n",
        "# escolhemos as 4 sentenças mais importantes\n",
        "idx_sentencas_importantes = nlargest(3, sentencas_importantes, sentencas_importantes.get)"
      ],
      "metadata": {
        "id": "G6cm1JdCuwKn"
      },
      "execution_count": 57,
      "outputs": []
    },
    {
      "cell_type": "code",
      "source": [
        "for i in sorted(idx_sentencas_importantes):\n",
        "    print(sentencas[i])"
      ],
      "metadata": {
        "colab": {
          "base_uri": "https://localhost:8080/"
        },
        "id": "gal2IOw1uwdo",
        "outputId": "f2466857-1bb5-467d-ed98-865863476c76"
      },
      "execution_count": 58,
      "outputs": [
        {
          "output_type": "stream",
          "name": "stdout",
          "text": [
            "cada gene é composto por uma sequência específica de dna (as letras a, t, c e g) que contém uma “receita” para produzir uma proteína que desempenha uma função no organismo.\n",
            "assim, os genes “ligam” e tornam-se acessíveis para serem lidos por proteínas que utilizam essa instrução genética para a produção de outras moléculas.\n",
            "esse processo de compactação e descompactação é realizado, principalmente, por proteínas conhecidas como histonas, que ajudam a determinar quais genes de determinadas células precisam estar acordados.\n"
          ]
        }
      ]
    },
    {
      "cell_type": "markdown",
      "source": [
        "#### Classificador de Frases\n",
        "\n",
        "[Referência](https://medium.com/@empowerpython/criando-um-classificador-para-processamento-de-linguagem-natural-8dc27f3642a1)"
      ],
      "metadata": {
        "id": "kMKNE_Exvhe5"
      }
    },
    {
      "cell_type": "code",
      "source": [
        "!pip install -U textblob"
      ],
      "metadata": {
        "id": "cm69rDiUvqVF"
      },
      "execution_count": null,
      "outputs": []
    },
    {
      "cell_type": "code",
      "source": [
        "!python -m textblob.download_corpora"
      ],
      "metadata": {
        "id": "MgwRgMwHv-NI"
      },
      "execution_count": null,
      "outputs": []
    },
    {
      "cell_type": "markdown",
      "source": [
        "O que vamos fazer basicamente é criar um classificador que irá fazer previsões sobre frases, nos dizendo se elas possuem caráter negativo ou positivo."
      ],
      "metadata": {
        "id": "jg_BV3pbxI3X"
      }
    },
    {
      "cell_type": "code",
      "source": [
        "from textblob.classifiers import NaiveBayesClassifier\n",
        "from textblob import TextBlob"
      ],
      "metadata": {
        "id": "fa6Pa9UTxKMU"
      },
      "execution_count": 61,
      "outputs": []
    },
    {
      "cell_type": "code",
      "source": [
        "train_set = [\n",
        "    ('Eu adoro comer hamburguer', 'positivo'),\n",
        "    ('Este lugar é horrível', 'negativo'),\n",
        "    ('Você é uma pessoa adorável', 'positivo'),\n",
        "    ('Você é uma pessoa horrível', 'negativo'),\n",
        "    ('A festa está ótima', 'positivo'),\n",
        "    ('A festa está péssima', 'negativo'),\n",
        "    ('Este lugar é maravilhoso', 'positivo'),\n",
        "    ('Estou cansado disso.', 'negativo'),\n",
        "    ('Eu te odeio', 'negativo'),\n",
        "    ('Eu te adoro', 'positivo'),\n",
        "    ('Eu te amo', 'positivo'),\n",
        "    ('Você é incrível','positivo'),\n",
        "    ('Eu estou com muita raiva','negativo'),\n",
        "    ('Eu odeio essa linguagem','negativo'),\n",
        "    ('Essa linguagem é fantátisca','positivo'),\n",
        "    ('Essa linguagem é muito boa','positivo'),\n",
        "    ('Que comida gostosa','positivo'),\n",
        "    ('Que comida horrível','negativo'),\n",
        "    ('Estou me sentindo ótimo','positivo'),\n",
        "    ('Hoje eu estou péssimo','negativo')\n",
        "]"
      ],
      "metadata": {
        "id": "ZrOgr9afxK1s"
      },
      "execution_count": 62,
      "outputs": []
    },
    {
      "cell_type": "code",
      "source": [
        "test_set = [\n",
        "    ('Ótima linguagem', 'positivo'),\n",
        "    ('Péssima essa linguagem', 'negativo'),\n",
        "    ('Você é horrível', 'negativo'),\n",
        "    ('Comida gostosa!', 'positivo'),\n",
        "    ('Que raiva!', 'negativo'),\n",
        "    ('Ótima festa!', 'positivo'),\n",
        "    ('Eu não odeio todo mundo','positivo')\n",
        "]"
      ],
      "metadata": {
        "id": "vRiSs0IrxK9b"
      },
      "execution_count": 63,
      "outputs": []
    },
    {
      "cell_type": "code",
      "source": [
        "cl = NaiveBayesClassifier(train_set) # cria o classificador\n",
        "accuracy = cl.accuracy(test_set) # testa a acurácia de treinamento"
      ],
      "metadata": {
        "id": "5ogEXAmGxLD1"
      },
      "execution_count": 67,
      "outputs": []
    },
    {
      "cell_type": "code",
      "source": [
        "frase = 'Eu adoro todo mundo' # vamos usar essa frase para testar\n",
        "frase_negativa = 'Eu odeio ir para festas'"
      ],
      "metadata": {
        "id": "CNZ6ysG_xUoj"
      },
      "execution_count": 70,
      "outputs": []
    },
    {
      "cell_type": "code",
      "source": [
        "blob = TextBlob(frase,classifier=cl)\n",
        "\n",
        "print('Esta frase é de caráter:{}'.format(blob.classify()))\n",
        "print('Precisão da previsão:{}'.format(accuracy))"
      ],
      "metadata": {
        "colab": {
          "base_uri": "https://localhost:8080/"
        },
        "id": "dGERJNcExUuy",
        "outputId": "cb7dfc7e-a25d-4bc5-9144-f90ecfc1f98b"
      },
      "execution_count": 69,
      "outputs": [
        {
          "output_type": "stream",
          "name": "stdout",
          "text": [
            "Esta frase é de caráter:positivo\n",
            "Precisão da previsão:0.8571428571428571\n"
          ]
        }
      ]
    },
    {
      "cell_type": "code",
      "source": [],
      "metadata": {
        "id": "a58dUw4nyF1W"
      },
      "execution_count": null,
      "outputs": []
    }
  ]
}