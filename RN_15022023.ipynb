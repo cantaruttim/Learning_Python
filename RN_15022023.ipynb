{
  "nbformat": 4,
  "nbformat_minor": 0,
  "metadata": {
    "colab": {
      "provenance": [],
      "authorship_tag": "ABX9TyPuSVSzLWuW1tpr991r1Z3I",
      "include_colab_link": true
    },
    "kernelspec": {
      "name": "python3",
      "display_name": "Python 3"
    },
    "language_info": {
      "name": "python"
    }
  },
  "cells": [
    {
      "cell_type": "markdown",
      "metadata": {
        "id": "view-in-github",
        "colab_type": "text"
      },
      "source": [
        "<a href=\"https://colab.research.google.com/github/cantaruttim/Learning_Python/blob/main/RN_15022023.ipynb\" target=\"_parent\"><img src=\"https://colab.research.google.com/assets/colab-badge.svg\" alt=\"Open In Colab\"/></a>"
      ]
    },
    {
      "cell_type": "markdown",
      "source": [
        "### **Redes Neurais**\n",
        "\n",
        "*link* : https://en.wikipedia.org/wiki/Gradient_descent\n",
        "\n",
        "*link* (_*função de ativação*_) : https://en.wikipedia.org/wiki/Activation_function\n",
        "\n",
        "<br /><br />\n",
        "\n",
        "- 1943 : Neurônio de McCulloch e Pitts (máquina baseada/inspirada no cérebro humano) - https://medium.com/@augusto_Pinheiro/redes-neurais-artificiais-133de77c7240\n",
        "\n",
        "- 1949 : Donald Hebbe >>> Como treinar a máquina\n",
        "\n",
        "\n",
        "*** Problema da separação linear, do OU exclusivo\n",
        "\n",
        "https://playground.tensorflow.org/#activation=tanh&batchSize=10&dataset=circle&regDataset=reg-plane&learningRate=0.03&regularizationRate=0&noise=0&networkShape=3,3,2&seed=0.76370&showTestData=false&discretize=false&percTrainData=50&x=true&y=false&xTimesY=false&xSquared=false&ySquared=false&cosX=false&sinX=false&cosY=false&sinY=false&collectStats=false&problem=classification&initZero=false&hideText=false\n",
        "\n",
        "<br /><br /><br /><br /><br />\n",
        "\n",
        "**Problema da Separação Linear**\n",
        "- precisava de uma rede de neurônios, apenas um perceptron não seria suficiente.\n",
        "\n",
        "\n",
        "\n"
      ],
      "metadata": {
        "id": "SZRx7T00jWwW"
      }
    },
    {
      "cell_type": "code",
      "source": [],
      "metadata": {
        "id": "G2EXov_qsFLV"
      },
      "execution_count": null,
      "outputs": []
    }
  ]
}