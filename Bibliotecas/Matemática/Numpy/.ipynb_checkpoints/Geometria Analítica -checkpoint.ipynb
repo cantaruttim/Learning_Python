{
 "cells": [
  {
   "cell_type": "markdown",
   "id": "821046fc",
   "metadata": {},
   "source": [
    "### Geometria Analítica com Python"
   ]
  },
  {
   "cell_type": "code",
   "execution_count": 1,
   "id": "c80b5f84",
   "metadata": {},
   "outputs": [],
   "source": [
    "### Como operar vetores com Python?\n",
    "\n",
    "import numpy as np\n",
    "\n",
    "# terna tridimensional\n",
    "vetor_u = np.array([1, -2, 0])\n",
    "vetor_v = np.array([0, 2, 2])"
   ]
  },
  {
   "cell_type": "markdown",
   "id": "154467b6",
   "metadata": {},
   "source": [
    "### operações entre vetores\n",
    "\n",
    "As quatro operações mais comuns são: soma, multiplicação por escalar, produto escalar e produto misto"
   ]
  },
  {
   "cell_type": "code",
   "execution_count": 2,
   "id": "6649110f",
   "metadata": {},
   "outputs": [
    {
     "name": "stdout",
     "output_type": "stream",
     "text": [
      "[1 0 2]\n"
     ]
    }
   ],
   "source": [
    "s = vetor_u + vetor_v\n",
    "print(s)"
   ]
  },
  {
   "cell_type": "code",
   "execution_count": 3,
   "id": "4373d498",
   "metadata": {},
   "outputs": [
    {
     "name": "stdout",
     "output_type": "stream",
     "text": [
      "[  7 -14   0]\n"
     ]
    }
   ],
   "source": [
    "# multiplicação por um escalar\n",
    "\n",
    "vetor_x = 7 * vetor_u\n",
    "print(vetor_x)"
   ]
  },
  {
   "cell_type": "code",
   "execution_count": 4,
   "id": "05e25e77",
   "metadata": {},
   "outputs": [
    {
     "name": "stdout",
     "output_type": "stream",
     "text": [
      "-4\n"
     ]
    }
   ],
   "source": [
    "# produto escalar de u com v\n",
    "\n",
    "s = np.dot(vetor_u, vetor_v)\n",
    "print(s)"
   ]
  },
  {
   "cell_type": "code",
   "execution_count": 5,
   "id": "9002bb81",
   "metadata": {},
   "outputs": [
    {
     "name": "stdout",
     "output_type": "stream",
     "text": [
      "[-4 -2  2]\n"
     ]
    }
   ],
   "source": [
    "# produto vetorial de u com v\n",
    "\n",
    "s = np.cross(vetor_u, vetor_v)\n",
    "print(s)"
   ]
  },
  {
   "cell_type": "code",
   "execution_count": 6,
   "id": "74c4d051",
   "metadata": {},
   "outputs": [
    {
     "name": "stdout",
     "output_type": "stream",
     "text": [
      "0.0\n"
     ]
    }
   ],
   "source": [
    "# Produto misto. É o determinate de uma matriz quadrada de ordem 3\n",
    "\n",
    "y = np.linalg.det(\n",
    "    \n",
    "    [\n",
    "    vetor_u,\n",
    "    vetor_v,\n",
    "    vetor_x\n",
    "    ]\n",
    ")\n",
    "\n",
    "print(y)"
   ]
  },
  {
   "cell_type": "code",
   "execution_count": 22,
   "id": "00674e8f",
   "metadata": {},
   "outputs": [],
   "source": [
    "import matplotlib.pyplot as plt"
   ]
  },
  {
   "cell_type": "code",
   "execution_count": 49,
   "id": "b3b5830d",
   "metadata": {},
   "outputs": [
    {
     "data": {
      "image/png": "[encoded data removed]",
      "text/plain": [
       "<Figure size 432x288 with 1 Axes>"
      ]
     },
     "metadata": {
      "needs_background": "light"
     },
     "output_type": "display_data"
    }
   ],
   "source": [
    "# dois vetores\n",
    "\n",
    "fig, ax = plt.subplots()\n",
    "\n",
    "plt.plot(([1, -2]), label='vetor u')\n",
    "plt.plot(([1, 5]), label='vetor s')\n",
    "\n",
    "plt.legend()\n",
    "plt.show()"
   ]
  },
  {
   "cell_type": "code",
   "execution_count": null,
   "id": "aad61ebf",
   "metadata": {},
   "outputs": [],
   "source": []
  },
  {
   "cell_type": "markdown",
   "id": "9aeaa3d1",
   "metadata": {},
   "source": [
    "### Distância entre dois pontos: \n",
    "\n",
    "$$ d = \\sqrt{ (x2 - x1)² + (y2 - y1)² }  $$"
   ]
  },
  {
   "cell_type": "code",
   "execution_count": 16,
   "id": "74d6478d",
   "metadata": {},
   "outputs": [],
   "source": [
    "# Cálculo da distância entre dois pontos\n",
    "\n",
    "def calcula_distancia(x1, x2, y1, y2):\n",
    "\t\n",
    "\tdelta_x = (x2 - x1)\n",
    "\tdelta_y = (y2 - y1)\n",
    "\t\n",
    "\tdistancia = ( (delta_x**2) + (delta_y**2) ) ** 0.5 \n",
    "\t\n",
    "\treturn distancia, delta_x, delta_y\n"
   ]
  },
  {
   "cell_type": "code",
   "execution_count": 17,
   "id": "9e2ad263",
   "metadata": {},
   "outputs": [
    {
     "data": {
      "text/plain": [
       "(3.605551275463989, -3, 2)"
      ]
     },
     "execution_count": 17,
     "metadata": {},
     "output_type": "execute_result"
    }
   ],
   "source": [
    "calcula_distancia(1,-2, 1, 3) # resultado aproximado da raíz quadrade de 13"
   ]
  },
  {
   "cell_type": "markdown",
   "id": "d89c9415",
   "metadata": {},
   "source": [
    "### Teorema de Pitágoras"
   ]
  },
  {
   "cell_type": "code",
   "execution_count": 20,
   "id": "2a65eeef",
   "metadata": {},
   "outputs": [],
   "source": [
    "def hipotenusa(Co, Ca):\n",
    "    \n",
    "    H = ( ((Co)**2) + (( Ca )**2)) ** 0.5\n",
    "    \n",
    "    return H\n",
    "    "
   ]
  },
  {
   "cell_type": "code",
   "execution_count": 21,
   "id": "0450733d",
   "metadata": {},
   "outputs": [
    {
     "data": {
      "text/plain": [
       "3.605551275463989"
      ]
     },
     "execution_count": 21,
     "metadata": {},
     "output_type": "execute_result"
    }
   ],
   "source": [
    "hipotenusa(-3, 2)"
   ]
  },
  {
   "cell_type": "code",
   "execution_count": null,
   "id": "2806e003",
   "metadata": {},
   "outputs": [],
   "source": []
  },
  {
   "cell_type": "code",
   "execution_count": null,
   "id": "124b079c",
   "metadata": {},
   "outputs": [],
   "source": []
  },
  {
   "cell_type": "code",
   "execution_count": null,
   "id": "5ac75a88",
   "metadata": {},
   "outputs": [],
   "source": []
  }
 ],
 "metadata": {
  "kernelspec": {
   "display_name": "Python 3 (ipykernel)",
   "language": "python",
   "name": "python3"
  },
  "language_info": {
   "codemirror_mode": {
    "name": "ipython",
    "version": 3
   },
   "file_extension": ".py",
   "mimetype": "text/x-python",
   "name": "python",
   "nbconvert_exporter": "python",
   "pygments_lexer": "ipython3",
   "version": "3.9.12"
  }
 },
 "nbformat": 4,
 "nbformat_minor": 5
}
