{
 "cells": [
  {
   "cell_type": "code",
   "execution_count": 55,
   "metadata": {},
   "outputs": [],
   "source": [
    "import requests\n",
    "import json"
   ]
  },
  {
   "cell_type": "code",
   "execution_count": 56,
   "metadata": {},
   "outputs": [
    {
     "name": "stdout",
     "output_type": "stream",
     "text": [
      "{'USD': {'code': 'USD', 'codein': 'BRL', 'name': 'Dólar Americano/Real Brasileiro', 'high': '5.2385', 'low': '5.1652', 'varBid': '0.0338', 'pctChange': '0.65', 'bid': '5.2074', 'ask': '5.2084', 'timestamp': '1674250201', 'create_date': '2023-01-20 18:30:01'}, 'USDT': {'code': 'USD', 'codein': 'BRLT', 'name': 'Dólar Americano/Real Brasileiro Turismo', 'high': '5.255', 'low': '5.17', 'varBid': '0.03', 'pctChange': '0.58', 'bid': '5.07', 'ask': '5.38', 'timestamp': '1674243120', 'create_date': '2023-01-20 16:32:00'}, 'CAD': {'code': 'CAD', 'codein': 'BRL', 'name': 'Dólar Canadense/Real Brasileiro', 'high': '3.8978', 'low': '3.8332', 'varBid': '0.0491', 'pctChange': '1.28', 'bid': '3.8911', 'ask': '3.893', 'timestamp': '1674251996', 'create_date': '2023-01-20 18:59:56'}, 'GBP': {'code': 'GBP', 'codein': 'BRL', 'name': 'Libra Esterlina/Real Brasileiro', 'high': '6.4676', 'low': '6.381', 'varBid': '0.0457', 'pctChange': '0.71', 'bid': '6.4535', 'ask': '6.4584', 'timestamp': '1674251997', 'create_date': '2023-01-20 18:59:57'}, 'ARS': {'code': 'ARS', 'codein': 'BRL', 'name': 'Peso Argentino/Real Brasileiro', 'high': '0.0286', 'low': '0.0282', 'varBid': '0.0001', 'pctChange': '0.35', 'bid': '0.0284', 'ask': '0.0284', 'timestamp': '1674250201', 'create_date': '2023-01-20 18:30:01'}, 'BTC': {'code': 'BTC', 'codein': 'BRL', 'name': 'Bitcoin/Real Brasileiro', 'high': '121.644', 'low': '118', 'varBid': '-210', 'pctChange': '-0.18', 'bid': '119.428', 'ask': '119.473', 'timestamp': '1674396336', 'create_date': '2023-01-22 11:05:36'}, 'LTC': {'code': 'LTC', 'codein': 'BRL', 'name': 'Litecoin/Real Brasileiro', 'high': '473', 'low': '455.47', 'varBid': '2.76', 'pctChange': '0.6', 'bid': '464.54', 'ask': '465.86', 'timestamp': '1674396344', 'create_date': '2023-01-22 11:05:44'}, 'EUR': {'code': 'EUR', 'codein': 'BRL', 'name': 'Euro/Real Brasileiro', 'high': '5.668', 'low': '5.5893', 'varBid': '0.0517', 'pctChange': '0.92', 'bid': '5.6526', 'ask': '5.6548', 'timestamp': '1674251997', 'create_date': '2023-01-20 18:59:57'}, 'JPY': {'code': 'JPY', 'codein': 'BRL', 'name': 'Iene Japonês/Real Brasileiro', 'high': '0.04031', 'low': '0.03974', 'varBid': '-0.0001', 'pctChange': '-0.25', 'bid': '0.04018', 'ask': '0.0402', 'timestamp': '1674251984', 'create_date': '2023-01-20 18:59:44'}, 'CHF': {'code': 'CHF', 'codein': 'BRL', 'name': 'Franco Suíço/Real Brasileiro', 'high': '5.6826', 'low': '5.6099', 'varBid': '0.0146', 'pctChange': '0.26', 'bid': '5.6578', 'ask': '5.6613', 'timestamp': '1674251993', 'create_date': '2023-01-20 18:59:53'}, 'AUD': {'code': 'AUD', 'codein': 'BRL', 'name': 'Dólar Australiano/Real Brasileiro', 'high': '3.6358', 'low': '3.5733', 'varBid': '0.0546', 'pctChange': '1.53', 'bid': '3.6285', 'ask': '3.6303', 'timestamp': '1674251989', 'create_date': '2023-01-20 18:59:49'}, 'CNY': {'code': 'CNY', 'codein': 'BRL', 'name': 'Yuan Chinês/Real Brasileiro', 'high': '0.7721', 'low': '0.7621', 'varBid': '0.0039', 'pctChange': '0.51', 'bid': '0.7676', 'ask': '0.7678', 'timestamp': '1674250744', 'create_date': '2023-01-20 18:39:04'}, 'ILS': {'code': 'ILS', 'codein': 'BRL', 'name': 'Novo Shekel Israelense/Real Brasileiro', 'high': '1.5385', 'low': '1.5143', 'varBid': '0.0163', 'pctChange': '1.07', 'bid': '1.5323', 'ask': '1.5326', 'timestamp': '1674251946', 'create_date': '2023-01-20 18:59:06'}, 'ETH': {'code': 'ETH', 'codein': 'BRL', 'name': 'Ethereum/Real Brasileiro', 'high': '8.69421', 'low': '8.38274', 'varBid': '-121.41', 'pctChange': '-1.41', 'bid': '8.46734', 'ask': '8.47459', 'timestamp': '1674396343', 'create_date': '2023-01-22 11:05:43'}, 'XRP': {'code': 'XRP', 'codein': 'BRL', 'name': 'XRP/Real Brasileiro', 'high': '2.16', 'low': '2.09', 'varBid': '-0.01', 'pctChange': '-0.59', 'bid': '2.12', 'ask': '2.12', 'timestamp': '1674396338', 'create_date': '2023-01-22 11:05:38'}, 'DOGE': {'code': 'DOGE', 'codein': 'BRL', 'name': 'Dogecoin/Real Brasileiro', 'high': '0.457965', 'low': '0.441147', 'varBid': '-0.002324', 'pctChange': '-0.51', 'bid': '0.450258', 'ask': '0.450258', 'timestamp': '1674396328', 'create_date': '2023-01-22 11:05:28'}}\n"
     ]
    }
   ],
   "source": [
    "# puxando uma informações com o .get()\n",
    "cotacoes = requests.get('https://economia.awesomeapi.com.br/json/all')\n",
    "\n",
    "# transformando o request (que volta como um parâmetro json) em um dicionário do python\n",
    "cotacoes_dict = cotacoes.json()\n",
    "print(cotacoes_dict)"
   ]
  },
  {
   "cell_type": "code",
   "execution_count": 57,
   "metadata": {},
   "outputs": [
    {
     "name": "stdout",
     "output_type": "stream",
     "text": [
      "Dólar: 5.2074\n",
      "Euro: 5.6526\n",
      "Bitcoin: 119.428\n"
     ]
    }
   ],
   "source": [
    "print(\"Dólar: {}\".format(cotacoes_dict['USD']['bid']))\n",
    "print(\"Euro: {}\".format(cotacoes_dict['EUR']['bid']))\n",
    "print(\"Bitcoin: {}\".format(cotacoes_dict['BTC']['bid']))"
   ]
  },
  {
   "cell_type": "code",
   "execution_count": 58,
   "metadata": {},
   "outputs": [
    {
     "name": "stdout",
     "output_type": "stream",
     "text": [
      "{'code': 'USD', 'codein': 'BRL', 'name': 'Dólar Americano/Real Brasileiro', 'high': '5.2385', 'low': '5.1652', 'varBid': '0.0338', 'pctChange': '0.65', 'bid': '5.2074', 'ask': '5.2084', 'timestamp': '1674250201', 'create_date': '2023-01-20 18:30:01'}\n"
     ]
    }
   ],
   "source": [
    "# pegando a cotação do Dólar dos últimos 30 dias \n",
    "cotacoes_dias = requests.get('https://economia.awesomeapi.com.br/json/USD-BRL/30')\n",
    "\n",
    "cotacoes_dolar_30d = cotacoes_dias.json()\n",
    "print(cotacoes_dolar_30d[0])"
   ]
  },
  {
   "cell_type": "code",
   "execution_count": 59,
   "metadata": {},
   "outputs": [
    {
     "name": "stdout",
     "output_type": "stream",
     "text": [
      "[5.2074, 5.2088, 5.2018, 5.2007, 5.2024, 5.2044, 5.2053, 5.2063, 5.2067, 5.2078, 5.2085, 5.2088, 5.2088, 5.2077, 5.2082, 5.2074, 5.2058, 5.2058, 5.2063, 5.2047, 5.2077, 5.2062, 5.2088, 5.2078, 5.2088, 5.2074, 5.2072, 5.2078, 5.2062, 5.2042]\n"
     ]
    }
   ],
   "source": [
    "# vamos pegar a informação do bid de cada indice do dicionário\n",
    "# transformando o valor da cotação em float\n",
    "\n",
    "lista_cotacoes_USD = [float(item['bid']) for item in cotacoes_dolar_30d]\n",
    "print(lista_cotacoes_USD)"
   ]
  },
  {
   "cell_type": "code",
   "execution_count": 60,
   "metadata": {},
   "outputs": [],
   "source": [
    "lista_cotacoes_USD = [float(item['bid']) for item in cotacoes_dolar_30d]"
   ]
  },
  {
   "cell_type": "code",
   "execution_count": 61,
   "metadata": {},
   "outputs": [],
   "source": [
    "# exibindo no gráfico\n",
    "\n",
    "import matplotlib.pyplot as plt\n",
    "\n",
    "lista_cotacoes_USD.reverse()"
   ]
  },
  {
   "cell_type": "code",
   "execution_count": 62,
   "metadata": {},
   "outputs": [
    {
     "data": {
      "image/png": "[encoded data removed]",
      "text/plain": [
       "<Figure size 1080x720 with 1 Axes>"
      ]
     },
     "metadata": {},
     "output_type": "display_data"
    }
   ],
   "source": [
    "plt.figure(figsize=(15,10))\n",
    "\n",
    "plt.plot(lista_cotacoes_USD)\n",
    "#plt.plot(lista_cotacoes_EUR, label = 'Euro')\n",
    "#plt.plot(lista_cotacoes_BTC, label = 'Bitcoin')\n",
    "\n",
    "plt.show()"
   ]
  },
  {
   "attachments": {},
   "cell_type": "markdown",
   "metadata": {},
   "source": [
    "### Informações Econômicas"
   ]
  },
  {
   "cell_type": "code",
   "execution_count": 63,
   "metadata": {},
   "outputs": [],
   "source": [
    "from chave import chave_api\n",
    "import requests\n",
    "import pandas as pd\n",
    "from io import StringIO\n",
    "import pprint"
   ]
  },
  {
   "cell_type": "code",
   "execution_count": 64,
   "metadata": {},
   "outputs": [
    {
     "data": {
      "text/html": [
       "<div>\n",
       "<style scoped>\n",
       "    .dataframe tbody tr th:only-of-type {\n",
       "        vertical-align: middle;\n",
       "    }\n",
       "\n",
       "    .dataframe tbody tr th {\n",
       "        vertical-align: top;\n",
       "    }\n",
       "\n",
       "    .dataframe thead th {\n",
       "        text-align: right;\n",
       "    }\n",
       "</style>\n",
       "<table border=\"1\" class=\"dataframe\">\n",
       "  <thead>\n",
       "    <tr style=\"text-align: right;\">\n",
       "      <th></th>\n",
       "      <th>timestamp</th>\n",
       "      <th>open</th>\n",
       "      <th>high</th>\n",
       "      <th>low</th>\n",
       "      <th>close</th>\n",
       "      <th>adjusted close</th>\n",
       "      <th>volume</th>\n",
       "      <th>dividend amount</th>\n",
       "    </tr>\n",
       "  </thead>\n",
       "  <tbody>\n",
       "    <tr>\n",
       "      <th>0</th>\n",
       "      <td>2023-01-20</td>\n",
       "      <td>8.62</td>\n",
       "      <td>8.76</td>\n",
       "      <td>8.40</td>\n",
       "      <td>8.58</td>\n",
       "      <td>8.5800</td>\n",
       "      <td>81954000</td>\n",
       "      <td>0.0</td>\n",
       "    </tr>\n",
       "    <tr>\n",
       "      <th>1</th>\n",
       "      <td>2023-01-13</td>\n",
       "      <td>8.45</td>\n",
       "      <td>8.81</td>\n",
       "      <td>8.41</td>\n",
       "      <td>8.63</td>\n",
       "      <td>8.6300</td>\n",
       "      <td>103352200</td>\n",
       "      <td>0.0</td>\n",
       "    </tr>\n",
       "    <tr>\n",
       "      <th>2</th>\n",
       "      <td>2023-01-06</td>\n",
       "      <td>8.44</td>\n",
       "      <td>8.51</td>\n",
       "      <td>8.12</td>\n",
       "      <td>8.48</td>\n",
       "      <td>8.4800</td>\n",
       "      <td>97969900</td>\n",
       "      <td>0.0</td>\n",
       "    </tr>\n",
       "    <tr>\n",
       "      <th>3</th>\n",
       "      <td>2022-12-29</td>\n",
       "      <td>8.57</td>\n",
       "      <td>8.65</td>\n",
       "      <td>8.31</td>\n",
       "      <td>8.51</td>\n",
       "      <td>8.5100</td>\n",
       "      <td>45594500</td>\n",
       "      <td>0.0</td>\n",
       "    </tr>\n",
       "    <tr>\n",
       "      <th>4</th>\n",
       "      <td>2022-12-23</td>\n",
       "      <td>8.06</td>\n",
       "      <td>8.63</td>\n",
       "      <td>8.05</td>\n",
       "      <td>8.58</td>\n",
       "      <td>8.5800</td>\n",
       "      <td>92278800</td>\n",
       "      <td>0.0</td>\n",
       "    </tr>\n",
       "    <tr>\n",
       "      <th>...</th>\n",
       "      <td>...</td>\n",
       "      <td>...</td>\n",
       "      <td>...</td>\n",
       "      <td>...</td>\n",
       "      <td>...</td>\n",
       "      <td>...</td>\n",
       "      <td>...</td>\n",
       "      <td>...</td>\n",
       "    </tr>\n",
       "    <tr>\n",
       "      <th>943</th>\n",
       "      <td>2005-02-11</td>\n",
       "      <td>5.07</td>\n",
       "      <td>5.10</td>\n",
       "      <td>4.90</td>\n",
       "      <td>5.02</td>\n",
       "      <td>0.6980</td>\n",
       "      <td>5258210</td>\n",
       "      <td>0.0</td>\n",
       "    </tr>\n",
       "    <tr>\n",
       "      <th>944</th>\n",
       "      <td>2005-02-04</td>\n",
       "      <td>4.44</td>\n",
       "      <td>5.07</td>\n",
       "      <td>4.44</td>\n",
       "      <td>5.07</td>\n",
       "      <td>0.7050</td>\n",
       "      <td>15235607</td>\n",
       "      <td>0.0</td>\n",
       "    </tr>\n",
       "    <tr>\n",
       "      <th>945</th>\n",
       "      <td>2005-01-28</td>\n",
       "      <td>4.31</td>\n",
       "      <td>4.52</td>\n",
       "      <td>4.20</td>\n",
       "      <td>4.40</td>\n",
       "      <td>0.6118</td>\n",
       "      <td>12935932</td>\n",
       "      <td>0.0</td>\n",
       "    </tr>\n",
       "    <tr>\n",
       "      <th>946</th>\n",
       "      <td>2005-01-21</td>\n",
       "      <td>4.50</td>\n",
       "      <td>4.56</td>\n",
       "      <td>4.35</td>\n",
       "      <td>4.42</td>\n",
       "      <td>0.6146</td>\n",
       "      <td>12732588</td>\n",
       "      <td>0.0</td>\n",
       "    </tr>\n",
       "    <tr>\n",
       "      <th>947</th>\n",
       "      <td>2005-01-14</td>\n",
       "      <td>4.52</td>\n",
       "      <td>4.57</td>\n",
       "      <td>4.43</td>\n",
       "      <td>4.48</td>\n",
       "      <td>0.6229</td>\n",
       "      <td>20278384</td>\n",
       "      <td>0.0</td>\n",
       "    </tr>\n",
       "  </tbody>\n",
       "</table>\n",
       "<p>948 rows × 8 columns</p>\n",
       "</div>"
      ],
      "text/plain": [
       "      timestamp  open  high   low  close  adjusted close     volume  \\\n",
       "0    2023-01-20  8.62  8.76  8.40   8.58          8.5800   81954000   \n",
       "1    2023-01-13  8.45  8.81  8.41   8.63          8.6300  103352200   \n",
       "2    2023-01-06  8.44  8.51  8.12   8.48          8.4800   97969900   \n",
       "3    2022-12-29  8.57  8.65  8.31   8.51          8.5100   45594500   \n",
       "4    2022-12-23  8.06  8.63  8.05   8.58          8.5800   92278800   \n",
       "..          ...   ...   ...   ...    ...             ...        ...   \n",
       "943  2005-02-11  5.07  5.10  4.90   5.02          0.6980    5258210   \n",
       "944  2005-02-04  4.44  5.07  4.44   5.07          0.7050   15235607   \n",
       "945  2005-01-28  4.31  4.52  4.20   4.40          0.6118   12935932   \n",
       "946  2005-01-21  4.50  4.56  4.35   4.42          0.6146   12732588   \n",
       "947  2005-01-14  4.52  4.57  4.43   4.48          0.6229   20278384   \n",
       "\n",
       "     dividend amount  \n",
       "0                0.0  \n",
       "1                0.0  \n",
       "2                0.0  \n",
       "3                0.0  \n",
       "4                0.0  \n",
       "..               ...  \n",
       "943              0.0  \n",
       "944              0.0  \n",
       "945              0.0  \n",
       "946              0.0  \n",
       "947              0.0  \n",
       "\n",
       "[948 rows x 8 columns]"
      ]
     },
     "metadata": {},
     "output_type": "display_data"
    }
   ],
   "source": [
    "# replace the \"demo\" apikey below with your own key from https://www.alphavantage.co/support/#api-key\n",
    "\n",
    "url = f'https://www.alphavantage.co/query?function=TIME_SERIES_WEEKLY_ADJUSTED&symbol=ITSA4.SA&apikey={chave_api}&datatype=csv'\n",
    "r = requests.get(url)\n",
    "#data = r.json()\n",
    "#print(data)\n",
    "\n",
    "\n",
    "#print(r.text) # devolve a API em forma de texto separado por vírgula\n",
    "table = pd.read_csv(StringIO(r.text))\n",
    "display(table)"
   ]
  },
  {
   "cell_type": "code",
   "execution_count": 65,
   "metadata": {},
   "outputs": [
    {
     "data": {
      "text/html": [
       "<div>\n",
       "<style scoped>\n",
       "    .dataframe tbody tr th:only-of-type {\n",
       "        vertical-align: middle;\n",
       "    }\n",
       "\n",
       "    .dataframe tbody tr th {\n",
       "        vertical-align: top;\n",
       "    }\n",
       "\n",
       "    .dataframe thead th {\n",
       "        text-align: right;\n",
       "    }\n",
       "</style>\n",
       "<table border=\"1\" class=\"dataframe\">\n",
       "  <thead>\n",
       "    <tr style=\"text-align: right;\">\n",
       "      <th></th>\n",
       "      <th>{}</th>\n",
       "    </tr>\n",
       "  </thead>\n",
       "  <tbody>\n",
       "  </tbody>\n",
       "</table>\n",
       "</div>"
      ],
      "text/plain": [
       "Empty DataFrame\n",
       "Columns: [{}]\n",
       "Index: []"
      ]
     },
     "metadata": {},
     "output_type": "display_data"
    }
   ],
   "source": [
    "acoes = ['ITUB4', 'ABEV3']\n",
    "\n",
    "compilada = pd.DataFrame()\n",
    "\n",
    "for acao in acoes:\n",
    "    url = f'https://www.alphavantage.co/query?function=GLOBAL_QUOTE&symbol={acao}&apikey={chave_api}&datatype=csv'\n",
    "    r = requests.get(url)\n",
    "    table = pd.read_csv(StringIO(r.text))\n",
    "    lista_tabelas = [ compilada, table ]\n",
    "    compilada = pd.concat(lista_tabelas)\n",
    "\n",
    "display(compilada)\n"
   ]
  },
  {
   "attachments": {},
   "cell_type": "markdown",
   "metadata": {},
   "source": [
    "### Encontrando um Endpoint"
   ]
  },
  {
   "cell_type": "code",
   "execution_count": 66,
   "metadata": {},
   "outputs": [
    {
     "data": {
      "text/html": [
       "<div>\n",
       "<style scoped>\n",
       "    .dataframe tbody tr th:only-of-type {\n",
       "        vertical-align: middle;\n",
       "    }\n",
       "\n",
       "    .dataframe tbody tr th {\n",
       "        vertical-align: top;\n",
       "    }\n",
       "\n",
       "    .dataframe thead th {\n",
       "        text-align: right;\n",
       "    }\n",
       "</style>\n",
       "<table border=\"1\" class=\"dataframe\">\n",
       "  <thead>\n",
       "    <tr style=\"text-align: right;\">\n",
       "      <th></th>\n",
       "      <th>symbol</th>\n",
       "      <th>name</th>\n",
       "      <th>type</th>\n",
       "      <th>region</th>\n",
       "      <th>marketOpen</th>\n",
       "      <th>marketClose</th>\n",
       "      <th>timezone</th>\n",
       "      <th>currency</th>\n",
       "      <th>matchScore</th>\n",
       "    </tr>\n",
       "  </thead>\n",
       "  <tbody>\n",
       "    <tr>\n",
       "      <th>0</th>\n",
       "      <td>AMZN</td>\n",
       "      <td>Amazon.com Inc</td>\n",
       "      <td>Equity</td>\n",
       "      <td>United States</td>\n",
       "      <td>09:30</td>\n",
       "      <td>16:00</td>\n",
       "      <td>UTC-04</td>\n",
       "      <td>USD</td>\n",
       "      <td>0.8000</td>\n",
       "    </tr>\n",
       "    <tr>\n",
       "      <th>1</th>\n",
       "      <td>AMZ.DEX</td>\n",
       "      <td>Amazon.com Inc</td>\n",
       "      <td>Equity</td>\n",
       "      <td>XETRA</td>\n",
       "      <td>08:00</td>\n",
       "      <td>20:00</td>\n",
       "      <td>UTC+02</td>\n",
       "      <td>EUR</td>\n",
       "      <td>0.6000</td>\n",
       "    </tr>\n",
       "    <tr>\n",
       "      <th>2</th>\n",
       "      <td>AMZ.FRK</td>\n",
       "      <td>Amazon.com Inc</td>\n",
       "      <td>Equity</td>\n",
       "      <td>Frankfurt</td>\n",
       "      <td>08:00</td>\n",
       "      <td>20:00</td>\n",
       "      <td>UTC+02</td>\n",
       "      <td>EUR</td>\n",
       "      <td>0.6000</td>\n",
       "    </tr>\n",
       "    <tr>\n",
       "      <th>3</th>\n",
       "      <td>AMZO34.SAO</td>\n",
       "      <td>Amazon.com Inc</td>\n",
       "      <td>Equity</td>\n",
       "      <td>Brazil/Sao Paolo</td>\n",
       "      <td>10:00</td>\n",
       "      <td>17:30</td>\n",
       "      <td>UTC-03</td>\n",
       "      <td>BRL</td>\n",
       "      <td>0.6000</td>\n",
       "    </tr>\n",
       "    <tr>\n",
       "      <th>4</th>\n",
       "      <td>0R1O.LON</td>\n",
       "      <td>Amazon.com Inc.</td>\n",
       "      <td>Equity</td>\n",
       "      <td>United Kingdom</td>\n",
       "      <td>08:00</td>\n",
       "      <td>16:30</td>\n",
       "      <td>UTC+01</td>\n",
       "      <td>USD</td>\n",
       "      <td>0.5714</td>\n",
       "    </tr>\n",
       "    <tr>\n",
       "      <th>5</th>\n",
       "      <td>AMZ1.FRK</td>\n",
       "      <td>AMAZON.COM INC.CDR DL-01</td>\n",
       "      <td>Equity</td>\n",
       "      <td>Frankfurt</td>\n",
       "      <td>08:00</td>\n",
       "      <td>20:00</td>\n",
       "      <td>UTC+02</td>\n",
       "      <td>EUR</td>\n",
       "      <td>0.5000</td>\n",
       "    </tr>\n",
       "    <tr>\n",
       "      <th>6</th>\n",
       "      <td>AZFL</td>\n",
       "      <td>Amazonas Florestal Ltd</td>\n",
       "      <td>Equity</td>\n",
       "      <td>United States</td>\n",
       "      <td>09:30</td>\n",
       "      <td>16:00</td>\n",
       "      <td>UTC-04</td>\n",
       "      <td>USD</td>\n",
       "      <td>0.4286</td>\n",
       "    </tr>\n",
       "  </tbody>\n",
       "</table>\n",
       "</div>"
      ],
      "text/plain": [
       "       symbol                      name    type            region marketOpen  \\\n",
       "0        AMZN            Amazon.com Inc  Equity     United States      09:30   \n",
       "1     AMZ.DEX            Amazon.com Inc  Equity             XETRA      08:00   \n",
       "2     AMZ.FRK            Amazon.com Inc  Equity         Frankfurt      08:00   \n",
       "3  AMZO34.SAO            Amazon.com Inc  Equity  Brazil/Sao Paolo      10:00   \n",
       "4    0R1O.LON           Amazon.com Inc.  Equity    United Kingdom      08:00   \n",
       "5    AMZ1.FRK  AMAZON.COM INC.CDR DL-01  Equity         Frankfurt      08:00   \n",
       "6        AZFL    Amazonas Florestal Ltd  Equity     United States      09:30   \n",
       "\n",
       "  marketClose timezone currency  matchScore  \n",
       "0       16:00   UTC-04      USD      0.8000  \n",
       "1       20:00   UTC+02      EUR      0.6000  \n",
       "2       20:00   UTC+02      EUR      0.6000  \n",
       "3       17:30   UTC-03      BRL      0.6000  \n",
       "4       16:30   UTC+01      USD      0.5714  \n",
       "5       20:00   UTC+02      EUR      0.5000  \n",
       "6       16:00   UTC-04      USD      0.4286  "
      ]
     },
     "metadata": {},
     "output_type": "display_data"
    }
   ],
   "source": [
    "url = f'https://www.alphavantage.co/query?function=SYMBOL_SEARCH&keywords=amazon&apikey={chave_api}&datatype=csv'\n",
    "s = requests.get(url)\n",
    "\n",
    "tabela = pd.read_csv(StringIO(s.text))\n",
    "display(tabela)"
   ]
  },
  {
   "cell_type": "code",
   "execution_count": 67,
   "metadata": {},
   "outputs": [
    {
     "ename": "JSONDecodeError",
     "evalue": "Expecting value: line 1 column 1 (char 0)",
     "output_type": "error",
     "traceback": [
      "\u001b[1;31m---------------------------------------------------------------------------\u001b[0m",
      "\u001b[1;31mJSONDecodeError\u001b[0m                           Traceback (most recent call last)",
      "\u001b[1;32mc:\\Users\\Matheus\\OneDrive\\Área de Trabalho\\FATEC - BD Negócios\\Projetos\\Learning_Python_Portfolio\\Cursos\\Hashtag\\Python\\API_moedas.ipynb Cell 15\u001b[0m in \u001b[0;36m<cell line: 1>\u001b[1;34m()\u001b[0m\n\u001b[1;32m----> <a href='vscode-notebook-cell:/c%3A/Users/Matheus/OneDrive/%C3%81rea%20de%20Trabalho/FATEC%20-%20BD%20Neg%C3%B3cios/Projetos/Learning_Python_Portfolio/Cursos/Hashtag/Python/API_moedas.ipynb#X26sZmlsZQ%3D%3D?line=0'>1</a>\u001b[0m data \u001b[39m=\u001b[39m s\u001b[39m.\u001b[39;49mjson()\n\u001b[0;32m      <a href='vscode-notebook-cell:/c%3A/Users/Matheus/OneDrive/%C3%81rea%20de%20Trabalho/FATEC%20-%20BD%20Neg%C3%B3cios/Projetos/Learning_Python_Portfolio/Cursos/Hashtag/Python/API_moedas.ipynb#X26sZmlsZQ%3D%3D?line=1'>2</a>\u001b[0m pprint\u001b[39m.\u001b[39mpprint(data)\n",
      "File \u001b[1;32mc:\\Users\\Matheus\\anaconda3\\lib\\site-packages\\requests\\models.py:899\u001b[0m, in \u001b[0;36mResponse.json\u001b[1;34m(self, **kwargs)\u001b[0m\n\u001b[0;32m    897\u001b[0m \u001b[39mif\u001b[39;00m encoding \u001b[39mis\u001b[39;00m \u001b[39mnot\u001b[39;00m \u001b[39mNone\u001b[39;00m:\n\u001b[0;32m    898\u001b[0m     \u001b[39mtry\u001b[39;00m:\n\u001b[1;32m--> 899\u001b[0m         \u001b[39mreturn\u001b[39;00m complexjson\u001b[39m.\u001b[39mloads(\n\u001b[0;32m    900\u001b[0m             \u001b[39mself\u001b[39m\u001b[39m.\u001b[39mcontent\u001b[39m.\u001b[39mdecode(encoding), \u001b[39m*\u001b[39m\u001b[39m*\u001b[39mkwargs\n\u001b[0;32m    901\u001b[0m         )\n\u001b[0;32m    902\u001b[0m     \u001b[39mexcept\u001b[39;00m \u001b[39mUnicodeDecodeError\u001b[39;00m:\n\u001b[0;32m    903\u001b[0m         \u001b[39m# Wrong UTF codec detected; usually because it's not UTF-8\u001b[39;00m\n\u001b[0;32m    904\u001b[0m         \u001b[39m# but some other 8-bit codec.  This is an RFC violation,\u001b[39;00m\n\u001b[0;32m    905\u001b[0m         \u001b[39m# and the server didn't bother to tell us what codec *was*\u001b[39;00m\n\u001b[0;32m    906\u001b[0m         \u001b[39m# used.\u001b[39;00m\n\u001b[0;32m    907\u001b[0m         \u001b[39mpass\u001b[39;00m\n",
      "File \u001b[1;32mc:\\Users\\Matheus\\anaconda3\\lib\\json\\__init__.py:346\u001b[0m, in \u001b[0;36mloads\u001b[1;34m(s, cls, object_hook, parse_float, parse_int, parse_constant, object_pairs_hook, **kw)\u001b[0m\n\u001b[0;32m    341\u001b[0m     s \u001b[39m=\u001b[39m s\u001b[39m.\u001b[39mdecode(detect_encoding(s), \u001b[39m'\u001b[39m\u001b[39msurrogatepass\u001b[39m\u001b[39m'\u001b[39m)\n\u001b[0;32m    343\u001b[0m \u001b[39mif\u001b[39;00m (\u001b[39mcls\u001b[39m \u001b[39mis\u001b[39;00m \u001b[39mNone\u001b[39;00m \u001b[39mand\u001b[39;00m object_hook \u001b[39mis\u001b[39;00m \u001b[39mNone\u001b[39;00m \u001b[39mand\u001b[39;00m\n\u001b[0;32m    344\u001b[0m         parse_int \u001b[39mis\u001b[39;00m \u001b[39mNone\u001b[39;00m \u001b[39mand\u001b[39;00m parse_float \u001b[39mis\u001b[39;00m \u001b[39mNone\u001b[39;00m \u001b[39mand\u001b[39;00m\n\u001b[0;32m    345\u001b[0m         parse_constant \u001b[39mis\u001b[39;00m \u001b[39mNone\u001b[39;00m \u001b[39mand\u001b[39;00m object_pairs_hook \u001b[39mis\u001b[39;00m \u001b[39mNone\u001b[39;00m \u001b[39mand\u001b[39;00m \u001b[39mnot\u001b[39;00m kw):\n\u001b[1;32m--> 346\u001b[0m     \u001b[39mreturn\u001b[39;00m _default_decoder\u001b[39m.\u001b[39;49mdecode(s)\n\u001b[0;32m    347\u001b[0m \u001b[39mif\u001b[39;00m \u001b[39mcls\u001b[39m \u001b[39mis\u001b[39;00m \u001b[39mNone\u001b[39;00m:\n\u001b[0;32m    348\u001b[0m     \u001b[39mcls\u001b[39m \u001b[39m=\u001b[39m JSONDecoder\n",
      "File \u001b[1;32mc:\\Users\\Matheus\\anaconda3\\lib\\json\\decoder.py:337\u001b[0m, in \u001b[0;36mJSONDecoder.decode\u001b[1;34m(self, s, _w)\u001b[0m\n\u001b[0;32m    332\u001b[0m \u001b[39mdef\u001b[39;00m \u001b[39mdecode\u001b[39m(\u001b[39mself\u001b[39m, s, _w\u001b[39m=\u001b[39mWHITESPACE\u001b[39m.\u001b[39mmatch):\n\u001b[0;32m    333\u001b[0m     \u001b[39m\"\"\"Return the Python representation of ``s`` (a ``str`` instance\u001b[39;00m\n\u001b[0;32m    334\u001b[0m \u001b[39m    containing a JSON document).\u001b[39;00m\n\u001b[0;32m    335\u001b[0m \n\u001b[0;32m    336\u001b[0m \u001b[39m    \"\"\"\u001b[39;00m\n\u001b[1;32m--> 337\u001b[0m     obj, end \u001b[39m=\u001b[39m \u001b[39mself\u001b[39;49m\u001b[39m.\u001b[39;49mraw_decode(s, idx\u001b[39m=\u001b[39;49m_w(s, \u001b[39m0\u001b[39;49m)\u001b[39m.\u001b[39;49mend())\n\u001b[0;32m    338\u001b[0m     end \u001b[39m=\u001b[39m _w(s, end)\u001b[39m.\u001b[39mend()\n\u001b[0;32m    339\u001b[0m     \u001b[39mif\u001b[39;00m end \u001b[39m!=\u001b[39m \u001b[39mlen\u001b[39m(s):\n",
      "File \u001b[1;32mc:\\Users\\Matheus\\anaconda3\\lib\\json\\decoder.py:355\u001b[0m, in \u001b[0;36mJSONDecoder.raw_decode\u001b[1;34m(self, s, idx)\u001b[0m\n\u001b[0;32m    353\u001b[0m     obj, end \u001b[39m=\u001b[39m \u001b[39mself\u001b[39m\u001b[39m.\u001b[39mscan_once(s, idx)\n\u001b[0;32m    354\u001b[0m \u001b[39mexcept\u001b[39;00m \u001b[39mStopIteration\u001b[39;00m \u001b[39mas\u001b[39;00m err:\n\u001b[1;32m--> 355\u001b[0m     \u001b[39mraise\u001b[39;00m JSONDecodeError(\u001b[39m\"\u001b[39m\u001b[39mExpecting value\u001b[39m\u001b[39m\"\u001b[39m, s, err\u001b[39m.\u001b[39mvalue) \u001b[39mfrom\u001b[39;00m \u001b[39mNone\u001b[39m\n\u001b[0;32m    356\u001b[0m \u001b[39mreturn\u001b[39;00m obj, end\n",
      "\u001b[1;31mJSONDecodeError\u001b[0m: Expecting value: line 1 column 1 (char 0)"
     ]
    }
   ],
   "source": [
    "data = s.json()\n",
    "pprint.pprint(data)"
   ]
  },
  {
   "attachments": {},
   "cell_type": "markdown",
   "metadata": {},
   "source": [
    "### API DO IBGE\n",
    "\n",
    "https://servicodados.ibge.gov.br/api/docs"
   ]
  },
  {
   "cell_type": "code",
   "execution_count": 68,
   "metadata": {},
   "outputs": [],
   "source": [
    "url = f'https://servicodados.ibge.gov.br/api/v3/agregados/8418/periodos/2019/variaveis/12747?localidades=N2[all]'"
   ]
  },
  {
   "cell_type": "code",
   "execution_count": null,
   "metadata": {},
   "outputs": [],
   "source": []
  },
  {
   "cell_type": "code",
   "execution_count": null,
   "metadata": {},
   "outputs": [],
   "source": []
  },
  {
   "cell_type": "code",
   "execution_count": null,
   "metadata": {},
   "outputs": [],
   "source": []
  },
  {
   "cell_type": "code",
   "execution_count": null,
   "metadata": {},
   "outputs": [],
   "source": []
  },
  {
   "cell_type": "code",
   "execution_count": null,
   "metadata": {},
   "outputs": [],
   "source": []
  }
 ],
 "metadata": {
  "kernelspec": {
   "display_name": "base",
   "language": "python",
   "name": "python3"
  },
  "language_info": {
   "codemirror_mode": {
    "name": "ipython",
    "version": 3
   },
   "file_extension": ".py",
   "mimetype": "text/x-python",
   "name": "python",
   "nbconvert_exporter": "python",
   "pygments_lexer": "ipython3",
   "version": "3.9.12"
  },
  "orig_nbformat": 4,
  "vscode": {
   "interpreter": {
    "hash": "c8d3184e42d5090dff9a42825f73ee2454fef8c1131708a89f889453d9fc9d30"
   }
  }
 },
 "nbformat": 4,
 "nbformat_minor": 2
}
