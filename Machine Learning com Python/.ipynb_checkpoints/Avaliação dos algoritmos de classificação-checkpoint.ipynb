{
 "cells": [
  {
   "cell_type": "markdown",
   "id": "7e539e4f",
   "metadata": {},
   "source": [
    "#### Avaliação da Matriz de Confusão\n",
    "<br />\n",
    "\n",
    "* Verdadeiro Positivo e Falso Positivo\n",
    "* Precision & Recall\n",
    "* Overfitting & Underfitting\n",
    "* Validação Cruzada (_avaliação científica_)\n",
    "* Tuning dos Parâmetros\n",
    "* Como testar e avaliar os algoritmos (+ _Estatística_)\n",
    "* Algoritmos ANOVA & TUKEY\n",
    "* Salvando os classificadores já treinados"
   ]
  },
  {
   "cell_type": "code",
   "execution_count": null,
   "id": "92435820",
   "metadata": {},
   "outputs": [],
   "source": []
  },
  {
   "cell_type": "code",
   "execution_count": null,
   "id": "4ef6db2e",
   "metadata": {},
   "outputs": [],
   "source": []
  },
  {
   "cell_type": "code",
   "execution_count": null,
   "id": "6c31d619",
   "metadata": {},
   "outputs": [],
   "source": []
  },
  {
   "cell_type": "code",
   "execution_count": null,
   "id": "fa934f32",
   "metadata": {},
   "outputs": [],
   "source": []
  },
  {
   "cell_type": "code",
   "execution_count": null,
   "id": "17786220",
   "metadata": {},
   "outputs": [],
   "source": []
  }
 ],
 "metadata": {
  "kernelspec": {
   "display_name": "Python 3 (ipykernel)",
   "language": "python",
   "name": "python3"
  },
  "language_info": {
   "codemirror_mode": {
    "name": "ipython",
    "version": 3
   },
   "file_extension": ".py",
   "mimetype": "text/x-python",
   "name": "python",
   "nbconvert_exporter": "python",
   "pygments_lexer": "ipython3",
   "version": "3.9.12"
  }
 },
 "nbformat": 4,
 "nbformat_minor": 5
}
