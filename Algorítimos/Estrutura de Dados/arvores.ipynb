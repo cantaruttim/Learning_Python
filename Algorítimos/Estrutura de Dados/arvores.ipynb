{
 "cells": [
  {
   "attachments": {},
   "cell_type": "markdown",
   "metadata": {},
   "source": [
    "### Árvores"
   ]
  },
  {
   "cell_type": "code",
   "execution_count": 3,
   "metadata": {},
   "outputs": [],
   "source": [
    "# Implementando uma árvore binária\n",
    "\n",
    "class TreeNode:\n",
    "    \n",
    "    def __init__(self, data):\n",
    "        self.data = data\n",
    "        self.left = None\n",
    "        self.right = None\n",
    "\n",
    "    def __str__(self):\n",
    "        return str(self.data)\n",
    "\n",
    "class BinaryTree:\n",
    "\n",
    "    def __init__(self, data=None):\n",
    "        if data:\n",
    "            node = TreeNode(data)\n",
    "            self.root = node\n",
    "        else:\n",
    "            self.root = None\n",
    "\n",
    "    def simetric_traversal(self, node=None):\n",
    "        if node is None:\n",
    "            node = self.root\n",
    "\n",
    "\n",
    "if __name__ == \"__main__\":\n",
    "    tree = BinaryTree()\n",
    "    n1 = TreeNode('a')\n",
    "    n2 = TreeNode('+')\n",
    "    n3 = TreeNode('*')\n",
    "    n4 = TreeNode('b')\n",
    "    n5 = TreeNode('-')\n",
    "    n6 = TreeNode('/')\n",
    "    n7 = TreeNode('c')\n",
    "    n8 = TreeNode('d')\n",
    "    n9 = TreeNode('e')\n",
    "\n",
    "\n",
    "    n6.left = n7\n",
    "    n6.rigth = n8\n",
    "\n",
    "    n5.left = n6\n",
    "    n5.right = n9\n",
    "\n",
    "    n3.left = n4\n",
    "    n3.right = n5\n",
    "\n",
    "    n2.left = n1\n",
    "    n2.right = n3\n",
    "\n",
    "    tree.root = n2   \n",
    "    tree.simetric_traversal()\n",
    "    \n",
    "    \"\"\"\n",
    "    tree = BinaryTree(7)\n",
    "    tree.root.left = TreeNode(18)\n",
    "    tree.root.right = TreeNode(14)\n",
    "\n",
    "    print(tree.root)\n",
    "    print(tree.root.left)\n",
    "    print(tree.root.right)\n",
    "\n",
    "    \"\"\"\n"
   ]
  },
  {
   "cell_type": "code",
   "execution_count": null,
   "metadata": {},
   "outputs": [],
   "source": [
    "# ( a + ( b * ( (c/d) - e ) ) )"
   ]
  }
 ],
 "metadata": {
  "kernelspec": {
   "display_name": "Python 3",
   "language": "python",
   "name": "python3"
  },
  "language_info": {
   "codemirror_mode": {
    "name": "ipython",
    "version": 3
   },
   "file_extension": ".py",
   "mimetype": "text/x-python",
   "name": "python",
   "nbconvert_exporter": "python",
   "pygments_lexer": "ipython3",
   "version": "3.10.9"
  },
  "orig_nbformat": 4,
  "vscode": {
   "interpreter": {
    "hash": "48434fea92bcfa521232aa698a59dbef67c96a63793f88c53e51c3c6eaedc268"
   }
  }
 },
 "nbformat": 4,
 "nbformat_minor": 2
}
