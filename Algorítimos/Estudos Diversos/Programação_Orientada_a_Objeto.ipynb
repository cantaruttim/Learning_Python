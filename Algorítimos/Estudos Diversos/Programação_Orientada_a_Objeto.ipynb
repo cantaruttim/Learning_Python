{
  "nbformat": 4,
  "nbformat_minor": 0,
  "metadata": {
    "colab": {
      "provenance": [],
      "authorship_tag": "ABX9TyPi65s4/z5cNsf+gMOpq7ZW",
      "include_colab_link": true
    },
    "kernelspec": {
      "name": "python3",
      "display_name": "Python 3"
    },
    "language_info": {
      "name": "python"
    }
  },
  "cells": [
    {
      "cell_type": "markdown",
      "metadata": {
        "id": "view-in-github",
        "colab_type": "text"
      },
      "source": [
        "<a href=\"https://colab.research.google.com/github/cantaruttim/Learning_Python/blob/main/Algor%C3%ADtimos/Estudos%20Diversos/Programa%C3%A7%C3%A3o_Orientada_a_Objeto.ipynb\" target=\"_parent\"><img src=\"https://colab.research.google.com/assets/colab-badge.svg\" alt=\"Open In Colab\"/></a>"
      ]
    },
    {
      "cell_type": "markdown",
      "source": [
        "# Programação Orientada à Objeto no Python\n",
        "\n",
        "- Otimiza a organização dos dados\n",
        "- Melhora como encontrar as informações quando a quantidade de dados aumentar\n",
        "\n",
        "\n",
        "> Existe\t outro\t método,\t o\t \t__new__()\t\t que\t é\t chamado\t antes\t do\t \t __init_() pelo interpretador\tdo\tPython.\tO\tmétodo __new__() é\trealmente\to\tconstrutor\te\té\tquem realmente\tcria uma instância\tde `Classe`. O\t método\t \t__init__() é responsável por inicializar o objeto, tanto é que já recebe\ta\tprópria\tinstância\t(self)\tcriada\tpelo\tconstrutor\tcomo argumento.\tDessa\tmaneira,\tgarantimos\tque toda\tinstância\tde\tuma\t\tConta\t\ttenha\tos\tatributos\tque\tdefinimos."
      ],
      "metadata": {
        "id": "-IP2bb12A77K"
      }
    },
    {
      "cell_type": "code",
      "execution_count": 1,
      "metadata": {
        "id": "StZBCdejA4eW"
      },
      "outputs": [],
      "source": [
        "class Conta:\n",
        "  \n",
        "  def __init__(self, numero, titular, saldo, limite=1000.00):\n",
        "    print(f\"Inicializando uma conta para o cliente {titular}\")\n",
        "    self.numero = numero\n",
        "    self.titular = titular\n",
        "    self.saldo = saldo\n",
        "    self.limite = limite\n",
        "\n",
        "  # Métodos/Atributos\n",
        "  def deposita(self, valor):\n",
        "    self.saldo += valor\n",
        "\n",
        "\n",
        "  def saca(self, valor):\n",
        "    if (self.saldo < valor):\n",
        "      return False\n",
        "    else:\n",
        "      self.saldo -= valor\n",
        "      return True\n",
        "\n",
        "  def extrato(self):\n",
        "    print(\"número : {} \\nsaldo: {}\".format(self.numero, self.saldo))\n",
        "\n",
        "  def\ttransfere_para(self,\tdestino,\tvalor):\n",
        "    retirou\t=\tself.saca(valor)\n",
        "    if\t(retirou\t==\tFalse):\n",
        "      return False\n",
        "    else:\n",
        "      destino.deposita(valor)\n",
        "      return True"
      ]
    },
    {
      "cell_type": "code",
      "source": [
        "conta = Conta('123-4', 'João', 120.0)\n",
        "conta2 = Conta('123-5', 'Matheus', 100.0)"
      ],
      "metadata": {
        "colab": {
          "base_uri": "https://localhost:8080/"
        },
        "id": "USrrQ9BqCJMr",
        "outputId": "04a33bbb-c91a-4019-fcd3-cc93d76853c4"
      },
      "execution_count": 2,
      "outputs": [
        {
          "output_type": "stream",
          "name": "stdout",
          "text": [
            "Inicializando uma conta para o cliente João\n",
            "Inicializando uma conta para o cliente Matheus\n"
          ]
        }
      ]
    },
    {
      "cell_type": "code",
      "source": [
        "conta.deposita(50)\n",
        "conta.saldo\n",
        "conta.saca(30)\n",
        "conta.saldo"
      ],
      "metadata": {
        "colab": {
          "base_uri": "https://localhost:8080/"
        },
        "id": "85jaWJovDxUH",
        "outputId": "8ba201f0-2864-4979-8df8-776c87994320"
      },
      "execution_count": 3,
      "outputs": [
        {
          "output_type": "execute_result",
          "data": {
            "text/plain": [
              "140.0"
            ]
          },
          "metadata": {},
          "execution_count": 3
        }
      ]
    },
    {
      "cell_type": "code",
      "source": [
        "conta.extrato()"
      ],
      "metadata": {
        "colab": {
          "base_uri": "https://localhost:8080/"
        },
        "id": "YoBYGNQsFAGM",
        "outputId": "8afa794b-423b-4538-bc47-3ad138e0c68a"
      },
      "execution_count": 4,
      "outputs": [
        {
          "output_type": "stream",
          "name": "stdout",
          "text": [
            "número : 123-4 \n",
            "saldo: 140.0\n"
          ]
        }
      ]
    },
    {
      "cell_type": "markdown",
      "source": [
        "Ao\t criar\t uma\t \tConta\t,\t estamos\t pedindo\t para\t o\t Python\t criar\t uma\t nova\t instância\t de\t \tConta\t\t na memória,ou\t seja,\to\tPython\talocará\tmemória\t suficiente\tpara\tguardar\ttodas\tas\tinformações\tda Conta\tdentro\t da\t memória\t do\t programa.\t O\t \t__new__()\t,\t portanto,\t devolve\t uma\t referência,\t uma\t seta\t que aponta\tpara\to\tobjeto\tem\tmemória\te\té\tguardada\tna\tvariável\tconta.\n",
        "\n",
        "> Como\to\tself\té\ta\treferência\tdo\tobjeto,\tele\tchama\t\t`self.titular`\t\te\t\t`self.saldo`\t\tda\tclasse\t\tConta\t."
      ],
      "metadata": {
        "id": "3MEijg1hMKe8"
      }
    },
    {
      "cell_type": "code",
      "source": [
        "# Para acessar os atributos basta usarmos o '.'\n",
        "\n",
        "conta.titular, conta.saldo"
      ],
      "metadata": {
        "colab": {
          "base_uri": "https://localhost:8080/"
        },
        "id": "WSjEpGuQCJXH",
        "outputId": "cff3c60a-143b-4bee-e7a2-15b060b06946"
      },
      "execution_count": 5,
      "outputs": [
        {
          "output_type": "execute_result",
          "data": {
            "text/plain": [
              "('João', 140.0)"
            ]
          },
          "metadata": {},
          "execution_count": 5
        }
      ]
    },
    {
      "cell_type": "markdown",
      "source": [
        "### Métodos com Retorno"
      ],
      "metadata": {
        "id": "dHIAPQQGFXGD"
      }
    },
    {
      "cell_type": "code",
      "source": [
        "# veremos que seria melhor usar um método Exeption\n",
        "conta.saldo\t=\t1000\n",
        "if(conta.saca(2000)):\n",
        "\tprint(\"consegui\tsacar\")\n",
        "else:\n",
        "\tprint(\"não\tconsegui\tsacar\")"
      ],
      "metadata": {
        "id": "YZazxOuVCJes",
        "colab": {
          "base_uri": "https://localhost:8080/"
        },
        "outputId": "a3c28c3a-5d67-4535-dfe2-cdddcc912c0e"
      },
      "execution_count": 6,
      "outputs": [
        {
          "output_type": "stream",
          "name": "stdout",
          "text": [
            "não\tconsegui\tsacar\n"
          ]
        }
      ]
    },
    {
      "cell_type": "code",
      "source": [
        "conta.saldo"
      ],
      "metadata": {
        "id": "kHD_JCaHPE9a",
        "colab": {
          "base_uri": "https://localhost:8080/"
        },
        "outputId": "651472e2-4220-4d6a-f7a1-bee739699f98"
      },
      "execution_count": 7,
      "outputs": [
        {
          "output_type": "execute_result",
          "data": {
            "text/plain": [
              "1000"
            ]
          },
          "metadata": {},
          "execution_count": 7
        }
      ]
    },
    {
      "cell_type": "markdown",
      "source": [
        "### Métodos são acessados por referência\n",
        "\n",
        "> Quando\t criamos\t uma\t variável\t para\t associar\t a\t um\t objeto,\t na\t verdade,\t essa\t variável\t não\t guarda\t o\n",
        "objeto,\te\tsim\tuma\tmaneira\tde\tacessá-lo,\tchamada\tde\treferência\t(o\tself)."
      ],
      "metadata": {
        "id": "1jEtGQJ-GnTo"
      }
    },
    {
      "cell_type": "code",
      "source": [
        "# Nesse caso o correto dizer é que c1 é um objeto referência da Classe Conta \n",
        "conta2 = conta"
      ],
      "metadata": {
        "id": "yWytSQCDPE_m"
      },
      "execution_count": 8,
      "outputs": []
    },
    {
      "cell_type": "code",
      "source": [
        "print(id(conta2))\n",
        "print(id(conta))\n",
        "\n",
        "# ambas as variáveis guardam\tum\tnúmero\tque\tidentifica\tem\tque\tposição\tda\tmemória\taquela Conta\tse\tencontra\n",
        "# Nesse caso apresentam o mesmo id pois se referenciam ao mesmo objeto. São duas referências para o mesmo objeto tipo Conta"
      ],
      "metadata": {
        "id": "VviG4jr0PFBt",
        "colab": {
          "base_uri": "https://localhost:8080/"
        },
        "outputId": "fb92a405-5d81-43ab-d43a-b1a1a7274c49"
      },
      "execution_count": 9,
      "outputs": [
        {
          "output_type": "stream",
          "name": "stdout",
          "text": [
            "140005666843856\n",
            "140005666843856\n"
          ]
        }
      ]
    },
    {
      "cell_type": "markdown",
      "source": [
        "Outra\t maneira\t de\t notar\t esse\t comportamento\t é\t que\t o\t interpretador\t Python\t chamou\t os\t métodos\n",
        "\t__new__()\t\t e\t \t__init__()\t\t apenas\t uma\t vez\t (na\t linha\t \tconta2\t =\t Conta('123-4',\t 'João',\t 120.0,\n",
        "1000.0)\t),\tentão\tsó\tpode\thaver\tum\tobjeto\t\tConta\t\tna\tmemória.\tCompará-las\tcom\to\toperador\t“==”\tvai\n",
        "nos\tretornar\t\tTrue\t,\tpois\to\tvalor\tque\telas\tcarregam\té\to\tmesmo:"
      ],
      "metadata": {
        "id": "0TBKdg8DI7Sw"
      }
    },
    {
      "cell_type": "code",
      "source": [
        "conta2 == conta"
      ],
      "metadata": {
        "id": "Gr57v_PyPFFN",
        "colab": {
          "base_uri": "https://localhost:8080/"
        },
        "outputId": "cde91dbf-8e52-4cb6-a0f0-4f13e3b69229"
      },
      "execution_count": 10,
      "outputs": [
        {
          "output_type": "execute_result",
          "data": {
            "text/plain": [
              "True"
            ]
          },
          "metadata": {},
          "execution_count": 10
        }
      ]
    },
    {
      "cell_type": "markdown",
      "source": [
        "### Método Transfere"
      ],
      "metadata": {
        "id": "9ArZgTK9Jp_z"
      }
    },
    {
      "cell_type": "code",
      "source": [
        "conta.transfere_para(conta2, 100)"
      ],
      "metadata": {
        "colab": {
          "base_uri": "https://localhost:8080/"
        },
        "id": "KIAhKrqnISpg",
        "outputId": "bfbc8d25-6fb5-4643-a789-fa8a431b5497"
      },
      "execution_count": 11,
      "outputs": [
        {
          "output_type": "execute_result",
          "data": {
            "text/plain": [
              "True"
            ]
          },
          "metadata": {},
          "execution_count": 11
        }
      ]
    },
    {
      "cell_type": "code",
      "source": [
        "conta2.extrato(), conta.extrato()"
      ],
      "metadata": {
        "colab": {
          "base_uri": "https://localhost:8080/"
        },
        "id": "E9efBogNJJmt",
        "outputId": "1488b67e-bfdf-43ad-9e88-3b55dfe0f422"
      },
      "execution_count": 12,
      "outputs": [
        {
          "output_type": "stream",
          "name": "stdout",
          "text": [
            "número : 123-4 \n",
            "saldo: 1000\n",
            "número : 123-4 \n",
            "saldo: 1000\n"
          ]
        },
        {
          "output_type": "execute_result",
          "data": {
            "text/plain": [
              "(None, None)"
            ]
          },
          "metadata": {},
          "execution_count": 12
        }
      ]
    },
    {
      "cell_type": "code",
      "source": [
        "# Como determinamos o valor do limite podemos inicializar a conta sem o valor do limite e acessá-lo pelo '.'\n",
        "\n",
        "conta.limite"
      ],
      "metadata": {
        "colab": {
          "base_uri": "https://localhost:8080/"
        },
        "id": "szIuFOyzJJoj",
        "outputId": "d9b00fe8-7e7b-4eca-8693-29185e1733c1"
      },
      "execution_count": 13,
      "outputs": [
        {
          "output_type": "execute_result",
          "data": {
            "text/plain": [
              "1000.0"
            ]
          },
          "metadata": {},
          "execution_count": 13
        }
      ]
    },
    {
      "cell_type": "markdown",
      "source": [
        "## Agregação\n",
        "\n",
        "- Ao começarmos a expandir o número de contas, poderemos ter outros atributos e querermos associar uma conta à um cliente. Com isso precisáriamos de ter uma nova classe"
      ],
      "metadata": {
        "id": "1-k8_hoNOF3N"
      }
    },
    {
      "cell_type": "code",
      "source": [
        "class Cliente:\n",
        "\n",
        "  def __init__(self, nome, sobrenome, cpf):\n",
        "    self.nome = nome\n",
        "    self.sobrenome = sobrenome\n",
        "    self.cpf = cpf\n",
        "\n",
        "class Conta:\n",
        "\n",
        "  def __init__(self, numero, cliente, saldo, limite):\n",
        "    self.numero = numero\n",
        "    self.titular = cliente # vinculamos uma conta a um cliente\n",
        "    self.saldo = saldo\n",
        "    self.limite = limite"
      ],
      "metadata": {
        "id": "dw9-bqpyMowd"
      },
      "execution_count": 14,
      "outputs": []
    },
    {
      "cell_type": "code",
      "source": [
        "cliente = Cliente('Lara', 'Croft', '123456')\n",
        "conta_cliente = Conta('123-4', cliente, 120.0, 1000.0)"
      ],
      "metadata": {
        "id": "H6NwnfdUMoyR"
      },
      "execution_count": 15,
      "outputs": []
    },
    {
      "cell_type": "markdown",
      "source": [
        "Aqui\taconteceu\tuma\tatribuição,\to\tvalor\tda\tvariável\tcliente é\tcopiado\tpara\to\tatributo\t\ttitular\tdo\tobjeto\tao\tqual\t\tminha_conta\t\tse\trefere.\tEm\toutras\tpalavras,\t\tminha_conta\t\ttem\tuma\treferência\tao mesmo\t\tCliente\t\tque\t\tcliente\t\tse\trefere,\te\tpode\tser\tacessado\tatravés\tde conta_cliente.titular\t."
      ],
      "metadata": {
        "id": "aUEwLTspPhxL"
      }
    },
    {
      "cell_type": "code",
      "source": [
        "print(conta_cliente.titular)"
      ],
      "metadata": {
        "colab": {
          "base_uri": "https://localhost:8080/"
        },
        "id": "PSRPOCn9Mo11",
        "outputId": "440cc027-1aa1-4ad7-b2f5-2bf40df3411e"
      },
      "execution_count": 16,
      "outputs": [
        {
          "output_type": "stream",
          "name": "stdout",
          "text": [
            "<__main__.Cliente object at 0x7f559c0b9550>\n"
          ]
        }
      ]
    },
    {
      "cell_type": "code",
      "source": [
        "# Como o titular a conta é um objeto referência para da classe cliente, podemos navegar por todos qualquer atributo desse cliente\n",
        "# por meio do '.'\n",
        "\n",
        "print(conta_cliente.titular.nome)\n",
        "print(conta_cliente.titular.cpf)"
      ],
      "metadata": {
        "colab": {
          "base_uri": "https://localhost:8080/"
        },
        "id": "DiHR_q78JJr9",
        "outputId": "beca8c11-012e-4bba-b210-58cc6b0b9609"
      },
      "execution_count": 17,
      "outputs": [
        {
          "output_type": "stream",
          "name": "stdout",
          "text": [
            "Lara\n",
            "123456\n"
          ]
        }
      ]
    },
    {
      "cell_type": "markdown",
      "source": [
        "## Tudo é Objeto\n",
        "\n",
        "Conjunto de classes que operam entre si, delegando responsabilidades para aqueles que mais são responsáveis.\n",
        "\n",
        "### Composição\n",
        "\n",
        "Suponha\t agora\t que\t nossa\t \tConta\t\t possua\t um\t histórico,\t contendo\t a\t data\t de\t abertura\t da\t conta\t e\t suas transações.\tPodemos\tcriar\tuma\tclasse\tpara\trepresentar\to\thistórico,\tcomo\tno\texemplo\tabaixo:"
      ],
      "metadata": {
        "id": "Knvc_JsWQhUC"
      }
    },
    {
      "cell_type": "code",
      "source": [
        "import datetime\n",
        "\n",
        "class Historico:\n",
        "\n",
        "  def __init__(self):\n",
        "    self.data_abertura = datetime.datetime.today()\n",
        "    self.transacoes = []\n",
        "\n",
        "  def imprime(self):\n",
        "    print(\"data\tabertura:\t{}\".format(self.data_abertura))\n",
        "    print(\"transações: \")\n",
        "\n",
        "    for t in self.transacoes:\n",
        "      print(\"-\", t)\n",
        "\n",
        "class Conta:\n",
        "  # modificando a classe conta para que ela tenha um histórico\n",
        "  def\t__init__(self,\tnumero,\tcliente,\tsaldo,\tlimite=1000.0):\n",
        "    self.numero = numero\n",
        "    self.cliente = cliente\n",
        "    self.saldo = saldo\n",
        "    self.limite = limite\n",
        "    self.historico = Historico()\n",
        "\n",
        "    # Métodos/Atributos\n",
        "  def deposita(self, valor):\n",
        "    self.saldo += valor\n",
        "    self.historico.transacoes.append(\"depósito de {}\".format(valor))\n",
        "\n",
        "  def saca(self, valor):\n",
        "    if (self.saldo < valor):\n",
        "      return False\n",
        "    else:\n",
        "      self.saldo -= valor\n",
        "      self.historico.transacoes.append(\"saque de {}\".format(valor))\n",
        "\n",
        "  def extrato(self):\n",
        "    print(\"número : {} \\nsaldo: {}\".format(self.numero, self.saldo))\n",
        "    self.historico.transacoes.append(\"Tirou extrato - saldo de {}\".format(self.valor))\n",
        "\n",
        "  def\ttransfere_para(self,\tdestino,\tvalor):\n",
        "    retirou\t=\tself.saca(valor)\n",
        "    if\t(retirou\t==\tFalse):\n",
        "      return False\n",
        "    else:\n",
        "      destino.deposita(valor)\n",
        "      self.historico.transacoes.append(\"Transferência de {} para conta {}\".format(valor, destino.numero))\n",
        "\n",
        "class Cliente:\n",
        "\n",
        "  def __init__(self, nome, sobrenome, cpf):\n",
        "    self.nome = nome\n",
        "    self.sobrenome = sobrenome\n",
        "    self.cpf = cpf"
      ],
      "metadata": {
        "id": "kf_ZOuEVISsW"
      },
      "execution_count": 18,
      "outputs": []
    },
    {
      "cell_type": "code",
      "source": [
        "cliente1\t=\tCliente('João',\t'Oliveira',\t'11111111111-11')\n",
        "cliente2\t=\tCliente('José',\t'Azevedo',\t'222222222-22')"
      ],
      "metadata": {
        "id": "5qjeBq3sQd-X"
      },
      "execution_count": 19,
      "outputs": []
    },
    {
      "cell_type": "code",
      "source": [
        "conta1\t=\tConta('123-4',\tcliente1,\t1000.0)\n",
        "conta2\t=\tConta('123-5',\tcliente2,\t1000.0)"
      ],
      "metadata": {
        "id": "b0nh5rSJQeBw"
      },
      "execution_count": 20,
      "outputs": []
    },
    {
      "cell_type": "code",
      "source": [
        "conta1.deposita(1500.00)"
      ],
      "metadata": {
        "id": "C5RnbM76QeDs"
      },
      "execution_count": 21,
      "outputs": []
    },
    {
      "cell_type": "code",
      "source": [
        "conta1.saca(100.00)"
      ],
      "metadata": {
        "id": "vL0bKRwPQeGw"
      },
      "execution_count": 22,
      "outputs": []
    },
    {
      "cell_type": "code",
      "source": [
        "conta1.transfere_para(conta2, 500.00)"
      ],
      "metadata": {
        "id": "qCevdA9EISvB"
      },
      "execution_count": 23,
      "outputs": []
    },
    {
      "cell_type": "code",
      "source": [
        "conta1.historico.imprime()"
      ],
      "metadata": {
        "colab": {
          "base_uri": "https://localhost:8080/"
        },
        "id": "VlCprRODISx6",
        "outputId": "cf43a1e5-8129-46be-d156-882f4425d66f"
      },
      "execution_count": 24,
      "outputs": [
        {
          "output_type": "stream",
          "name": "stdout",
          "text": [
            "data\tabertura:\t2023-04-26 11:17:53.785877\n",
            "transações: \n",
            "- depósito de 1500.0\n",
            "- saque de 100.0\n",
            "- saque de 500.0\n",
            "- Transferência de 500.0 para conta 123-5\n"
          ]
        }
      ]
    },
    {
      "cell_type": "code",
      "source": [
        "conta2.historico.imprime()"
      ],
      "metadata": {
        "colab": {
          "base_uri": "https://localhost:8080/"
        },
        "id": "n8QWtQQwIS1R",
        "outputId": "0151253e-0577-4c21-a259-46e0a285d3b4"
      },
      "execution_count": 25,
      "outputs": [
        {
          "output_type": "stream",
          "name": "stdout",
          "text": [
            "data\tabertura:\t2023-04-26 11:17:53.785957\n",
            "transações: \n",
            "- depósito de 500.0\n"
          ]
        }
      ]
    },
    {
      "cell_type": "markdown",
      "source": [
        "Quando\ta\texistência\t de\t uma\tclasse\t depende\t de\t outra\tclasse,\tcomo\té\ta\t relação\t da\tclasse\tHistórico com\t a\t classe\t Conta,\t dizemos\t que\t a\t classe\t \tHistorico compõe\t a\t classe\t \tConta\t.\t Esta\t associação chamamos\t**Composição**.\n",
        "\n",
        "\n",
        "# Outros métodos de uma classe"
      ],
      "metadata": {
        "id": "Cb-MP_L0ytZj"
      }
    },
    {
      "cell_type": "code",
      "source": [
        "dir(conta1)"
      ],
      "metadata": {
        "colab": {
          "base_uri": "https://localhost:8080/"
        },
        "id": "4vvMm402zyEE",
        "outputId": "5b9cf36d-e444-4997-8d40-b6336f52008e"
      },
      "execution_count": 26,
      "outputs": [
        {
          "output_type": "execute_result",
          "data": {
            "text/plain": [
              "['__class__',\n",
              " '__delattr__',\n",
              " '__dict__',\n",
              " '__dir__',\n",
              " '__doc__',\n",
              " '__eq__',\n",
              " '__format__',\n",
              " '__ge__',\n",
              " '__getattribute__',\n",
              " '__gt__',\n",
              " '__hash__',\n",
              " '__init__',\n",
              " '__init_subclass__',\n",
              " '__le__',\n",
              " '__lt__',\n",
              " '__module__',\n",
              " '__ne__',\n",
              " '__new__',\n",
              " '__reduce__',\n",
              " '__reduce_ex__',\n",
              " '__repr__',\n",
              " '__setattr__',\n",
              " '__sizeof__',\n",
              " '__str__',\n",
              " '__subclasshook__',\n",
              " '__weakref__',\n",
              " 'cliente',\n",
              " 'deposita',\n",
              " 'extrato',\n",
              " 'historico',\n",
              " 'limite',\n",
              " 'numero',\n",
              " 'saca',\n",
              " 'saldo',\n",
              " 'transfere_para']"
            ]
          },
          "metadata": {},
          "execution_count": 26
        }
      ]
    },
    {
      "cell_type": "code",
      "source": [
        "conta1.__dict__"
      ],
      "metadata": {
        "colab": {
          "base_uri": "https://localhost:8080/"
        },
        "id": "lbiE2viMz0KH",
        "outputId": "e919eb32-5642-4143-a722-621ab725b4eb"
      },
      "execution_count": 27,
      "outputs": [
        {
          "output_type": "execute_result",
          "data": {
            "text/plain": [
              "{'numero': '123-4',\n",
              " 'cliente': <__main__.Cliente at 0x7f559c0453a0>,\n",
              " 'saldo': 1900.0,\n",
              " 'limite': 1000.0,\n",
              " 'historico': <__main__.Historico at 0x7f559c0450a0>}"
            ]
          },
          "metadata": {},
          "execution_count": 27
        }
      ]
    },
    {
      "cell_type": "code",
      "source": [
        "vars(conta1)"
      ],
      "metadata": {
        "colab": {
          "base_uri": "https://localhost:8080/"
        },
        "id": "gj3f8I69z0lG",
        "outputId": "008ab90b-d23a-4108-d22a-92077dad3739"
      },
      "execution_count": 28,
      "outputs": [
        {
          "output_type": "execute_result",
          "data": {
            "text/plain": [
              "{'numero': '123-4',\n",
              " 'cliente': <__main__.Cliente at 0x7f559c0453a0>,\n",
              " 'saldo': 1900.0,\n",
              " 'limite': 1000.0,\n",
              " 'historico': <__main__.Historico at 0x7f559c0450a0>}"
            ]
          },
          "metadata": {},
          "execution_count": 28
        }
      ]
    },
    {
      "cell_type": "markdown",
      "source": [
        "Repare\tque\to\t\t__dict__\t\te\to\t\tvars()\t\tretornam\texatamente\tum\tdicionário\tde\tatributos\tde\tuma\tconta\n",
        "como\t tínhamos\t modelado\t no\t início\t deste\t capítulo.\t _Portanto,\t nossas\t classes\t utilizam\t dicionários\t para\n",
        "armazenar\tinformações\tda\tprópria\tclasse._"
      ],
      "metadata": {
        "id": "e6iMVDO521st"
      }
    },
    {
      "cell_type": "code",
      "source": [
        "# verificando o tipo da variável `conta1`\n",
        "\n",
        "type(conta1)"
      ],
      "metadata": {
        "colab": {
          "base_uri": "https://localhost:8080/"
        },
        "id": "fMXla2k9z0rV",
        "outputId": "d4b4c8e9-766d-471b-cc37-c1e24444dba1"
      },
      "execution_count": 29,
      "outputs": [
        {
          "output_type": "execute_result",
          "data": {
            "text/plain": [
              "__main__.Conta"
            ]
          },
          "metadata": {},
          "execution_count": 29
        }
      ]
    },
    {
      "cell_type": "code",
      "source": [
        "type(cliente1)"
      ],
      "metadata": {
        "colab": {
          "base_uri": "https://localhost:8080/"
        },
        "id": "pi_As_IM3afc",
        "outputId": "a981e321-b511-46ba-b7cd-d6060d6276fc"
      },
      "execution_count": 30,
      "outputs": [
        {
          "output_type": "execute_result",
          "data": {
            "text/plain": [
              "__main__.Cliente"
            ]
          },
          "metadata": {},
          "execution_count": 30
        }
      ]
    },
    {
      "cell_type": "markdown",
      "source": [
        "# Modificadores de Acesso e Métodos de Classe\n",
        "\n",
        "Em orientação a objetos, é prática quase que obrigatória proteger\tseus\tatributos\tcom\tprivate. Cada classe\té\tresponsável\tpor\tcontrolar\tseus\tatributos,\tportanto\tela deve\tjulgar\tse\taquele\tnovo\tvalor\té\tválido\tou\tnão.\tE esta\tvalidação\tnão\tdeve\tser\tcontrolada\tpor\tquem\testá usando\t a\t classe,\t e\t sim por ela mesma centralizando essa responsabilidade\t e\t facilitando futuras mudanças\tno sistema. No\t Python,inserimos\t dois\t underscores ('__') ao atributo\tpara adicionarmos\testa\tcaracterística."
      ],
      "metadata": {
        "id": "iwZAhzZH38nv"
      }
    },
    {
      "cell_type": "code",
      "source": [
        "class Pessoa:\n",
        "\n",
        "  def __init__(self, idade):\n",
        "    self.__idade = idade"
      ],
      "metadata": {
        "id": "yMXcLkdR4BqN"
      },
      "execution_count": 31,
      "outputs": []
    },
    {
      "cell_type": "code",
      "source": [
        "P1 = Pessoa(20)"
      ],
      "metadata": {
        "id": "AdGuS-GG4Bul"
      },
      "execution_count": 32,
      "outputs": []
    },
    {
      "cell_type": "code",
      "source": [
        "P1.idade"
      ],
      "metadata": {
        "colab": {
          "base_uri": "https://localhost:8080/",
          "height": 166
        },
        "id": "5o7C6JCF4Bzo",
        "outputId": "3e7dc92d-26d1-42d1-97e3-ebeef255a435"
      },
      "execution_count": 33,
      "outputs": [
        {
          "output_type": "error",
          "ename": "AttributeError",
          "evalue": "ignored",
          "traceback": [
            "\u001b[0;31m---------------------------------------------------------------------------\u001b[0m",
            "\u001b[0;31mAttributeError\u001b[0m                            Traceback (most recent call last)",
            "\u001b[0;32m<ipython-input-33-a0bba134f934>\u001b[0m in \u001b[0;36m<cell line: 1>\u001b[0;34m()\u001b[0m\n\u001b[0;32m----> 1\u001b[0;31m \u001b[0mP1\u001b[0m\u001b[0;34m.\u001b[0m\u001b[0midade\u001b[0m\u001b[0;34m\u001b[0m\u001b[0;34m\u001b[0m\u001b[0m\n\u001b[0m",
            "\u001b[0;31mAttributeError\u001b[0m: 'Pessoa' object has no attribute 'idade'"
          ]
        }
      ]
    },
    {
      "cell_type": "code",
      "source": [
        "# para acessar um atributo nesse caso fazemos :\n",
        "\n",
        "P1._Pessoa__idade"
      ],
      "metadata": {
        "colab": {
          "base_uri": "https://localhost:8080/"
        },
        "id": "mNdLG8Nn4B39",
        "outputId": "cbaf42ee-f6e9-425b-87be-b060e63f6267"
      },
      "execution_count": 34,
      "outputs": [
        {
          "output_type": "execute_result",
          "data": {
            "text/plain": [
              "20"
            ]
          },
          "metadata": {},
          "execution_count": 34
        }
      ]
    },
    {
      "cell_type": "code",
      "source": [
        "dir(P1)"
      ],
      "metadata": {
        "colab": {
          "base_uri": "https://localhost:8080/"
        },
        "id": "Fd-r-tAE4B8a",
        "outputId": "4990517b-338e-471b-c72f-983abfd603a4"
      },
      "execution_count": 37,
      "outputs": [
        {
          "output_type": "execute_result",
          "data": {
            "text/plain": [
              "['_Pessoa__idade',\n",
              " '__class__',\n",
              " '__delattr__',\n",
              " '__dict__',\n",
              " '__dir__',\n",
              " '__doc__',\n",
              " '__eq__',\n",
              " '__format__',\n",
              " '__ge__',\n",
              " '__getattribute__',\n",
              " '__gt__',\n",
              " '__hash__',\n",
              " '__init__',\n",
              " '__init_subclass__',\n",
              " '__le__',\n",
              " '__lt__',\n",
              " '__module__',\n",
              " '__ne__',\n",
              " '__new__',\n",
              " '__reduce__',\n",
              " '__reduce_ex__',\n",
              " '__repr__',\n",
              " '__setattr__',\n",
              " '__sizeof__',\n",
              " '__str__',\n",
              " '__subclasshook__',\n",
              " '__weakref__']"
            ]
          },
          "metadata": {},
          "execution_count": 37
        }
      ]
    },
    {
      "cell_type": "code",
      "source": [
        "P1.__idade = 25"
      ],
      "metadata": {
        "id": "hqF4_v4x4CAh"
      },
      "execution_count": 38,
      "outputs": []
    },
    {
      "cell_type": "code",
      "source": [
        "P1._Pessoa__idade"
      ],
      "metadata": {
        "colab": {
          "base_uri": "https://localhost:8080/"
        },
        "id": "p6bX82Xv4CEg",
        "outputId": "d1fe466c-73f1-48b5-9d99-b40e0d29dfaf"
      },
      "execution_count": 39,
      "outputs": [
        {
          "output_type": "execute_result",
          "data": {
            "text/plain": [
              "20"
            ]
          },
          "metadata": {},
          "execution_count": 39
        }
      ]
    },
    {
      "cell_type": "code",
      "source": [
        "# O\tque\taconteceu\taqui\té\tque\to\tPython\tcriou\tum\tnovo\tatributo\t__idade\tpara\to\tobjeto\t\tpessoa\t\tjá\tque é\tuma\tlinguagem\tdinâmica\n",
        "\n",
        "dir(P1)"
      ],
      "metadata": {
        "colab": {
          "base_uri": "https://localhost:8080/"
        },
        "id": "j8omZYCWEH04",
        "outputId": "e5f997ef-2af7-477a-9e9b-a1e860f4adce"
      },
      "execution_count": 40,
      "outputs": [
        {
          "output_type": "execute_result",
          "data": {
            "text/plain": [
              "['_Pessoa__idade',\n",
              " '__class__',\n",
              " '__delattr__',\n",
              " '__dict__',\n",
              " '__dir__',\n",
              " '__doc__',\n",
              " '__eq__',\n",
              " '__format__',\n",
              " '__ge__',\n",
              " '__getattribute__',\n",
              " '__gt__',\n",
              " '__hash__',\n",
              " '__idade',\n",
              " '__init__',\n",
              " '__init_subclass__',\n",
              " '__le__',\n",
              " '__lt__',\n",
              " '__module__',\n",
              " '__ne__',\n",
              " '__new__',\n",
              " '__reduce__',\n",
              " '__reduce_ex__',\n",
              " '__repr__',\n",
              " '__setattr__',\n",
              " '__sizeof__',\n",
              " '__str__',\n",
              " '__subclasshook__',\n",
              " '__weakref__']"
            ]
          },
          "metadata": {},
          "execution_count": 40
        }
      ]
    },
    {
      "cell_type": "code",
      "source": [
        "class Pessoa:\n",
        "\n",
        "  def __init__(self, idade):\n",
        "\n",
        "    # Convenção: Mostra que esse atributo não deve ser acessado diretamente \n",
        "    self.__idade = idade"
      ],
      "metadata": {
        "id": "zdh7MzbBEH54"
      },
      "execution_count": 41,
      "outputs": []
    },
    {
      "cell_type": "markdown",
      "source": [
        "Um\tatributo\tcom\tapenas\t um\t underscore\té\tchamado\t de\t protegido,\tmas\t quando\t usado\tsinaliza\t que deve\tser\ttratado\tcomo\tum\tatributo\t**\"privado\"**,\tfazendo\tcom\tque\tacessá-lo\tdiretamente\tpossa\tser\tperigoso"
      ],
      "metadata": {
        "id": "5fQhLss5fTTX"
      }
    },
    {
      "cell_type": "markdown",
      "source": [
        "## Encapsulamento\n",
        "\n",
        "O\tque\tcomeçamos\ta\tver\tnesse\tcapítulo\té\ta\tideia\tde\tencapsular,\tisto\té,\t'esconder'\ttodos\tos\tmembros de\tuma\tclasse\t(como\tvimos\tacima),\talém\tde\tesconder\tcomo\tfuncionam\tas\trotinas\t(no\tcaso\tmétodos) do nosso sistema.\n",
        "\n",
        "Encapsular\té\tfundamental\tpara\tque\tseu\tsistema\tseja\tsuscetível\ta\tmudanças:\tnão\tprecisamos\tmudar uma\t regra\t de\t negócio\t em\t vários\t lugares,\t mas\t sim\t em\t apenas\t um\t único\t lugar,\t já\t que\t essa\t regra\t está encapsulada.\tO\tconjunto\tde\tmétodos\tpúblicos\tde\tuma\tclasse\té\ttambém\tchamado\tde\t**interface\tda\tclasse**, pois\testa\té\ta\túnica\tmaneira\ta\tqual\tvocê\tse\tcomunica\tcom\tobjetos\tdessa\tclasse\n",
        "\n",
        "Sempre\tque\tprecisamos\tarrumar\tuma maneira\t de\t fazer\t alguma\t coisa\t com\t um\t objeto, utilizamos\t métodos!\t Vamos\t então\t criar\t um\t método, digamos pega_saldo(), para\trealizar\tessa\tsimples\ttarefa"
      ],
      "metadata": {
        "id": "Jf4d30lxQz6Y"
      }
    },
    {
      "cell_type": "code",
      "source": [
        "import datetime\n",
        "\n",
        "class Historico:\n",
        "\n",
        "  def __init__(self):\n",
        "    self.data_abertura = datetime.datetime.today()\n",
        "    self.transacoes = []\n",
        "\n",
        "  def imprime(self):\n",
        "    print(\"data\tabertura:\t{}\".format(self.data_abertura))\n",
        "    print(\"transações: \")\n",
        "\n",
        "    for t in self.transacoes:\n",
        "      print(\"-\", t)\n",
        "\n",
        "class Conta:\n",
        "  # modificando a classe conta para que ela tenha um histórico\n",
        "  def\t__init__(self,\tnumero,\tcliente,\tsaldo,\tlimite=1000.0):\n",
        "    self.numero = numero\n",
        "    self.cliente = cliente\n",
        "    self.saldo = saldo\n",
        "    self.limite = limite\n",
        "    self.historico = Historico()\n",
        "\n",
        "    # Métodos/Atributos\n",
        "  def deposita(self, valor):\n",
        "    self.saldo += valor\n",
        "    self.historico.transacoes.append(\"depósito de {}\".format(valor))\n",
        "\n",
        "  def saca(self, valor):\n",
        "    if (self.saldo < valor):\n",
        "      return False\n",
        "    else:\n",
        "      self.saldo -= valor\n",
        "      self.historico.transacoes.append(\"saque de {}\".format(valor))\n",
        "  \n",
        "  def pega_saldo(self):\n",
        "    return self._saldo\n",
        "\n",
        "\n",
        "  def extrato(self):\n",
        "    print(\"número : {} \\nsaldo: {}\".format(self.numero, self.saldo))\n",
        "    self.historico.transacoes.append(\"Tirou extrato - saldo de {}\".format(self.valor))\n",
        "\n",
        "  def\ttransfere_para(self,\tdestino,\tvalor):\n",
        "    retirou\t=\tself.saca(valor)\n",
        "    if\t(retirou\t==\tFalse):\n",
        "      return False\n",
        "    else:\n",
        "      destino.deposita(valor)\n",
        "      self.historico.transacoes.append(\"Transferência de {} para conta {}\".format(valor, destino.numero))\n",
        "\n",
        "class Cliente:\n",
        "\n",
        "  def __init__(self, nome, sobrenome, cpf):\n",
        "    self.nome = nome\n",
        "    self.sobrenome = sobrenome\n",
        "    self.cpf = cpf"
      ],
      "metadata": {
        "id": "_cQaqNArQ1ww"
      },
      "execution_count": 44,
      "outputs": []
    },
    {
      "cell_type": "code",
      "source": [
        "minha_conta\t=\tConta('123-4','joão',\t1000.0)\n",
        "minha_conta.deposita(100)\n",
        "minha_conta.pega_saldo() # não conseguimos pegar o valor do saldo devido ao fato de saldo estar protegido _saldo."
      ],
      "metadata": {
        "id": "MovrFloRQ11b",
        "colab": {
          "base_uri": "https://localhost:8080/",
          "height": 322
        },
        "outputId": "aec0eafa-2cb5-41c4-b2b6-083acf912c78"
      },
      "execution_count": 49,
      "outputs": [
        {
          "output_type": "error",
          "ename": "AttributeError",
          "evalue": "ignored",
          "traceback": [
            "\u001b[0;31m---------------------------------------------------------------------------\u001b[0m",
            "\u001b[0;31mAttributeError\u001b[0m                            Traceback (most recent call last)",
            "\u001b[0;32m<ipython-input-49-acc981bca5e9>\u001b[0m in \u001b[0;36m<cell line: 3>\u001b[0;34m()\u001b[0m\n\u001b[1;32m      1\u001b[0m \u001b[0mminha_conta\u001b[0m     \u001b[0;34m=\u001b[0m       \u001b[0mConta\u001b[0m\u001b[0;34m(\u001b[0m\u001b[0;34m'123-4'\u001b[0m\u001b[0;34m,\u001b[0m\u001b[0;34m'joão'\u001b[0m\u001b[0;34m,\u001b[0m   \u001b[0;36m1000.0\u001b[0m\u001b[0;34m)\u001b[0m\u001b[0;34m\u001b[0m\u001b[0;34m\u001b[0m\u001b[0m\n\u001b[1;32m      2\u001b[0m \u001b[0mminha_conta\u001b[0m\u001b[0;34m.\u001b[0m\u001b[0mdeposita\u001b[0m\u001b[0;34m(\u001b[0m\u001b[0;36m100\u001b[0m\u001b[0;34m)\u001b[0m\u001b[0;34m\u001b[0m\u001b[0;34m\u001b[0m\u001b[0m\n\u001b[0;32m----> 3\u001b[0;31m \u001b[0mminha_conta\u001b[0m\u001b[0;34m.\u001b[0m\u001b[0mpega_saldo\u001b[0m\u001b[0;34m(\u001b[0m\u001b[0;34m)\u001b[0m\u001b[0;34m\u001b[0m\u001b[0;34m\u001b[0m\u001b[0m\n\u001b[0m",
            "\u001b[0;32m<ipython-input-44-3ab8b3345be4>\u001b[0m in \u001b[0;36mpega_saldo\u001b[0;34m(self)\u001b[0m\n\u001b[1;32m     36\u001b[0m \u001b[0;34m\u001b[0m\u001b[0m\n\u001b[1;32m     37\u001b[0m   \u001b[0;32mdef\u001b[0m \u001b[0mpega_saldo\u001b[0m\u001b[0;34m(\u001b[0m\u001b[0mself\u001b[0m\u001b[0;34m)\u001b[0m\u001b[0;34m:\u001b[0m\u001b[0;34m\u001b[0m\u001b[0;34m\u001b[0m\u001b[0m\n\u001b[0;32m---> 38\u001b[0;31m     \u001b[0;32mreturn\u001b[0m \u001b[0mself\u001b[0m\u001b[0;34m.\u001b[0m\u001b[0m_saldo\u001b[0m\u001b[0;34m\u001b[0m\u001b[0;34m\u001b[0m\u001b[0m\n\u001b[0m\u001b[1;32m     39\u001b[0m \u001b[0;34m\u001b[0m\u001b[0m\n\u001b[1;32m     40\u001b[0m \u001b[0;34m\u001b[0m\u001b[0m\n",
            "\u001b[0;31mAttributeError\u001b[0m: 'Conta' object has no attribute '_saldo'"
          ]
        }
      ]
    },
    {
      "cell_type": "markdown",
      "source": [
        "Para\t permitir\t o\t acesso\t aos\t atributos\t (*já\t que\t eles\t são\t 'protegidos'*)\t de\t uma\t maneira\t controlada,\t a\n",
        "prática\t mais\t comum\t é\t criar\t dois\t métodos,\t um\t que\t retorna\t o\t valor\t e\t outro\t que\t muda\t o\t valor.\t A\n",
        "convenção\tpara\tesses\tmétodos\tem\tmuitas\tlinguagens\torientadas\ta\tobjetos\té\tcolocar\ta\tpalavra\t**get**\tou\t**set** antes\t do\t nome\t do\t atributo.\n",
        "\n",
        "Getters\te\tsetters\tsão\tusados\tem\tmuitas\tlinguagens\tde\tprogramação\torientada\ta\tobjetos\tpara\tgarantir o\tprincípio\tdo\tencapsulamento\tde\tdados.\tO\tencapsulamento\tde\tdados\té\tvisto\tcomo\to\tagrupamento\tde dados\t com\t os\t métodos\t que\t operam\t nesses\t dados.\t Esses\t métodos\t são,\t obviamente,\t o\t getter\t para recuperar\tos\tdados\te\to\tsetter\tpara\talterar\tos\tdados.\tDe\tacordo\tcom\tesse\tprincípio,\tos\tatributos\tde\tuma\n",
        "classe\tsão\ttornados\tprivados\tpara\tocultá-los\te\tprotegê-los\tde\toutro\tcódigo."
      ],
      "metadata": {
        "id": "YHwIvuM8Q1-K"
      }
    },
    {
      "cell_type": "code",
      "source": [
        "class Conta:\n",
        "\n",
        "  def __init__(self, titular, saldo):\n",
        "    self._titular = titular\n",
        "    self._saldo = saldo\n",
        "  \n",
        "  def get_saldo(self):\n",
        "    return self._saldo\n",
        "\n",
        "  def set_saldo(self, saldo):\n",
        "    self._saldo = saldo\n",
        "\n",
        "  def get_titular(self):\n",
        "    return self._titular\n",
        "\n",
        "  def set_titular(self, titular):\n",
        "    self._titular = titular"
      ],
      "metadata": {
        "id": "ORxEvYV5EH-q"
      },
      "execution_count": null,
      "outputs": []
    },
    {
      "cell_type": "code",
      "source": [
        "class Conta:\n",
        "  \n",
        "  def\t__init__(self,\tsaldo):\n",
        "    self.saldo\t=\tsaldo\n",
        "\n",
        "  # Os '@' são conhecidos como properties\n",
        "\n",
        "  \"\"\"\n",
        "  Nesse caso em específico, é uma má prática utilizar properties, \n",
        "  pois queremos que todos utilizem os métodos saca() e deposita()\n",
        "  \"\"\"\n",
        "\n",
        "  @property\n",
        "  def saldo(self):\n",
        "    return self._saldo\n",
        "\t\t\t\t\n",
        "  @saldo.setter\n",
        "  def\tset_saldo(self,\tsaldo):\n",
        "    if(saldo\t<\t0):\n",
        "      print(\"saldo\tnão\tpode\tser\tnegativo\")\n",
        "    else:\n",
        "      self.saldo\t=\tsaldo"
      ],
      "metadata": {
        "id": "_vf1sPBSEID4"
      },
      "execution_count": 50,
      "outputs": []
    },
    {
      "cell_type": "code",
      "source": [
        "# TESTANDO\n",
        "\n",
        "conta1\t=\tConta(200.0)\n",
        "print(conta1.saldo)\n"
      ],
      "metadata": {
        "id": "0DFNPSL1z0xa",
        "colab": {
          "base_uri": "https://localhost:8080/"
        },
        "outputId": "bcaf1e5f-21a3-4cc8-8ba9-f57e72fe1377"
      },
      "execution_count": 51,
      "outputs": [
        {
          "output_type": "stream",
          "name": "stdout",
          "text": [
            "200.0\n"
          ]
        }
      ]
    },
    {
      "cell_type": "code",
      "source": [
        "conta2\t=\tConta(300.0)\n",
        "print(conta2.saldo)"
      ],
      "metadata": {
        "colab": {
          "base_uri": "https://localhost:8080/"
        },
        "id": "1mzOHJFiXut8",
        "outputId": "ec1ed1e9-eb7d-4df5-c2d6-fda8d632c279"
      },
      "execution_count": 52,
      "outputs": [
        {
          "output_type": "stream",
          "name": "stdout",
          "text": [
            "300.0\n"
          ]
        }
      ]
    },
    {
      "cell_type": "code",
      "source": [
        "conta3\t=\tConta(100.0)\n",
        "conta3.set_saldo(-100.0)"
      ],
      "metadata": {
        "colab": {
          "base_uri": "https://localhost:8080/"
        },
        "id": "iwpnRrlcZ8Hd",
        "outputId": "065c6c81-18cd-4e60-ff5a-90d01258bd73"
      },
      "execution_count": 53,
      "outputs": [
        {
          "output_type": "stream",
          "name": "stdout",
          "text": [
            "saldo\tnão\tpode\tser\tnegativo\n"
          ]
        }
      ]
    },
    {
      "cell_type": "code",
      "source": [
        "print(conta3.saldo)"
      ],
      "metadata": {
        "colab": {
          "base_uri": "https://localhost:8080/"
        },
        "id": "c93QwQmwZ_eq",
        "outputId": "588868b7-cf6f-4aed-864e-709fcdf7e11a"
      },
      "execution_count": 54,
      "outputs": [
        {
          "output_type": "stream",
          "name": "stdout",
          "text": [
            "100.0\n"
          ]
        }
      ]
    },
    {
      "cell_type": "code",
      "source": [
        "conta1\t=\tConta(100.0)\n",
        "conta1.saldo\t=\t-100.0"
      ],
      "metadata": {
        "id": "r1BeLyFPaChE"
      },
      "execution_count": 55,
      "outputs": []
    },
    {
      "cell_type": "markdown",
      "source": [
        "# Atributos de Classe "
      ],
      "metadata": {
        "id": "hC_kSL4tcWIB"
      }
    },
    {
      "cell_type": "code",
      "source": [],
      "metadata": {
        "id": "r152ZSApcWMK"
      },
      "execution_count": null,
      "outputs": []
    },
    {
      "cell_type": "code",
      "source": [],
      "metadata": {
        "id": "luBOmANtcWQE"
      },
      "execution_count": null,
      "outputs": []
    },
    {
      "cell_type": "code",
      "source": [],
      "metadata": {
        "id": "BWGLXtjEcWT_"
      },
      "execution_count": null,
      "outputs": []
    },
    {
      "cell_type": "code",
      "source": [],
      "metadata": {
        "id": "5yrqlXaQcWX1"
      },
      "execution_count": null,
      "outputs": []
    },
    {
      "cell_type": "code",
      "source": [],
      "metadata": {
        "id": "hK6uiMFOcWb-"
      },
      "execution_count": null,
      "outputs": []
    },
    {
      "cell_type": "code",
      "source": [],
      "metadata": {
        "id": "XEP2JZUwcWfC"
      },
      "execution_count": null,
      "outputs": []
    }
  ]
}