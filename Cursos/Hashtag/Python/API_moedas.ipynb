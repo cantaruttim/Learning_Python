{
 "cells": [
  {
   "cell_type": "code",
   "execution_count": 1,
   "metadata": {},
   "outputs": [],
   "source": [
    "import requests\n",
    "import json"
   ]
  },
  {
   "cell_type": "code",
   "execution_count": 2,
   "metadata": {},
   "outputs": [
    {
     "name": "stdout",
     "output_type": "stream",
     "text": [
      "{'USD': {'code': 'USD', 'codein': 'BRL', 'name': 'Dólar Americano/Real Brasileiro', 'high': '5.2385', 'low': '5.1652', 'varBid': '0.0338', 'pctChange': '0.65', 'bid': '5.2074', 'ask': '5.2084', 'timestamp': '1674250201', 'create_date': '2023-01-20 18:30:01'}, 'USDT': {'code': 'USD', 'codein': 'BRLT', 'name': 'Dólar Americano/Real Brasileiro Turismo', 'high': '5.255', 'low': '5.17', 'varBid': '0.03', 'pctChange': '0.58', 'bid': '5.07', 'ask': '5.38', 'timestamp': '1674243120', 'create_date': '2023-01-20 16:32:00'}, 'CAD': {'code': 'CAD', 'codein': 'BRL', 'name': 'Dólar Canadense/Real Brasileiro', 'high': '3.8978', 'low': '3.8332', 'varBid': '0.0491', 'pctChange': '1.28', 'bid': '3.8911', 'ask': '3.893', 'timestamp': '1674251996', 'create_date': '2023-01-20 18:59:56'}, 'GBP': {'code': 'GBP', 'codein': 'BRL', 'name': 'Libra Esterlina/Real Brasileiro', 'high': '6.4676', 'low': '6.381', 'varBid': '0.0457', 'pctChange': '0.71', 'bid': '6.4535', 'ask': '6.4584', 'timestamp': '1674251997', 'create_date': '2023-01-20 18:59:57'}, 'ARS': {'code': 'ARS', 'codein': 'BRL', 'name': 'Peso Argentino/Real Brasileiro', 'high': '0.0286', 'low': '0.0282', 'varBid': '0.0001', 'pctChange': '0.35', 'bid': '0.0284', 'ask': '0.0284', 'timestamp': '1674250201', 'create_date': '2023-01-20 18:30:01'}, 'BTC': {'code': 'BTC', 'codein': 'BRL', 'name': 'Bitcoin/Real Brasileiro', 'high': '121.644', 'low': '118', 'varBid': '-1277', 'pctChange': '-1.06', 'bid': '118.805', 'ask': '118.894', 'timestamp': '1674393518', 'create_date': '2023-01-22 10:18:38'}, 'LTC': {'code': 'LTC', 'codein': 'BRL', 'name': 'Litecoin/Real Brasileiro', 'high': '473', 'low': '455.47', 'varBid': '-0.14', 'pctChange': '-0.03', 'bid': '463.67', 'ask': '465', 'timestamp': '1674393494', 'create_date': '2023-01-22 10:18:14'}, 'EUR': {'code': 'EUR', 'codein': 'BRL', 'name': 'Euro/Real Brasileiro', 'high': '5.668', 'low': '5.5893', 'varBid': '0.0517', 'pctChange': '0.92', 'bid': '5.6526', 'ask': '5.6548', 'timestamp': '1674251997', 'create_date': '2023-01-20 18:59:57'}, 'JPY': {'code': 'JPY', 'codein': 'BRL', 'name': 'Iene Japonês/Real Brasileiro', 'high': '0.04031', 'low': '0.03974', 'varBid': '-0.0001', 'pctChange': '-0.25', 'bid': '0.04018', 'ask': '0.0402', 'timestamp': '1674251984', 'create_date': '2023-01-20 18:59:44'}, 'CHF': {'code': 'CHF', 'codein': 'BRL', 'name': 'Franco Suíço/Real Brasileiro', 'high': '5.6826', 'low': '5.6099', 'varBid': '0.0146', 'pctChange': '0.26', 'bid': '5.6578', 'ask': '5.6613', 'timestamp': '1674251993', 'create_date': '2023-01-20 18:59:53'}, 'AUD': {'code': 'AUD', 'codein': 'BRL', 'name': 'Dólar Australiano/Real Brasileiro', 'high': '3.6358', 'low': '3.5733', 'varBid': '0.0546', 'pctChange': '1.53', 'bid': '3.6285', 'ask': '3.6303', 'timestamp': '1674251989', 'create_date': '2023-01-20 18:59:49'}, 'CNY': {'code': 'CNY', 'codein': 'BRL', 'name': 'Yuan Chinês/Real Brasileiro', 'high': '0.7721', 'low': '0.7621', 'varBid': '0.0039', 'pctChange': '0.51', 'bid': '0.7676', 'ask': '0.7678', 'timestamp': '1674250744', 'create_date': '2023-01-20 18:39:04'}, 'ILS': {'code': 'ILS', 'codein': 'BRL', 'name': 'Novo Shekel Israelense/Real Brasileiro', 'high': '1.5385', 'low': '1.5143', 'varBid': '0.0163', 'pctChange': '1.07', 'bid': '1.5323', 'ask': '1.5326', 'timestamp': '1674251946', 'create_date': '2023-01-20 18:59:06'}, 'ETH': {'code': 'ETH', 'codein': 'BRL', 'name': 'Ethereum/Real Brasileiro', 'high': '8.69421', 'low': '8.38274', 'varBid': '-175.34', 'pctChange': '-2.03', 'bid': '8.476', 'ask': '8.479', 'timestamp': '1674393056', 'create_date': '2023-01-22 10:10:56'}, 'XRP': {'code': 'XRP', 'codein': 'BRL', 'name': 'XRP/Real Brasileiro', 'high': '2.16', 'low': '2.09', 'varBid': '-0.03', 'pctChange': '-1.56', 'bid': '2.11', 'ask': '2.12', 'timestamp': '1674393511', 'create_date': '2023-01-22 10:18:31'}, 'DOGE': {'code': 'DOGE', 'codein': 'BRL', 'name': 'Dogecoin/Real Brasileiro', 'high': '0.457965', 'low': '0.441147', 'varBid': '-0.005504', 'pctChange': '-1.21', 'bid': '0.449217', 'ask': '0.449217', 'timestamp': '1674393497', 'create_date': '2023-01-22 10:18:17'}}\n"
     ]
    }
   ],
   "source": [
    "# puxando uma informações com o .get()\n",
    "cotacoes = requests.get('https://economia.awesomeapi.com.br/json/all')\n",
    "\n",
    "# transformando o request (que volta como um parâmetro json) em um dicionário do python\n",
    "cotacoes_dict = cotacoes.json()\n",
    "print(cotacoes_dict)"
   ]
  },
  {
   "cell_type": "code",
   "execution_count": 3,
   "metadata": {},
   "outputs": [
    {
     "name": "stdout",
     "output_type": "stream",
     "text": [
      "Dólar: 5.2074\n",
      "Euro: 5.6526\n",
      "Bitcoin: 118.805\n"
     ]
    }
   ],
   "source": [
    "print(\"Dólar: {}\".format(cotacoes_dict['USD']['bid']))\n",
    "print(\"Euro: {}\".format(cotacoes_dict['EUR']['bid']))\n",
    "print(\"Bitcoin: {}\".format(cotacoes_dict['BTC']['bid']))"
   ]
  },
  {
   "cell_type": "code",
   "execution_count": 4,
   "metadata": {},
   "outputs": [
    {
     "name": "stdout",
     "output_type": "stream",
     "text": [
      "{'code': 'USD', 'codein': 'BRL', 'name': 'Dólar Americano/Real Brasileiro', 'high': '5.1868', 'low': '5.1868', 'varBid': '0.0005', 'pctChange': '0.01', 'bid': '5.1863', 'ask': '5.1873', 'timestamp': '1674126672', 'create_date': '2023-01-19 08:11:12'}\n"
     ]
    }
   ],
   "source": [
    "# pegando a cotação do Dólar dos últimos 30 dias \n",
    "cotacoes_dias = requests.get('https://economia.awesomeapi.com.br/json/USD-BRL/30')\n",
    "\n",
    "cotacoes_dolar_30d = cotacoes_dias.json()\n",
    "print(cotacoes_dolar_30d[0])"
   ]
  },
  {
   "cell_type": "code",
   "execution_count": 5,
   "metadata": {},
   "outputs": [
    {
     "name": "stdout",
     "output_type": "stream",
     "text": [
      "[5.1863, 5.1863, 5.1863, 5.1863, 5.1863, 5.1863, 5.1863, 5.1863, 5.1863, 5.1863, 5.1863, 5.1863, 5.1863, 5.1863, 5.1863, 5.1863, 5.1863, 5.1863, 5.1863, 5.1863, 5.1863, 5.1863, 5.1863, 5.1863, 5.1863, 5.1863, 5.1863, 5.1863, 5.1863, 5.1863]\n"
     ]
    }
   ],
   "source": [
    "# vamos pegar a informação do bid de cada indice do dicionário\n",
    "# transformando o valor da cotação em float\n",
    "\n",
    "lista_cotacoes_USD = [float(item['bid']) for item in cotacoes_dolar_30d]\n",
    "print(lista_cotacoes_USD)"
   ]
  },
  {
   "cell_type": "code",
   "execution_count": 8,
   "metadata": {},
   "outputs": [],
   "source": [
    "lista_cotacoes_USD = [float(item['bid']) for item in cotacoes_dolar_30d]"
   ]
  },
  {
   "cell_type": "code",
   "execution_count": 9,
   "metadata": {},
   "outputs": [],
   "source": [
    "# exibindo no gráfico\n",
    "\n",
    "import matplotlib.pyplot as plt\n",
    "\n",
    "lista_cotacoes_USD.reverse()"
   ]
  },
  {
   "cell_type": "code",
   "execution_count": 10,
   "metadata": {},
   "outputs": [
    {
     "data": {
      "image/png": "[encoded data removed]",
      "text/plain": [
       "<Figure size 1080x720 with 1 Axes>"
      ]
     },
     "metadata": {},
     "output_type": "display_data"
    }
   ],
   "source": [
    "plt.figure(figsize=(15,10))\n",
    "\n",
    "plt.plot(lista_cotacoes_USD)\n",
    "#plt.plot(lista_cotacoes_EUR, label = 'Euro')\n",
    "#plt.plot(lista_cotacoes_BTC, label = 'Bitcoin')\n",
    "\n",
    "plt.show()"
   ]
  },
  {
   "attachments": {},
   "cell_type": "markdown",
   "metadata": {},
   "source": [
    "### Informações Econômicas"
   ]
  },
  {
   "cell_type": "code",
   "execution_count": 23,
   "metadata": {},
   "outputs": [],
   "source": [
    "from chave import chave_api\n",
    "import requests\n",
    "import pandas as pd\n",
    "from io import StringIO"
   ]
  },
  {
   "cell_type": "code",
   "execution_count": 24,
   "metadata": {},
   "outputs": [
    {
     "data": {
      "text/html": [
       "<div>\n",
       "<style scoped>\n",
       "    .dataframe tbody tr th:only-of-type {\n",
       "        vertical-align: middle;\n",
       "    }\n",
       "\n",
       "    .dataframe tbody tr th {\n",
       "        vertical-align: top;\n",
       "    }\n",
       "\n",
       "    .dataframe thead th {\n",
       "        text-align: right;\n",
       "    }\n",
       "</style>\n",
       "<table border=\"1\" class=\"dataframe\">\n",
       "  <thead>\n",
       "    <tr style=\"text-align: right;\">\n",
       "      <th></th>\n",
       "      <th>timestamp</th>\n",
       "      <th>open</th>\n",
       "      <th>high</th>\n",
       "      <th>low</th>\n",
       "      <th>close</th>\n",
       "      <th>adjusted close</th>\n",
       "      <th>volume</th>\n",
       "      <th>dividend amount</th>\n",
       "    </tr>\n",
       "  </thead>\n",
       "  <tbody>\n",
       "    <tr>\n",
       "      <th>0</th>\n",
       "      <td>2023-01-20</td>\n",
       "      <td>8.62</td>\n",
       "      <td>8.76</td>\n",
       "      <td>8.40</td>\n",
       "      <td>8.58</td>\n",
       "      <td>8.5800</td>\n",
       "      <td>81954000</td>\n",
       "      <td>0.0</td>\n",
       "    </tr>\n",
       "    <tr>\n",
       "      <th>1</th>\n",
       "      <td>2023-01-13</td>\n",
       "      <td>8.45</td>\n",
       "      <td>8.81</td>\n",
       "      <td>8.41</td>\n",
       "      <td>8.63</td>\n",
       "      <td>8.6300</td>\n",
       "      <td>103352200</td>\n",
       "      <td>0.0</td>\n",
       "    </tr>\n",
       "    <tr>\n",
       "      <th>2</th>\n",
       "      <td>2023-01-06</td>\n",
       "      <td>8.44</td>\n",
       "      <td>8.51</td>\n",
       "      <td>8.12</td>\n",
       "      <td>8.48</td>\n",
       "      <td>8.4800</td>\n",
       "      <td>97969900</td>\n",
       "      <td>0.0</td>\n",
       "    </tr>\n",
       "    <tr>\n",
       "      <th>3</th>\n",
       "      <td>2022-12-29</td>\n",
       "      <td>8.57</td>\n",
       "      <td>8.65</td>\n",
       "      <td>8.31</td>\n",
       "      <td>8.51</td>\n",
       "      <td>8.5100</td>\n",
       "      <td>45594500</td>\n",
       "      <td>0.0</td>\n",
       "    </tr>\n",
       "    <tr>\n",
       "      <th>4</th>\n",
       "      <td>2022-12-23</td>\n",
       "      <td>8.06</td>\n",
       "      <td>8.63</td>\n",
       "      <td>8.05</td>\n",
       "      <td>8.58</td>\n",
       "      <td>8.5800</td>\n",
       "      <td>92278800</td>\n",
       "      <td>0.0</td>\n",
       "    </tr>\n",
       "    <tr>\n",
       "      <th>...</th>\n",
       "      <td>...</td>\n",
       "      <td>...</td>\n",
       "      <td>...</td>\n",
       "      <td>...</td>\n",
       "      <td>...</td>\n",
       "      <td>...</td>\n",
       "      <td>...</td>\n",
       "      <td>...</td>\n",
       "    </tr>\n",
       "    <tr>\n",
       "      <th>943</th>\n",
       "      <td>2005-02-11</td>\n",
       "      <td>5.07</td>\n",
       "      <td>5.10</td>\n",
       "      <td>4.90</td>\n",
       "      <td>5.02</td>\n",
       "      <td>0.6980</td>\n",
       "      <td>5258210</td>\n",
       "      <td>0.0</td>\n",
       "    </tr>\n",
       "    <tr>\n",
       "      <th>944</th>\n",
       "      <td>2005-02-04</td>\n",
       "      <td>4.44</td>\n",
       "      <td>5.07</td>\n",
       "      <td>4.44</td>\n",
       "      <td>5.07</td>\n",
       "      <td>0.7050</td>\n",
       "      <td>15235607</td>\n",
       "      <td>0.0</td>\n",
       "    </tr>\n",
       "    <tr>\n",
       "      <th>945</th>\n",
       "      <td>2005-01-28</td>\n",
       "      <td>4.31</td>\n",
       "      <td>4.52</td>\n",
       "      <td>4.20</td>\n",
       "      <td>4.40</td>\n",
       "      <td>0.6118</td>\n",
       "      <td>12935932</td>\n",
       "      <td>0.0</td>\n",
       "    </tr>\n",
       "    <tr>\n",
       "      <th>946</th>\n",
       "      <td>2005-01-21</td>\n",
       "      <td>4.50</td>\n",
       "      <td>4.56</td>\n",
       "      <td>4.35</td>\n",
       "      <td>4.42</td>\n",
       "      <td>0.6146</td>\n",
       "      <td>12732588</td>\n",
       "      <td>0.0</td>\n",
       "    </tr>\n",
       "    <tr>\n",
       "      <th>947</th>\n",
       "      <td>2005-01-14</td>\n",
       "      <td>4.52</td>\n",
       "      <td>4.57</td>\n",
       "      <td>4.43</td>\n",
       "      <td>4.48</td>\n",
       "      <td>0.6229</td>\n",
       "      <td>20278384</td>\n",
       "      <td>0.0</td>\n",
       "    </tr>\n",
       "  </tbody>\n",
       "</table>\n",
       "<p>948 rows × 8 columns</p>\n",
       "</div>"
      ],
      "text/plain": [
       "      timestamp  open  high   low  close  adjusted close     volume  \\\n",
       "0    2023-01-20  8.62  8.76  8.40   8.58          8.5800   81954000   \n",
       "1    2023-01-13  8.45  8.81  8.41   8.63          8.6300  103352200   \n",
       "2    2023-01-06  8.44  8.51  8.12   8.48          8.4800   97969900   \n",
       "3    2022-12-29  8.57  8.65  8.31   8.51          8.5100   45594500   \n",
       "4    2022-12-23  8.06  8.63  8.05   8.58          8.5800   92278800   \n",
       "..          ...   ...   ...   ...    ...             ...        ...   \n",
       "943  2005-02-11  5.07  5.10  4.90   5.02          0.6980    5258210   \n",
       "944  2005-02-04  4.44  5.07  4.44   5.07          0.7050   15235607   \n",
       "945  2005-01-28  4.31  4.52  4.20   4.40          0.6118   12935932   \n",
       "946  2005-01-21  4.50  4.56  4.35   4.42          0.6146   12732588   \n",
       "947  2005-01-14  4.52  4.57  4.43   4.48          0.6229   20278384   \n",
       "\n",
       "     dividend amount  \n",
       "0                0.0  \n",
       "1                0.0  \n",
       "2                0.0  \n",
       "3                0.0  \n",
       "4                0.0  \n",
       "..               ...  \n",
       "943              0.0  \n",
       "944              0.0  \n",
       "945              0.0  \n",
       "946              0.0  \n",
       "947              0.0  \n",
       "\n",
       "[948 rows x 8 columns]"
      ]
     },
     "metadata": {},
     "output_type": "display_data"
    }
   ],
   "source": [
    "# replace the \"demo\" apikey below with your own key from https://www.alphavantage.co/support/#api-key\n",
    "\n",
    "url = f'https://www.alphavantage.co/query?function=TIME_SERIES_WEEKLY_ADJUSTED&symbol=ITSA4.SA&apikey={chave_api}&datatype=csv'\n",
    "r = requests.get(url)\n",
    "#data = r.json()\n",
    "#print(data)\n",
    "\n",
    "\n",
    "#print(r.text) # devolve a API em forma de texto separado por vírgula\n",
    "table = pd.read_csv(StringIO(r.text))\n",
    "display(table)"
   ]
  },
  {
   "cell_type": "code",
   "execution_count": 25,
   "metadata": {},
   "outputs": [],
   "source": [
    "acoes = ['ITUB4', 'ABEV3', 'BBAS3']\n",
    "\n",
    "compilada = pd.DataFrame()\n",
    "\n",
    "for acao in acoes:\n",
    "    url = f'https://www.alphavantage.co/query?function=GLOBAL_QUOTE&symbol={acao}&apikey={chave_api}'\n",
    "    r = requests.get(url)\n",
    "    table = pd.read_csv(StringIO(r.text))\n",
    "    lista_tabelas = [ compilada, tabela ]\n",
    "    compilada = pd.concat(lista_tabelas)\n",
    "\n",
    "print(data)\n"
   ]
  },
  {
   "cell_type": "code",
   "execution_count": 29,
   "metadata": {},
   "outputs": [
    {
     "name": "stdout",
     "output_type": "stream",
     "text": [
      "{'Global Quote': {}}\n"
     ]
    }
   ],
   "source": [
    "url = f'https://www.alphavantage.co/query?function=GLOBAL_QUOTE&symbol={acao}&apikey={chave_api}'\n",
    "r = requests.get(url)\n",
    "data = r.json()\n",
    "\n",
    "print(data)"
   ]
  },
  {
   "cell_type": "code",
   "execution_count": null,
   "metadata": {},
   "outputs": [],
   "source": []
  }
 ],
 "metadata": {
  "kernelspec": {
   "display_name": "base",
   "language": "python",
   "name": "python3"
  },
  "language_info": {
   "codemirror_mode": {
    "name": "ipython",
    "version": 3
   },
   "file_extension": ".py",
   "mimetype": "text/x-python",
   "name": "python",
   "nbconvert_exporter": "python",
   "pygments_lexer": "ipython3",
   "version": "3.9.12"
  },
  "orig_nbformat": 4,
  "vscode": {
   "interpreter": {
    "hash": "c8d3184e42d5090dff9a42825f73ee2454fef8c1131708a89f889453d9fc9d30"
   }
  }
 },
 "nbformat": 4,
 "nbformat_minor": 2
}
