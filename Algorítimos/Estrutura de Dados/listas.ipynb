{
 "cells": [
  {
   "attachments": {},
   "cell_type": "markdown",
   "metadata": {},
   "source": [
    "### Um outro material para poder estudar algoritmos :\n",
    "\n",
    "https://algoritmosempython.com.br/cursos/algoritmos-python/intro/"
   ]
  },
  {
   "cell_type": "code",
   "execution_count": 98,
   "metadata": {},
   "outputs": [
    {
     "data": {
      "text/plain": [
       "10"
      ]
     },
     "execution_count": 98,
     "metadata": {},
     "output_type": "execute_result"
    }
   ],
   "source": [
    "L = [1,2,3,4,5, 6,7,8,9,10]\n",
    "len(L)"
   ]
  },
  {
   "cell_type": "code",
   "execution_count": 99,
   "metadata": {},
   "outputs": [
    {
     "name": "stdout",
     "output_type": "stream",
     "text": [
      "[1, 2, 3, 4, 5, 6, 7, 8, 9, 10]\n",
      "[10]\n",
      "[9, 10]\n",
      "[8, 9, 10]\n",
      "[7, 8, 9, 10]\n",
      "[6, 7, 8, 9, 10]\n",
      "[5, 6, 7, 8, 9, 10]\n",
      "[4, 5, 6, 7, 8, 9, 10]\n",
      "[3, 4, 5, 6, 7, 8, 9, 10]\n",
      "[2, 3, 4, 5, 6, 7, 8, 9, 10]\n"
     ]
    }
   ],
   "source": [
    "for i in range(len(L)):\n",
    "    # percorre a lista toda de trás para frente\n",
    "    print(L[-i:])"
   ]
  },
  {
   "attachments": {},
   "cell_type": "markdown",
   "metadata": {},
   "source": [
    "### busca linear em uma lista "
   ]
  },
  {
   "cell_type": "code",
   "execution_count": 100,
   "metadata": {},
   "outputs": [],
   "source": [
    "# Qual a posição que encontra-se um determinado elemento da lista?"
   ]
  },
  {
   "cell_type": "code",
   "execution_count": 101,
   "metadata": {},
   "outputs": [
    {
     "name": "stdout",
     "output_type": "stream",
     "text": [
      "O índice do elemento 5 é 1\n"
     ]
    }
   ],
   "source": [
    "def busca(lista, elemento):\n",
    "    \"\"\"\n",
    "    Retorna o índice do elemento se ele estiver na lista,\n",
    "    ou None caso contrário\n",
    "    \"\"\"\n",
    "    for i in range(len(lista)):\n",
    "        if lista[i] == elemento:\n",
    "            return i\n",
    "    return None\n",
    "\n",
    "\n",
    "\n",
    "lista = [8, \"5\", 32, 0, \"python\", 11]\n",
    "elemento = \"5\"\n",
    "\n",
    "\n",
    "\n",
    "indice = busca(lista, elemento)\n",
    "\n",
    "if indice is not None:\n",
    "    print(\"O índice do elemento {} é {}\".format(elemento, indice))\n",
    "else:\n",
    "    print(\"O elemento {} não encontra-se na lista\".format(elemento))"
   ]
  },
  {
   "cell_type": "code",
   "execution_count": 102,
   "metadata": {},
   "outputs": [
    {
     "name": "stdout",
     "output_type": "stream",
     "text": [
      "Help on function busca in module __main__:\n",
      "\n",
      "busca(lista, elemento)\n",
      "    Retorna o índice do elemento se ele estiver na lista,\n",
      "    ou None caso contrário\n",
      "\n"
     ]
    }
   ],
   "source": [
    "help(busca)"
   ]
  },
  {
   "cell_type": "code",
   "execution_count": 103,
   "metadata": {},
   "outputs": [
    {
     "name": "stdout",
     "output_type": "stream",
     "text": [
      "Pesquisa com sucesso: 2\n",
      "Pesquisa com sucesso: 0\n",
      "Pesquisa com sucesso: 7\n",
      "Pesquisa com sucesso: -1\n"
     ]
    }
   ],
   "source": [
    "def pesquisa_binaria_recursiva(A, esquerda, direita, item):\n",
    "    \"\"\"Implementa pesquisa binária recursivamente.\"\"\"\n",
    "    # 1. Caso base: o elemento não está presente. \n",
    "    if direita < esquerda:\n",
    "        return -1\n",
    "    meio = (esquerda + direita) // 2\n",
    "    # 2. Nosso palpite estava certo: o elemento está no meio do arranjo. \n",
    "    if A[meio] == item:\n",
    "        return meio\n",
    "    # 3. O palpite estava errado: atualizamos os limites e continuamos a busca. \n",
    "    elif A[meio] > item:\n",
    "        return pesquisa_binaria_recursiva(A, esquerda, meio - 1, item)\n",
    "    else: # A[meio] < item\n",
    "        return pesquisa_binaria_recursiva(A, meio + 1, direita, item)\n",
    "\n",
    "A = [0, 10, 20, 30, 40, 50, 60, 70]\n",
    "print(\"Pesquisa com sucesso:\", pesquisa_binaria_recursiva(A, 0, len(A) - 1, 20))\n",
    "print(\"Pesquisa com sucesso:\", pesquisa_binaria_recursiva(A, 0, len(A) - 1, 0))\n",
    "print(\"Pesquisa com sucesso:\", pesquisa_binaria_recursiva(A, 0, len(A) - 1, 70))\n",
    "print(\"Pesquisa com sucesso:\", pesquisa_binaria_recursiva(A, 0, len(A) - 1, 100))"
   ]
  },
  {
   "attachments": {},
   "cell_type": "markdown",
   "metadata": {},
   "source": [
    "Analisemos a implementação acima para tentarmos entender o que está acontecendo. O algoritmo de pesquisa binária é muito importante, então compensa analisarmos sua implementação em mais detalhes. Perceba que inserimos comentários numerados no código para que possamos nos referir a eles agora em nossa análise da implementação. Vejamos:\n",
    "\n",
    "- Caso base: O primeiro comentário no código se refere ao caso base do algoritmo. Se você ainda não sabe o que é isso, leia este artigo (https://pt.wikipedia.org/wiki/Recursividade_(ci%C3%AAncia_da_computa%C3%A7%C3%A3o)). No caso base, verificamos se o elemento procurado não está na lista. Isso ocorrerá quando realizarmos a busca em todas as possíveis posições do arranjo em que o elemento poderia estar e não o encontrarmos. Quando isso acontecer, os limites esquerdo e direito se cruzarão. A verificação no caso base simplesmente checa isso e retorna o valor -1 se os limites tiverem se cruzado.\n",
    "\n",
    "<br /> \n",
    "\n",
    "- Palpite: No algoritmo de pesquisa binária, precisamos fazer um palpite de onde acreditamos que o elemento procurado possa estar. Um bom palpite é supormos que o elemento está no meio do arranjo. Com isso, eliminamos metade do arranjo a cada passo da nossa busca.\n",
    "\n",
    "<br /> \n",
    "\n",
    "- Elemento procurado não é o elemento no meio do arranjo: Se o elemento não está no meio do arranjo, temos duas opções: ou ele é menor do que o elemento que está no meio, ou ele é maior. Caso ele seja menor do que o elemento que está no meio do arranjo, podemos restringir nossa busca ao intervalo _[0,meio−1]_\n",
    ". Caso ele seja maior do que o elemento que está no meio do arranjo, podemos restringir nossa busca ao intervalo _[meio+1,n]_\n",
    ". Note que isso só é possível porque sabemos que o arranjo está ordenado."
   ]
  },
  {
   "cell_type": "code",
   "execution_count": 104,
   "metadata": {},
   "outputs": [
    {
     "name": "stdout",
     "output_type": "stream",
     "text": [
      "Pesquisa com sucesso: 2\n",
      "Pesquisa com sucesso: 0\n",
      "Pesquisa com sucesso: 7\n",
      "Pesquisa com sucesso: -1\n"
     ]
    }
   ],
   "source": [
    "def pesquisa_binaria(A, item):\n",
    "    \"\"\"Implementa pesquisa binária iterativamente.\"\"\"\n",
    "    esquerda, direita = 0, len(A) - 1\n",
    "    while esquerda <= direita:\n",
    "        meio = (esquerda + direita) // 2\n",
    "        if A[meio] == item:\n",
    "            return meio\n",
    "        elif A[meio] > item:\n",
    "            direita = meio - 1\n",
    "        else: # A[meio] < item\n",
    "            esquerda = meio + 1\n",
    "    return -1\n",
    "\n",
    "A = [0, 10, 20, 30, 40, 50, 60, 70]\n",
    "print(\"Pesquisa com sucesso:\", pesquisa_binaria(A, 20))\n",
    "print(\"Pesquisa com sucesso:\", pesquisa_binaria(A, 0))\n",
    "print(\"Pesquisa com sucesso:\", pesquisa_binaria(A, 70))\n",
    "print(\"Pesquisa com sucesso:\", pesquisa_binaria(A, 100))"
   ]
  },
  {
   "attachments": {},
   "cell_type": "markdown",
   "metadata": {},
   "source": [
    "Analisemos a implementação acima para tentarmos entender as diferenças em relação à versão recursiva:\n",
    "\n",
    "- Verificação dos extremos do arranjo: assim como na versão recursiva, fazemos uma verificação para saber se os limites esquerdo e direito se cruzaram, o que indica que o elemento procurado não está no arranjo de entrada. Entretanto, na versão iterativa do código essa verificação é feita no laço while que é usado para percorrer o arranjo.\n",
    "\n",
    "- Ajuste do espaço de busca: dentro do laço while, fazemos o palpite de onde o elemento procurado pode estar. Como anteriormente, supomos que ele estará no meio do arranjo. A seguir, caso o palpite não esteja correto, ajustamos os limites esquerdo e direito da parte do arranjo que estamos analisando. Na versão recursiva do algoritmo, a cada chamada recursiva reduzíamos o espaço de busca pela metade. Na versão iterativa fazemos essa redução no espaço de busca a cada iteração do laço while. Assim, na versão recursiva tinhamos no máximo O(logn)\n",
    " chamadas de função, ao passo que na versão iterativa temos no máximo O(logn)\n",
    " iterações do laço."
   ]
  },
  {
   "cell_type": "code",
   "execution_count": 105,
   "metadata": {},
   "outputs": [
    {
     "name": "stdout",
     "output_type": "stream",
     "text": [
      "Pesquisa com sucesso: 2\n",
      "Pesquisa com sucesso: 0\n",
      "Pesquisa com sucesso: 7\n",
      "Pesquisa com falha: -1\n"
     ]
    }
   ],
   "source": [
    "import bisect\n",
    "\n",
    "def pesquisa_binaria_bisect(A, item):\n",
    "    \"\"\"Implementa pesquisa binária usando bisect.\"\"\"\n",
    "    # Encontra o ponto onde o item deveria ser (ou está) inserido.\n",
    "    i = bisect.bisect_left(A, item)\n",
    "    # Testa se o item está na lista.\n",
    "    return i if i < len(A) and A[i] == item else -1\n",
    "\n",
    "A = [0, 10, 20, 30, 40, 50, 60, 70]\n",
    "print(\"Pesquisa com sucesso:\", pesquisa_binaria_bisect(A, 20))\n",
    "print(\"Pesquisa com sucesso:\", pesquisa_binaria_bisect(A, 0))\n",
    "print(\"Pesquisa com sucesso:\", pesquisa_binaria_bisect(A, 70))\n",
    "print(\"Pesquisa com falha:\", pesquisa_binaria_bisect(A, 100))"
   ]
  },
  {
   "attachments": {},
   "cell_type": "markdown",
   "metadata": {},
   "source": [
    "### Inserção e Remoção de uma lista"
   ]
  },
  {
   "attachments": {},
   "cell_type": "markdown",
   "metadata": {},
   "source": [
    "Para inserir um elemento no final da lista, a complexidade algorítima é da _**O(1)**_,\n",
    "pois depende de apenas um elemento (o que será adicionado);\n",
    "\n",
    "Par adicionarmos um elemento em qualquer posicionamento diferente do final da lista. Por exemplo, quero adicionar o elemento 1 na posição 2, de uma lista de ln() = 5, tem complexidade algoritímica de  tem um valor *variável* e depende do tamanho da lista _**O(N)**_"
   ]
  },
  {
   "attachments": {},
   "cell_type": "markdown",
   "metadata": {},
   "source": [
    "### Nó e Alocação Encadeada"
   ]
  },
  {
   "cell_type": "code",
   "execution_count": 106,
   "metadata": {},
   "outputs": [
    {
     "name": "stdout",
     "output_type": "stream",
     "text": [
      "<__main__.Node object at 0x0000022407A9AF20> <__main__.Node object at 0x0000022407A9BD60>\n",
      "None\n",
      "5\n",
      "10\n"
     ]
    }
   ],
   "source": [
    "class Node:\n",
    "\n",
    "    def __init__(self, data):\n",
    "        self.data = data\n",
    "        self.next = None\n",
    "\n",
    "    n1 = Node(5)\n",
    "    n2 = Node(10)\n",
    "    \n",
    "    print(n1, n2)\n",
    "    print(n1.next)\n",
    "    print(n1.data)\n",
    "    print(n2.data)"
   ]
  },
  {
   "cell_type": "code",
   "execution_count": 107,
   "metadata": {},
   "outputs": [],
   "source": [
    "# linkedlist\n",
    "\n",
    "# sequencial = []\n",
    "# sequencial.append(7)\n",
    "\n",
    "class LinkedList:\n",
    "\n",
    "    def __init__(self):\n",
    "        self.head = None\n",
    "        self._size = 0\n",
    "\n",
    "    \n",
    "    def append(self, element):\n",
    "        if self.head:\n",
    "            # percorrendo a lista até o final\n",
    "            pointer = self.head\n",
    "            # associando o último elemento com o novo elemento adicionado\n",
    "            while(pointer.next):\n",
    "                pointer = pointer.next\n",
    "            pointer.next = Node(element)\n",
    "\n",
    "        else:\n",
    "            # inserindo o primeiro dado na lista\n",
    "            self.head = Node(element)\n",
    "        self._size += 1\n",
    "\n",
    "\n",
    "    def __len__(self):\n",
    "        \"\"\"Retorna o tamanho da lista\"\"\"\n",
    "        return self._size\n",
    "\n",
    "    def _getnode(self, index):\n",
    "        pointer = self.head\n",
    "\n",
    "        for i in range(index):\n",
    "            if pointer:\n",
    "                pointer = pointer.next\n",
    "            else:\n",
    "                raise IndexError(\"list index out of range\")\n",
    "\n",
    "        if pointer:\n",
    "            return pointer.data\n",
    "        else:\n",
    "            raise IndexError(\"list index out of range\")\n",
    "        return pointer\n",
    "\n",
    "    def set(self, indez, element):\n",
    "        pass\n",
    "\n",
    "\n",
    "    def __getitem__(self, index): # O(N)\n",
    "        pointer = self._getnode(index)\n",
    "\n",
    "        for i in range(index):\n",
    "            if pointer:\n",
    "                pointer = pointer.next\n",
    "            else:\n",
    "                raise IndexError(\"list index out of range\")\n",
    "\n",
    "        if pointer:\n",
    "            return pointer.data\n",
    "        else:\n",
    "            raise IndexError(\"list index out of range\")\n",
    "\n",
    "\n",
    "    def __setitem__(self, index, element): # O(N)\n",
    "        # lista.set[5] =  9\n",
    "        pointer = self._getnode(index)\n",
    "\n",
    "        if pointer:\n",
    "            pointer.data = element\n",
    "        else:\n",
    "            raise IndexError(\"list index out of range\")\n",
    "\n",
    "\n",
    "    def index(self, element): # O(N)\n",
    "        \"\"\"Retorna o índice do elemento na lista\"\"\"\n",
    "        pointer = pointer = self.head\n",
    "        i = 0\n",
    "        while(pointer):\n",
    "            if pointer.data == element:\n",
    "                return i\n",
    "            pointer = pointer.next\n",
    "            i += 1\n",
    "        raise ValueError(\"{} is not in list\".format(element))\n",
    "\n",
    "\n",
    "    def insert(self, index, element):\n",
    "        node = Node(element)\n",
    "\n",
    "        # inserindo como o primeiro item da lista\n",
    "        if index == 0:\n",
    "            node.next = self.head\n",
    "            self.head = node\n",
    "        else:\n",
    "            pointer = self._getnode(index - 1)\n",
    "            node.next = pointer.next\n",
    "            pointer.next = node\n",
    "        self._size += 1\n",
    "\n",
    "\n",
    "\n"
   ]
  },
  {
   "cell_type": "code",
   "execution_count": 108,
   "metadata": {},
   "outputs": [],
   "source": [
    "lista = LinkedList()"
   ]
  },
  {
   "cell_type": "code",
   "execution_count": 109,
   "metadata": {},
   "outputs": [],
   "source": [
    "# inserindo dois elementos na lista\n",
    "lista.append(7)\n",
    "lista.append(80)\n",
    "lista.append(56)"
   ]
  },
  {
   "cell_type": "code",
   "execution_count": 110,
   "metadata": {},
   "outputs": [
    {
     "data": {
      "text/plain": [
       "3"
      ]
     },
     "execution_count": 110,
     "metadata": {},
     "output_type": "execute_result"
    }
   ],
   "source": [
    "# retornando o tamanho da lista\n",
    "len(lista)"
   ]
  },
  {
   "cell_type": "code",
   "execution_count": 111,
   "metadata": {},
   "outputs": [
    {
     "ename": "AttributeError",
     "evalue": "'int' object has no attribute 'data'",
     "output_type": "error",
     "traceback": [
      "\u001b[1;31m---------------------------------------------------------------------------\u001b[0m",
      "\u001b[1;31mAttributeError\u001b[0m                            Traceback (most recent call last)",
      "\u001b[1;32mc:\\Users\\Matheus\\OneDrive\\Área de Trabalho\\FATEC - BD Negócios\\Projetos\\Learning_Python_Portfolio\\Algorítimos\\Estrutura de Dados\\listas.ipynb Cell 21\u001b[0m in \u001b[0;36m<cell line: 2>\u001b[1;34m()\u001b[0m\n\u001b[0;32m      <a href='vscode-notebook-cell:/c%3A/Users/Matheus/OneDrive/%C3%81rea%20de%20Trabalho/FATEC%20-%20BD%20Neg%C3%B3cios/Projetos/Learning_Python_Portfolio/Algor%C3%ADtimos/Estrutura%20de%20Dados/listas.ipynb#X55sZmlsZQ%3D%3D?line=0'>1</a>\u001b[0m \u001b[39m# conseguimos agora acessar os valores da lista encadeada\u001b[39;00m\n\u001b[1;32m----> <a href='vscode-notebook-cell:/c%3A/Users/Matheus/OneDrive/%C3%81rea%20de%20Trabalho/FATEC%20-%20BD%20Neg%C3%B3cios/Projetos/Learning_Python_Portfolio/Algor%C3%ADtimos/Estrutura%20de%20Dados/listas.ipynb#X55sZmlsZQ%3D%3D?line=1'>2</a>\u001b[0m lista[\u001b[39m0\u001b[39;49m], lista[\u001b[39m1\u001b[39m], lista[\u001b[39m2\u001b[39m], lista[\u001b[39m3\u001b[39m], lista[\u001b[39m4\u001b[39m]\n",
      "\u001b[1;32mc:\\Users\\Matheus\\OneDrive\\Área de Trabalho\\FATEC - BD Negócios\\Projetos\\Learning_Python_Portfolio\\Algorítimos\\Estrutura de Dados\\listas.ipynb Cell 21\u001b[0m in \u001b[0;36mLinkedList.__getitem__\u001b[1;34m(self, index)\u001b[0m\n\u001b[0;32m     <a href='vscode-notebook-cell:/c%3A/Users/Matheus/OneDrive/%C3%81rea%20de%20Trabalho/FATEC%20-%20BD%20Neg%C3%B3cios/Projetos/Learning_Python_Portfolio/Algor%C3%ADtimos/Estrutura%20de%20Dados/listas.ipynb#X55sZmlsZQ%3D%3D?line=57'>58</a>\u001b[0m         \u001b[39mraise\u001b[39;00m \u001b[39mIndexError\u001b[39;00m(\u001b[39m\"\u001b[39m\u001b[39mlist index out of range\u001b[39m\u001b[39m\"\u001b[39m)\n\u001b[0;32m     <a href='vscode-notebook-cell:/c%3A/Users/Matheus/OneDrive/%C3%81rea%20de%20Trabalho/FATEC%20-%20BD%20Neg%C3%B3cios/Projetos/Learning_Python_Portfolio/Algor%C3%ADtimos/Estrutura%20de%20Dados/listas.ipynb#X55sZmlsZQ%3D%3D?line=59'>60</a>\u001b[0m \u001b[39mif\u001b[39;00m pointer:\n\u001b[1;32m---> <a href='vscode-notebook-cell:/c%3A/Users/Matheus/OneDrive/%C3%81rea%20de%20Trabalho/FATEC%20-%20BD%20Neg%C3%B3cios/Projetos/Learning_Python_Portfolio/Algor%C3%ADtimos/Estrutura%20de%20Dados/listas.ipynb#X55sZmlsZQ%3D%3D?line=60'>61</a>\u001b[0m     \u001b[39mreturn\u001b[39;00m pointer\u001b[39m.\u001b[39;49mdata\n\u001b[0;32m     <a href='vscode-notebook-cell:/c%3A/Users/Matheus/OneDrive/%C3%81rea%20de%20Trabalho/FATEC%20-%20BD%20Neg%C3%B3cios/Projetos/Learning_Python_Portfolio/Algor%C3%ADtimos/Estrutura%20de%20Dados/listas.ipynb#X55sZmlsZQ%3D%3D?line=61'>62</a>\u001b[0m \u001b[39melse\u001b[39;00m:\n\u001b[0;32m     <a href='vscode-notebook-cell:/c%3A/Users/Matheus/OneDrive/%C3%81rea%20de%20Trabalho/FATEC%20-%20BD%20Neg%C3%B3cios/Projetos/Learning_Python_Portfolio/Algor%C3%ADtimos/Estrutura%20de%20Dados/listas.ipynb#X55sZmlsZQ%3D%3D?line=62'>63</a>\u001b[0m     \u001b[39mraise\u001b[39;00m \u001b[39mIndexError\u001b[39;00m(\u001b[39m\"\u001b[39m\u001b[39mlist index out of range\u001b[39m\u001b[39m\"\u001b[39m)\n",
      "\u001b[1;31mAttributeError\u001b[0m: 'int' object has no attribute 'data'"
     ]
    }
   ],
   "source": [
    "# conseguimos agora acessar os valores da lista encadeada\n",
    "lista[0], lista[1], lista[2], lista[3], lista[4]"
   ]
  },
  {
   "cell_type": "code",
   "execution_count": 112,
   "metadata": {},
   "outputs": [
    {
     "ename": "IndexError",
     "evalue": "list index out of range",
     "output_type": "error",
     "traceback": [
      "\u001b[1;31m---------------------------------------------------------------------------\u001b[0m",
      "\u001b[1;31mIndexError\u001b[0m                                Traceback (most recent call last)",
      "\u001b[1;32mc:\\Users\\Matheus\\OneDrive\\Área de Trabalho\\FATEC - BD Negócios\\Projetos\\Learning_Python_Portfolio\\Algorítimos\\Estrutura de Dados\\listas.ipynb Cell 22\u001b[0m in \u001b[0;36m<cell line: 2>\u001b[1;34m()\u001b[0m\n\u001b[0;32m      <a href='vscode-notebook-cell:/c%3A/Users/Matheus/OneDrive/%C3%81rea%20de%20Trabalho/FATEC%20-%20BD%20Neg%C3%B3cios/Projetos/Learning_Python_Portfolio/Algor%C3%ADtimos/Estrutura%20de%20Dados/listas.ipynb#X53sZmlsZQ%3D%3D?line=0'>1</a>\u001b[0m \u001b[39m# retorna o erro pois a posição de índice 3 é vazia\u001b[39;00m\n\u001b[1;32m----> <a href='vscode-notebook-cell:/c%3A/Users/Matheus/OneDrive/%C3%81rea%20de%20Trabalho/FATEC%20-%20BD%20Neg%C3%B3cios/Projetos/Learning_Python_Portfolio/Algor%C3%ADtimos/Estrutura%20de%20Dados/listas.ipynb#X53sZmlsZQ%3D%3D?line=1'>2</a>\u001b[0m lista[\u001b[39m5\u001b[39;49m]\n",
      "\u001b[1;32mc:\\Users\\Matheus\\OneDrive\\Área de Trabalho\\FATEC - BD Negócios\\Projetos\\Learning_Python_Portfolio\\Algorítimos\\Estrutura de Dados\\listas.ipynb Cell 22\u001b[0m in \u001b[0;36mLinkedList.__getitem__\u001b[1;34m(self, index)\u001b[0m\n\u001b[0;32m     <a href='vscode-notebook-cell:/c%3A/Users/Matheus/OneDrive/%C3%81rea%20de%20Trabalho/FATEC%20-%20BD%20Neg%C3%B3cios/Projetos/Learning_Python_Portfolio/Algor%C3%ADtimos/Estrutura%20de%20Dados/listas.ipynb#X53sZmlsZQ%3D%3D?line=50'>51</a>\u001b[0m \u001b[39mdef\u001b[39;00m \u001b[39m__getitem__\u001b[39m(\u001b[39mself\u001b[39m, index): \u001b[39m# O(N)\u001b[39;00m\n\u001b[1;32m---> <a href='vscode-notebook-cell:/c%3A/Users/Matheus/OneDrive/%C3%81rea%20de%20Trabalho/FATEC%20-%20BD%20Neg%C3%B3cios/Projetos/Learning_Python_Portfolio/Algor%C3%ADtimos/Estrutura%20de%20Dados/listas.ipynb#X53sZmlsZQ%3D%3D?line=51'>52</a>\u001b[0m     pointer \u001b[39m=\u001b[39m \u001b[39mself\u001b[39;49m\u001b[39m.\u001b[39;49m_getnode(index)\n\u001b[0;32m     <a href='vscode-notebook-cell:/c%3A/Users/Matheus/OneDrive/%C3%81rea%20de%20Trabalho/FATEC%20-%20BD%20Neg%C3%B3cios/Projetos/Learning_Python_Portfolio/Algor%C3%ADtimos/Estrutura%20de%20Dados/listas.ipynb#X53sZmlsZQ%3D%3D?line=53'>54</a>\u001b[0m     \u001b[39mfor\u001b[39;00m i \u001b[39min\u001b[39;00m \u001b[39mrange\u001b[39m(index):\n\u001b[0;32m     <a href='vscode-notebook-cell:/c%3A/Users/Matheus/OneDrive/%C3%81rea%20de%20Trabalho/FATEC%20-%20BD%20Neg%C3%B3cios/Projetos/Learning_Python_Portfolio/Algor%C3%ADtimos/Estrutura%20de%20Dados/listas.ipynb#X53sZmlsZQ%3D%3D?line=54'>55</a>\u001b[0m         \u001b[39mif\u001b[39;00m pointer:\n",
      "\u001b[1;32mc:\\Users\\Matheus\\OneDrive\\Área de Trabalho\\FATEC - BD Negócios\\Projetos\\Learning_Python_Portfolio\\Algorítimos\\Estrutura de Dados\\listas.ipynb Cell 22\u001b[0m in \u001b[0;36mLinkedList._getnode\u001b[1;34m(self, index)\u001b[0m\n\u001b[0;32m     <a href='vscode-notebook-cell:/c%3A/Users/Matheus/OneDrive/%C3%81rea%20de%20Trabalho/FATEC%20-%20BD%20Neg%C3%B3cios/Projetos/Learning_Python_Portfolio/Algor%C3%ADtimos/Estrutura%20de%20Dados/listas.ipynb#X53sZmlsZQ%3D%3D?line=36'>37</a>\u001b[0m         pointer \u001b[39m=\u001b[39m pointer\u001b[39m.\u001b[39mnext\n\u001b[0;32m     <a href='vscode-notebook-cell:/c%3A/Users/Matheus/OneDrive/%C3%81rea%20de%20Trabalho/FATEC%20-%20BD%20Neg%C3%B3cios/Projetos/Learning_Python_Portfolio/Algor%C3%ADtimos/Estrutura%20de%20Dados/listas.ipynb#X53sZmlsZQ%3D%3D?line=37'>38</a>\u001b[0m     \u001b[39melse\u001b[39;00m:\n\u001b[1;32m---> <a href='vscode-notebook-cell:/c%3A/Users/Matheus/OneDrive/%C3%81rea%20de%20Trabalho/FATEC%20-%20BD%20Neg%C3%B3cios/Projetos/Learning_Python_Portfolio/Algor%C3%ADtimos/Estrutura%20de%20Dados/listas.ipynb#X53sZmlsZQ%3D%3D?line=38'>39</a>\u001b[0m         \u001b[39mraise\u001b[39;00m \u001b[39mIndexError\u001b[39;00m(\u001b[39m\"\u001b[39m\u001b[39mlist index out of range\u001b[39m\u001b[39m\"\u001b[39m)\n\u001b[0;32m     <a href='vscode-notebook-cell:/c%3A/Users/Matheus/OneDrive/%C3%81rea%20de%20Trabalho/FATEC%20-%20BD%20Neg%C3%B3cios/Projetos/Learning_Python_Portfolio/Algor%C3%ADtimos/Estrutura%20de%20Dados/listas.ipynb#X53sZmlsZQ%3D%3D?line=40'>41</a>\u001b[0m \u001b[39mif\u001b[39;00m pointer:\n\u001b[0;32m     <a href='vscode-notebook-cell:/c%3A/Users/Matheus/OneDrive/%C3%81rea%20de%20Trabalho/FATEC%20-%20BD%20Neg%C3%B3cios/Projetos/Learning_Python_Portfolio/Algor%C3%ADtimos/Estrutura%20de%20Dados/listas.ipynb#X53sZmlsZQ%3D%3D?line=41'>42</a>\u001b[0m     \u001b[39mreturn\u001b[39;00m pointer\u001b[39m.\u001b[39mdata\n",
      "\u001b[1;31mIndexError\u001b[0m: list index out of range"
     ]
    }
   ],
   "source": [
    "# retorna o erro pois a posição de índice 3 é vazia\n",
    "lista[5]"
   ]
  },
  {
   "cell_type": "code",
   "execution_count": 113,
   "metadata": {},
   "outputs": [
    {
     "data": {
      "text/plain": [
       "(2, 1)"
      ]
     },
     "execution_count": 113,
     "metadata": {},
     "output_type": "execute_result"
    }
   ],
   "source": [
    "lista.index(56), lista.index(80)"
   ]
  },
  {
   "cell_type": "code",
   "execution_count": 114,
   "metadata": {},
   "outputs": [],
   "source": [
    "lista.insert(0, 22)"
   ]
  },
  {
   "cell_type": "code",
   "execution_count": 115,
   "metadata": {},
   "outputs": [
    {
     "data": {
      "text/plain": [
       "4"
      ]
     },
     "execution_count": 115,
     "metadata": {},
     "output_type": "execute_result"
    }
   ],
   "source": [
    "len(lista)"
   ]
  },
  {
   "cell_type": "code",
   "execution_count": null,
   "metadata": {},
   "outputs": [],
   "source": []
  }
 ],
 "metadata": {
  "kernelspec": {
   "display_name": "Python 3",
   "language": "python",
   "name": "python3"
  },
  "language_info": {
   "codemirror_mode": {
    "name": "ipython",
    "version": 3
   },
   "file_extension": ".py",
   "mimetype": "text/x-python",
   "name": "python",
   "nbconvert_exporter": "python",
   "pygments_lexer": "ipython3",
   "version": "3.10.9 (tags/v3.10.9:1dd9be6, Dec  6 2022, 20:01:21) [MSC v.1934 64 bit (AMD64)]"
  },
  "orig_nbformat": 4,
  "vscode": {
   "interpreter": {
    "hash": "48434fea92bcfa521232aa698a59dbef67c96a63793f88c53e51c3c6eaedc268"
   }
  }
 },
 "nbformat": 4,
 "nbformat_minor": 2
}
