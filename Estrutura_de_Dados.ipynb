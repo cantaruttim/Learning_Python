{
  "cells": [
    {
      "cell_type": "markdown",
      "metadata": {
        "colab_type": "text",
        "id": "view-in-github"
      },
      "source": [
        "<a href=\"https://colab.research.google.com/github/cantaruttim/Learning_Python/blob/main/Estrutura_de_Dados.ipynb\" target=\"_parent\"><img src=\"https://colab.research.google.com/assets/colab-badge.svg\" alt=\"Open In Colab\"/></a>"
      ]
    },
    {
      "cell_type": "markdown",
      "metadata": {
        "id": "TBvhZLWp1VHm"
      },
      "source": [
        "### Explicando o algoritmo de ordenação:\n",
        "\n",
        "\n",
        "Esse código é uma implementação do algoritmo de ordenação por inserção. Ele tem a função de ordenar uma lista de elementos, neste caso a lista A. O algoritmo percorre a lista um elemento por vez, comparando-o com cada um dos elementos anteriores. Se encontrar um elemento menor que o elemento sendo comparado, então este é deslocado para a direita, e os elementos anteriores são deslocados para a esquerda. O resultado é que a lista é ordenada. No final, a lista A é impressa e contém os elementos em ordem crescente.\n",
        "\n",
        "- Para cada _j = 2, 3 ... n_, onde n é o tamanho da lista, podemos dizer t<sub>j</sub> demonstra o número de vezes que o loop **while** testa a condição da linha 5 com base no valor de j\n",
        "\n",
        "\n",
        "##### Crescimento de uma função :\n",
        "\n",
        "A eficiência de um algorítmo segue a notação O `Big O notation`, que mede a performance de um algorítmo com base nas interações primitivas existentes e necessárias para a resolução de um problema em específico."
      ]
    },
    {
      "cell_type": "code",
      "execution_count": null,
      "metadata": {
        "colab": {
          "base_uri": "https://localhost:8080/"
        },
        "id": "cU2_BHEQv6QP",
        "outputId": "b25c3ecd-cd73-4272-8eb5-a8bc8279e764"
      },
      "outputs": [
        {
          "name": "stdout",
          "output_type": "stream",
          "text": [
            "[1, 2, 3, 4, 5, 6]\n"
          ]
        }
      ],
      "source": [
        "A = [5,2,4,6,1,3]\n",
        "\n",
        "for j in range(1, len(A)):\n",
        "    key = A[j]\n",
        "    i = j - 1\n",
        "    while i >= 0 and A[i] > key:\n",
        "        # print(A[i])\n",
        "        A[i + 1] = A[i]\n",
        "        i = i - 1\n",
        "    A[i + 1] = key\n",
        "\n",
        "print(A)"
      ]
    },
    {
      "cell_type": "markdown",
      "metadata": {
        "id": "YIaphyI4rrMy"
      },
      "source": [
        "Para termos uma ordenação decrescente, temos que comparar o valor do índice com o valor dos elementos existentes na lista. Pois a mecânica em que se percorre a lista é a mesma, incrementando o índice ou desincrementando-o. Porem ao compararmos `A[i] < key` estamos comparando os elementos de forma decrescente. "
      ]
    },
    {
      "cell_type": "code",
      "execution_count": null,
      "metadata": {
        "colab": {
          "base_uri": "https://localhost:8080/"
        },
        "id": "VmJKwUwYv6b-",
        "outputId": "7543a1f4-dc45-4c99-fba8-a5bd5c33e9dd"
      },
      "outputs": [
        {
          "name": "stdout",
          "output_type": "stream",
          "text": [
            "[6, 5, 4, 3, 2, 1]\n"
          ]
        }
      ],
      "source": [
        "A = [5,2,4,6,1,3]\n",
        "\n",
        "for j in range(1, len(A)):\n",
        "    key = A[j]\n",
        "    i = j - 1\n",
        "    while i >= 0 and A[i] < key:\n",
        "        # print(A[i])\n",
        "        A[i + 1] = A[i]\n",
        "        i = i - 1\n",
        "    A[i + 1] = key\n",
        "\n",
        "print(A)"
      ]
    },
    {
      "cell_type": "markdown",
      "metadata": {
        "id": "ngd0qkA4PYa6"
      },
      "source": [
        "##### Observações:\n",
        "\n",
        "1. O algoritmo de ordenação pode demorar uma quantidade de tempo diferente de tempo para ordernar duas listas diferentes de um mesmo tamanho. A depender de quão ordenados os dados já estão. Então, o algorítimo a seguir demoraria mais para ser executado pois os dados estão mais dispersos do que o primeiro.\n",
        "\n",
        "<br />\n",
        "\n",
        "2. \"The _**running time**_ of an algorithm on a particular input is the number of primitive operations or \"steps\" executed.\"\n",
        ">> 2.1. Portanto o tempo de execução gasto por um algoritmo representa o somatório de todos os tempos gastos em cada operação primitiva.  "
      ]
    },
    {
      "cell_type": "code",
      "execution_count": 5,
      "metadata": {
        "colab": {
          "base_uri": "https://localhost:8080/"
        },
        "id": "QGtafH_kpDjc",
        "outputId": "4164f1b7-48b3-421f-c153-20bb602a9f97"
      },
      "outputs": [
        {
          "name": "stdout",
          "output_type": "stream",
          "text": [
            "[-250, -100, 0, 150, 250, 3000]\n"
          ]
        }
      ],
      "source": [
        "A = [250, 3000, 150, -100, -250, 0]\n",
        "\n",
        "for j in range(1, len(A)):\n",
        "    key = A[j]\n",
        "    i = j - 1\n",
        "    while i >= 0 and A[i] > key:\n",
        "        # print(A[i])\n",
        "        A[i + 1] = A[i]\n",
        "        i = i - 1\n",
        "    A[i + 1] = key\n",
        "\n",
        "print(A)"
      ]
    },
    {
      "cell_type": "markdown",
      "metadata": {
        "id": "po4Kodcjm_Sh"
      },
      "source": [
        "#### Abordagem Dividir para Conquistar\n",
        "\n",
        "- Esses algoritmos seguem uma lógica de dividir os problemas em subploblemas menores, resolvendo estes de forma recursiva. Após realizarem a divisão e resolvendo esses problemas, os combinam em uma única saída para devolver a solução para o problema em questão."
      ]
    },
    {
      "cell_type": "markdown",
      "metadata": {
        "id": "hJR6v2h7vSn-"
      },
      "source": [
        "### Análise Probabilística e Algoritmos Randomizados"
      ]
    },
    {
      "cell_type": "code",
      "execution_count": null,
      "metadata": {
        "id": "AcbbxIiEpDm1"
      },
      "outputs": [],
      "source": []
    },
    {
      "cell_type": "code",
      "execution_count": null,
      "metadata": {
        "id": "PewFr9uGitrC"
      },
      "outputs": [],
      "source": []
    },
    {
      "cell_type": "code",
      "execution_count": null,
      "metadata": {
        "id": "OxawmpapituN"
      },
      "outputs": [],
      "source": []
    },
    {
      "cell_type": "code",
      "execution_count": null,
      "metadata": {
        "id": "GMtV6OLDitwz"
      },
      "outputs": [],
      "source": []
    },
    {
      "cell_type": "code",
      "execution_count": null,
      "metadata": {
        "id": "A1MIiSvsitza"
      },
      "outputs": [],
      "source": []
    },
    {
      "cell_type": "code",
      "execution_count": null,
      "metadata": {
        "id": "uVfm_-Piit2C"
      },
      "outputs": [],
      "source": []
    },
    {
      "cell_type": "code",
      "execution_count": null,
      "metadata": {
        "id": "5okWWohjit5e"
      },
      "outputs": [],
      "source": []
    },
    {
      "cell_type": "code",
      "execution_count": null,
      "metadata": {
        "id": "7W-f50klpDpe"
      },
      "outputs": [],
      "source": []
    },
    {
      "cell_type": "code",
      "execution_count": null,
      "metadata": {
        "id": "NQr9JnXApDsJ"
      },
      "outputs": [],
      "source": []
    },
    {
      "cell_type": "code",
      "execution_count": null,
      "metadata": {
        "id": "5ju7JJNqv6ei"
      },
      "outputs": [],
      "source": []
    },
    {
      "cell_type": "code",
      "execution_count": null,
      "metadata": {
        "id": "4QUKL8Bev6h7"
      },
      "outputs": [],
      "source": []
    }
  ],
  "metadata": {
    "colab": {
      "authorship_tag": "ABX9TyNrypi9TFvRmAFSyCevS+7p",
      "include_colab_link": true,
      "provenance": []
    },
    "kernelspec": {
      "display_name": "Python 3",
      "language": "python",
      "name": "python3"
    },
    "language_info": {
      "name": "python",
      "version": "3.10.9"
    },
    "vscode": {
      "interpreter": {
        "hash": "48434fea92bcfa521232aa698a59dbef67c96a63793f88c53e51c3c6eaedc268"
      }
    }
  },
  "nbformat": 4,
  "nbformat_minor": 0
}
