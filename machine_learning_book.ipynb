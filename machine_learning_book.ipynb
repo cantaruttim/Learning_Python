{
  "cells": [
    {
      "cell_type": "markdown",
      "metadata": {
        "id": "view-in-github",
        "colab_type": "text"
      },
      "source": [
        "<a href=\"https://colab.research.google.com/github/cantaruttim/Learning_Python/blob/main/machine_learning_book.ipynb\" target=\"_parent\"><img src=\"https://colab.research.google.com/assets/colab-badge.svg\" alt=\"Open In Colab\"/></a>"
      ]
    },
    {
      "cell_type": "code",
      "execution_count": null,
      "metadata": {
        "id": "vBIkBy1N0Gt3"
      },
      "outputs": [],
      "source": [
        "from sklearn.metrics import confusion_matrix, precision_score, recall_score"
      ]
    },
    {
      "cell_type": "markdown",
      "metadata": {
        "id": "0Ca67mlP0Gt4"
      },
      "source": [
        "### Métricas\n",
        "\n",
        "#### 1. Precisão: \n",
        "\n",
        "$$Precisão = \\frac{TP}{TP + FP}$$\n",
        "TP = Todos os verdadeiros positivos; FP = número de falsos positivos\n",
        "\n",
        "\n",
        "#### 2. Revocação:\n",
        "\n",
        "$$Revocação = \\frac{TP}{TP + FN}$$\n",
        "FN = é o número de falsos negativos\n",
        "\n",
        "\n",
        "#### 3. Pontuação F1:\n",
        "\n",
        "$$F1 = \\frac{2}{\\frac{1}{precisão} + \\frac{1}{revocação}} = 2 * \\frac{precisão * revocação}{precisão + revocação} = \\frac{TP}{TP + \\frac{FN + FP}{2}}$$\n",
        "\n",
        "<br />\n",
        "\n",
        "Obs¹: A pontuação F1 é a _média harmônica_ da precisão e revocação. Onde a média harmômica dará muito mais peso aos valores mais baixos.\n",
        "\n",
        "Obs²: Média harmônica é a média harmônica como a quantidade de elementos no conjunto, divida pela soma do inverso dos elementos do conjunto\n",
        "\n",
        "$$Mh = \\frac{n}{\\frac{1}{x1} + \\frac{1}{x2} + \\frac{1}{x3} ... + \\frac{1}{xn}}$$\n",
        "\n",
        "#### Compensação da Precisão/Revocação:\n",
        "\n",
        "Para cada instância, ele calcula uma pontuação baseada em uma _função de decisão_ e, se essa pontuação for maior que um limiar, ele atribiu a instância à classe positiva, ou então a atribui à classe negativa."
      ]
    },
    {
      "cell_type": "code",
      "execution_count": null,
      "metadata": {
        "id": "CzKlGw3M0Gt5",
        "colab": {
          "base_uri": "https://localhost:8080/"
        },
        "outputId": "d1c2da49-267c-4377-e523-8a885c26db24"
      },
      "outputs": [
        {
          "output_type": "stream",
          "name": "stdout",
          "text": [
            "(1797, 64)\n"
          ]
        }
      ],
      "source": [
        "from sklearn.datasets import load_digits\n",
        "digits = load_digits()\n",
        "print(digits.data.shape)"
      ]
    },
    {
      "cell_type": "code",
      "execution_count": null,
      "metadata": {
        "id": "iELkQiQJ0Gt6",
        "colab": {
          "base_uri": "https://localhost:8080/",
          "height": 292
        },
        "outputId": "963712a9-3d01-4662-89a5-9466533089d2"
      },
      "outputs": [
        {
          "output_type": "display_data",
          "data": {
            "text/plain": [
              "<Figure size 432x288 with 0 Axes>"
            ]
          },
          "metadata": {}
        },
        {
          "output_type": "display_data",
          "data": {
            "text/plain": [
              "<Figure size 288x288 with 1 Axes>"
            ],
            "image/png": "[encoded data removed]"
          },
          "metadata": {
            "needs_background": "light"
          }
        }
      ],
      "source": [
        "import matplotlib.pyplot as plt\n",
        "plt.gray()\n",
        "plt.matshow(digits.images[5])\n",
        "plt.show()"
      ]
    },
    {
      "cell_type": "code",
      "execution_count": null,
      "metadata": {
        "id": "qcVmPVvu0Gt6",
        "colab": {
          "base_uri": "https://localhost:8080/"
        },
        "outputId": "357cc594-a4d1-4134-8a59-11ed67462d4f"
      },
      "outputs": [
        {
          "output_type": "execute_result",
          "data": {
            "text/plain": [
              "((1797, 64), (1797,))"
            ]
          },
          "metadata": {},
          "execution_count": 4
        }
      ],
      "source": [
        "X, y = digits['data'], digits['target']\n",
        "X.shape, y.shape"
      ]
    },
    {
      "cell_type": "code",
      "source": [
        "some_digit = X[5]\n",
        "print(some_digit)"
      ],
      "metadata": {
        "colab": {
          "base_uri": "https://localhost:8080/"
        },
        "id": "bFCOwTJCsrlb",
        "outputId": "44cc8fd8-7822-446d-b521-9052f7439695"
      },
      "execution_count": null,
      "outputs": [
        {
          "output_type": "stream",
          "name": "stdout",
          "text": [
            "[ 0.  0. 12. 10.  0.  0.  0.  0.  0.  0. 14. 16. 16. 14.  0.  0.  0.  0.\n",
            " 13. 16. 15. 10.  1.  0.  0.  0. 11. 16. 16.  7.  0.  0.  0.  0.  0.  4.\n",
            "  7. 16.  7.  0.  0.  0.  0.  0.  4. 16.  9.  0.  0.  0.  5.  4. 12. 16.\n",
            "  4.  0.  0.  0.  9. 16. 16. 10.  0.  0.]\n"
          ]
        }
      ]
    },
    {
      "cell_type": "code",
      "execution_count": null,
      "metadata": {
        "id": "JYjqqx540Gt6"
      },
      "outputs": [],
      "source": [
        "X_train, X_test, y_train, y_test = X[:1797], X[1797:], y[:1797], y[1797:]\n",
        "\n",
        "import numpy as np\n",
        "\n",
        "shuffle_index = np.random.permutation(1797)\n",
        "X_train, y_train = X_train[shuffle_index], y_train[shuffle_index]"
      ]
    },
    {
      "cell_type": "markdown",
      "source": [
        "#### Treinando o classificador"
      ],
      "metadata": {
        "id": "kFQoy4iiqSlK"
      }
    },
    {
      "cell_type": "code",
      "source": [
        "y_train_5 = (y_train ==  5)\n",
        "y_test_5 = (y_test == 5)"
      ],
      "metadata": {
        "id": "1GRok1DbmkEJ"
      },
      "execution_count": null,
      "outputs": []
    },
    {
      "cell_type": "code",
      "source": [
        "from sklearn.linear_model import SGDClassifier\n",
        "sgd_clf = SGDClassifier(random_state=1)\n",
        "sgd_clf.fit(X_train, y_train_5).predict([some_digit])"
      ],
      "metadata": {
        "colab": {
          "base_uri": "https://localhost:8080/"
        },
        "id": "-H1JrO_rmkHR",
        "outputId": "02965666-d76f-48ed-87b4-278f0b1e6ad1"
      },
      "execution_count": null,
      "outputs": [
        {
          "output_type": "execute_result",
          "data": {
            "text/plain": [
              "array([False])"
            ]
          },
          "metadata": {},
          "execution_count": 58
        }
      ]
    },
    {
      "cell_type": "code",
      "source": [
        "from sklearn.model_selection import cross_val_score\n",
        "cross_val_score(sgd_clf, X_train, y_train_5, cv = 3, scoring='accuracy')"
      ],
      "metadata": {
        "colab": {
          "base_uri": "https://localhost:8080/"
        },
        "id": "Pr67tsxkmkM3",
        "outputId": "dd8ab0b9-c0e2-4937-b9ef-ab5c5547a794"
      },
      "execution_count": null,
      "outputs": [
        {
          "output_type": "execute_result",
          "data": {
            "text/plain": [
              "array([0.98664441, 0.98664441, 0.9933222 ])"
            ]
          },
          "metadata": {},
          "execution_count": 47
        }
      ]
    },
    {
      "cell_type": "code",
      "source": [
        "from sklearn.model_selection import cross_val_predict\n",
        "y_train_pred = cross_val_predict(sgd_clf, X_train, y_train_5, cv=3)"
      ],
      "metadata": {
        "id": "mDczstC2mkPS"
      },
      "execution_count": null,
      "outputs": []
    },
    {
      "cell_type": "code",
      "source": [
        "# Utilizando a matriz de confusão\n",
        "from sklearn.metrics import confusion_matrix\n",
        "confusion_matrix(y_train_5, y_train_pred)"
      ],
      "metadata": {
        "colab": {
          "base_uri": "https://localhost:8080/"
        },
        "id": "63d1bLJTmkSJ",
        "outputId": "82de194d-6997-4366-e9e1-f094c0d0e585"
      },
      "execution_count": null,
      "outputs": [
        {
          "output_type": "execute_result",
          "data": {
            "text/plain": [
              "array([[1606,    9],\n",
              "       [  11,  171]])"
            ]
          },
          "metadata": {},
          "execution_count": 49
        }
      ]
    },
    {
      "cell_type": "code",
      "source": [
        "# aplicando a precisão e a revocação e a F1\n",
        "\n",
        "from sklearn.metrics import precision_score, recall_score, f1_score\n",
        "precision_score(y_train_5, y_train_pred), recall_score(y_train_5, y_train_pred), f1_score(y_train_5, y_train_pred)"
      ],
      "metadata": {
        "colab": {
          "base_uri": "https://localhost:8080/"
        },
        "id": "MNsgUYswmkU1",
        "outputId": "3d444417-c48e-418f-a371-31f4226bdf21"
      },
      "execution_count": null,
      "outputs": [
        {
          "output_type": "execute_result",
          "data": {
            "text/plain": [
              "(0.95, 0.9395604395604396, 0.9447513812154695)"
            ]
          },
          "metadata": {},
          "execution_count": 50
        }
      ]
    },
    {
      "cell_type": "code",
      "source": [
        "from sklearn.metrics._plot.precision_recall_curve import precision_recall_curve\n",
        "# Calculando a precisão e a revocação para todos os limites possíveis\n",
        "precisions, recalls, thresholds = precision_recall_curve(y_train_5, y_train_pred)\n",
        "\n",
        "# Plotando o gráfico da previsão e revocação\n",
        "\n",
        "def plot_precision_recall_vs_thresholds(precisions, recalls, thresholds):\n",
        "  plt.plot(thresholds, precisions[:-1], \"b--\", label=\"Precision\")\n",
        "  plt.plot(thresholds, recalls[:-1], \"g-\", label=\"Recall\")\n",
        "  plt.xlabel(\"Threshold\")\n",
        "  plt.legend(loc=\"center left\")\n",
        "  plt.ylim([0, 1])\n",
        "\n",
        "plot_precision_recall_vs_thresholds(precisions, recalls, thresholds)\n",
        "plt.show()"
      ],
      "metadata": {
        "colab": {
          "base_uri": "https://localhost:8080/",
          "height": 283
        },
        "id": "cwzHG4PImkY0",
        "outputId": "ee26b953-5496-489d-bf37-cd89ab6fb362"
      },
      "execution_count": null,
      "outputs": [
        {
          "output_type": "display_data",
          "data": {
            "text/plain": [
              "<Figure size 432x288 with 1 Axes>"
            ],
            "image/png": "[encoded data removed]"
          },
          "metadata": {
            "needs_background": "light"
          }
        }
      ]
    },
    {
      "cell_type": "code",
      "source": [
        "y_scores = sgd_clf.decision_function([some_digit])\n",
        "print(y_scores)\n",
        "threshold = 10000\n",
        "\n",
        "y_some_digit_pred = (y_scores > threshold )\n",
        "print(y_some_digit_pred)\n",
        "\n",
        "y_train_pred = (y_scores > 70000)"
      ],
      "metadata": {
        "colab": {
          "base_uri": "https://localhost:8080/"
        },
        "id": "a0Hlw_7rwhVE",
        "outputId": "91bb9b40-37f0-45b3-afad-046af2b7f9ca"
      },
      "execution_count": null,
      "outputs": [
        {
          "output_type": "stream",
          "name": "stdout",
          "text": [
            "[-48.85864178]\n",
            "[False]\n"
          ]
        }
      ]
    },
    {
      "cell_type": "markdown",
      "source": [
        "### Curva **ROC**\n",
        "\n",
        "plota a _taxa de falsos positivos_ (TPR) >> Revocação"
      ],
      "metadata": {
        "id": "F0V_PU9b-qHa"
      }
    },
    {
      "cell_type": "code",
      "source": [
        "import numpy as np\n",
        "from sklearn.datasets import load_iris\n",
        "from sklearn.model_selection import train_test_split\n",
        "\n",
        "iris = load_iris()\n",
        "target_names = iris.target_names\n",
        "X, y = iris.data, iris.target\n",
        "y = iris.target_names[y]\n",
        "\n",
        "random_state = np.random.RandomState(0)\n",
        "n_samples, n_features = X.shape\n",
        "n_classes = len(np.unique(y))\n",
        "X = np.concatenate([X, random_state.randn(n_samples, 200 * n_features)], axis=1)\n",
        "(\n",
        "    X_train,\n",
        "    X_test,\n",
        "    y_train,\n",
        "    y_test,\n",
        ") = train_test_split(X, y, test_size=0.5, stratify=y, random_state=0)\n",
        "\n",
        "from sklearn.linear_model import LogisticRegression\n",
        "\n",
        "classifier = LogisticRegression()\n",
        "y_score = classifier.fit(X_train, y_train).predict_proba(X_test)\n",
        "\n",
        "\n",
        "from sklearn.preprocessing import LabelBinarizer\n",
        "\n",
        "label_binarizer = LabelBinarizer().fit(y_train)\n",
        "y_onehot_test = label_binarizer.transform(y_test)\n",
        "y_onehot_test.shape  # (n_samples, n_classes)\n",
        "\n",
        "class_of_interest = \"virginica\"\n",
        "class_id = np.flatnonzero(label_binarizer.classes_ == class_of_interest)[0]\n",
        "class_id\n",
        "\n",
        "import matplotlib.pyplot as plt\n",
        "from sklearn.metrics import RocCurveDisplay\n",
        "\n",
        "RocCurveDisplay.from_predictions(\n",
        "    y_onehot_test[:, class_id],\n",
        "    y_score[:, class_id],\n",
        "    name=f\"{class_of_interest} vs the rest\",\n",
        "    color=\"darkorange\",\n",
        ")\n",
        "plt.plot([0, 1], [0, 1], \"k--\", label=\"chance level (AUC = 0.5)\")\n",
        "plt.axis(\"square\")\n",
        "plt.xlabel(\"False Positive Rate\")\n",
        "plt.ylabel(\"True Positive Rate\")\n",
        "plt.title(\"One-vs-Rest ROC curves:\\nVirginica vs (Setosa & Versicolor)\")\n",
        "plt.legend()\n",
        "plt.show()"
      ],
      "metadata": {
        "colab": {
          "base_uri": "https://localhost:8080/",
          "height": 310
        },
        "id": "ZOMq2g26-m-M",
        "outputId": "6aef4a09-f673-488c-c8e8-303e33ac17f4"
      },
      "execution_count": null,
      "outputs": [
        {
          "output_type": "display_data",
          "data": {
            "text/plain": [
              "<Figure size 432x288 with 1 Axes>"
            ],
            "image/png": "[encoded data removed]"
          },
          "metadata": {
            "needs_background": "light"
          }
        }
      ]
    },
    {
      "cell_type": "code",
      "source": [],
      "metadata": {
        "id": "IT4rhuJ5-nAz"
      },
      "execution_count": null,
      "outputs": []
    },
    {
      "cell_type": "code",
      "source": [],
      "metadata": {
        "id": "lJx9Vtpc-nDj"
      },
      "execution_count": null,
      "outputs": []
    },
    {
      "cell_type": "code",
      "source": [],
      "metadata": {
        "id": "fny9SU6c-nGr"
      },
      "execution_count": null,
      "outputs": []
    },
    {
      "cell_type": "code",
      "source": [],
      "metadata": {
        "id": "ynNFIgPA-nJK"
      },
      "execution_count": null,
      "outputs": []
    },
    {
      "cell_type": "code",
      "source": [],
      "metadata": {
        "id": "ZOK4eUAO-nNa"
      },
      "execution_count": null,
      "outputs": []
    },
    {
      "cell_type": "code",
      "source": [],
      "metadata": {
        "id": "oWsieHxR-nSi"
      },
      "execution_count": null,
      "outputs": []
    },
    {
      "cell_type": "code",
      "source": [],
      "metadata": {
        "id": "hzPerG0U-nUt"
      },
      "execution_count": null,
      "outputs": []
    },
    {
      "cell_type": "code",
      "source": [],
      "metadata": {
        "id": "vIFblKKv-nYI"
      },
      "execution_count": null,
      "outputs": []
    },
    {
      "cell_type": "code",
      "source": [],
      "metadata": {
        "id": "fBZs3BLOwhaA"
      },
      "execution_count": null,
      "outputs": []
    },
    {
      "cell_type": "code",
      "source": [],
      "metadata": {
        "id": "4icQumHawhda"
      },
      "execution_count": null,
      "outputs": []
    },
    {
      "cell_type": "code",
      "source": [],
      "metadata": {
        "id": "YBdtVm81mkcO"
      },
      "execution_count": null,
      "outputs": []
    },
    {
      "cell_type": "code",
      "execution_count": null,
      "metadata": {
        "id": "25tH3YEQ0Gt6"
      },
      "outputs": [],
      "source": []
    }
  ],
  "metadata": {
    "kernelspec": {
      "display_name": "base",
      "language": "python",
      "name": "python3"
    },
    "language_info": {
      "codemirror_mode": {
        "name": "ipython",
        "version": 3
      },
      "file_extension": ".py",
      "mimetype": "text/x-python",
      "name": "python",
      "nbconvert_exporter": "python",
      "pygments_lexer": "ipython3",
      "version": "3.9.12"
    },
    "orig_nbformat": 4,
    "vscode": {
      "interpreter": {
        "hash": "c8d3184e42d5090dff9a42825f73ee2454fef8c1131708a89f889453d9fc9d30"
      }
    },
    "colab": {
      "provenance": [],
      "include_colab_link": true
    }
  },
  "nbformat": 4,
  "nbformat_minor": 0
}