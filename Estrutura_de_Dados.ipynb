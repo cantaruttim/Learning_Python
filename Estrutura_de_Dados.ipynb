{
  "nbformat": 4,
  "nbformat_minor": 0,
  "metadata": {
    "colab": {
      "provenance": [],
      "authorship_tag": "ABX9TyMVNXt5jZdv6D9Bt7Oc86hf",
      "include_colab_link": true
    },
    "kernelspec": {
      "name": "python3",
      "display_name": "Python 3"
    },
    "language_info": {
      "name": "python"
    }
  },
  "cells": [
    {
      "cell_type": "markdown",
      "metadata": {
        "id": "view-in-github",
        "colab_type": "text"
      },
      "source": [
        "<a href=\"https://colab.research.google.com/github/cantaruttim/Learning_Python/blob/main/Estrutura_de_Dados.ipynb\" target=\"_parent\"><img src=\"https://colab.research.google.com/assets/colab-badge.svg\" alt=\"Open In Colab\"/></a>"
      ]
    },
    {
      "cell_type": "code",
      "execution_count": 17,
      "metadata": {
        "colab": {
          "base_uri": "https://localhost:8080/"
        },
        "id": "BnSb-IjvprNR",
        "outputId": "c9562ab4-3894-4710-9fed-80f45363634e"
      },
      "outputs": [
        {
          "output_type": "stream",
          "name": "stdout",
          "text": [
            "[5, 1, 2, 3, 4, 6]\n"
          ]
        }
      ],
      "source": [
        "A = [5,2,4,6,1,3]\n",
        "j = 1\n",
        "\n",
        "for j in range(len(A)):\n",
        "  key = A[j]\n",
        "  # insere A[j] na sequência ordenada A[1 .... j - 1]\n",
        "  i = j - 1\n",
        "\n",
        "  while i > 0 and A[i] > key:\n",
        "    A[i + 1] = A[i]\n",
        "    i -= 1\n",
        "  A[i + 1] = key\n",
        "\n",
        "print(A)"
      ]
    }
  ]
}