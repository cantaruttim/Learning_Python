{
 "cells": [
  {
   "cell_type": "code",
   "execution_count": 2,
   "metadata": {},
   "outputs": [],
   "source": [
    "from pathlib import Path # utilizada para gerenciamento de arquivos"
   ]
  },
  {
   "cell_type": "code",
   "execution_count": 3,
   "metadata": {},
   "outputs": [
    {
     "name": "stdout",
     "output_type": "stream",
     "text": [
      "c:\\Users\\Matheus\\OneDrive\\Área de Trabalho\\FATEC - BD Negócios\\Projetos\\Learning_Python_Portfolio\\Cursos\\Hashtag\\Python\\Arq e Pastas do Computador\n"
     ]
    }
   ],
   "source": [
    "# quero listar todos os arquivos da pasta\n",
    "\n",
    "print(Path.cwd()) # work directory"
   ]
  },
  {
   "cell_type": "code",
   "execution_count": 6,
   "metadata": {},
   "outputs": [
    {
     "name": "stdout",
     "output_type": "stream",
     "text": [
      "c:\\Users\\Matheus\\OneDrive\\Área de Trabalho\\FATEC - BD Negócios\\Projetos\\Learning_Python_Portfolio\\Cursos\\Hashtag\\Python\\Arq e Pastas do Computador\\Arquivos_Lojas\n"
     ]
    }
   ],
   "source": [
    "caminho = Path('c:/Users/Matheus/OneDrive/Área de Trabalho/FATEC - BD Negócios/Projetos/Learning_Python_Portfolio/Cursos/Hashtag/Python/Arq e Pastas do Computador/Arquivos_Lojas')\n",
    "print(caminho)"
   ]
  },
  {
   "cell_type": "code",
   "execution_count": 7,
   "metadata": {},
   "outputs": [
    {
     "data": {
      "text/plain": [
       "<generator object Path.iterdir at 0x0000017A0E4E4A50>"
      ]
     },
     "execution_count": 7,
     "metadata": {},
     "output_type": "execute_result"
    }
   ],
   "source": [
    "#Listando os arquivos de uma pasta\n",
    "\n",
    "arquivos = caminho.iterdir()"
   ]
  },
  {
   "cell_type": "code",
   "execution_count": null,
   "metadata": {},
   "outputs": [],
   "source": []
  },
  {
   "cell_type": "code",
   "execution_count": null,
   "metadata": {},
   "outputs": [],
   "source": []
  }
 ],
 "metadata": {
  "kernelspec": {
   "display_name": "base",
   "language": "python",
   "name": "python3"
  },
  "language_info": {
   "codemirror_mode": {
    "name": "ipython",
    "version": 3
   },
   "file_extension": ".py",
   "mimetype": "text/x-python",
   "name": "python",
   "nbconvert_exporter": "python",
   "pygments_lexer": "ipython3",
   "version": "3.9.12"
  },
  "orig_nbformat": 4,
  "vscode": {
   "interpreter": {
    "hash": "c8d3184e42d5090dff9a42825f73ee2454fef8c1131708a89f889453d9fc9d30"
   }
  }
 },
 "nbformat": 4,
 "nbformat_minor": 2
}
