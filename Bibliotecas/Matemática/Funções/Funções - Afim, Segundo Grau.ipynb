{
 "cells": [
  {
   "cell_type": "markdown",
   "id": "456fda9c",
   "metadata": {},
   "source": [
    "#### Função do Segundo Grau\n",
    "<br />\n",
    "\n",
    "$$f(x) = ax^{2} + bx + c$$\n",
    "\n",
    "\n",
    "\n",
    "#### Cálculo do Discriminante\n",
    "<br />\n",
    "$$\\Delta = b^{2} - 4.a.c$$\n",
    "\n",
    "#### Fórmula de Bhāskara\n",
    "<br />\n",
    "$$ x = \\frac {-b \\pm \\surd \\Delta}{2.a}$$"
   ]
  },
  {
   "cell_type": "code",
   "execution_count": 11,
   "id": "04a8f666",
   "metadata": {},
   "outputs": [
    {
     "name": "stdout",
     "output_type": "stream",
     "text": [
      "Com o valor de delta = 1 maior que zero temos duas raízes reais e distintas\n"
     ]
    },
    {
     "data": {
      "text/plain": [
       "(1, -0.5, -1.0, [1], [-0.5], [-1.0])"
      ]
     },
     "execution_count": 11,
     "metadata": {},
     "output_type": "execute_result"
    }
   ],
   "source": [
    "def calculo_discriminante_raizes(b,a,c):\n",
    "    # histórico\n",
    "    delta_lista = []\n",
    "    x_linha_lista = []\n",
    "    x_duas_linhas_lista = []\n",
    "    \n",
    "    # confirmando o valor de delta\n",
    "    delta = b**2 - (4*a*c)\n",
    "    \n",
    "    # Confirmando a existência das raízes da função\n",
    "    if delta < 0:\n",
    "        print(f'o valor de delta = {delta} é negativo. Portanto não há raízes reais')\n",
    "    elif delta > 0:\n",
    "        print(f'Com o valor de delta = {delta } maior que zero temos duas raízes reais e distintas')\n",
    "        \n",
    "        # calculando os valores das raízes reais\n",
    "        if delta > 0:\n",
    "            x_linha = ((-b + delta**0.5 ) / (2*a))\n",
    "            x_duas = ((-b - delta**0.5 ) / (2*a))\n",
    "            \n",
    "            # gerando um histórico dos registros utilizados\n",
    "            delta_lista.append(delta)\n",
    "            x_linha_lista.append(x_linha)\n",
    "            x_duas_linhas_lista.append(x_duas)\n",
    "            \n",
    "    else:\n",
    "        print(f'Com o valor de delta = {delta} temos apenas duas raízes reais e iguais')\n",
    "    \n",
    "    return delta, x_linha, x_duas, delta_lista, x_linha_lista, x_duas_linhas_lista\n",
    "\n",
    "calculo_discriminante_raizes(3,2,1)"
   ]
  },
  {
   "cell_type": "code",
   "execution_count": null,
   "id": "113bee58",
   "metadata": {},
   "outputs": [],
   "source": []
  },
  {
   "cell_type": "code",
   "execution_count": null,
   "id": "3d56aa59",
   "metadata": {},
   "outputs": [],
   "source": []
  },
  {
   "cell_type": "code",
   "execution_count": null,
   "id": "f7abfe44",
   "metadata": {},
   "outputs": [],
   "source": []
  },
  {
   "cell_type": "code",
   "execution_count": null,
   "id": "bdd12d62",
   "metadata": {},
   "outputs": [],
   "source": []
  }
 ],
 "metadata": {
  "kernelspec": {
   "display_name": "Python 3 (ipykernel)",
   "language": "python",
   "name": "python3"
  },
  "language_info": {
   "codemirror_mode": {
    "name": "ipython",
    "version": 3
   },
   "file_extension": ".py",
   "mimetype": "text/x-python",
   "name": "python",
   "nbconvert_exporter": "python",
   "pygments_lexer": "ipython3",
   "version": "3.9.12"
  }
 },
 "nbformat": 4,
 "nbformat_minor": 5
}
