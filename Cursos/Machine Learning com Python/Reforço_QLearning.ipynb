{
  "nbformat": 4,
  "nbformat_minor": 0,
  "metadata": {
    "colab": {
      "provenance": [],
      "authorship_tag": "ABX9TyM9DqzthkXwsizC1sY5UtFW",
      "include_colab_link": true
    },
    "kernelspec": {
      "name": "python3",
      "display_name": "Python 3"
    },
    "language_info": {
      "name": "python"
    }
  },
  "cells": [
    {
      "cell_type": "markdown",
      "metadata": {
        "id": "view-in-github",
        "colab_type": "text"
      },
      "source": [
        "<a href=\"https://colab.research.google.com/github/cantaruttim/Learning_Python/blob/main/Refor%C3%A7o_QLearning.ipynb\" target=\"_parent\"><img src=\"https://colab.research.google.com/assets/colab-badge.svg\" alt=\"Open In Colab\"/></a>"
      ]
    },
    {
      "cell_type": "markdown",
      "source": [
        "# Aprendizagem por Reforço\n",
        "\n",
        "- Estados/Recompensa : Um agente interage em um ambiente, onde o estado são as posições que o Agente pode ter ao interagir com o ambiente.\n",
        "\n",
        "- Estados positivos = movimentos bons\n",
        "- Estados negativos = movimentos ruins\n",
        "* Podemos mudar o peso das recompensas\n",
        "\n",
        "\n",
        "### Equação de Bellman:\n",
        "\n",
        "$$V(s) = max α(R(s,α) + γV(s'))$$\n",
        "γ = 0.9\n",
        "\n",
        "O agente sempre vai seguir o caminho no qual V é maior\n",
        "\n",
        "\n",
        "### Markov Decision:\n",
        "- Ambientes determinísticos e não determinísticos\n",
        "\n",
        "### QLearning (Si = 0, a(n))\n",
        "- Depende do valor de V\n",
        "\n",
        "### Diferença Temporal\n",
        "\n",
        "$$Qt(s,a) = Qt-1(s,a) + α(R(s,a)) + γV(s')$$"
      ],
      "metadata": {
        "id": "7jJVKTw-fsk7"
      }
    }
  ]
}