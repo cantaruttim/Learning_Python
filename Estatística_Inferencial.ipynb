{
  "nbformat": 4,
  "nbformat_minor": 0,
  "metadata": {
    "colab": {
      "provenance": [],
      "authorship_tag": "ABX9TyOPJD03b28RdRFaa1Te6YAa",
      "include_colab_link": true
    },
    "kernelspec": {
      "name": "python3",
      "display_name": "Python 3"
    },
    "language_info": {
      "name": "python"
    }
  },
  "cells": [
    {
      "cell_type": "markdown",
      "metadata": {
        "id": "view-in-github",
        "colab_type": "text"
      },
      "source": [
        "<a href=\"https://colab.research.google.com/github/cantaruttim/Learning_Python/blob/main/Estat%C3%ADstica_Inferencial.ipynb\" target=\"_parent\"><img src=\"https://colab.research.google.com/assets/colab-badge.svg\" alt=\"Open In Colab\"/></a>"
      ]
    },
    {
      "cell_type": "markdown",
      "source": [
        "https://docs.python.org/pt-br/3/library/statistics.html"
      ],
      "metadata": {
        "id": "nbogxX81FRRB"
      }
    },
    {
      "cell_type": "code",
      "execution_count": 34,
      "metadata": {
        "id": "k2NIjGPUzt-S"
      },
      "outputs": [],
      "source": [
        "import pandas as pd\n",
        "import numpy as np\n",
        "import random\n",
        "import math"
      ]
    },
    {
      "cell_type": "code",
      "source": [
        "## gerando 10 números aleatórios\n",
        "nro = list(range(0,11))"
      ],
      "metadata": {
        "id": "vyt0VUlQzzWO"
      },
      "execution_count": 24,
      "outputs": []
    },
    {
      "cell_type": "code",
      "source": [
        "nro # valores da população\n",
        "n = 10 # tamanho da amostra"
      ],
      "metadata": {
        "id": "oyL6T-i901iB"
      },
      "execution_count": 37,
      "outputs": []
    },
    {
      "cell_type": "code",
      "source": [
        "## Média de nro\n",
        "np.mean(nro)"
      ],
      "metadata": {
        "colab": {
          "base_uri": "https://localhost:8080/"
        },
        "id": "pT6QKbfh01rd",
        "outputId": "8b4d32ce-05e9-4112-bb72-2dc0bfea1dc7"
      },
      "execution_count": 38,
      "outputs": [
        {
          "output_type": "execute_result",
          "data": {
            "text/plain": [
              "5.0"
            ]
          },
          "metadata": {},
          "execution_count": 38
        }
      ]
    },
    {
      "cell_type": "code",
      "source": [
        "## Desvio Padrão nro\n",
        "np.std(nro)"
      ],
      "metadata": {
        "colab": {
          "base_uri": "https://localhost:8080/"
        },
        "id": "zCAuFY0A01v9",
        "outputId": "e18aa3fe-0828-4f1f-f5f8-31a0132bfaa8"
      },
      "execution_count": 39,
      "outputs": [
        {
          "output_type": "execute_result",
          "data": {
            "text/plain": [
              "3.1622776601683795"
            ]
          },
          "metadata": {},
          "execution_count": 39
        }
      ]
    },
    {
      "cell_type": "code",
      "source": [
        "## Desvio Padrão das Médias Amostrais\n",
        "\n",
        "sigma_xbarra = np.std(nro) / math.sqrt(n)\n",
        "sigma_xbarra"
      ],
      "metadata": {
        "colab": {
          "base_uri": "https://localhost:8080/"
        },
        "id": "NqXDy6xB2oLv",
        "outputId": "e7624e07-06ab-4cc8-c906-44cf979a8315"
      },
      "execution_count": 40,
      "outputs": [
        {
          "output_type": "execute_result",
          "data": {
            "text/plain": [
              "1.0"
            ]
          },
          "metadata": {},
          "execution_count": 40
        }
      ]
    },
    {
      "cell_type": "code",
      "source": [
        "## Erro amostral percentual\n",
        "\n",
        "if (nro == \"\"):\n",
        "  print(\"Valor vazio\")\n",
        "else:\n",
        "  print(f\"O erro percentual do desvio padrão é : {(np.std(nro) / math.sqrt(n))}%\")"
      ],
      "metadata": {
        "colab": {
          "base_uri": "https://localhost:8080/"
        },
        "id": "1AUge6rh2nSg",
        "outputId": "f06cc20a-cc7c-46cf-808f-cea54b21ad0b"
      },
      "execution_count": 42,
      "outputs": [
        {
          "output_type": "stream",
          "name": "stdout",
          "text": [
            "O erro percentual do desvio padrão é : 1.0%\n"
          ]
        }
      ]
    },
    {
      "cell_type": "code",
      "source": [
        "## Quanto maior o número do tamanho da amostra, mais ela se parece com uma distribuição normal"
      ],
      "metadata": {
        "id": "Wxj_1Wi22oUI"
      },
      "execution_count": null,
      "outputs": []
    },
    {
      "cell_type": "code",
      "source": [
        "tempos = [49, 56, 55, 68, 61, 57, 61, 52, 63]\n",
        "tempos"
      ],
      "metadata": {
        "colab": {
          "base_uri": "https://localhost:8080/"
        },
        "id": "QWdr9UuA5awt",
        "outputId": "46c7981c-92f3-408e-9207-f4234b93224d"
      },
      "execution_count": 43,
      "outputs": [
        {
          "output_type": "execute_result",
          "data": {
            "text/plain": [
              "[49, 56, 55, 68, 61, 57, 61, 52, 63]"
            ]
          },
          "metadata": {},
          "execution_count": 43
        }
      ]
    },
    {
      "cell_type": "code",
      "source": [
        "np.mean(tempos), np.var(tempos)"
      ],
      "metadata": {
        "colab": {
          "base_uri": "https://localhost:8080/"
        },
        "id": "A7lq2Tck5a08",
        "outputId": "1014b8c6-e834-40fd-efc9-61736ff3932d"
      },
      "execution_count": 49,
      "outputs": [
        {
          "output_type": "execute_result",
          "data": {
            "text/plain": [
              "(58.0, 30.444444444444443)"
            ]
          },
          "metadata": {},
          "execution_count": 49
        }
      ]
    },
    {
      "cell_type": "code",
      "source": [
        "# estimativa não tendenciosa\n",
        "\n",
        "(9/8)*np.var(tempos)"
      ],
      "metadata": {
        "colab": {
          "base_uri": "https://localhost:8080/"
        },
        "id": "f2ndYJLc5a_4",
        "outputId": "44928122-5e75-4e2b-cd54-8b540bdaed07"
      },
      "execution_count": 48,
      "outputs": [
        {
          "output_type": "execute_result",
          "data": {
            "text/plain": [
              "34.25"
            ]
          },
          "metadata": {},
          "execution_count": 48
        }
      ]
    },
    {
      "cell_type": "code",
      "source": [],
      "metadata": {
        "id": "uiYtwv5I2oXg"
      },
      "execution_count": null,
      "outputs": []
    },
    {
      "cell_type": "code",
      "source": [],
      "metadata": {
        "id": "IvgX7VU_2oai"
      },
      "execution_count": null,
      "outputs": []
    }
  ]
}