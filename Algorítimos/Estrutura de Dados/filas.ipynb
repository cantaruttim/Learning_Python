{
 "cells": [
  {
   "attachments": {},
   "cell_type": "markdown",
   "metadata": {},
   "source": [
    "### Filas\n",
    "\n",
    "- A política de acesso segue a regra : FIFO"
   ]
  },
  {
   "cell_type": "code",
   "execution_count": 2,
   "metadata": {},
   "outputs": [],
   "source": [
    "class Node:\n",
    "\n",
    "    def __init__(self, data):\n",
    "        self.data = data\n",
    "        self.next = None\n"
   ]
  },
  {
   "cell_type": "code",
   "execution_count": 6,
   "metadata": {},
   "outputs": [],
   "source": [
    "class Queue:\n",
    "    \"\"\"Vamos adicionar no final e remover do início da Fila\"\"\"\n",
    "    def __init__(self):\n",
    "        self.first = None\n",
    "        self.last = None    \n",
    "        self._size = 0\n",
    "\n",
    "    # inserir\n",
    "    # remover\n",
    "    # observar o topo da fila\n",
    "\n",
    "    def push(self, elem):\n",
    "        # inserindo um elemento na pilha\n",
    "        node = Node(elem)\n",
    "        if self.last is None:\n",
    "            self.last = node\n",
    "        elif self.last.next is node:\n",
    "            self.last = node\n",
    "        else: \n",
    "            self.first = None\n",
    "            self.first = node\n",
    "        self._size += 1\n",
    "\n",
    "\n",
    "    def pop(self):\n",
    "        # remove o elemento do topo da pilha\n",
    "        if self._size > 0:\n",
    "            elem = self.first.data\n",
    "            self.first = self.first.next\n",
    "            self._size -= 1\n",
    "            return elem\n",
    "        raise IndexError(\"The queue is empty\")\n",
    "\n",
    "\n",
    "    def peek(self):\n",
    "        # retorna o topo da pilha. Sem remover\n",
    "        if self._size > 0:\n",
    "            elem = self.firs.data\n",
    "            return elem\n",
    "        raise IndexError(\"The queue is empty\")\n",
    "\n",
    "   \n",
    "    def __len__(self):\n",
    "        \"\"\"Retorna o tamanho da lista\"\"\"\n",
    "        return self._size\n",
    "\n",
    "\n",
    "    def __repr__(self):\n",
    "        if self._size > 0:\n",
    "            r = \"\"\n",
    "\n",
    "            pointer = self.first\n",
    "\n",
    "            while(pointer):\n",
    "                r = r + str(pointer.data) + \" \"\n",
    "                pointer = pointer.next\n",
    "            return r\n",
    "        return \"Empty Queue\"\n",
    "\n",
    "\n",
    "    def __str__(self):\n",
    "        return self.__repr__()"
   ]
  },
  {
   "cell_type": "code",
   "execution_count": 7,
   "metadata": {},
   "outputs": [],
   "source": [
    "fila = Queue()"
   ]
  },
  {
   "cell_type": "code",
   "execution_count": 8,
   "metadata": {},
   "outputs": [
    {
     "data": {
      "text/plain": [
       "Empty Queue"
      ]
     },
     "execution_count": 8,
     "metadata": {},
     "output_type": "execute_result"
    }
   ],
   "source": [
    "fila"
   ]
  },
  {
   "cell_type": "code",
   "execution_count": null,
   "metadata": {},
   "outputs": [],
   "source": []
  },
  {
   "cell_type": "code",
   "execution_count": null,
   "metadata": {},
   "outputs": [],
   "source": []
  },
  {
   "cell_type": "code",
   "execution_count": null,
   "metadata": {},
   "outputs": [],
   "source": []
  },
  {
   "cell_type": "code",
   "execution_count": null,
   "metadata": {},
   "outputs": [],
   "source": []
  },
  {
   "cell_type": "code",
   "execution_count": null,
   "metadata": {},
   "outputs": [],
   "source": []
  }
 ],
 "metadata": {
  "kernelspec": {
   "display_name": "Python 3",
   "language": "python",
   "name": "python3"
  },
  "language_info": {
   "codemirror_mode": {
    "name": "ipython",
    "version": 3
   },
   "file_extension": ".py",
   "mimetype": "text/x-python",
   "name": "python",
   "nbconvert_exporter": "python",
   "pygments_lexer": "ipython3",
   "version": "3.10.9"
  },
  "orig_nbformat": 4,
  "vscode": {
   "interpreter": {
    "hash": "48434fea92bcfa521232aa698a59dbef67c96a63793f88c53e51c3c6eaedc268"
   }
  }
 },
 "nbformat": 4,
 "nbformat_minor": 2
}
